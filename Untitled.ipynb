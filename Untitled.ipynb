{
 "cells": [
  {
   "cell_type": "code",
   "execution_count": 1,
   "metadata": {},
   "outputs": [
    {
     "data": {
      "text/plain": [
       "63"
      ]
     },
     "execution_count": 1,
     "metadata": {},
     "output_type": "execute_result"
    }
   ],
   "source": [
    "988244352 % 69"
   ]
  },
  {
   "cell_type": "code",
   "execution_count": 2,
   "metadata": {},
   "outputs": [
    {
     "data": {
      "text/plain": [
       "48"
      ]
     },
     "execution_count": 2,
     "metadata": {},
     "output_type": "execute_result"
    }
   ],
   "source": [
    "998244852 % 69"
   ]
  },
  {
   "cell_type": "code",
   "execution_count": 23,
   "metadata": {},
   "outputs": [
    {
     "name": "stdout",
     "output_type": "stream",
     "text": [
      "7\n",
      "1 3 2 2 1 3 2\n",
      "3 2 2 1 2 3 1\n",
      "60\n"
     ]
    }
   ],
   "source": [
    "from collections import Counter, defaultdict\n",
    "n = int(input())\n",
    "a = [int(x) for x in input().split()]\n",
    "b = [int(y) for y in input().split()]\n",
    "counter = Counter(b)\n",
    "ans = 0\n",
    "ca, cb = defaultdict(int)\n",
    "for i, (c, d) in enumerate(zip(a, b)):\n",
    "    if c == d:\n",
    "        ans += n + 1 + min(i, n - 1 - i) + i * (i - 1) // 2 + (n - 1 - i) * (n - 2 - i) // 2 * (n - 2 - i > 0)\n",
    "print(ans)"
   ]
  },
  {
   "cell_type": "code",
   "execution_count": null,
   "metadata": {},
   "outputs": [],
   "source": []
  },
  {
   "cell_type": "code",
   "execution_count": null,
   "metadata": {},
   "outputs": [],
   "source": []
  },
  {
   "cell_type": "code",
   "execution_count": null,
   "metadata": {},
   "outputs": [],
   "source": []
  },
  {
   "cell_type": "code",
   "execution_count": null,
   "metadata": {},
   "outputs": [],
   "source": []
  },
  {
   "cell_type": "code",
   "execution_count": null,
   "metadata": {},
   "outputs": [],
   "source": []
  },
  {
   "cell_type": "code",
   "execution_count": null,
   "metadata": {},
   "outputs": [],
   "source": []
  },
  {
   "cell_type": "code",
   "execution_count": null,
   "metadata": {},
   "outputs": [],
   "source": []
  },
  {
   "cell_type": "code",
   "execution_count": 3,
   "metadata": {},
   "outputs": [
    {
     "name": "stdout",
     "output_type": "stream",
     "text": [
      "2\n",
      "40 30 20 10\n",
      "60 40\n",
      "10 20 30 40\n",
      "60 40\n"
     ]
    }
   ],
   "source": [
    "t = int(input())\n",
    "for _ in range(t):\n",
    "    a = [int(x) for x in input().split()]\n",
    "    n = len(a)\n",
    "    i, j = 0, n - 1\n",
    "    e = 0\n",
    "    for k in range(1, n // 2):\n",
    "        if a[i] < a[j]:\n",
    "            e += a[j]\n",
    "            j -= 1\n",
    "        else:\n",
    "            e += a[i]\n",
    "            i += 1\n",
    "    print(sum(a) - e, e)"
   ]
  },
  {
   "cell_type": "code",
   "execution_count": 11,
   "metadata": {},
   "outputs": [
    {
     "name": "stdout",
     "output_type": "stream",
     "text": [
      "1\n",
      "7 1\n",
      "8 4 10 1 2 6 7\n",
      "2 9 3\n",
      "4\n"
     ]
    }
   ],
   "source": [
    "def possible(m):\n",
    "    for b in range(1 << n):\n",
    "        s = '{:b}'.format(b)\n",
    "        s = '0' * (n - len(s)) + s\n",
    "        flag = True\n",
    "        if s.count('0') == m:\n",
    "            tc = [t for i, t in enumerate(tree) if s[i] == '1']\n",
    "            flag = True\n",
    "            if not tc:\n",
    "                return False\n",
    "            for l, r, c in cond:\n",
    "                ll, rl = 0, len(tc) - 1\n",
    "                while ll + 1 < rl:\n",
    "                    ml = (ll + rl) // 2\n",
    "                    if tc[ml] < l:\n",
    "                        ll = ml\n",
    "                    else:\n",
    "                        rl = ml\n",
    "                if tc[ll] >= l:\n",
    "                    f = ll\n",
    "                else:\n",
    "                    f = rl\n",
    "                \n",
    "                lr, rr = 0, len(tc) - 1\n",
    "                while lr + 1 < rr:\n",
    "                    mr = (lr + rr) // 2\n",
    "                    if tc[mr] >= r:\n",
    "                        rr = mr\n",
    "                    else:\n",
    "                        lr = mr\n",
    "                if tc[rr] >= l:\n",
    "                    e = rr\n",
    "                else:\n",
    "                    e = lr\n",
    "                    \n",
    "                if e - f + 1 < c:\n",
    "                    flag = False\n",
    "                    break\n",
    "            if flag:\n",
    "                return True\n",
    "    return False\n",
    "\n",
    "t = int(input())\n",
    "for _ in range(t):\n",
    "    n, k = [int(x) for x in input().split()]\n",
    "    tree = sorted([int(y) for y in input().split()])\n",
    "    cond = []\n",
    "    for i in range(k):\n",
    "        cond.append([int(z) for z in input().split()])\n",
    "    left, right = 0, n\n",
    "    while left + 1 < right:\n",
    "        mid = (left + right) // 2\n",
    "        if possible(mid):\n",
    "            left = mid\n",
    "        else:\n",
    "            right = mid\n",
    "    if possible(right):\n",
    "        print(right)\n",
    "    else:\n",
    "        print(left)"
   ]
  },
  {
   "cell_type": "code",
   "execution_count": null,
   "metadata": {},
   "outputs": [],
   "source": []
  },
  {
   "cell_type": "code",
   "execution_count": null,
   "metadata": {},
   "outputs": [],
   "source": []
  },
  {
   "cell_type": "code",
   "execution_count": null,
   "metadata": {},
   "outputs": [],
   "source": []
  },
  {
   "cell_type": "code",
   "execution_count": null,
   "metadata": {},
   "outputs": [],
   "source": []
  },
  {
   "cell_type": "code",
   "execution_count": null,
   "metadata": {},
   "outputs": [],
   "source": []
  },
  {
   "cell_type": "code",
   "execution_count": null,
   "metadata": {},
   "outputs": [],
   "source": []
  },
  {
   "cell_type": "code",
   "execution_count": null,
   "metadata": {},
   "outputs": [],
   "source": []
  },
  {
   "cell_type": "code",
   "execution_count": null,
   "metadata": {},
   "outputs": [],
   "source": []
  },
  {
   "cell_type": "code",
   "execution_count": null,
   "metadata": {},
   "outputs": [],
   "source": []
  },
  {
   "cell_type": "code",
   "execution_count": null,
   "metadata": {},
   "outputs": [],
   "source": []
  },
  {
   "cell_type": "code",
   "execution_count": null,
   "metadata": {},
   "outputs": [],
   "source": []
  },
  {
   "cell_type": "code",
   "execution_count": null,
   "metadata": {},
   "outputs": [],
   "source": []
  },
  {
   "cell_type": "code",
   "execution_count": null,
   "metadata": {},
   "outputs": [],
   "source": []
  },
  {
   "cell_type": "code",
   "execution_count": null,
   "metadata": {},
   "outputs": [],
   "source": []
  },
  {
   "cell_type": "code",
   "execution_count": null,
   "metadata": {},
   "outputs": [],
   "source": []
  },
  {
   "cell_type": "code",
   "execution_count": null,
   "metadata": {},
   "outputs": [],
   "source": []
  },
  {
   "cell_type": "code",
   "execution_count": null,
   "metadata": {},
   "outputs": [],
   "source": []
  },
  {
   "cell_type": "code",
   "execution_count": null,
   "metadata": {},
   "outputs": [],
   "source": []
  },
  {
   "cell_type": "code",
   "execution_count": 3,
   "metadata": {},
   "outputs": [
    {
     "name": "stdout",
     "output_type": "stream",
     "text": [
      "4\n",
      "1 1\n",
      "1 2\n",
      "2\n",
      "0\n"
     ]
    },
    {
     "ename": "KeyboardInterrupt",
     "evalue": "Interrupted by user",
     "output_type": "error",
     "traceback": [
      "\u001b[0;31m---------------------------------------------------------------------------\u001b[0m",
      "\u001b[0;31mKeyboardInterrupt\u001b[0m                         Traceback (most recent call last)",
      "\u001b[0;32m<ipython-input-3-08ffa34bf7b9>\u001b[0m in \u001b[0;36m<module>\u001b[0;34m\u001b[0m\n\u001b[1;32m      3\u001b[0m     \u001b[0mlrs\u001b[0m \u001b[0;34m=\u001b[0m \u001b[0;34m[\u001b[0m\u001b[0;34m]\u001b[0m\u001b[0;34m\u001b[0m\u001b[0;34m\u001b[0m\u001b[0m\n\u001b[1;32m      4\u001b[0m     \u001b[0mans\u001b[0m \u001b[0;34m=\u001b[0m \u001b[0;36m0\u001b[0m\u001b[0;34m\u001b[0m\u001b[0;34m\u001b[0m\u001b[0m\n\u001b[0;32m----> 5\u001b[0;31m     \u001b[0mn\u001b[0m\u001b[0;34m,\u001b[0m \u001b[0mm\u001b[0m \u001b[0;34m=\u001b[0m \u001b[0;34m[\u001b[0m\u001b[0mint\u001b[0m\u001b[0;34m(\u001b[0m\u001b[0ma\u001b[0m\u001b[0;34m)\u001b[0m \u001b[0;32mfor\u001b[0m \u001b[0ma\u001b[0m \u001b[0;32min\u001b[0m \u001b[0minput\u001b[0m\u001b[0;34m(\u001b[0m\u001b[0;34m)\u001b[0m\u001b[0;34m.\u001b[0m\u001b[0msplit\u001b[0m\u001b[0;34m(\u001b[0m\u001b[0;34m)\u001b[0m\u001b[0;34m]\u001b[0m\u001b[0;34m\u001b[0m\u001b[0;34m\u001b[0m\u001b[0m\n\u001b[0m\u001b[1;32m      6\u001b[0m     \u001b[0;32mfor\u001b[0m \u001b[0mi\u001b[0m \u001b[0;32min\u001b[0m \u001b[0mrange\u001b[0m\u001b[0;34m(\u001b[0m\u001b[0mn\u001b[0m\u001b[0;34m)\u001b[0m\u001b[0;34m:\u001b[0m\u001b[0;34m\u001b[0m\u001b[0;34m\u001b[0m\u001b[0m\n\u001b[1;32m      7\u001b[0m         \u001b[0mlrs\u001b[0m\u001b[0;34m.\u001b[0m\u001b[0mappend\u001b[0m\u001b[0;34m(\u001b[0m\u001b[0;34m[\u001b[0m\u001b[0mint\u001b[0m\u001b[0;34m(\u001b[0m\u001b[0mb\u001b[0m\u001b[0;34m)\u001b[0m \u001b[0;32mfor\u001b[0m \u001b[0mb\u001b[0m \u001b[0;32min\u001b[0m \u001b[0minput\u001b[0m\u001b[0;34m(\u001b[0m\u001b[0;34m)\u001b[0m\u001b[0;34m.\u001b[0m\u001b[0msplit\u001b[0m\u001b[0;34m(\u001b[0m\u001b[0;34m)\u001b[0m\u001b[0;34m]\u001b[0m\u001b[0;34m)\u001b[0m\u001b[0;34m\u001b[0m\u001b[0;34m\u001b[0m\u001b[0m\n",
      "\u001b[0;32m~/opt/anaconda3/lib/python3.8/site-packages/ipykernel/kernelbase.py\u001b[0m in \u001b[0;36mraw_input\u001b[0;34m(self, prompt)\u001b[0m\n\u001b[1;32m    858\u001b[0m                 \u001b[0;34m\"raw_input was called, but this frontend does not support input requests.\"\u001b[0m\u001b[0;34m\u001b[0m\u001b[0;34m\u001b[0m\u001b[0m\n\u001b[1;32m    859\u001b[0m             )\n\u001b[0;32m--> 860\u001b[0;31m         return self._input_request(str(prompt),\n\u001b[0m\u001b[1;32m    861\u001b[0m             \u001b[0mself\u001b[0m\u001b[0;34m.\u001b[0m\u001b[0m_parent_ident\u001b[0m\u001b[0;34m,\u001b[0m\u001b[0;34m\u001b[0m\u001b[0;34m\u001b[0m\u001b[0m\n\u001b[1;32m    862\u001b[0m             \u001b[0mself\u001b[0m\u001b[0;34m.\u001b[0m\u001b[0m_parent_header\u001b[0m\u001b[0;34m,\u001b[0m\u001b[0;34m\u001b[0m\u001b[0;34m\u001b[0m\u001b[0m\n",
      "\u001b[0;32m~/opt/anaconda3/lib/python3.8/site-packages/ipykernel/kernelbase.py\u001b[0m in \u001b[0;36m_input_request\u001b[0;34m(self, prompt, ident, parent, password)\u001b[0m\n\u001b[1;32m    902\u001b[0m             \u001b[0;32mexcept\u001b[0m \u001b[0mKeyboardInterrupt\u001b[0m\u001b[0;34m:\u001b[0m\u001b[0;34m\u001b[0m\u001b[0;34m\u001b[0m\u001b[0m\n\u001b[1;32m    903\u001b[0m                 \u001b[0;31m# re-raise KeyboardInterrupt, to truncate traceback\u001b[0m\u001b[0;34m\u001b[0m\u001b[0;34m\u001b[0m\u001b[0;34m\u001b[0m\u001b[0m\n\u001b[0;32m--> 904\u001b[0;31m                 \u001b[0;32mraise\u001b[0m \u001b[0mKeyboardInterrupt\u001b[0m\u001b[0;34m(\u001b[0m\u001b[0;34m\"Interrupted by user\"\u001b[0m\u001b[0;34m)\u001b[0m \u001b[0;32mfrom\u001b[0m \u001b[0;32mNone\u001b[0m\u001b[0;34m\u001b[0m\u001b[0;34m\u001b[0m\u001b[0m\n\u001b[0m\u001b[1;32m    905\u001b[0m             \u001b[0;32mexcept\u001b[0m \u001b[0mException\u001b[0m \u001b[0;32mas\u001b[0m \u001b[0me\u001b[0m\u001b[0;34m:\u001b[0m\u001b[0;34m\u001b[0m\u001b[0;34m\u001b[0m\u001b[0m\n\u001b[1;32m    906\u001b[0m                 \u001b[0mself\u001b[0m\u001b[0;34m.\u001b[0m\u001b[0mlog\u001b[0m\u001b[0;34m.\u001b[0m\u001b[0mwarning\u001b[0m\u001b[0;34m(\u001b[0m\u001b[0;34m\"Invalid Message:\"\u001b[0m\u001b[0;34m,\u001b[0m \u001b[0mexc_info\u001b[0m\u001b[0;34m=\u001b[0m\u001b[0;32mTrue\u001b[0m\u001b[0;34m)\u001b[0m\u001b[0;34m\u001b[0m\u001b[0;34m\u001b[0m\u001b[0m\n",
      "\u001b[0;31mKeyboardInterrupt\u001b[0m: Interrupted by user"
     ]
    }
   ],
   "source": [
    "t = int(input())\n",
    "for _ in range(t):\n",
    "    lrs = []\n",
    "    ans = 0\n",
    "    n, m = [int(a) for a in input().split()]\n",
    "    for i in range(n):\n",
    "        lrs.append([int(b) for b in input().split()])\n",
    "        ans += lrs[-1][1] - lrs[-1][0]\n",
    "    xs = [int(c) for c in input().split()]\n",
    "    events = {0: 0}\n",
    "    for l, r in lrs:\n",
    "        for x in xs:\n",
    "            events[x - r + 1] = events.get(x - r + 1, 0) - 1\n",
    "            events[x - l + 1] = events.get(x - l + 1, 0) + 1\n",
    "    curval = ans\n",
    "    for t, delta in events.items():\n",
    "        curval += delta\n",
    "        if t >= 0:\n",
    "            ans = min(ans, curval)\n",
    "    print(ans)"
   ]
  },
  {
   "cell_type": "code",
   "execution_count": 4,
   "metadata": {},
   "outputs": [
    {
     "name": "stdout",
     "output_type": "stream",
     "text": [
      "4\n",
      "1 1\n",
      "1 2\n",
      "2\n",
      "1\n",
      "1 1\n",
      "1 2\n",
      "0\n",
      "2\n",
      "2 2\n",
      "0 2\n",
      "3 5\n",
      "0 2\n",
      "5\n",
      "1 2\n",
      "1 1\n",
      "1 1\n",
      "2\n"
     ]
    }
   ],
   "source": [
    "t = int(input())\n",
    "for _ in range(t):\n",
    "    lrs = []\n",
    "    n, m = [int(a) for a in input().split()]\n",
    "    ans = m\n",
    "    for i in range(n):\n",
    "        lrs.append([int(b) for b in input().split()])\n",
    "        ans += lrs[-1][1] - lrs[-1][0]\n",
    "    xs = [int(c) for c in input().split()]\n",
    "    events = {0: 0}\n",
    "    for l, r in lrs:\n",
    "        for x in xs:\n",
    "            events[x - r + 1] = events.get(x - r + 1, 0) - 1\n",
    "            events[x - l + 1] = events.get(x - l + 1, 0) + 1\n",
    "    curval = ans\n",
    "    for t in sorted(events.keys()):\n",
    "        delta = events[t]\n",
    "        curval += delta\n",
    "        if t >= 0:\n",
    "            ans = min(ans, curval)\n",
    "    print(ans)"
   ]
  },
  {
   "cell_type": "code",
   "execution_count": 5,
   "metadata": {},
   "outputs": [
    {
     "name": "stdout",
     "output_type": "stream",
     "text": [
      "4\n",
      "1 1\n",
      "1 2\n",
      "2\n",
      "1\n",
      "1 1\n",
      "1 2\n",
      "0\n",
      "2\n",
      "2 2\n",
      "0 2\n",
      "3 5\n",
      "0 2\n",
      "5\n",
      "1 2\n",
      "1 1\n",
      "1 1\n",
      "1\n"
     ]
    }
   ],
   "source": [
    "t = int(input())\n",
    "for _ in range(t):\n",
    "    lrs = []\n",
    "    n, m = [int(a) for a in input().split()]\n",
    "    ans = 0\n",
    "    for i in range(n):\n",
    "        lrs.append([int(b) for b in input().split()])\n",
    "        ans += lrs[-1][1] - lrs[-1][0]\n",
    "    xs = set([int(c) for c in input().split()])\n",
    "    ans += len(xs)\n",
    "    events = {0: 0}\n",
    "    for l, r in lrs:\n",
    "        for x in xs:\n",
    "            events[x - r + 1] = events.get(x - r + 1, 0) - 1\n",
    "            events[x - l + 1] = events.get(x - l + 1, 0) + 1\n",
    "    curval = ans\n",
    "    for t in sorted(events.keys()):\n",
    "        delta = events[t]\n",
    "        curval += delta\n",
    "        if t >= 0:\n",
    "            ans = min(ans, curval)\n",
    "    print(ans)"
   ]
  },
  {
   "cell_type": "code",
   "execution_count": 6,
   "metadata": {},
   "outputs": [
    {
     "name": "stdout",
     "output_type": "stream",
     "text": [
      "4\n",
      "1 1\n",
      "1 2\n",
      "2\n"
     ]
    },
    {
     "ename": "TypeError",
     "evalue": "cannot unpack non-iterable int object",
     "output_type": "error",
     "traceback": [
      "\u001b[0;31m---------------------------------------------------------------------------\u001b[0m",
      "\u001b[0;31mTypeError\u001b[0m                                 Traceback (most recent call last)",
      "\u001b[0;32m<ipython-input-6-18c65b44ac74>\u001b[0m in \u001b[0;36m<module>\u001b[0;34m\u001b[0m\n\u001b[1;32m     30\u001b[0m             \u001b[0mevents\u001b[0m\u001b[0;34m[\u001b[0m\u001b[0mx\u001b[0m \u001b[0;34m-\u001b[0m \u001b[0ml\u001b[0m \u001b[0;34m+\u001b[0m \u001b[0;36m1\u001b[0m\u001b[0;34m]\u001b[0m \u001b[0;34m=\u001b[0m \u001b[0mevents\u001b[0m\u001b[0;34m.\u001b[0m\u001b[0mget\u001b[0m\u001b[0;34m(\u001b[0m\u001b[0mx\u001b[0m \u001b[0;34m-\u001b[0m \u001b[0ml\u001b[0m \u001b[0;34m+\u001b[0m \u001b[0;36m1\u001b[0m\u001b[0;34m,\u001b[0m \u001b[0;36m0\u001b[0m\u001b[0;34m)\u001b[0m \u001b[0;34m+\u001b[0m \u001b[0;36m1\u001b[0m\u001b[0;34m\u001b[0m\u001b[0;34m\u001b[0m\u001b[0m\n\u001b[1;32m     31\u001b[0m     \u001b[0mcurval\u001b[0m \u001b[0;34m=\u001b[0m \u001b[0mans\u001b[0m\u001b[0;34m\u001b[0m\u001b[0;34m\u001b[0m\u001b[0m\n\u001b[0;32m---> 32\u001b[0;31m     \u001b[0;32mfor\u001b[0m \u001b[0mt\u001b[0m\u001b[0;34m,\u001b[0m \u001b[0mdelta\u001b[0m \u001b[0;32min\u001b[0m \u001b[0mevents\u001b[0m\u001b[0;34m:\u001b[0m\u001b[0;34m\u001b[0m\u001b[0;34m\u001b[0m\u001b[0m\n\u001b[0m\u001b[1;32m     33\u001b[0m         \u001b[0mcurval\u001b[0m \u001b[0;34m+=\u001b[0m \u001b[0mdelta\u001b[0m\u001b[0;34m\u001b[0m\u001b[0;34m\u001b[0m\u001b[0m\n\u001b[1;32m     34\u001b[0m         \u001b[0;32mif\u001b[0m \u001b[0mt\u001b[0m \u001b[0;34m>=\u001b[0m \u001b[0;36m0\u001b[0m\u001b[0;34m:\u001b[0m\u001b[0;34m\u001b[0m\u001b[0;34m\u001b[0m\u001b[0m\n",
      "\u001b[0;31mTypeError\u001b[0m: cannot unpack non-iterable int object"
     ]
    }
   ],
   "source": [
    "t = int(input())\n",
    "\n",
    "def merge(old):\n",
    "    res = []\n",
    "    for nl, nr in old:\n",
    "        if res:\n",
    "            pl, pr = res.pop()\n",
    "            if nl > pr:\n",
    "                res.append([pl, pr])\n",
    "                res.append([nl, nr])\n",
    "            else:\n",
    "                res.append([pl, max(nr, pr)])\n",
    "        else:\n",
    "            res.append([nl, nr])\n",
    "    return res\n",
    "\n",
    "for _ in range(t):\n",
    "    lrs = []\n",
    "    ans = 0\n",
    "    n, m = [int(a) for a in input().split()]\n",
    "    for i in range(n):\n",
    "        lrs.append([int(b) for b in input().split()])\n",
    "        ans += lrs[-1][1] - lrs[-1][0]\n",
    "    lrs = merge(sorted(lrs))\n",
    "    xs = [int(c) for c in input().split()]\n",
    "    events = {0:0}\n",
    "    for l, r in lrs:\n",
    "        for x in xs:\n",
    "            events[x - r + 1] = events.get(x - r + 1, 0) - 1\n",
    "            events[x - l + 1] = events.get(x - l + 1, 0) + 1\n",
    "    curval = ans\n",
    "    for t, delta in events:\n",
    "        curval += delta\n",
    "        if t >= 0:\n",
    "            ans = min(ans, curval)\n",
    "    print(ans)"
   ]
  },
  {
   "cell_type": "code",
   "execution_count": null,
   "metadata": {},
   "outputs": [],
   "source": [
    "//#include <bits/stdc++.h>\n",
    "#define ld long double\n",
    "using namespace std;\n",
    "const ld inf = 1e13;\n",
    "int n;\n",
    "vector<int> a;\n",
    "vector<int> b;\n",
    "vector<int> c;\n",
    "ld a_sum = 0.0;\n",
    "ld b_sum = 0.0;\n",
    "\n",
    "bool valid(ld mid) {\n",
    "    ld ta_sum = a_sum;\n",
    "    ld tb_sum = b_sum;\n",
    "    for (int i = 0; i < n; i++) {\n",
    "        if ((a[i]*c[i] - b[i]*mid) > (a[i] - (b[i]/c[i]*mid))) {\n",
    "            ta_sum += a[i] * (c[i]-1);\n",
    "        } else {\n",
    "            tb_sum -= b[i];\n",
    "            tb_sum += b[i]/c[i];\n",
    "        }\n",
    "    }\n",
    "    return ta_sum/tb_sum >= mid;\n",
    "}\n",
    "\n",
    "ld binary_search(ld low, ld high) {\n",
    "    while (high - low > 1e-11) {\n",
    "        ld mid = (low + high) / 2.0;\n",
    "        if (valid(mid)) {\n",
    "            low = mid;\n",
    "        } else {\n",
    "            high = mid;\n",
    "        }\n",
    "    }\n",
    "    return low;\n",
    "}\n",
    "\n",
    "int main() {\n",
    "    cin >> n;\n",
    "    int d;\n",
    "    for (int i = 0; i < n; i++) {\n",
    "        cin >> d;\n",
    "        a.push_back(d);\n",
    "        a_sum += d;\n",
    "    }\n",
    "    for (int i = 0; i < n; i++) {\n",
    "        cin >> d;\n",
    "        b.push_back(d);\n",
    "        b_sum += d;\n",
    "    }\n",
    "    for (int i = 0; i < n; i++) {\n",
    "        cin >> d;\n",
    "        c.push_back(d);\n",
    "    }\n",
    "    cout << fixed << setprecision(10) << binary_search(0.0, 4) << \"\\n\";\n",
    "    return 0;\n",
    "}"
   ]
  },
  {
   "cell_type": "code",
   "execution_count": 20,
   "metadata": {},
   "outputs": [
    {
     "name": "stdout",
     "output_type": "stream",
     "text": [
      "2 6 2\n",
      "2 is a multiple of 2, so there are 1 multiples of 2\n",
      "3 is a multiple of 3, so there are 1 multiples of 3\n",
      "4 is a multiple of 2, so there are 2 multiples of 2\n",
      "5 is a multiple of 5, so there are 1 multiples of 5\n",
      "6 is a multiple of 3, so there are 2 multiples of 3\n",
      "[0, 1, 2, 3, 2, 5, 3]\n",
      "[0, 1, 2, 2, 0, 1, 0]\n",
      "[0, 0, 1, 3, 5, 5, 6, 6]\n",
      "5\n",
      "11\n",
      "2\n",
      "8\n"
     ]
    }
   ],
   "source": [
    "import sys\n",
    "import typing\n",
    "\n",
    "num_elements, max_element, num_queries = [int(_) for _ in input().split()]\n",
    "\n",
    "# Run sieve to generate number of i \\in \\Real where x is the largest prime factor of i\n",
    "sieve = [x for x in range(max_element + 1)]\n",
    "for x in range(2, max_element + 1):\n",
    "    if sieve[x] == x:\n",
    "        for i in range(1, (max_element // x) + 1):\n",
    "            sieve[i * x] = x\n",
    "\n",
    "nlpf = [0 for x in range(max_element + 1)]\n",
    "for x in range(2, max_element + 1):\n",
    "    writelndbg(f\"{x} is a multiple of {sieve[x]}, so there are {nlpf[sieve[x]] + 1} multiples of {sieve[x]}\")\n",
    "    nlpf[sieve[x]] += 1\n",
    "nlpf[1] = 1\n",
    "print(sieve)\n",
    "\n",
    "# Generate prefix sum over nlpf\n",
    "prefix_nlpf = [0] * (max_element + 2)\n",
    "prefix_nlpf[0] = 0\n",
    "for x in range(1, max_element + 2):\n",
    "    prefix_nlpf[x] = prefix_nlpf[x - 1] + nlpf[x - 1]\n",
    "\n",
    "# sum(nlpf[a:b]) (half-open interval [a, b)) = prefix_nlpf[b] - prefix_nlpf[a]\n",
    "\n",
    "def mode(a, b, mod):\n",
    "    return (a**b) % mod\n",
    "\n",
    "writelndbg(nlpf)\n",
    "writelndbg(prefix_nlpf)\n",
    "\n",
    "def modexp(a, b, mod):\n",
    "    cur = b\n",
    "    power = a\n",
    "    ans = 1\n",
    "    while cur > 0:\n",
    "        if cur % 2:\n",
    "            ans = (ans * power) % mod\n",
    "        power = (power * power) % mod\n",
    "        cur //= 2\n",
    "    return ans\n",
    "\n",
    "# Handle queries\n",
    "for _ in range(num_queries):\n",
    "    x = int(input()) + 1\n",
    "\n",
    "    # Calculate the number of permutations of arrays of length num_elements\n",
    "    # containing a_i \\in \\Real where x is the largest prime factor of a_i\n",
    "    # = sum(nlpf[0:x])**num_elements - nlpf[0:x-1])**num_elements)\n",
    "    writeln(modexp(prefix_nlpf[x], num_elements, 1_000_000_007) - modexp(prefix_nlpf[x-1], num_elements, 1_000_000_007))"
   ]
  },
  {
   "cell_type": "code",
   "execution_count": 21,
   "metadata": {},
   "outputs": [
    {
     "name": "stdout",
     "output_type": "stream",
     "text": [
      "2 6 2\n",
      "5\n",
      "11\n",
      "2\n",
      "8\n"
     ]
    }
   ],
   "source": [
    "import sys\n",
    "import typing\n",
    "\n",
    "num_elements, max_element, num_queries = [int(_) for _ in input().split()]\n",
    "\n",
    "# Run sieve to generate number of i \\in \\Real where x is the largest prime factor of i\n",
    "sieve = [x for x in range(max_element + 1)]\n",
    "for x in range(2, max_element + 1):\n",
    "    if sieve[x] == x:\n",
    "        for i in range(1, (max_element // x) + 1):\n",
    "            sieve[i * x] = x\n",
    "\n",
    "nlpf = [0 for x in range(max_element + 1)]\n",
    "for x in range(2, max_element + 1):\n",
    "    # writelndbg(f\"{x} is a multiple of {sieve[x]}, so there are {nlpf[sieve[x]] + 1} multiples of {sieve[x]}\")\n",
    "    nlpf[sieve[x]] += 1\n",
    "nlpf[1] = 1\n",
    "# print(sieve)\n",
    "\n",
    "# Generate prefix sum over nlpf\n",
    "prefix_nlpf = [0] * (max_element + 2)\n",
    "prefix_nlpf[0] = 0\n",
    "for x in range(1, max_element + 2):\n",
    "    prefix_nlpf[x] = prefix_nlpf[x - 1] + nlpf[x - 1]\n",
    "\n",
    "# sum(nlpf[a:b]) (half-open interval [a, b)) = prefix_nlpf[b] - prefix_nlpf[a]\n",
    "\n",
    "def mode(a, b, mod):\n",
    "    return (a**b) % mod\n",
    "\n",
    "# writelndbg(nlpf)\n",
    "# writelndbg(prefix_nlpf)\n",
    "\n",
    "def modexp(a, b, mod):\n",
    "    cur = b\n",
    "    power = a\n",
    "    ans = 1\n",
    "    while cur > 0:\n",
    "        if cur % 2:\n",
    "            ans = (ans * power) % mod\n",
    "        power = (power * power) % mod\n",
    "        cur //= 2\n",
    "    return ans\n",
    "\n",
    "# Handle queries\n",
    "for _ in range(num_queries):\n",
    "    x = int(input()) + 1\n",
    "\n",
    "    # Calculate the number of permutations of arrays of length num_elements\n",
    "    # containing a_i \\in \\Real where x is the largest prime factor of a_i\n",
    "    # = sum(nlpf[0:x])**num_elements - nlpf[0:x-1])**num_elements)\n",
    "    y = modexp(prefix_nlpf[x], num_elements, 1_000_000_007) - modexp(prefix_nlpf[x-1], num_elements, 1_000_000_007)\n",
    "    while y < 0:\n",
    "        y += 1_000_000_007\n",
    "    print(y % 1_000_000_007)"
   ]
  },
  {
   "cell_type": "code",
   "execution_count": null,
   "metadata": {},
   "outputs": [],
   "source": [
    "#include <iostream>\n",
    "#include <vector>\n",
    "#include <set>\n",
    "#include <algorithm>\n",
    "typedef long ll;\n",
    "const ll mod = 1000000007;\n",
    "using namespace std;\n",
    "ll fe(ll base, ll ex) {\n",
    "    ll cur = ex;\n",
    "    ll power = base;\n",
    "    ll ans = 1;\n",
    "    while (cur > 0) {\n",
    "        if (cur % 2 == 1) {\n",
    "            ans = (ans * power) % mod;\n",
    "        }\n",
    "        power = (power * power) % mod;\n",
    "        cur /= 2;\n",
    "}\n",
    "    return ans;\n",
    "}\n",
    "\n",
    "ll rem(int v) {\n",
    "    if (v < 0) return (mod - ((-v) % mod)) % mod;\n",
    "    return v % mod;\n",
    "}\n",
    "\n",
    "int main() {\n",
    "    int n, m, q;\n",
    "    cin >> n >> m >> q;\n",
    "    vector<int> prime;\n",
    "    prime.push_back(2);\n",
    "    for (int i = 3; i <= m; i++) {\n",
    "        bool ok = true;\n",
    "        for (int p : prime) {\n",
    "            if (i % p == 0) {\n",
    "                ok = false;\n",
    "                break;\n",
    "            }\n",
    "        }\n",
    "        if (ok) prime.push_back(i);\n",
    "    }\n",
    "    int size = prime.size();\n",
    "    int count[size] = {};\n",
    "    bool visit[m + 1] = {};\n",
    "    for (int p = size - 1; p >= 0; p--) {\n",
    "        int pq = prime[p];\n",
    "        for (int i = pq; i <= m; i += pq) {\n",
    "            if (!visit[i]) {\n",
    "                visit[i] = true;\n",
    "                count[p]++;\n",
    "            }\n",
    "        }\n",
    "    }\n",
    "    int ps[size + 1] = {};\n",
    "    ps[0] = 1;\n",
    "    for (int i = 1; i <= size; i++) {\n",
    "        ps[i] = ps[i - 1] + count[i - 1];\n",
    "    }\n",
    "    for (int r = 0; r < q; r++) {\n",
    "        int x;\n",
    "        cin >> x;\n",
    "        int j = lower_bound(prime.begin(), prime.end(), x) - prime.begin();\n",
    "        cout << rem(fe(ps[j + 1], n) - fe(ps[j], n)) << endl;\n",
    "    }\n",
    "}"
   ]
  },
  {
   "cell_type": "code",
   "execution_count": null,
   "metadata": {},
   "outputs": [],
   "source": [
    "ll fe(ll base, ll ex) {\n",
    "    ll cur = ex;\n",
    "    ll power = base;\n",
    "    ll ans = 1;\n",
    "    while (cur > 0) {\n",
    "        if (cur % 2 == 1) {\n",
    "            ans = (ans * power) % mod;\n",
    "        }\n",
    "        power = (power * power) % mod;\n",
    "        cur /= 2;\n",
    "}\n",
    "\n",
    "using namespace std;\n",
    "\n",
    "int main() {\n",
    "    int n, m, q;\n",
    "    cin >> n >> m >> q;\n",
    "    vector<int> primes(m + 1, 1);\n",
    "    vector<int> big(m + 1, 1);\n",
    "    \n",
    "    for (int a = 2; a * a <= m; a++) {\n",
    "        if (primes[a] == 1) {\n",
    "            for (int b = a * a; b <= m; b += a) {\n",
    "                primes[b] = 0;\n",
    "                big[b] = max(big[b], a);\n",
    "            }\n",
    "        }\n",
    "    }\n",
    "    \n",
    "    for (int b = 2; b <= m; b++) {\n",
    "        if (primes[b] != 0) {\n",
    "            for (int c = b; c <= b * b; c += b) {\n",
    "                big[c] = max(b, big[c]);\n",
    "            }\n",
    "        }\n",
    "    }\n",
    "ll fe(ll base, ll ex) {\n",
    "    ll cur = ex;\n",
    "    ll power = base;\n",
    "    ll ans = 1;\n",
    "    while (cur > 0) {\n",
    "        if (cur % 2 == 1) {\n",
    "            ans = (ans * power) % mod;\n",
    "        }\n",
    "        power = (power * power) % mod;\n",
    "        cur /= 2;\n",
    "}    \n",
    "    vector<int> finals(m + 1, 0);\n",
    "    for (int c = 2; c <= m; c++) {\n",
    "        finals[big[c]]++;\n",
    "    }\n",
    "    vector<long long> good(m + 1);\n",
    "    long long h = 0;\n",
    "    for (int d = 2; d <= m; d++) {\n",
    "        if (finals[d] > 0) {\n",
    "            good[d] = finals[d] + h;\n",
    "            h += good[d];\n",
    "        }\n",
    "    }\n",
    "    for (int i = 0; i < q; i++) {\n",
    "        int num;\n",
    "        cin >> num;\n",
    "        cout << ((good[num] + 1) * n) % 1000000007 << \"\\n\";\n",
    "    }\n",
    "}"
   ]
  },
  {
   "cell_type": "code",
   "execution_count": null,
   "metadata": {},
   "outputs": [],
   "source": [
    "import sys\n",
    "import typing\n",
    "\n",
    "num_elements, max_element, num_queries = [int(_) for _ in input().split()]\n",
    "\n",
    "# Run sieve to generate number of i \\in \\Real where x is the largest prime factor of i\n",
    "sieve = [x for x in range(max_element + 1)]\n",
    "for x in range(2, max_element + 1):\n",
    "    if sieve[x] == x:\n",
    "        for i in range(1, (max_element // x) + 1):\n",
    "            sieve[i * x] = x\n",
    "\n",
    "nlpf = [0 for x in range(max_element + 1)]\n",
    "for x in range(2, max_element + 1):\n",
    "    # writelndbg(f\"{x} is a multiple of {sieve[x]}, so there are {nlpf[sieve[x]] + 1} multiples of {sieve[x]}\")\n",
    "    nlpf[sieve[x]] += 1\n",
    "nlpf[1] = 1\n",
    "\n",
    "# Generate prefix sum over nlpf\n",
    "prefix_nlpf = [0] * (max_element + 2)\n",
    "prefix_nlpf[0] = 0\n",
    "for x in range(1, max_element + 2):\n",
    "    prefix_nlpf[x] = prefix_nlpf[x - 1] + nlpf[x - 1]\n",
    "\n",
    "# sum(nlpf[a:b]) (half-open interval [a, b)) = prefix_nlpf[b] - prefix_nlpf[a]\n",
    "\n",
    "def modexp(a, b, mod):\n",
    "    return (a**b) % mod\n",
    "\n",
    "# writelndbg(nlpf)\n",
    "# writelndbg(prefix_nlpf)\n",
    "\n",
    "# Handle queries\n",
    "for _ in range(num_queries):\n",
    "    x = int(input()) + 1\n",
    "\n",
    "    # Calculate the number of permutations of arrays of length num_elements\n",
    "    # containing a_i \\in \\Real where x is the largest prime factor of a_i\n",
    "    # = sum(nlpf[0:x])**num_elements - nlpf[0:x-1])**num_elements)\n",
    "    writeln(modexp(prefix_nlpf[x], num_elements, 1_000_000_007) - modexp(prefix_nlpf[x-1], num_elements, 1_000_000_007))"
   ]
  },
  {
   "cell_type": "code",
   "execution_count": null,
   "metadata": {},
   "outputs": [],
   "source": [
    "import sys\n",
    "import typing\n",
    "\n",
    "num_elements, max_element, num_queries = [int(_) for _ in input().split()]\n",
    "\n",
    "# Run sieve to generate number of i \\in \\Real where x is the largest prime factor of i\n",
    "sieve = [x for x in range(max_element + 1)]\n",
    "for x in range(2, max_element + 1):\n",
    "    if sieve[x] == x:\n",
    "        for i in range(1, (max_element // x) + 1):\n",
    "            sieve[i * x] = x\n",
    "\n",
    "nlpf = [0 for x in range(max_element + 1)]\n",
    "for x in range(2, max_element + 1):\n",
    "    # writelndbg(f\"{x} is a multiple of {sieve[x]}, so there are {nlpf[sieve[x]] + 1} multiples of {sieve[x]}\")\n",
    "    nlpf[sieve[x]] += 1\n",
    "nlpf[1] = 1\n",
    "# print(sieve)\n",
    "\n",
    "# Generate prefix sum over nlpf\n",
    "prefix_nlpf = [0] * (max_element + 2)\n",
    "prefix_nlpf[0] = 0\n",
    "for x in range(1, max_element + 2):\n",
    "    prefix_nlpf[x] = prefix_nlpf[x - 1] + nlpf[x - 1]\n",
    "\n",
    "# sum(nlpf[a:b]) (half-open interval [a, b)) = prefix_nlpf[b] - prefix_nlpf[a]\n",
    "\n",
    "def mode(a, b, mod):\n",
    "    return (a**b) % mod\n",
    "\n",
    "# writelndbg(nlpf)\n",
    "# writelndbg(prefix_nlpf)\n",
    "\n",
    "def modexp(a, b, mod):\n",
    "    cur = b\n",
    "    power = a\n",
    "    ans = 1\n",
    "    while cur > 0:\n",
    "        if cur % 2:\n",
    "            ans = (ans * power) % mod\n",
    "        power = (power * power) % mod\n",
    "        cur //= 2\n",
    "    return ans\n",
    "\n",
    "# Handle queries\n",
    "for _ in range(num_queries):\n",
    "    x = int(input()) + 1\n",
    "\n",
    "    # Calculate the number of permutations of arrays of length num_elements\n",
    "    # containing a_i \\in \\Real where x is the largest prime factor of a_i\n",
    "    # = sum(nlpf[0:x])**num_elements - nlpf[0:x-1])**num_elements)\n",
    "    writeln(modexp(prefix_nlpf[x], num_elements, 1_000_000_007) - modexp(prefix_nlpf[x-1], num_elements, 1_000_000_007))"
   ]
  },
  {
   "cell_type": "code",
   "execution_count": null,
   "metadata": {},
   "outputs": [],
   "source": []
  },
  {
   "cell_type": "code",
   "execution_count": null,
   "metadata": {},
   "outputs": [],
   "source": []
  },
  {
   "cell_type": "code",
   "execution_count": null,
   "metadata": {},
   "outputs": [],
   "source": []
  },
  {
   "cell_type": "code",
   "execution_count": null,
   "metadata": {},
   "outputs": [],
   "source": []
  },
  {
   "cell_type": "code",
   "execution_count": null,
   "metadata": {},
   "outputs": [],
   "source": []
  },
  {
   "cell_type": "code",
   "execution_count": null,
   "metadata": {},
   "outputs": [],
   "source": []
  },
  {
   "cell_type": "code",
   "execution_count": null,
   "metadata": {},
   "outputs": [],
   "source": []
  },
  {
   "cell_type": "code",
   "execution_count": null,
   "metadata": {},
   "outputs": [],
   "source": []
  },
  {
   "cell_type": "code",
   "execution_count": null,
   "metadata": {},
   "outputs": [],
   "source": []
  },
  {
   "cell_type": "code",
   "execution_count": null,
   "metadata": {},
   "outputs": [],
   "source": []
  },
  {
   "cell_type": "code",
   "execution_count": null,
   "metadata": {},
   "outputs": [],
   "source": []
  },
  {
   "cell_type": "code",
   "execution_count": null,
   "metadata": {},
   "outputs": [],
   "source": []
  },
  {
   "cell_type": "code",
   "execution_count": null,
   "metadata": {},
   "outputs": [],
   "source": []
  },
  {
   "cell_type": "code",
   "execution_count": null,
   "metadata": {},
   "outputs": [],
   "source": []
  },
  {
   "cell_type": "code",
   "execution_count": null,
   "metadata": {},
   "outputs": [],
   "source": []
  },
  {
   "cell_type": "code",
   "execution_count": null,
   "metadata": {},
   "outputs": [],
   "source": []
  },
  {
   "cell_type": "code",
   "execution_count": null,
   "metadata": {},
   "outputs": [],
   "source": []
  },
  {
   "cell_type": "code",
   "execution_count": 1,
   "metadata": {},
   "outputs": [
    {
     "name": "stdout",
     "output_type": "stream",
     "text": [
      "\n"
     ]
    },
    {
     "ename": "ValueError",
     "evalue": "not enough values to unpack (expected 3, got 0)",
     "output_type": "error",
     "traceback": [
      "\u001b[0;31m---------------------------------------------------------------------------\u001b[0m",
      "\u001b[0;31mValueError\u001b[0m                                Traceback (most recent call last)",
      "\u001b[0;32m<ipython-input-1-b0d82e211701>\u001b[0m in \u001b[0;36m<module>\u001b[0;34m\u001b[0m\n\u001b[0;32m----> 1\u001b[0;31m \u001b[0mn\u001b[0m\u001b[0;34m,\u001b[0m \u001b[0mm\u001b[0m\u001b[0;34m,\u001b[0m \u001b[0mk\u001b[0m \u001b[0;34m=\u001b[0m \u001b[0;34m[\u001b[0m\u001b[0mint\u001b[0m\u001b[0;34m(\u001b[0m\u001b[0m_\u001b[0m\u001b[0;34m)\u001b[0m \u001b[0;32mfor\u001b[0m \u001b[0m_\u001b[0m \u001b[0;32min\u001b[0m \u001b[0minput\u001b[0m\u001b[0;34m(\u001b[0m\u001b[0;34m)\u001b[0m\u001b[0;34m.\u001b[0m\u001b[0msplit\u001b[0m\u001b[0;34m(\u001b[0m\u001b[0;34m)\u001b[0m\u001b[0;34m]\u001b[0m\u001b[0;34m\u001b[0m\u001b[0;34m\u001b[0m\u001b[0m\n\u001b[0m\u001b[1;32m      2\u001b[0m \u001b[0mxs\u001b[0m\u001b[0;34m,\u001b[0m \u001b[0mys\u001b[0m \u001b[0;34m=\u001b[0m \u001b[0;34m[\u001b[0m\u001b[0;36m0\u001b[0m\u001b[0;34m,\u001b[0m \u001b[0mn\u001b[0m\u001b[0;34m]\u001b[0m\u001b[0;34m,\u001b[0m \u001b[0;34m[\u001b[0m\u001b[0;36m0\u001b[0m\u001b[0;34m,\u001b[0m \u001b[0mm\u001b[0m\u001b[0;34m]\u001b[0m\u001b[0;34m\u001b[0m\u001b[0;34m\u001b[0m\u001b[0m\n\u001b[1;32m      3\u001b[0m \u001b[0;32mfor\u001b[0m \u001b[0mi\u001b[0m \u001b[0;32min\u001b[0m \u001b[0mrange\u001b[0m\u001b[0;34m(\u001b[0m\u001b[0mk\u001b[0m\u001b[0;34m)\u001b[0m\u001b[0;34m:\u001b[0m\u001b[0;34m\u001b[0m\u001b[0;34m\u001b[0m\u001b[0m\n\u001b[1;32m      4\u001b[0m         \u001b[0mx\u001b[0m\u001b[0;34m,\u001b[0m \u001b[0my\u001b[0m \u001b[0;34m=\u001b[0m \u001b[0;34m[\u001b[0m\u001b[0mint\u001b[0m\u001b[0;34m(\u001b[0m\u001b[0ma\u001b[0m\u001b[0;34m)\u001b[0m \u001b[0;32mfor\u001b[0m \u001b[0ma\u001b[0m \u001b[0;32min\u001b[0m \u001b[0minput\u001b[0m\u001b[0;34m(\u001b[0m\u001b[0;34m)\u001b[0m\u001b[0;34m.\u001b[0m\u001b[0msplit\u001b[0m\u001b[0;34m(\u001b[0m\u001b[0;34m)\u001b[0m\u001b[0;34m]\u001b[0m\u001b[0;34m\u001b[0m\u001b[0;34m\u001b[0m\u001b[0m\n\u001b[1;32m      5\u001b[0m         \u001b[0mxs\u001b[0m\u001b[0;34m.\u001b[0m\u001b[0mappend\u001b[0m\u001b[0;34m(\u001b[0m\u001b[0mx\u001b[0m\u001b[0;34m)\u001b[0m\u001b[0;34m\u001b[0m\u001b[0;34m\u001b[0m\u001b[0m\n",
      "\u001b[0;31mValueError\u001b[0m: not enough values to unpack (expected 3, got 0)"
     ]
    }
   ],
   "source": [
    "n, m, k = [int(_) for _ in input().split()]\n",
    "xs, ys = [0, n], [0, m]\n",
    "for i in range(k):\n",
    "\tx, y = [int(a) for a in input().split()]\n",
    "\txs.append(x)\n",
    "\tys.append(y)\n",
    "xs.sort()\n",
    "ys.sort()\n",
    "best = min(n, m)\n",
    "for i in range(1, len(xs)):\n",
    "\tbest = min(best, xs[i] - xs[i - 1])\n",
    "for i in range(1, len(ys)):\n",
    "\tbest = min(best, ys[i] - ys[i - 1])\n",
    "print(best if best else -1)"
   ]
  },
  {
   "cell_type": "code",
   "execution_count": 3,
   "metadata": {},
   "outputs": [],
   "source": [
    "def decouple_permutation(perm):\n",
    "    \"\"\"\n",
    "    from [[1, 2, 3, 4, 5], [3, 4, 5, 2, 1]]\n",
    "    to   [[1,3], [2,4], [3,5], [4,2], [5,1]]\n",
    "    \"\"\"\n",
    "    return [a for a in [list(a) for a in zip(perm[0], perm[1]) if perm[0] != perm[1]] if a[0] != a[1]]\n",
    "\n",
    "\n",
    "def merge_decoupled_permutation(decoupled):\n",
    "    \"\"\"\n",
    "    From [[1,3], [2,4], [3,5], [4,2], [5,1]]\n",
    "    to   [[1, 3, 5], [2, 4]]\n",
    "    \"\"\"\n",
    "    ans = []\n",
    "    while len(decoupled):\n",
    "        index_next = [k[0] for k in decoupled[1:]].index(decoupled[0][-1]) + 1\n",
    "        decoupled[0].append(decoupled[index_next][1])\n",
    "        decoupled.pop(index_next)\n",
    "        if decoupled[0][0] == decoupled[0][-1]:\n",
    "            ans.append(decoupled[0][:-1])\n",
    "            decoupled.pop(0)\n",
    "    return ans\n",
    "\n",
    "\n",
    "# Main methods:\n",
    "\n",
    "\n",
    "def from_permutation_to_disjoints_cycles(perm):\n",
    "    \"\"\"\n",
    "    from [[1, 2, 3, 4, 5], [3, 4, 5, 2, 1]]\n",
    "    to   [[1, 3, 5], [2, 4]]\n",
    "    \"\"\"\n",
    "    # if not is_valid_permutation(perm):\n",
    "    #     raise IOError('Input permutation is not valid')\n",
    "    return merge_decoupled_permutation(decouple_permutation(perm))\n"
   ]
  },
  {
   "cell_type": "code",
   "execution_count": 4,
   "metadata": {},
   "outputs": [
    {
     "data": {
      "text/plain": [
       "[[1, 3, 5], [2, 4]]"
      ]
     },
     "execution_count": 4,
     "metadata": {},
     "output_type": "execute_result"
    }
   ],
   "source": [
    "from_permutation_to_disjoints_cycles([[1, 2, 3, 4, 5], [3, 4, 5, 2, 1]])"
   ]
  },
  {
   "cell_type": "code",
   "execution_count": 1,
   "metadata": {},
   "outputs": [
    {
     "name": "stdout",
     "output_type": "stream",
     "text": [
      "93.3333333581686 93.3333333209157\n"
     ]
    }
   ],
   "source": [
    "a = 100\n",
    "b = 90\n",
    "for i in range(28):\n",
    "    a, b = b, (a + b) / 2\n",
    "print(a, b)"
   ]
  },
  {
   "cell_type": "code",
   "execution_count": 1,
   "metadata": {},
   "outputs": [
    {
     "name": "stdout",
     "output_type": "stream",
     "text": [
      "3 6463456854532053047231430362053502596150097887322892654327426110025220417072450715237482124317593900190197899401214168627175080618308264513222005779917342618924544010956786201635024859582283776971153373201673037441489276710880206067514335919391088955095190156605527025956177796625090337414461225224676332599156880532742481677683636797552570480982752159364575054119285443340293652818726670993980027412132036285934208309226578290089955854567389707163602122579359711097855139394535218772877860252725871580640335657544219394582978146709436421811213950096878890194731786541665885003222398190693836377957585440700802935606266556628198468980716952877308383250029745365336119023308949766525335575941773840230794935164985501561394606049570903570962259185120053701736104500966706369437418077294546122373078378979194251155687481613379000929703972189188032909178576015179064153482980976159244398967235790149899360889263883938556956135280815732167520495975116077700410697642766718877882325426873196203652703695040214031162391088705724529500480605281009822761944470903813454552261840519732228303474385111559351199244562759237215239500762332454155625573550553078832190596401276313274811234306904434949889586663040686596083694574754208243717695453289873805730016911718768557262050880934666706367512800001190163191908261049579908621048149065476702186381296541046729392480647966556111322011400103206396141686414649382750446394302052919316648182944725749921188381329717010267641579895221241587121304942228830304789370989166837983331249306666788681775042759257347255258798609480372045632159925617816925481194847247034472727060982358069477166123876501407295242082463294350905344120404026681465138617131922643671473842125184680435582187350669902174469965442072351052349463812270221701669371091167922007594184945265733071108224490638803554649884840641842540707662879714831957597140203782726983310341584083891039956581962989139905277912538788809855350779363667709149897496584575545642306176677573517104464126706053362129476421623776628031402794174735322766056773491331380602110291450583924476531210957761183800559202768932772742933412392247473271157475075372956405644013032161435974094675931178117281073193369841009931404405033627749297568059508461395132556954917561668926171916822017275909984916602805804522850479713901138365921279235638774106628879635537664405516743284551399471974327491732465159864532645913984434429421366168300583936907428134509062718286753329640074816901203006831263797818168495595930431708929552998011848910961668689482947768251179243319471822685366338102798398699264652021829803563894507338642706781740201737261083599672603909026293326464751252791738275983616360705033877863835913393822267344315714705319879055023907285168141820158844328965591090579134478284161005279446177099952081522100464801970427926289429543396105906505477119427052028159815357241705006188124823331324465922446683166109995481726721849522107311774300433843290650527657005054349307801793900757365296483021386828127979509120417210275842048874991089945910086297493388032664699510176379333966495852580697436478313289824998935208809925999674854516755442226937162111664732107149224472075119624953583471723462541897481635992244204334345922288939269489743322256307398080629932861102889086634114347151575912261468038268565089851283936740166496919605006070035380006327673739972726219035206052891814462747541459235251318086578582360881739139730977794002221505889472626396398283494249526320927663747244391492507947050297509306485439968024456140144743199657824855200254956865744612986238222009388212675253090429126905314050992601792157196384009671081688477558684987835188524049052641199633324090540243419319946444040709858248456475268513411929309367527617630269466622650717896778679355632001128632738296521105362998024631185773254375748024339881569723714195193312475970439021842265344653429139301422958990100512650061288185884090325948515328751212658233670597975817338785282918238294050192315292093996856678158343889009895691282391999107476271084526171257501451056621298860947313862810726159765288538391917557525976781226352546863646798597711085853857137499960599754060043930132911582561394785460934902801413547804937728574147201623327667649230922055942900139584440511605881615240359838494847271278754870443592751714372806911924517251470833171085281296812125561475012808624995073558732707081012513388918170678200676279201850363813683777373931760883887125213824278237439692017000894396526134101842447812095987372403149384886612820448315544131280168972288157152574652674762628096972316472785347410763673462159592269091307618777913684483214564106193885728361999717418873850504848403225783496379575742660155331994736463636536104666755229428955568668672187306513051766336163213629296113385219814837191865378233354895788812996776676602595178467264317816669885383399149477573446267532265266028048620016504556442953707081367039362942402416526128191495279945671278643744390819158745314879896543077994650680377140214138096421844822477073891488401669146496562504116044622436708335293214615388532946829948508214430250210023360312620669143614920363411799609368790606578699921856011346944482137616759570675847772926220841565971308488002938192423145256668169674235755119148825784513055373841161659871737176325825479714974073775433369606944826681214509054764337771733364053995746925171844037841823522441611867345433208379741347009406659919379208878761799827677548449306681397552694707427117631406144007450882969740049818323455858551317207197201589704858224388374914095841726938767482243085025897244690463595978336569707778625455613570273121541638995145894561079999213500076101248781500642979091198044736325729107144579768273776743716439557581557253878204647391176582851167312182026188795156620056856503340092247479478684738621107994804323593105039052556442336528920420940313\n"
     ]
    }
   ],
   "source": [
    "s = 2023 * 2025\n",
    "for i in range(2022, 0, -1):\n",
    "    s = i * (1 + s)\n",
    "print(s % 10, s)"
   ]
  },
  {
   "cell_type": "code",
   "execution_count": 4,
   "metadata": {},
   "outputs": [
    {
     "data": {
      "text/plain": [
       "409113"
      ]
     },
     "execution_count": 4,
     "metadata": {},
     "output_type": "execute_result"
    }
   ],
   "source": [
    "1 + 2*(1 + 3*(1 + 4*(1 + 5*(1 + 6*(1 + 7*(1 + 8*(1 + 9)))))))"
   ]
  },
  {
   "cell_type": "code",
   "execution_count": 3,
   "metadata": {},
   "outputs": [
    {
     "name": "stdout",
     "output_type": "stream",
     "text": [
      "10 3\n",
      "2 0\n",
      "2 0\n",
      "2 0\n",
      "2 0\n",
      "2 0\n",
      "2 0\n",
      "2 0\n",
      "2 0\n",
      "2 0\n",
      "2 0\n",
      "0/1\n",
      "0 0 0 0 0 0 0 0 0 0 \n"
     ]
    }
   ],
   "source": [
    "n, m = [int(x) for x in input().split()]\n",
    "pw = [[] for _ in range(n)]\n",
    "for i in range(n):\n",
    "    pw[i] = [int(y) for y in input().split()]\n",
    "\n",
    "data = [[w / p, w, p] for p, w in pw]\n",
    "data.sort()\n",
    "bw, bp = data[-1][1:]\n",
    "\n",
    "left = max(p * bw // bp + 1 if p * bw // bp else p * bw // bp for p, w in pw)\n",
    "right = min(_[0] for _ in pw)\n",
    "\n",
    "while left + 1 < right:\n",
    "    mid = (left + right) // 2\n",
    "    if n * mid <= m:\n",
    "        left = mid\n",
    "    else:\n",
    "        right = mid\n",
    "best = -1\n",
    "if n * right <= m:\n",
    "    best = right\n",
    "elif n * left <= m:\n",
    "    best = left\n",
    "if best == -1:\n",
    "    print('zip file size too big after extraction.Poor M!')\n",
    "elif best:\n",
    "    mp = max(a[0] for a in pw)\n",
    "    g = gcd(best, mp)\n",
    "    print(str(best // g) + '/' + str(mp // g))\n",
    "    res = [p * best // mp + 1 if p * best // mp else p * best // mp for p, w in pw]\n",
    "    print(' '.join(str(_) for _ in res))\n",
    "else:\n",
    "    print(\"0/1\")\n",
    "    print(\"0 \" * n)"
   ]
  },
  {
   "cell_type": "code",
   "execution_count": 1,
   "metadata": {},
   "outputs": [
    {
     "name": "stdout",
     "output_type": "stream",
     "text": [
      "125\n"
     ]
    }
   ],
   "source": [
    "count = 0\n",
    "for w in range(1, 7):\n",
    "    for x in range(1, 7):\n",
    "        for y in range(1, 7):\n",
    "            for z in range(1, 7):\n",
    "                if w + x + y + z == 12:\n",
    "                    count += 1\n",
    "print(count)"
   ]
  },
  {
   "cell_type": "markdown",
   "metadata": {},
   "source": [
    "(xx + 13x + 40)(xx + 13x + 42) = (xx + 13x)(xx + 13x) + 82(xx + 13x) - 3360 = 0"
   ]
  },
  {
   "cell_type": "markdown",
   "metadata": {},
   "source": [
    "yy + 82y - 3360 = 0"
   ]
  },
  {
   "cell_type": "markdown",
   "metadata": {},
   "source": [
    "xx + 13x + 112 = 0 xx + 13x - 30 = 0"
   ]
  },
  {
   "cell_type": "code",
   "execution_count": 14,
   "metadata": {},
   "outputs": [],
   "source": [
    "x = 2, -15"
   ]
  },
  {
   "cell_type": "markdown",
   "metadata": {},
   "source": [
    "10sqrt(25PiPi + 144)"
   ]
  },
  {
   "cell_type": "markdown",
   "metadata": {},
   "source": [
    "222a + 37b = 576b + 8c = 576b + 16b = 592b"
   ]
  },
  {
   "cell_type": "markdown",
   "metadata": {},
   "source": [
    "222a = 555b"
   ]
  },
  {
   "cell_type": "markdown",
   "metadata": {},
   "source": [
    "2a = 5b"
   ]
  },
  {
   "cell_type": "code",
   "execution_count": 9,
   "metadata": {},
   "outputs": [],
   "source": [
    "a = 5\n",
    "b = 2\n",
    "c = 4"
   ]
  },
  {
   "cell_type": "code",
   "execution_count": 10,
   "metadata": {},
   "outputs": [
    {
     "data": {
      "text/plain": [
       "1184"
      ]
     },
     "execution_count": 10,
     "metadata": {},
     "output_type": "execute_result"
    }
   ],
   "source": [
    "1184"
   ]
  },
  {
   "cell_type": "markdown",
   "metadata": {},
   "source": [
    "5252_6 = 2240_8"
   ]
  },
  {
   "cell_type": "markdown",
   "metadata": {},
   "source": [
    "120 m = 2 h"
   ]
  },
  {
   "cell_type": "code",
   "execution_count": 16,
   "metadata": {},
   "outputs": [
    {
     "data": {
      "text/plain": [
       "90"
      ]
     },
     "execution_count": 16,
     "metadata": {},
     "output_type": "execute_result"
    }
   ],
   "source": [
    "90"
   ]
  },
  {
   "cell_type": "markdown",
   "metadata": {},
   "source": [
    "(2a + n - 1) * n = 1008 = 2^4 3^2 7"
   ]
  },
  {
   "cell_type": "markdown",
   "metadata": {},
   "source": [
    "n = 21 2a + 20 = 48 a = 14"
   ]
  },
  {
   "cell_type": "code",
   "execution_count": 19,
   "metadata": {},
   "outputs": [],
   "source": [
    "n = 21"
   ]
  },
  {
   "cell_type": "code",
   "execution_count": 20,
   "metadata": {},
   "outputs": [
    {
     "data": {
      "text/plain": [
       "True"
      ]
     },
     "execution_count": 20,
     "metadata": {},
     "output_type": "execute_result"
    }
   ],
   "source": [
    "1008 / n + 1 - n >= 2"
   ]
  },
  {
   "cell_type": "code",
   "execution_count": 21,
   "metadata": {},
   "outputs": [
    {
     "data": {
      "text/plain": [
       "True"
      ]
     },
     "execution_count": 21,
     "metadata": {},
     "output_type": "execute_result"
    }
   ],
   "source": [
    "1008 / n - n >= 1"
   ]
  },
  {
   "cell_type": "code",
   "execution_count": 22,
   "metadata": {},
   "outputs": [
    {
     "data": {
      "text/plain": [
       "True"
      ]
     },
     "execution_count": 22,
     "metadata": {},
     "output_type": "execute_result"
    }
   ],
   "source": [
    "1008 - n ^ 2 >= n"
   ]
  },
  {
   "cell_type": "code",
   "execution_count": 23,
   "metadata": {},
   "outputs": [
    {
     "data": {
      "text/plain": [
       "True"
      ]
     },
     "execution_count": 23,
     "metadata": {},
     "output_type": "execute_result"
    }
   ],
   "source": [
    "n ^ 2 + n - 1008 <= 0"
   ]
  },
  {
   "cell_type": "code",
   "execution_count": 24,
   "metadata": {},
   "outputs": [
    {
     "data": {
      "text/plain": [
       "4033"
      ]
     },
     "execution_count": 24,
     "metadata": {},
     "output_type": "execute_result"
    }
   ],
   "source": [
    "1 + 4032"
   ]
  },
  {
   "cell_type": "code",
   "execution_count": 26,
   "metadata": {},
   "outputs": [
    {
     "data": {
      "text/plain": [
       "31.252952618614856"
      ]
     },
     "execution_count": 26,
     "metadata": {},
     "output_type": "execute_result"
    }
   ],
   "source": [
    "(4033 ** 0.5 - 1) / 2"
   ]
  },
  {
   "cell_type": "code",
   "execution_count": 27,
   "metadata": {},
   "outputs": [
    {
     "data": {
      "text/plain": [
       "36.0"
      ]
     },
     "execution_count": 27,
     "metadata": {},
     "output_type": "execute_result"
    }
   ],
   "source": [
    "1008 / 28"
   ]
  },
  {
   "cell_type": "code",
   "execution_count": 28,
   "metadata": {},
   "outputs": [
    {
     "data": {
      "text/plain": [
       "42.0"
      ]
     },
     "execution_count": 28,
     "metadata": {},
     "output_type": "execute_result"
    }
   ],
   "source": [
    "1008 / 24"
   ]
  },
  {
   "cell_type": "code",
   "execution_count": 30,
   "metadata": {},
   "outputs": [
    {
     "data": {
      "text/plain": [
       "1456"
      ]
     },
     "execution_count": 30,
     "metadata": {},
     "output_type": "execute_result"
    }
   ],
   "source": [
    "28 * 21 + 20 * 23 + 12 * 25 + 4 * 27"
   ]
  },
  {
   "cell_type": "code",
   "execution_count": 29,
   "metadata": {},
   "outputs": [
    {
     "data": {
      "text/plain": [
       "23.11111111111111"
      ]
     },
     "execution_count": 29,
     "metadata": {},
     "output_type": "execute_result"
    }
   ],
   "source": [
    "(28 * 21 + 20 * 23 + 12 * 25 + 4 * 27) / 63"
   ]
  },
  {
   "cell_type": "code",
   "execution_count": 31,
   "metadata": {},
   "outputs": [
    {
     "data": {
      "text/plain": [
       "23.11111111111111"
      ]
     },
     "execution_count": 31,
     "metadata": {},
     "output_type": "execute_result"
    }
   ],
   "source": [
    "1456 / 63"
   ]
  },
  {
   "cell_type": "code",
   "execution_count": 32,
   "metadata": {},
   "outputs": [
    {
     "data": {
      "text/plain": [
       "23.11111111111111"
      ]
     },
     "execution_count": 32,
     "metadata": {},
     "output_type": "execute_result"
    }
   ],
   "source": [
    "208 / 9"
   ]
  },
  {
   "cell_type": "code",
   "execution_count": 33,
   "metadata": {},
   "outputs": [
    {
     "data": {
      "text/plain": [
       "0.3611111111111111"
      ]
     },
     "execution_count": 33,
     "metadata": {},
     "output_type": "execute_result"
    }
   ],
   "source": [
    "208 / 64 / 9"
   ]
  },
  {
   "cell_type": "code",
   "execution_count": 34,
   "metadata": {},
   "outputs": [
    {
     "data": {
      "text/plain": [
       "0.3611111111111111"
      ]
     },
     "execution_count": 34,
     "metadata": {},
     "output_type": "execute_result"
    }
   ],
   "source": [
    "13 / 4 / 9"
   ]
  },
  {
   "cell_type": "markdown",
   "metadata": {},
   "source": [
    "21 / (2x - 7)"
   ]
  },
  {
   "cell_type": "markdown",
   "metadata": {},
   "source": [
    "x ^ 2 - 1 + 21 / (2 x - 7)"
   ]
  },
  {
   "cell_type": "markdown",
   "metadata": {},
   "source": [
    "2x - 7 = 21\n",
    "x = 14\n",
    "\n",
    "2x - 7 = 7\n",
    "x = 7\n",
    "\n",
    "2x - 7 = 3\n",
    "x = 5\n",
    "\n",
    "2x - 7 = 1\n",
    "x = 4\n",
    "\n",
    "14 * 7 * 5 * 4"
   ]
  },
  {
   "cell_type": "code",
   "execution_count": 41,
   "metadata": {},
   "outputs": [
    {
     "data": {
      "text/plain": [
       "1960"
      ]
     },
     "execution_count": 41,
     "metadata": {},
     "output_type": "execute_result"
    }
   ],
   "source": [
    "14 * 7 * 5 * 4"
   ]
  },
  {
   "cell_type": "markdown",
   "metadata": {},
   "source": [
    "x = sqrt(10) / 5"
   ]
  },
  {
   "cell_type": "code",
   "execution_count": 42,
   "metadata": {},
   "outputs": [
    {
     "data": {
      "text/plain": [
       "0.3611111111111111"
      ]
     },
     "execution_count": 42,
     "metadata": {},
     "output_type": "execute_result"
    }
   ],
   "source": [
    "13 / 36"
   ]
  },
  {
   "cell_type": "code",
   "execution_count": 43,
   "metadata": {},
   "outputs": [
    {
     "data": {
      "text/plain": [
       "0.6324555320336759"
      ]
     },
     "execution_count": 43,
     "metadata": {},
     "output_type": "execute_result"
    }
   ],
   "source": [
    "10 ** 0.5 / 5"
   ]
  },
  {
   "cell_type": "markdown",
   "metadata": {},
   "source": [
    "mathematicans (truth): B F\n",
    "\n",
    "machines (lies): A C D E"
   ]
  },
  {
   "cell_type": "markdown",
   "metadata": {},
   "source": [
    "D F"
   ]
  },
  {
   "cell_type": "code",
   "execution_count": 47,
   "metadata": {},
   "outputs": [
    {
     "name": "stdout",
     "output_type": "stream",
     "text": [
      "3\n",
      "2\n",
      "AR\n",
      "No\n",
      "4\n",
      "AFRF\n",
      "Yes\n",
      "4\n",
      "RRAF\n",
      "No\n"
     ]
    }
   ],
   "source": [
    "t = int(input())\n",
    "for _ in range(t):\n",
    "  n = int(input())\n",
    "  s = input()\n",
    "  i = 1\n",
    "  while len(s) > 1:\n",
    "    t = ''\n",
    "    for j in range(0, len(s), 2):\n",
    "      p = s[j:j + 2]\n",
    "      if 'A' in p:\n",
    "        t += 'R' if 'R' in p else 'A'\n",
    "      else:\n",
    "        t += 'F' if 'F' in p else 'R'\n",
    "    s = t\n",
    "  print('Yes' if s == 'A' else 'No')"
   ]
  },
  {
   "cell_type": "code",
   "execution_count": 48,
   "metadata": {},
   "outputs": [
    {
     "name": "stdout",
     "output_type": "stream",
     "text": [
      "11\n",
      "1 2 3 4 5 6 7 8 9 10 3366\n",
      "TTTTTTTTTTT\n"
     ]
    }
   ],
   "source": [
    "n = int(input())\n",
    "xs = [int(_) for _ in input().split()]\n",
    "t = k = 1\n",
    "s = ''\n",
    "for x in xs:\n",
    "  while x < min(t, k):\n",
    "    k += t\n",
    "    t += k\n",
    "  if x < t:\n",
    "    s += 'K'\n",
    "  else:\n",
    "    s += 'T'\n",
    "print(s)"
   ]
  },
  {
   "cell_type": "code",
   "execution_count": 50,
   "metadata": {},
   "outputs": [
    {
     "name": "stdout",
     "output_type": "stream",
     "text": [
      "11\n",
      "1 2 3 4 5 6 7 8 9 10 3366\n",
      "TKTKKKKTKKK\n"
     ]
    }
   ],
   "source": [
    "n = int(input())\n",
    "xs = [int(_) for _ in input().split()]\n",
    "t = k = 1\n",
    "s = ''\n",
    "for x in xs:\n",
    "  while x > max(t, k):\n",
    "    k += t\n",
    "    t += k\n",
    "  if x < t:\n",
    "    s += 'K'\n",
    "  else:\n",
    "    s += 'T'\n",
    "print(s)"
   ]
  },
  {
   "cell_type": "code",
   "execution_count": 51,
   "metadata": {},
   "outputs": [
    {
     "name": "stdout",
     "output_type": "stream",
     "text": [
      "11\n",
      "1 2 3 4 5 6 7 8 9 10 3366\n",
      "KTKKTT\n"
     ]
    }
   ],
   "source": [
    "n = int(input())\n",
    "xs = [int(_) for _ in input().split()]\n",
    "t = k = 1\n",
    "s = ''\n",
    "for i, x in enumerate(xs):\n",
    "  while x > max(t, k):\n",
    "    if i % 2:\n",
    "      k += t\n",
    "      if x <= k:\n",
    "        s += 'K'\n",
    "    else:\n",
    "      t += k\n",
    "      if x <= t:\n",
    "        s += 'T'\n",
    "print(s)"
   ]
  },
  {
   "cell_type": "code",
   "execution_count": 52,
   "metadata": {},
   "outputs": [
    {
     "name": "stdout",
     "output_type": "stream",
     "text": [
      "11\n",
      "1 2 3 4 5 6 7 8 9 10 3366\n",
      "TKTTKK\n"
     ]
    }
   ],
   "source": [
    "n = int(input())\n",
    "xs = [int(_) for _ in input().split()]\n",
    "t = k = 1\n",
    "s = ''\n",
    "for i, x in enumerate(xs):\n",
    "  while x > max(t, k):\n",
    "    if i % 2:\n",
    "      t += k\n",
    "      if x <= t:\n",
    "        s += 'T'\n",
    "    else:\n",
    "      k += t\n",
    "      if x <= k:\n",
    "        s += 'K'\n",
    "print(s)"
   ]
  },
  {
   "cell_type": "code",
   "execution_count": 53,
   "metadata": {},
   "outputs": [
    {
     "name": "stdout",
     "output_type": "stream",
     "text": [
      "11\n",
      "1 2 3 4 5 6 7 8 9 10 3366\n",
      "KTKTTTTTKKK\n"
     ]
    }
   ],
   "source": [
    "n = int(input())\n",
    "xs = [int(_) for _ in input().split()]\n",
    "t = k = 1\n",
    "s = ''\n",
    "for i, x in enumerate(xs):\n",
    "  while x > max(t, k):\n",
    "    if i % 2:\n",
    "      t += k\n",
    "    else:\n",
    "      k += t\n",
    "  if x <= k:\n",
    "    s += 'K'\n",
    "  else:\n",
    "    s += 'T'\n",
    "print(s)"
   ]
  },
  {
   "cell_type": "code",
   "execution_count": 54,
   "metadata": {},
   "outputs": [
    {
     "name": "stdout",
     "output_type": "stream",
     "text": [
      "11\n",
      "1 2 3 4 5 6 7 8 9 10 3366\n",
      "KTKTTTTTKKK\n"
     ]
    }
   ],
   "source": [
    "n = int(input())\n",
    "xs = [int(_) for _ in input().split()]\n",
    "t = k = 1\n",
    "s = ''\n",
    "for i, x in enumerate(xs):\n",
    "  while x > max(t, k):\n",
    "    if i % 2:\n",
    "      t += k\n",
    "    else:\n",
    "      k += t\n",
    "  if x <= k:\n",
    "    s += 'K'\n",
    "  else:\n",
    "    s += 'T'\n",
    "print(s)"
   ]
  },
  {
   "cell_type": "code",
   "execution_count": 55,
   "metadata": {},
   "outputs": [
    {
     "name": "stdout",
     "output_type": "stream",
     "text": [
      "11\n",
      "1 2 3 4 5 6 7 8 9 10 3366\n",
      "KTKTTTTTKKT\n"
     ]
    }
   ],
   "source": [
    "n = int(input())\n",
    "xs = [int(_) for _ in input().split()]\n",
    "t = k = 1\n",
    "s = ''\n",
    "for i, x in enumerate(xs):\n",
    "  j = i % 2\n",
    "  while x > max(t, k):\n",
    "    if j:\n",
    "      t += k\n",
    "    else:\n",
    "      k += t\n",
    "    j = 1 - j\n",
    "  if x <= k:\n",
    "    s += 'K'\n",
    "  else:\n",
    "    s += 'T'\n",
    "print(s)"
   ]
  },
  {
   "cell_type": "code",
   "execution_count": 59,
   "metadata": {},
   "outputs": [
    {
     "name": "stdout",
     "output_type": "stream",
     "text": [
      "11\n",
      "1 2 3 4 5 6 7 8 9 10 3366\n",
      "KTKTKK\n"
     ]
    }
   ],
   "source": [
    "n = int(input())\n",
    "xs = [int(_) for _ in input().split()]\n",
    "t = k = 1\n",
    "s = ''\n",
    "j = 0\n",
    "for x in xs:\n",
    "  while x > max(t, k):\n",
    "    if j:\n",
    "      t += k\n",
    "      if x <= t:\n",
    "        s += 'T'\n",
    "    else:\n",
    "      k += t\n",
    "      if x <= k:\n",
    "        s += 'K'\n",
    "    j = 1 - j\n",
    "print(s)"
   ]
  },
  {
   "cell_type": "code",
   "execution_count": 61,
   "metadata": {},
   "outputs": [
    {
     "name": "stdout",
     "output_type": "stream",
     "text": [
      "11\n",
      "1 2 3 4 5 6 7 8 9 10 3366\n",
      "TKTKKTTTKKK\n"
     ]
    }
   ],
   "source": [
    "n = int(input())\n",
    "xs = [int(_) for _ in input().split()]\n",
    "t = k = 1\n",
    "s = ''\n",
    "j = 0\n",
    "flag = True\n",
    "for x in xs:\n",
    "  while x > max(t, k):\n",
    "    if j:\n",
    "      t += k\n",
    "      flag = True\n",
    "    else:\n",
    "      k += t\n",
    "      flag = False\n",
    "    j = 1 - j\n",
    "  if flag:\n",
    "    s += 'T'\n",
    "  else:\n",
    "    s += 'K'\n",
    "print(s)"
   ]
  },
  {
   "cell_type": "code",
   "execution_count": 62,
   "metadata": {},
   "outputs": [
    {
     "name": "stdout",
     "output_type": "stream",
     "text": [
      "11\n",
      "1 2 3 4 5 6 7 8 9 10 3366\n",
      "TKKTTTKKKKK\n"
     ]
    }
   ],
   "source": [
    "n = int(input())\n",
    "xs = [int(_) for _ in input().split()]\n",
    "t = k = 1\n",
    "s = ''\n",
    "j = 0\n",
    "flag = True\n",
    "c = t\n",
    "for i, x in enumerate(xs):\n",
    "  while x > c:\n",
    "    if j:\n",
    "      t += k\n",
    "      c += t\n",
    "      flag = True\n",
    "    else:\n",
    "      k += t\n",
    "      c += k\n",
    "      flag = False\n",
    "    j = 1 - j\n",
    "  if flag:\n",
    "    s += 'T'\n",
    "  else:\n",
    "    s += 'K'\n",
    "print(s)"
   ]
  },
  {
   "cell_type": "code",
   "execution_count": 1,
   "metadata": {},
   "outputs": [
    {
     "name": "stdout",
     "output_type": "stream",
     "text": [
      "10 5\n",
      "##..###...\n",
      "1\n",
      "2\n",
      "4\n",
      "5\n",
      "10\n",
      "5\n",
      "2\n",
      "0\n",
      "1\n",
      "0\n"
     ]
    }
   ],
   "source": [
    "n, q = [int(x) for x in input().split()]\n",
    "outputs = []\n",
    "road = input()\n",
    "for i in range(q):\n",
    "    k = int(input())\n",
    "    curpos = k\n",
    "    count = 0\n",
    "    while curpos <= n:\n",
    "        if road[curpos - 1] == '#':\n",
    "            count += 1\n",
    "        curpos += k\n",
    "    outputs.append(count)\n",
    "for i in range(q):\n",
    "    print(outputs[i])"
   ]
  },
  {
   "cell_type": "code",
   "execution_count": 4,
   "metadata": {},
   "outputs": [
    {
     "name": "stdout",
     "output_type": "stream",
     "text": [
      "4\n",
      "1 2 3 4\n",
      "7\n"
     ]
    }
   ],
   "source": [
    "n = int(input())\n",
    "arr = [int(_) for _ in input().split()]\n",
    "count = 0\n",
    "while len(set(arr)) != 1:\n",
    "    s = sum(a % 2 for a in arr)\n",
    "    if s:\n",
    "        count += s\n",
    "        arr = [b - (b % 2) for b in arr]\n",
    "    else:\n",
    "        count += 1\n",
    "        arr = [c // 2 for c in arr]\n",
    "print(count)"
   ]
  },
  {
   "cell_type": "code",
   "execution_count": 6,
   "metadata": {},
   "outputs": [
    {
     "name": "stdout",
     "output_type": "stream",
     "text": [
      "4\n",
      "1 2 3 4\n",
      "4\n"
     ]
    }
   ],
   "source": [
    "n = int(input())\n",
    "arr = [int(_) for _ in input().split()]\n",
    "count = 0\n",
    "while len(set(arr)) != 1:\n",
    "    s = sum(a % 2 if a > 1 else 0 for a in arr)\n",
    "    if s:\n",
    "        count += s\n",
    "        arr = [b - (b % 2) for b in arr]\n",
    "    else:\n",
    "        count += 1\n",
    "        arr = [c // 2 for c in arr]\n",
    "print(count)"
   ]
  },
  {
   "cell_type": "code",
   "execution_count": 8,
   "metadata": {},
   "outputs": [
    {
     "name": "stdout",
     "output_type": "stream",
     "text": [
      "4\n",
      "1 2 3 4\n"
     ]
    },
    {
     "ename": "KeyboardInterrupt",
     "evalue": "",
     "output_type": "error",
     "traceback": [
      "\u001b[0;31m---------------------------------------------------------------------------\u001b[0m",
      "\u001b[0;31mKeyboardInterrupt\u001b[0m                         Traceback (most recent call last)",
      "\u001b[0;32m<ipython-input-8-a6602f09f1a8>\u001b[0m in \u001b[0;36m<module>\u001b[0;34m\u001b[0m\n\u001b[1;32m      2\u001b[0m \u001b[0marr\u001b[0m \u001b[0;34m=\u001b[0m \u001b[0;34m[\u001b[0m\u001b[0mint\u001b[0m\u001b[0;34m(\u001b[0m\u001b[0m_\u001b[0m\u001b[0;34m)\u001b[0m \u001b[0;32mfor\u001b[0m \u001b[0m_\u001b[0m \u001b[0;32min\u001b[0m \u001b[0minput\u001b[0m\u001b[0;34m(\u001b[0m\u001b[0;34m)\u001b[0m\u001b[0;34m.\u001b[0m\u001b[0msplit\u001b[0m\u001b[0;34m(\u001b[0m\u001b[0;34m)\u001b[0m\u001b[0;34m]\u001b[0m\u001b[0;34m\u001b[0m\u001b[0;34m\u001b[0m\u001b[0m\n\u001b[1;32m      3\u001b[0m \u001b[0mcount\u001b[0m \u001b[0;34m=\u001b[0m \u001b[0;36m0\u001b[0m\u001b[0;34m\u001b[0m\u001b[0;34m\u001b[0m\u001b[0m\n\u001b[0;32m----> 4\u001b[0;31m \u001b[0;32mwhile\u001b[0m \u001b[0mlen\u001b[0m\u001b[0;34m(\u001b[0m\u001b[0mset\u001b[0m\u001b[0;34m(\u001b[0m\u001b[0marr\u001b[0m\u001b[0;34m)\u001b[0m\u001b[0;34m)\u001b[0m \u001b[0;34m!=\u001b[0m \u001b[0;36m1\u001b[0m\u001b[0;34m:\u001b[0m\u001b[0;34m\u001b[0m\u001b[0;34m\u001b[0m\u001b[0m\n\u001b[0m\u001b[1;32m      5\u001b[0m     \u001b[0ms\u001b[0m \u001b[0;34m=\u001b[0m \u001b[0msum\u001b[0m\u001b[0;34m(\u001b[0m\u001b[0ma\u001b[0m \u001b[0;34m%\u001b[0m \u001b[0;36m2\u001b[0m \u001b[0;32mif\u001b[0m \u001b[0ma\u001b[0m \u001b[0;34m>\u001b[0m \u001b[0;36m1\u001b[0m \u001b[0;32melse\u001b[0m \u001b[0;36m0\u001b[0m \u001b[0;32mfor\u001b[0m \u001b[0ma\u001b[0m \u001b[0;32min\u001b[0m \u001b[0marr\u001b[0m\u001b[0;34m)\u001b[0m\u001b[0;34m\u001b[0m\u001b[0;34m\u001b[0m\u001b[0m\n\u001b[1;32m      6\u001b[0m     \u001b[0;32mif\u001b[0m \u001b[0ms\u001b[0m\u001b[0;34m:\u001b[0m\u001b[0;34m\u001b[0m\u001b[0;34m\u001b[0m\u001b[0m\n",
      "\u001b[0;31mKeyboardInterrupt\u001b[0m: "
     ]
    }
   ],
   "source": [
    "n = int(input())\n",
    "arr = [int(_) for _ in input().split()]\n",
    "count = 0\n",
    "while len(set(arr)) != 1:\n",
    "    s = sum(a % 2 if a > 1 else 0 for a in arr)\n",
    "    if s:\n",
    "        count += s\n",
    "        arr = [max(b, b - (b % 2)) for b in arr]\n",
    "    else:\n",
    "        count += 1\n",
    "        arr = [c // 2 for c in arr]\n",
    "print(count)"
   ]
  },
  {
   "cell_type": "code",
   "execution_count": 10,
   "metadata": {},
   "outputs": [
    {
     "name": "stdout",
     "output_type": "stream",
     "text": [
      "4\n",
      "1 2 3 4\n",
      "4\n"
     ]
    }
   ],
   "source": [
    "n = int(input())\n",
    "arr = [int(_) for _ in input().split()]\n",
    "count = 0\n",
    "while len(set(arr)) != 1:\n",
    "    s = sum(a % 2 if a > 1 else 0 for a in arr)\n",
    "    if s:\n",
    "        count += s\n",
    "        arr = [max(1, b - (b % 2)) for b in arr]\n",
    "    else:\n",
    "        count += 1\n",
    "        arr = [c // 2 for c in arr]\n",
    "print(count)"
   ]
  },
  {
   "cell_type": "code",
   "execution_count": null,
   "metadata": {},
   "outputs": [],
   "source": [
    "a - b = 120\n",
    "ca + cb = 1/3\n",
    "c(a + b) = \n",
    "\n",
    "a = b + 120\n",
    "ca = c(b + 120) = -cb / 2 "
   ]
  }
 ],
 "metadata": {
  "kernelspec": {
   "display_name": "Python 3",
   "language": "python",
   "name": "python3"
  },
  "language_info": {
   "codemirror_mode": {
    "name": "ipython",
    "version": 3
   },
   "file_extension": ".py",
   "mimetype": "text/x-python",
   "name": "python",
   "nbconvert_exporter": "python",
   "pygments_lexer": "ipython3",
   "version": "3.8.5"
  }
 },
 "nbformat": 4,
 "nbformat_minor": 4
}
