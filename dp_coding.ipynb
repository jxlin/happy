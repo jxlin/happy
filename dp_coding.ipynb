{
 "cells": [
  {
   "cell_type": "markdown",
   "id": "c531943d-7eb9-4bbd-aabf-2b51af4fba25",
   "metadata": {},
   "source": [
    "Dynamic programming works by breaking down complex problems into simpler subproblems. Then, finding optimal solutions to these subproblems. Memorization is a method that saves the outcomes of these processes so that the corresponding answers do not need to be computed when they are later needed. Saving solutions save time on the computation of subproblems that have already been encountered. "
   ]
  },
  {
   "cell_type": "code",
   "execution_count": null,
   "id": "159c2e83-566b-419c-ae87-02e3485e4340",
   "metadata": {},
   "outputs": [],
   "source": [
    "# 时间复杂度：O(n)\n",
    "# 空间复杂度：O(n)\n",
    "class Solution:\n",
    "    def fib(self, n: int) -> int:\n",
    "       \n",
    "        # 排除 Corner Case\n",
    "        if n == 0:\n",
    "            return 0\n",
    "        \n",
    "        # 创建 dp table \n",
    "        dp = [0] * (n + 1)\n",
    "\n",
    "        # 初始化 dp 数组\n",
    "        dp[0] = 0\n",
    "        dp[1] = 1\n",
    "\n",
    "        # 遍历顺序: 由前向后。因为后面要用到前面的状态\n",
    "        for i in range(2, n + 1):\n",
    "\n",
    "            # 确定递归公式/状态转移公式\n",
    "            dp[i] = dp[i - 1] + dp[i - 2]\n",
    "        \n",
    "        # 返回答案\n",
    "        return dp[n]\n",
    "\n",
    "\n",
    "# 时间复杂度：O(n)\n",
    "# 空间复杂度：O(1)\n",
    "class Solution:\n",
    "    def fib(self, n: int) -> int:\n",
    "        if n <= 1:\n",
    "            return n\n",
    "        \n",
    "        prev1, prev2 = 0, 1\n",
    "        \n",
    "        for _ in range(2, n + 1):\n",
    "            curr = prev1 + prev2\n",
    "            prev1, prev2 = prev2, curr\n",
    "        \n",
    "        return prev2"
   ]
  },
  {
   "cell_type": "markdown",
   "id": "4a80a014-0cf2-4322-a143-19f5a36e4add",
   "metadata": {},
   "source": [
    "例如：有N件物品和一个最多能背重量为W 的背包。第i件物品的重量是weight[i]，得到的价值是value[i] 。每件物品只能用一次，求解将哪些物品装入背包里物品价值总和最大。\n",
    "\n",
    "dp[i][j] = max(dp[i - 1][j], dp[i - 1][j - weight[i]] + value[i])\n",
    "\n",
    "i 来表示物品、j表示背包容量。\n",
    "即dp[i][j] 表示从下标为[0-i]的物品里任意取，放进容量为j的背包，价值总和最大是多少。"
   ]
  },
  {
   "cell_type": "markdown",
   "id": "dde1b26c-bedb-462b-869e-cc2152b9db33",
   "metadata": {},
   "source": [
    "<img src=\"pic/0-1-Knapsack-660.webp\" width=\"50%\">"
   ]
  },
  {
   "cell_type": "markdown",
   "id": "5f11f953-0078-4613-9857-6105a13e4b8e",
   "metadata": {},
   "source": [
    "## 二维数组"
   ]
  },
  {
   "cell_type": "code",
   "execution_count": null,
   "id": "4f86725f-5d90-492a-b9de-6f0680c64928",
   "metadata": {},
   "outputs": [],
   "source": [
    "## 二维数组\n",
    "\n",
    "# 物品重量 [w1, w2, ...], 价值 [v1, v2, ...], 背包容量 W\n",
    "n = len(weights)\n",
    "dp = [[0] * (W + 1) for _ in range(n + 1)]\n",
    "\n",
    "# *** 方式1：外层物品，内层容量（标准写法）\n",
    "for i in range(n):              # Items 0..n-1\n",
    "    for j in range(W + 1):      # Capacities 0..W\n",
    "        if j >= weights[i]:     # Direct access to weights[i]\n",
    "            dp[i+1][j] = max(dp[i][j], dp[i][j-weights[i]] + values[i])\n",
    "        else:\n",
    "            dp[i+1][j] = dp[i][j]\n",
    "            \n",
    "# 方式2：外层容量，内层物品（顺序可互换）\n",
    "for j in range(W + 1):      # Capacity from 0 to W\n",
    "    for i in range(n):      # Items from 0 to n-1\n",
    "        if weights[i] <= j:\n",
    "            dp[i+1][j] = max(dp[i][j], dp[i][j - weights[i]] + values[i])\n",
    "        else:\n",
    "            dp[i+1][j] = dp[i][j]\n",
    "# 结果相同，因为 dp[i][j] 只依赖 dp[i-1][...]，顺序不影响。"
   ]
  },
  {
   "cell_type": "markdown",
   "id": "99f981f1-b2fb-47fe-b748-8143fcf26fd0",
   "metadata": {},
   "source": [
    "## 一维数组\n",
    "### 01背包\n",
    "\n",
    "对于背包问题其实状态都是可以压缩的。\n",
    "\n",
    "在使用二维数组的时候，递推公式：dp[i][j] = max(dp[i - 1][j], dp[i - 1][j - weight[i]] + value[i]);\n",
    "\n",
    "动态规划中dp[j]是由dp[j-weight[i]]推导出来的，然后取max(dp[j], dp[j - weight[i]] + value[i])"
   ]
  },
  {
   "cell_type": "code",
   "execution_count": null,
   "id": "61c54958-b024-4b62-a524-90c219e8e6ee",
   "metadata": {},
   "outputs": [],
   "source": [
    "## 一维数组\n",
    "### 01背包\n",
    "# 0/1 Knapsack (Each item can be used at most once)\n",
    "\n",
    "# *** 正确写法（01背包）\n",
    "dp = [0] * (W + 1)\n",
    "\n",
    "for i in range(n):\n",
    "    for j in range(W, weights[i] - 1, -1):  # 逆序\n",
    "        dp[j] = max(dp[j], dp[j - weights[i]] + values[i])\n",
    "# 为什么正确？\n",
    "    # 外层循环物品，内层逆序容量：\n",
    "    # 每个物品 i 只会被处理一次。\n",
    "    # 由于容量是 逆序更新，dp[j - weights[i]] 总是来自 上一轮（未包含当前物品） 的值，确保不会重复选取。"
   ]
  },
  {
   "cell_type": "markdown",
   "id": "23638e19-4744-4a24-95ca-6323b2a86b31",
   "metadata": {},
   "source": [
    "### 完全背包"
   ]
  },
  {
   "cell_type": "code",
   "execution_count": null,
   "id": "5cf53a95-7d9f-409a-a7d5-fafdea1f3687",
   "metadata": {},
   "outputs": [],
   "source": [
    "### 完全背包\n",
    "# Unbounded Knapsack (Items can be reused)\n",
    "\n",
    "# *** 正确写法1（外层物品，内层容量正序）1D DP - Must Forward Iterate\n",
    "dp = [0] * (W + 1)\n",
    "\n",
    "for i in range(n):\n",
    "    for j in range(weights[i], W + 1):  # 正序\n",
    "        dp[j] = max(dp[j], dp[j - weights[i]] + values[i])\n",
    "# Why forward order?\n",
    "    # We want to reuse items, so dp[j - w[i]] should include the current item if possible.\n",
    "    # Example (for i=0, item 1, w=1, v=15):\n",
    "    # dp[1] = max(0, dp[0] + 15) = 15\n",
    "    # dp[2] = max(0, dp[1] + 15) = 30 (item 1 used twice)\n",
    "    # dp[3] = 45, ..., dp[5] = 75 (item 1 used five times)."
   ]
  },
  {
   "cell_type": "code",
   "execution_count": null,
   "id": "c388e015-7690-405b-9ed7-c0e8612a6a64",
   "metadata": {},
   "outputs": [],
   "source": [
    "322. Coin Change"
   ]
  },
  {
   "cell_type": "markdown",
   "id": "6662ac2c-ff09-4827-b278-4469a182c84c",
   "metadata": {},
   "source": [
    "## (1) 组合数（顺序不重要）\n",
    "\n",
    "二维DP数组递推公式： dp[i][j] = dp[i - 1][j] + dp[i - 1][j - nums[i]];\n",
    "去掉维度i 之后，递推公式：dp[j] = dp[j] + dp[j - nums[i]] ，即：dp[j] += dp[j - nums[i]]"
   ]
  },
  {
   "cell_type": "code",
   "execution_count": null,
   "id": "5e47505e-022a-4c0b-abd8-e8af6a1ca9da",
   "metadata": {},
   "outputs": [],
   "source": [
    "# 3. 组合数 vs 排列数（完全背包变种）\n",
    "# (1) 组合数（顺序不重要）\n",
    "# 问题：w = [1, 2, 3]，W = 4，求有多少种组合方式？\n",
    "dp = [0] * (W + 1) # dp[j] 表示凑出重量 j 的组合数\n",
    "dp[0] = 1  # 初始化：凑出重量 0 的组合数为 1（即不选任何物品）\n",
    "# dp = [1, 0, 0, 0, 0]（W=4，所以数组长度为 5）。\n",
    "\n",
    "\n",
    "# 外层物品，内层容量（组合数）\n",
    "for i in range(n):\n",
    "    # 对当前物品 weights[i]，从 j = weights[i] 开始更新到 W。\n",
    "    # 正序更新：确保可以重复使用当前物品（但组合数问题中顺序不重要）。\n",
    "    for j in range(weights[i], W + 1):\n",
    "        dp[j] += dp[j - weights[i]]\n",
    "# 逻辑：如果当前物品 weights[i] 可以放入容量 j，则组合数增加 dp[j - weights[i]]。\n",
    "# 物理意义：\n",
    "    # dp[j - weights[i]] 是 不选当前物品时 凑出 j - weights[i] 的组合数。\n",
    "    # 现在选了当前物品，组合数自然累加。\n",
    "    # dp[j] += ...：如果选了当前物品 weights[i]，那么凑出 j 的组合数 增加 dp[j - weights[i]] 种方式。\n",
    "\n",
    "print(dp[W])  # 输出：4（[1,1,1,1], [1,1,2], [1,3], [2,2]）\n",
    "# 说明：[1,1,2] 和 [2,1,1] 算作同一种组合。"
   ]
  },
  {
   "cell_type": "code",
   "execution_count": null,
   "id": "e6f209ae-d275-4910-b343-20d0c083d103",
   "metadata": {},
   "outputs": [],
   "source": [
    "518. Coin Change II"
   ]
  },
  {
   "cell_type": "markdown",
   "id": "1215d585-192d-4391-8bed-7a4a0041de92",
   "metadata": {},
   "source": [
    "## (2) 排列数（顺序重要）"
   ]
  },
  {
   "cell_type": "code",
   "execution_count": null,
   "id": "a9517c0c-fa3f-40f3-8685-ab41e099358d",
   "metadata": {},
   "outputs": [],
   "source": [
    "# (2) 排列数（顺序重要）\n",
    "# 问题：w = [1, 2, 3]，W = 4，求有多少种排列方式？\n",
    "dp = [0] * (W + 1)\n",
    "dp[0] = 1  # 初始化\n",
    "\n",
    "# 外层容量，内层物品（排列数）\n",
    "for j in range(W + 1):\n",
    "    for i in range(n):\n",
    "        if w[i] <= j:\n",
    "            dp[j] += dp[j - w[i]]\n",
    "\n",
    "print(dp[W])  # 输出：7（[1,1,1,1], [1,1,2], [1,2,1], [2,1,1], [2,2], [1,3], [3,1]）\n",
    "# 说明：[1,1,2] 和 [2,1,1] 算作不同排列。"
   ]
  },
  {
   "cell_type": "markdown",
   "id": "e14099e2-7a7f-4a95-8880-6f9ba2030a28",
   "metadata": {},
   "source": [
    "377. Combination Sum IV"
   ]
  },
  {
   "cell_type": "code",
   "execution_count": null,
   "id": "943c23d9-3df3-44d2-a74e-464625f4e857",
   "metadata": {},
   "outputs": [],
   "source": [
    "class Solution:\n",
    "    def lengthOfLIS(self, nums: List[int]) -> int:\n",
    "        if len(nums) <= 1:\n",
    "            return len(nums)\n",
    "        dp = [1] * len(nums)\n",
    "        result = 0\n",
    "        for i in range(1, len(nums)):\n",
    "            for j in range(0, i):\n",
    "                if nums[i] > nums[j]:\n",
    "                    dp[i] = max(dp[i], dp[j] + 1)\n",
    "            result = max(result, dp[i]) #取长的子序列\n",
    "        return result"
   ]
  }
 ],
 "metadata": {
  "kernelspec": {
   "display_name": "Python 3 (ipykernel)",
   "language": "python",
   "name": "python3"
  },
  "language_info": {
   "codemirror_mode": {
    "name": "ipython",
    "version": 3
   },
   "file_extension": ".py",
   "mimetype": "text/x-python",
   "name": "python",
   "nbconvert_exporter": "python",
   "pygments_lexer": "ipython3",
   "version": "3.8.20"
  }
 },
 "nbformat": 4,
 "nbformat_minor": 5
}
