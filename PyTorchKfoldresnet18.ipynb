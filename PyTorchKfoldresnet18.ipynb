{
 "cells": [
  {
   "cell_type": "code",
   "execution_count": null,
   "metadata": {},
   "outputs": [],
   "source": [
    "import torch\n",
    "import torchvision\n",
    "import torch.nn as nn\n",
    "import torch.nn.functional as F\n",
    "from torch.utils.data import DataLoader, Dataset\n",
    "import numpy as np\n",
    "import pandas as pd\n",
    "import cv2\n",
    "import matplotlib.pyplot as plt\n",
    "import operator\n",
    "from PIL import Image \n",
    "from sklearn.model_selection import StratifiedKFold, train_test_split\n",
    "from sklearn.metrics import roc_auc_score\n",
    "from torchvision.transforms import ToTensor, RandomHorizontalFlip, Resize\n",
    "from efficientnet_pytorch import EfficientNet\n",
    "from transformers import AdamW, get_cosine_schedule_with_warmup\n",
    "from albumentations import *\n",
    "from albumentations.pytorch import ToTensor\n",
    "from tqdm import tqdm\n",
    "import json\n",
    "import time\n",
    "import config"
   ]
  },
  {
   "cell_type": "code",
   "execution_count": null,
   "metadata": {},
   "outputs": [],
   "source": [
    "train_df = pd.read_csv('label_train.csv')"
   ]
  },
  {
   "cell_type": "code",
   "execution_count": null,
   "metadata": {},
   "outputs": [],
   "source": [
    "train_df.head()"
   ]
  },
  {
   "cell_type": "code",
   "execution_count": null,
   "metadata": {},
   "outputs": [],
   "source": [
    "class MyDataset(Dataset):\n",
    "    def __init__(self, df, indices, transform=None):\n",
    "        self.df = df\n",
    "        self.indices = indices\n",
    "        self.transform = transform\n",
    "        \n",
    "    def __getitem__(self, idx):\n",
    "        image_ids = operator.itemgetter(*self.indices)(self.df['image_id'])\n",
    "        labels = operator.itemgetter(*self.indices)(self.df['label'])\n",
    "        \n",
    "        image = Image.open(image_ids[idx])\n",
    "        label = torch.tensor(labels[idx])\n",
    "        \n",
    "        if self.transform:\n",
    "            image = self.transform(image)\n",
    "            \n",
    "        return image, label\n",
    "    \n",
    "    def __len__(self):\n",
    "        return len(self.indices)"
   ]
  },
  {
   "cell_type": "code",
   "execution_count": null,
   "metadata": {},
   "outputs": [],
   "source": [
    "transforms = {\n",
    "            'train': torchvision.transforms.Compose(\n",
    "                [\n",
    "                    torchvision.transforms.RandomHorizontalFlip(),\n",
    "                    torchvision.transforms.Resize((224, 224)),\n",
    "                    torchvision.transforms.ToTensor(),\n",
    "                    torchvision.transforms.Normalize(\n",
    "                        mean=[0.485, 0.456, 0.406],\n",
    "                        std=[0.229, 0.224, 0.225]\n",
    "                    )\n",
    "                ]\n",
    "            ),\n",
    "            'valid': torchvision.transforms.Compose(\n",
    "                [\n",
    "                    torchvision.transforms.RandomHorizontalFlip(),\n",
    "                    torchvision.transforms.Resize((224, 224)),\n",
    "                    torchvision.transforms.ToTensor(),\n",
    "                    torchvision.transforms.Normalize(\n",
    "                        mean=[0.485, 0.456, 0.406],\n",
    "                        std=[0.229, 0.224, 0.225]\n",
    "                    )\n",
    "                ]\n",
    "            ),\n",
    "            'test': torchvision.transforms.Compose(\n",
    "                [\n",
    "                    torchvision.transforms.Resize((224, 224)),\n",
    "                    torchvision.transforms.ToTensor() \n",
    "                ]\n",
    "            )\n",
    "        }"
   ]
  },
  {
   "cell_type": "code",
   "execution_count": 11,
   "metadata": {},
   "outputs": [],
   "source": [
    "def train_fn(epoch, train_dataloader, optimizer, criterion, scheduler, device):\n",
    "    \n",
    "    running_loss = 0\n",
    "    total = 0\n",
    "    tl = tqdm(train_dataloader)\n",
    "    model.train()\n",
    "    \n",
    "    for batch_idx, (images, labels) in enumerate(tl, 1):\n",
    "        \n",
    "        optimizer.zero_grad()\n",
    "        images = images.to(device)\n",
    "        labels = labels.to(device)\n",
    "        \n",
    "        outputs = model(images)\n",
    "    \n",
    "        loss = criterion(outputs, labels)\n",
    "        \n",
    "        running_loss += loss.item() \n",
    "    \n",
    "        loss.backward()\n",
    "        optimizer.step()\n",
    "        \n",
    "    avg_training_loss = running_loss/len(train_dataloader)\n",
    "    \n",
    "    return avg_training_loss\n",
    "    \n",
    "def valid_fn(epoch, valid_dataloader, criterion, device):\n",
    "    \n",
    "    running_loss = 0\n",
    "    total = 0\n",
    "    preds_acc = []\n",
    "    labels_acc = []\n",
    "    \n",
    "    vl = tqdm(valid_dataloader)\n",
    "    model.eval()\n",
    "    \n",
    "    for batch_idx, (images, labels) in enumerate(vl, 1):\n",
    "        \n",
    "        images = images.to(device)\n",
    "        labels = labels.to(device)\n",
    "        \n",
    "        outputs = model(images)\n",
    "        \n",
    "        loss = criterion(outputs, labels)\n",
    "        \n",
    "        running_loss += loss.item()\n",
    "        \n",
    "    avg_valid_loss = running_loss/len(valid_dataloader)\n",
    "    return avg_valid_loss"
   ]
  },
  {
   "cell_type": "code",
   "execution_count": null,
   "metadata": {},
   "outputs": [],
   "source": [
    "\n",
    "model = EfficientNet.from_pretrained('efficientnet-b3', num_classes=4)\n"
   ]
  },
  {
   "cell_type": "code",
   "execution_count": null,
   "metadata": {},
   "outputs": [],
   "source": [
    "device = 'cuda' if torch.cuda.is_available() else 'cpu'\n",
    "\n",
    "fold_results = {}\n",
    "train_begin =time.time()\n",
    "\n",
    "for fold, (train_idx, val_idx) in enumerate(StratifiedKFold(\n",
    "    n_splits=5, \n",
    "    shuffle=True, \n",
    "    random_state=42\n",
    ").split(\n",
    "    train_df['image_id'].values, \n",
    "    train_df['label'].values\n",
    "), 1):\n",
    "\n",
    "    fold_begin = time.time()\n",
    "\n",
    "    train_dataset = MyDataset(train_df, train_idx, transform=transforms['train'])\n",
    "    valid_dataset = MyDataset(train_df, val_idx, transform=transforms['valid'])\n",
    "    \n",
    "    train_dataloader = DataLoader(train_dataset, batch_size=config.BATCH_SIZE, shuffle=True)\n",
    "    valid_dataloader = DataLoader(valid_dataset, batch_size=config.BATCH_SIZE, shuffle=True)\n",
    "    \n",
    "    model = model.to(device)\n",
    "    optimizer = AdamW(model.parameters(), lr=0.01, weight_decay=1e-3)\n",
    "    num_train_steps = int(len(train_dataset) / config.BATCH_SIZE * config.EPOCHS)\n",
    "    lr_scheduler = get_cosine_schedule_with_warmup(\n",
    "        optimizer,\n",
    "        num_warmup_steps=len(train_dataset) / config.BATCH_SIZE * 5,\n",
    "        num_training_steps=num_train_steps\n",
    "    )\n",
    "    criterion = torch.nn.CrossEntropyLoss()\n",
    "    \n",
    "    best_loss = 1\n",
    "    for epoch in range(config.EPOCHS):\n",
    "        \n",
    "        start = time.time()\n",
    "\n",
    "        print('*'*15)\n",
    "        print(f'FOLD: {fold} EPOCH: {epoch+1}')\n",
    "        print('*'*15)\n",
    "        \n",
    "        print('Training.....')\n",
    "        avg_train_loss = train_fn(epoch=epoch+1, \n",
    "                                  train_dataloader=train_dataloader, \n",
    "                                  optimizer=optimizer, \n",
    "                                  criterion=criterion,\n",
    "                                  scheduler=lr_scheduler,\n",
    "                                  device=device)\n",
    "        \n",
    "        print(f'Fold: {fold} | Epoch: {epoch+1} | Average Training loss: {avg_train_loss} |' \n",
    "              f' lr: {lr_scheduler.get_lr()}')\n",
    "        \n",
    "        lr_scheduler.step(avg_train_loss)\n",
    "        \n",
    "        with torch.no_grad():\n",
    "            print('Validating....')\n",
    "            avg_valid_loss = valid_fn(epoch=epoch+1, \n",
    "                                      valid_dataloader=valid_dataloader, \n",
    "                                      criterion=criterion, \n",
    "                                      device=device)\n",
    "\n",
    "            print(f'Fold: {fold} | Epoch: {epoch+1} | Average Validation loss: {avg_valid_loss}')\n",
    "            if avg_valid_loss < best_loss:\n",
    "                best_loss = avg_valid_loss\n",
    "                print('Saving best model....')\n",
    "                torch.save(\n",
    "                    {\n",
    "                        'epoch': epoch, \n",
    "                        'best_loss': best_loss, \n",
    "                        'state_dict': model.state_dict()\n",
    "                    },\n",
    "                    f'efficientnet-b4.pt'\n",
    "                )\n",
    "\n",
    "        print(f'Epoch completed in {(time.time() - start)/60} minutes')\n",
    "\n",
    "        results = {\n",
    "            'train_loss': avg_train_loss,\n",
    "            'valid_loss': avg_valid_loss,\n",
    "            'lr': lr_scheduler.get_lr()\n",
    "        }\n",
    "        \n",
    "        fold_results[f'Fold-{fold}-Epoch-{epoch+1}'] = results\n",
    "        with open('fold_results-v2.json', 'a+') as file:\n",
    "            json.dump(fold_results, file)\n",
    "    \n",
    "    print(f'Fold completed in: {(time.time() - fold_begin)/60} minutes')\n",
    "        \n",
    "print(f'Training completed in {(time.time() - train_begin)/60} minutes')        \n",
    "    "
   ]
  },
  {
   "cell_type": "markdown",
   "metadata": {},
   "source": [
    "# Simple PyTorch without CV\n",
    "\n",
    "1. In this part let's try simple pytorch model and train it for 20 epochs straight without CV.\n",
    "2. The model of my choice is: 'EfficientNet-b0' as it's the only one which fits int the memory, that too with a batch size=8."
   ]
  },
  {
   "cell_type": "code",
   "execution_count": 27,
   "metadata": {},
   "outputs": [],
   "source": [
    "import torch\n",
    "import torchvision\n",
    "import torch.nn as nn\n",
    "import torch.nn.functional as F\n",
    "from torch.utils.data import DataLoader, Dataset\n",
    "import numpy as np\n",
    "import pandas as pd\n",
    "import cv2\n",
    "import matplotlib.pyplot as plt\n",
    "import operator\n",
    "from PIL import Image \n",
    "from sklearn.model_selection import StratifiedKFold, train_test_split\n",
    "from sklearn.metrics import roc_auc_score\n",
    "from torchvision.transforms import ToTensor, RandomHorizontalFlip, Resize\n",
    "from efficientnet_pytorch import EfficientNet\n",
    "from transformers import AdamW, get_cosine_schedule_with_warmup\n",
    "from albumentations import *\n",
    "from albumentations.pytorch import ToTensor\n",
    "from scipy.special import softmax\n",
    "from tqdm import tqdm\n",
    "import json\n",
    "import time\n",
    "import config"
   ]
  },
  {
   "cell_type": "code",
   "execution_count": 28,
   "metadata": {},
   "outputs": [],
   "source": [
    "class SimpleDataset(Dataset):\n",
    "    def __init__(self, image_ids_df, labels_df, transform=None):\n",
    "        self.image_ids = image_ids_df\n",
    "        self.labels = labels_df\n",
    "        self.transform = transform\n",
    "        \n",
    "    def __getitem__(self, idx):\n",
    "        image = cv2.imread(self.image_ids.values[idx])\n",
    "        label = self.labels.values[idx]\n",
    "        \n",
    "        sample = {\n",
    "            'image': image,\n",
    "            'label': label\n",
    "        }\n",
    "        \n",
    "        if self.transform:\n",
    "            sample = self.transform(**sample)\n",
    "        \n",
    "        image, label = sample['image'], sample['label']\n",
    "        \n",
    "        return image, label\n",
    "    \n",
    "    def __len__(self):\n",
    "        return len(self.image_ids)\n",
    "    \n",
    "\n",
    "        "
   ]
  },
  {
   "cell_type": "code",
   "execution_count": 29,
   "metadata": {},
   "outputs": [],
   "source": [
    "train_df = pd.read_csv('label_train.csv')\n",
    "image_ids = train_df['image_id']\n",
    "labels = train_df['label']"
   ]
  },
  {
   "cell_type": "code",
   "execution_count": 30,
   "metadata": {},
   "outputs": [],
   "source": [
    "X_train, X_test, y_train, y_test = train_test_split(image_ids, labels, test_size=0.25, random_state=42)"
   ]
  },
  {
   "cell_type": "code",
   "execution_count": 31,
   "metadata": {},
   "outputs": [],
   "source": [
    "device = 'cuda' if torch.cuda.is_available() else 'cpu'"
   ]
  },
  {
   "cell_type": "code",
   "execution_count": 32,
   "metadata": {},
   "outputs": [],
   "source": [
    "train_transform = Compose(\n",
    "    [\n",
    "        Resize(224, 224),\n",
    "        HorizontalFlip(p=0.5),\n",
    "        # VerticalFlip(p=0.5),\n",
    "        # ShiftScaleRotate(rotate_limit=25.0, p=0.7),\n",
    "        # OneOf(\n",
    "        #     [\n",
    "        #         IAAEmboss(p=1),\n",
    "        #         IAASharpen(p=1),\n",
    "        #         Blur(p=1)\n",
    "        #     ], \n",
    "        #     p=0.5\n",
    "        # ),\n",
    "        # IAAPiecewiseAffine(p=0.5),\n",
    "        Normalize((0.485, 0.456, 0.406), (0.229, 0.224, 0.225), always_apply=True),\n",
    "        ToTensor()\n",
    "    ]\n",
    ")"
   ]
  },
  {
   "cell_type": "code",
   "execution_count": 38,
   "metadata": {},
   "outputs": [],
   "source": [
    "class Conv_block(nn.Module):\n",
    "    def __init__(self, in_channels, out_channels):\n",
    "        super(Conv_block, self).__init__()\n",
    "        self.conv_block = nn.Sequential(\n",
    "            nn.Conv2d(in_channels=in_channels, out_channels=out_channels, kernel_size=(3, 3)),\n",
    "            nn.ReLU(),\n",
    "            nn.MaxPool2d(kernel_size=(2,2)),\n",
    "        )\n",
    "\n",
    "    def forward(self, x):\n",
    "        return F.dropout2d(self.conv_block(x), p=0.5)\n",
    "\n",
    "class Net(nn.Module):\n",
    "    def __init__(self):\n",
    "        super(Net, self).__init__()\n",
    "        self.conv_block1 = Conv_block(3, 256)\n",
    "        self.conv_block2 = Conv_block(256, 64)\n",
    "        self.linear = nn.Linear(32, 4)\n",
    "\n",
    "    def forward(self, x):\n",
    "        x = self.conv_block1(x)\n",
    "        x = self.conv_block2(x)\n",
    "        x = x.view(x.shape[0], -1)\n",
    "        x = F.softmax(self.linear(x))\n",
    "\n",
    "        return x\n"
   ]
  },
  {
   "cell_type": "code",
   "execution_count": 50,
   "metadata": {},
   "outputs": [],
   "source": [
    "model = torchvision.models.mobilenet_v2(pretrained=True)\n",
    "model.classifier[1] = nn.Linear(in_features=1280, out_features=4)\n",
    "for params in model.parameters():\n",
    "    params.trainable = False\n",
    "for params in model.classifier[1].parameters():\n",
    "    params.trainable = False"
   ]
  },
  {
   "cell_type": "code",
   "execution_count": 54,
   "metadata": {},
   "outputs": [],
   "source": [
    "train_dataset = SimpleDataset(X_train, y_train, transform=train_transform)\n",
    "valid_dataset = SimpleDataset(X_test, y_test, transform=train_transform)\n",
    "\n",
    "train_dataloader = DataLoader(train_dataset, batch_size=16, shuffle=True)\n",
    "valid_dataloader = DataLoader(valid_dataset, batch_size=16, shuffle=True)\n"
   ]
  },
  {
   "cell_type": "code",
   "execution_count": 55,
   "metadata": {},
   "outputs": [],
   "source": [
    "model = model.to(device)\n",
    "criterion = nn.CrossEntropyLoss()\n",
    "optimizer = AdamW(model.parameters(), lr=1e-3)\n",
    "num_train_steps = int(len(train_dataset) / 16 * 20)\n",
    "lr_scheduler = get_cosine_schedule_with_warmup(\n",
    "    optimizer,\n",
    "    num_warmup_steps=len(train_dataset) / 16 * 5,\n",
    "    num_training_steps=num_train_steps\n",
    ")"
   ]
  },
  {
   "cell_type": "code",
   "execution_count": 58,
   "metadata": {},
   "outputs": [
    {
     "output_type": "stream",
     "name": "stderr",
     "text": "0%|          | 0/86 [00:00<?, ?it/s]***************\nEPOCH: 1\n***************\nTraining.....\n100%|██████████| 86/86 [01:12<00:00,  1.19it/s]\n  0%|          | 0/29 [00:00<?, ?it/s]Validating....\n100%|██████████| 29/29 [00:17<00:00,  1.69it/s]\n  0%|          | 0/86 [00:00<?, ?it/s]Epoch: 1 | Average Training loss: 1.1493533156638922 | Average Validation loss: 1.05760317424248 | lr: [7.032967032967033e-06]\nEpoch completed in 1.493308715025584 minutes\n***************\nEPOCH: 2\n***************\nTraining.....\n100%|██████████| 86/86 [01:13<00:00,  1.17it/s]\n  0%|          | 0/29 [00:00<?, ?it/s]Validating....\n100%|██████████| 29/29 [00:19<00:00,  1.48it/s]\n  0%|          | 0/86 [00:00<?, ?it/s]Epoch: 2 | Average Training loss: 0.9486415233722952 | Average Validation loss: 0.8596503220755478 | lr: [9.377289377289377e-06]\nSaving best model....\nEpoch completed in 1.5564643581708273 minutes\n***************\nEPOCH: 3\n***************\nTraining.....\n100%|██████████| 86/86 [01:10<00:00,  1.23it/s]\n  0%|          | 0/29 [00:00<?, ?it/s]Validating....\n100%|██████████| 29/29 [00:17<00:00,  1.63it/s]\n  0%|          | 0/86 [00:00<?, ?it/s]Epoch: 3 | Average Training loss: 0.7449993172357249 | Average Validation loss: 0.6549582954110771 | lr: [1.1721611721611721e-05]\nSaving best model....\nEpoch completed in 1.4648571888605753 minutes\n***************\nEPOCH: 4\n***************\nTraining.....\n100%|██████████| 86/86 [01:05<00:00,  1.32it/s]\n  0%|          | 0/29 [00:00<?, ?it/s]Validating....\n100%|██████████| 29/29 [00:18<00:00,  1.59it/s]\n  0%|          | 0/86 [00:00<?, ?it/s]Epoch: 4 | Average Training loss: 0.5682580290838729 | Average Validation loss: 0.5053653717041016 | lr: [1.4065934065934066e-05]\nSaving best model....\nEpoch completed in 1.3928011536598206 minutes\n***************\nEPOCH: 5\n***************\nTraining.....\n100%|██████████| 86/86 [01:08<00:00,  1.25it/s]\n  0%|          | 0/29 [00:00<?, ?it/s]Validating....\n100%|██████████| 29/29 [00:17<00:00,  1.61it/s]\n  0%|          | 0/86 [00:00<?, ?it/s]Epoch: 5 | Average Training loss: 0.45556038670068566 | Average Validation loss: 0.44414126718866415 | lr: [1.641025641025641e-05]\nSaving best model....\nEpoch completed in 1.4440626541773478 minutes\n***************\nEPOCH: 6\n***************\nTraining.....\n100%|██████████| 86/86 [01:05<00:00,  1.30it/s]\n  0%|          | 0/29 [00:00<?, ?it/s]Validating....\n100%|██████████| 29/29 [00:17<00:00,  1.63it/s]\n  0%|          | 0/86 [00:00<?, ?it/s]Epoch: 6 | Average Training loss: 0.3608165865027627 | Average Validation loss: 0.3747422037453487 | lr: [1.8754578754578754e-05]\nSaving best model....\nEpoch completed in 1.3980335036913554 minutes\n***************\nEPOCH: 7\n***************\nTraining.....\n100%|██████████| 86/86 [01:05<00:00,  1.32it/s]\n  0%|          | 0/29 [00:00<?, ?it/s]Validating....\n100%|██████████| 29/29 [00:18<00:00,  1.59it/s]\n  0%|          | 0/86 [00:00<?, ?it/s]Epoch: 7 | Average Training loss: 0.3167182229632555 | Average Validation loss: 0.3447285882871726 | lr: [2.10989010989011e-05]\nSaving best model....\nEpoch completed in 1.3901803771654764 minutes\n***************\nEPOCH: 8\n***************\nTraining.....\n100%|██████████| 86/86 [01:13<00:00,  1.17it/s]\n  0%|          | 0/29 [00:00<?, ?it/s]Validating....\n100%|██████████| 29/29 [00:21<00:00,  1.35it/s]\n  0%|          | 0/86 [00:00<?, ?it/s]Epoch: 8 | Average Training loss: 0.2570259460183077 | Average Validation loss: 0.3174691539386223 | lr: [2.3443223443223443e-05]\nSaving best model....\nEpoch completed in 1.58508620262146 minutes\n***************\nEPOCH: 9\n***************\nTraining.....\n100%|██████████| 86/86 [01:32<00:00,  1.08s/it]\n  0%|          | 0/29 [00:00<?, ?it/s]Validating....\n100%|██████████| 29/29 [00:22<00:00,  1.30it/s]\n  0%|          | 0/86 [00:00<?, ?it/s]Epoch: 9 | Average Training loss: 0.22262959303550942 | Average Validation loss: 0.3285273778541335 | lr: [2.578754578754579e-05]\nEpoch completed in 1.917681352297465 minutes\n***************\nEPOCH: 10\n***************\nTraining.....\n100%|██████████| 86/86 [01:16<00:00,  1.12it/s]\n  0%|          | 0/29 [00:00<?, ?it/s]Validating....\n100%|██████████| 29/29 [00:20<00:00,  1.40it/s]\n  0%|          | 0/86 [00:00<?, ?it/s]Epoch: 10 | Average Training loss: 0.17745114473062892 | Average Validation loss: 0.2917961126257633 | lr: [2.8131868131868132e-05]\nSaving best model....\nEpoch completed in 1.6236337502797444 minutes\n***************\nEPOCH: 11\n***************\nTraining.....\n100%|██████████| 86/86 [01:21<00:00,  1.05it/s]\n  0%|          | 0/29 [00:00<?, ?it/s]Validating....\n100%|██████████| 29/29 [00:21<00:00,  1.34it/s]\n  0%|          | 0/86 [00:00<?, ?it/s]Epoch: 11 | Average Training loss: 0.16772692780508552 | Average Validation loss: 0.28311646652632744 | lr: [3.0476190476190475e-05]\nSaving best model....\nEpoch completed in 1.7262986501057942 minutes\n***************\nEPOCH: 12\n***************\nTraining.....\n100%|██████████| 86/86 [01:12<00:00,  1.18it/s]\n  0%|          | 0/29 [00:00<?, ?it/s]Validating....\n100%|██████████| 29/29 [00:17<00:00,  1.64it/s]\n  0%|          | 0/86 [00:00<?, ?it/s]Epoch: 12 | Average Training loss: 0.12408092808584835 | Average Validation loss: 0.26869789613731976 | lr: [3.282051282051282e-05]\nSaving best model....\nEpoch completed in 1.5097008188565573 minutes\n***************\nEPOCH: 13\n***************\nTraining.....\n100%|██████████| 86/86 [01:06<00:00,  1.29it/s]\n  0%|          | 0/29 [00:00<?, ?it/s]Validating....\n100%|██████████| 29/29 [00:17<00:00,  1.63it/s]\n  0%|          | 0/86 [00:00<?, ?it/s]Epoch: 13 | Average Training loss: 0.08917317669405493 | Average Validation loss: 0.25123614612324485 | lr: [3.516483516483517e-05]\nSaving best model....\nEpoch completed in 1.4099679946899415 minutes\n***************\nEPOCH: 14\n***************\nTraining.....\n100%|██████████| 86/86 [01:00<00:00,  1.42it/s]\n  0%|          | 0/29 [00:00<?, ?it/s]Validating....\n100%|██████████| 29/29 [00:16<00:00,  1.74it/s]\n  0%|          | 0/86 [00:00<?, ?it/s]Epoch: 14 | Average Training loss: 0.09001507861323135 | Average Validation loss: 0.27453117098273905 | lr: [3.750915750915751e-05]\nEpoch completed in 1.2863339900970459 minutes\n***************\nEPOCH: 15\n***************\nTraining.....\n100%|██████████| 86/86 [01:03<00:00,  1.36it/s]\n  0%|          | 0/29 [00:00<?, ?it/s]Validating....\n100%|██████████| 29/29 [00:17<00:00,  1.64it/s]\n  0%|          | 0/86 [00:00<?, ?it/s]Epoch: 15 | Average Training loss: 0.06397436901407186 | Average Validation loss: 0.28140009554295703 | lr: [3.9853479853479854e-05]\nEpoch completed in 1.3462287624677023 minutes\n***************\nEPOCH: 16\n***************\nTraining.....\n100%|██████████| 86/86 [01:04<00:00,  1.34it/s]\n  0%|          | 0/29 [00:00<?, ?it/s]Validating....\n100%|██████████| 29/29 [00:19<00:00,  1.48it/s]\n  0%|          | 0/86 [00:00<?, ?it/s]Epoch: 16 | Average Training loss: 0.044496934601040775 | Average Validation loss: 0.29454394455613764 | lr: [4.21978021978022e-05]\nEpoch completed in 1.3961678942044575 minutes\n***************\nEPOCH: 17\n***************\nTraining.....\n100%|██████████| 86/86 [00:59<00:00,  1.46it/s]\n  0%|          | 0/29 [00:00<?, ?it/s]Validating....\n100%|██████████| 29/29 [00:17<00:00,  1.66it/s]\n  0%|          | 0/86 [00:00<?, ?it/s]Epoch: 17 | Average Training loss: 0.05278427188479623 | Average Validation loss: 0.2831708786302599 | lr: [4.4542124542124546e-05]\nEpoch completed in 1.2758874853452047 minutes\n***************\nEPOCH: 18\n***************\nTraining.....\n100%|██████████| 86/86 [01:00<00:00,  1.42it/s]\n  0%|          | 0/29 [00:00<?, ?it/s]Validating....\n100%|██████████| 29/29 [00:16<00:00,  1.74it/s]\n  0%|          | 0/86 [00:00<?, ?it/s]Epoch: 18 | Average Training loss: 0.05445752596092779 | Average Validation loss: 0.3125620019333116 | lr: [4.6886446886446886e-05]\nEpoch completed in 1.286102334658305 minutes\n***************\nEPOCH: 19\n***************\nTraining.....\n100%|██████████| 86/86 [01:00<00:00,  1.42it/s]\n  0%|          | 0/29 [00:00<?, ?it/s]Validating....\n100%|██████████| 29/29 [00:17<00:00,  1.64it/s]\n  0%|          | 0/86 [00:00<?, ?it/s]Epoch: 19 | Average Training loss: 0.04238292762229955 | Average Validation loss: 0.2681026939174225 | lr: [4.923076923076923e-05]\nEpoch completed in 1.3014251947402955 minutes\n***************\nEPOCH: 20\n***************\nTraining.....\n100%|██████████| 86/86 [01:00<00:00,  1.42it/s]\n  0%|          | 0/29 [00:00<?, ?it/s]Validating....\n100%|██████████| 29/29 [00:16<00:00,  1.72it/s]\n  0%|          | 0/86 [00:00<?, ?it/s]Epoch: 20 | Average Training loss: 0.02894354027934199 | Average Validation loss: 0.3490065259152445 | lr: [5.157509157509158e-05]\nEpoch completed in 1.2900409857432047 minutes\n***************\nEPOCH: 21\n***************\nTraining.....\n100%|██████████| 86/86 [01:04<00:00,  1.33it/s]\n  0%|          | 0/29 [00:00<?, ?it/s]Validating....\n100%|██████████| 29/29 [00:17<00:00,  1.69it/s]\n  0%|          | 0/86 [00:00<?, ?it/s]Epoch: 21 | Average Training loss: 0.04516493953591169 | Average Validation loss: 0.30978894002478696 | lr: [5.391941391941392e-05]\nEpoch completed in 1.3668803691864013 minutes\n***************\nEPOCH: 22\n***************\nTraining.....\n100%|██████████| 86/86 [01:01<00:00,  1.39it/s]\n  0%|          | 0/29 [00:00<?, ?it/s]Validating....\n100%|██████████| 29/29 [00:17<00:00,  1.62it/s]\n  0%|          | 0/86 [00:00<?, ?it/s]Epoch: 22 | Average Training loss: 0.02937194228518841 | Average Validation loss: 0.3101995132606605 | lr: [5.6263736263736264e-05]\nEpoch completed in 1.3280128200848897 minutes\n***************\nEPOCH: 23\n***************\nTraining.....\n100%|██████████| 86/86 [00:59<00:00,  1.45it/s]\n  0%|          | 0/29 [00:00<?, ?it/s]Validating....\n100%|██████████| 29/29 [00:17<00:00,  1.69it/s]\n  0%|          | 0/86 [00:00<?, ?it/s]Epoch: 23 | Average Training loss: 0.019787503276453462 | Average Validation loss: 0.3356545207829311 | lr: [5.860805860805861e-05]\nEpoch completed in 1.2768603563308716 minutes\n***************\nEPOCH: 24\n***************\nTraining.....\n100%|██████████| 86/86 [01:03<00:00,  1.36it/s]\n  0%|          | 0/29 [00:00<?, ?it/s]Validating....\n100%|██████████| 29/29 [00:19<00:00,  1.49it/s]\n  0%|          | 0/86 [00:00<?, ?it/s]Epoch: 24 | Average Training loss: 0.03000179374980372 | Average Validation loss: 0.31617698201845434 | lr: [6.095238095238095e-05]\nEpoch completed in 1.375301428635915 minutes\n***************\nEPOCH: 25\n***************\nTraining.....\n100%|██████████| 86/86 [01:05<00:00,  1.32it/s]\n  0%|          | 0/29 [00:00<?, ?it/s]Validating....\n100%|██████████| 29/29 [00:17<00:00,  1.67it/s]\n  0%|          | 0/86 [00:00<?, ?it/s]Epoch: 25 | Average Training loss: 0.022882474228999642 | Average Validation loss: 0.32705527903704806 | lr: [6.32967032967033e-05]\nEpoch completed in 1.376088027159373 minutes\n***************\nEPOCH: 26\n***************\nTraining.....\n100%|██████████| 86/86 [01:00<00:00,  1.43it/s]\n  0%|          | 0/29 [00:00<?, ?it/s]Validating....\n100%|██████████| 29/29 [00:17<00:00,  1.67it/s]\n  0%|          | 0/86 [00:00<?, ?it/s]Epoch: 26 | Average Training loss: 0.039750798583723775 | Average Validation loss: 0.3313174232326705 | lr: [6.564102564102564e-05]\nEpoch completed in 1.2939520438512166 minutes\n***************\nEPOCH: 27\n***************\nTraining.....\n100%|██████████| 86/86 [01:04<00:00,  1.34it/s]\n  0%|          | 0/29 [00:00<?, ?it/s]Validating....\n100%|██████████| 29/29 [00:17<00:00,  1.63it/s]\n  0%|          | 0/86 [00:00<?, ?it/s]Epoch: 27 | Average Training loss: 0.06574794182250666 | Average Validation loss: 0.3837301594943836 | lr: [6.798534798534798e-05]\nEpoch completed in 1.367407210667928 minutes\n***************\nEPOCH: 28\n***************\nTraining.....\n100%|██████████| 86/86 [01:02<00:00,  1.37it/s]\n  0%|          | 0/29 [00:00<?, ?it/s]Validating....\n100%|██████████| 29/29 [00:17<00:00,  1.64it/s]\n  0%|          | 0/86 [00:00<?, ?it/s]Epoch: 28 | Average Training loss: 0.030710328760188678 | Average Validation loss: 0.30986426642228815 | lr: [7.032967032967034e-05]\nEpoch completed in 1.340324099858602 minutes\n***************\nEPOCH: 29\n***************\nTraining.....\n100%|██████████| 86/86 [01:00<00:00,  1.42it/s]\n  0%|          | 0/29 [00:00<?, ?it/s]Validating....\n100%|██████████| 29/29 [00:18<00:00,  1.60it/s]\n  0%|          | 0/86 [00:00<?, ?it/s]Epoch: 29 | Average Training loss: 0.03609297155987385 | Average Validation loss: 0.33601089515562715 | lr: [7.267399267399268e-05]\nEpoch completed in 1.3141712387402853 minutes\n***************\nEPOCH: 30\n***************\nTraining.....\n100%|██████████| 86/86 [01:01<00:00,  1.39it/s]\n  0%|          | 0/29 [00:00<?, ?it/s]Validating....\n100%|██████████| 29/29 [00:17<00:00,  1.63it/s]\n  0%|          | 0/86 [00:00<?, ?it/s]Epoch: 30 | Average Training loss: 0.040155239803933124 | Average Validation loss: 0.4185051789571499 | lr: [7.501831501831501e-05]\nEpoch completed in 1.330162533124288 minutes\n***************\nEPOCH: 31\n***************\nTraining.....\n100%|██████████| 86/86 [01:00<00:00,  1.43it/s]\n  0%|          | 0/29 [00:00<?, ?it/s]Validating....\n100%|██████████| 29/29 [00:16<00:00,  1.72it/s]\n  0%|          | 0/86 [00:00<?, ?it/s]Epoch: 31 | Average Training loss: 0.022997448004262393 | Average Validation loss: 0.3050631148547962 | lr: [7.736263736263737e-05]\nEpoch completed in 1.285383447011312 minutes\n***************\nEPOCH: 32\n***************\nTraining.....\n100%|██████████| 86/86 [01:00<00:00,  1.42it/s]\n  0%|          | 0/29 [00:00<?, ?it/s]Validating....\n100%|██████████| 29/29 [00:16<00:00,  1.74it/s]\n  0%|          | 0/86 [00:00<?, ?it/s]Epoch: 32 | Average Training loss: 0.018812700672898183 | Average Validation loss: 0.32135048380185816 | lr: [7.970695970695971e-05]\nEpoch completed in 1.2863282322883607 minutes\n***************\nEPOCH: 33\n***************\nTraining.....\n100%|██████████| 86/86 [00:59<00:00,  1.43it/s]\n  0%|          | 0/29 [00:00<?, ?it/s]Validating....\n100%|██████████| 29/29 [00:16<00:00,  1.75it/s]\n  0%|          | 0/86 [00:00<?, ?it/s]Epoch: 33 | Average Training loss: 0.017168285610793203 | Average Validation loss: 0.3108292556014554 | lr: [8.205128205128205e-05]\nEpoch completed in 1.2760207891464233 minutes\n***************\nEPOCH: 34\n***************\nTraining.....\n 57%|█████▋    | 49/86 [00:34<00:26,  1.41it/s]\n"
    },
    {
     "output_type": "error",
     "ename": "KeyboardInterrupt",
     "evalue": "",
     "traceback": [
      "\u001b[1;31m---------------------------------------------------------------------------\u001b[0m",
      "\u001b[1;31mKeyboardInterrupt\u001b[0m                         Traceback (most recent call last)",
      "\u001b[1;32m<ipython-input-58-3829cd377659>\u001b[0m in \u001b[0;36m<module>\u001b[1;34m\u001b[0m\n\u001b[0;32m     10\u001b[0m \u001b[1;33m\u001b[0m\u001b[0m\n\u001b[0;32m     11\u001b[0m     \u001b[0mprint\u001b[0m\u001b[1;33m(\u001b[0m\u001b[1;34m'Training.....'\u001b[0m\u001b[1;33m)\u001b[0m\u001b[1;33m\u001b[0m\u001b[1;33m\u001b[0m\u001b[0m\n\u001b[1;32m---> 12\u001b[1;33m     avg_train_loss = train_fn(epoch=epoch+1, \n\u001b[0m\u001b[0;32m     13\u001b[0m                               \u001b[0mtrain_dataloader\u001b[0m\u001b[1;33m=\u001b[0m\u001b[0mtrain_dataloader\u001b[0m\u001b[1;33m,\u001b[0m\u001b[1;33m\u001b[0m\u001b[1;33m\u001b[0m\u001b[0m\n\u001b[0;32m     14\u001b[0m                               \u001b[0moptimizer\u001b[0m\u001b[1;33m=\u001b[0m\u001b[0moptimizer\u001b[0m\u001b[1;33m,\u001b[0m\u001b[1;33m\u001b[0m\u001b[1;33m\u001b[0m\u001b[0m\n",
      "\u001b[1;32m<ipython-input-11-e413f7638f95>\u001b[0m in \u001b[0;36mtrain_fn\u001b[1;34m(epoch, train_dataloader, optimizer, criterion, scheduler, device)\u001b[0m\n\u001b[0;32m      6\u001b[0m     \u001b[0mmodel\u001b[0m\u001b[1;33m.\u001b[0m\u001b[0mtrain\u001b[0m\u001b[1;33m(\u001b[0m\u001b[1;33m)\u001b[0m\u001b[1;33m\u001b[0m\u001b[1;33m\u001b[0m\u001b[0m\n\u001b[0;32m      7\u001b[0m \u001b[1;33m\u001b[0m\u001b[0m\n\u001b[1;32m----> 8\u001b[1;33m     \u001b[1;32mfor\u001b[0m \u001b[0mbatch_idx\u001b[0m\u001b[1;33m,\u001b[0m \u001b[1;33m(\u001b[0m\u001b[0mimages\u001b[0m\u001b[1;33m,\u001b[0m \u001b[0mlabels\u001b[0m\u001b[1;33m)\u001b[0m \u001b[1;32min\u001b[0m \u001b[0menumerate\u001b[0m\u001b[1;33m(\u001b[0m\u001b[0mtl\u001b[0m\u001b[1;33m,\u001b[0m \u001b[1;36m1\u001b[0m\u001b[1;33m)\u001b[0m\u001b[1;33m:\u001b[0m\u001b[1;33m\u001b[0m\u001b[1;33m\u001b[0m\u001b[0m\n\u001b[0m\u001b[0;32m      9\u001b[0m \u001b[1;33m\u001b[0m\u001b[0m\n\u001b[0;32m     10\u001b[0m         \u001b[0moptimizer\u001b[0m\u001b[1;33m.\u001b[0m\u001b[0mzero_grad\u001b[0m\u001b[1;33m(\u001b[0m\u001b[1;33m)\u001b[0m\u001b[1;33m\u001b[0m\u001b[1;33m\u001b[0m\u001b[0m\n",
      "\u001b[1;32m~\\miniconda3\\envs\\abhishek\\lib\\site-packages\\tqdm\\std.py\u001b[0m in \u001b[0;36m__iter__\u001b[1;34m(self)\u001b[0m\n\u001b[0;32m   1125\u001b[0m \u001b[1;33m\u001b[0m\u001b[0m\n\u001b[0;32m   1126\u001b[0m         \u001b[1;32mtry\u001b[0m\u001b[1;33m:\u001b[0m\u001b[1;33m\u001b[0m\u001b[1;33m\u001b[0m\u001b[0m\n\u001b[1;32m-> 1127\u001b[1;33m             \u001b[1;32mfor\u001b[0m \u001b[0mobj\u001b[0m \u001b[1;32min\u001b[0m \u001b[0miterable\u001b[0m\u001b[1;33m:\u001b[0m\u001b[1;33m\u001b[0m\u001b[1;33m\u001b[0m\u001b[0m\n\u001b[0m\u001b[0;32m   1128\u001b[0m                 \u001b[1;32myield\u001b[0m \u001b[0mobj\u001b[0m\u001b[1;33m\u001b[0m\u001b[1;33m\u001b[0m\u001b[0m\n\u001b[0;32m   1129\u001b[0m                 \u001b[1;31m# Update and possibly print the progressbar.\u001b[0m\u001b[1;33m\u001b[0m\u001b[1;33m\u001b[0m\u001b[1;33m\u001b[0m\u001b[0m\n",
      "\u001b[1;32m~\\miniconda3\\envs\\abhishek\\lib\\site-packages\\torch\\utils\\data\\dataloader.py\u001b[0m in \u001b[0;36m__next__\u001b[1;34m(self)\u001b[0m\n\u001b[0;32m    343\u001b[0m \u001b[1;33m\u001b[0m\u001b[0m\n\u001b[0;32m    344\u001b[0m     \u001b[1;32mdef\u001b[0m \u001b[0m__next__\u001b[0m\u001b[1;33m(\u001b[0m\u001b[0mself\u001b[0m\u001b[1;33m)\u001b[0m\u001b[1;33m:\u001b[0m\u001b[1;33m\u001b[0m\u001b[1;33m\u001b[0m\u001b[0m\n\u001b[1;32m--> 345\u001b[1;33m         \u001b[0mdata\u001b[0m \u001b[1;33m=\u001b[0m \u001b[0mself\u001b[0m\u001b[1;33m.\u001b[0m\u001b[0m_next_data\u001b[0m\u001b[1;33m(\u001b[0m\u001b[1;33m)\u001b[0m\u001b[1;33m\u001b[0m\u001b[1;33m\u001b[0m\u001b[0m\n\u001b[0m\u001b[0;32m    346\u001b[0m         \u001b[0mself\u001b[0m\u001b[1;33m.\u001b[0m\u001b[0m_num_yielded\u001b[0m \u001b[1;33m+=\u001b[0m \u001b[1;36m1\u001b[0m\u001b[1;33m\u001b[0m\u001b[1;33m\u001b[0m\u001b[0m\n\u001b[0;32m    347\u001b[0m         \u001b[1;32mif\u001b[0m \u001b[0mself\u001b[0m\u001b[1;33m.\u001b[0m\u001b[0m_dataset_kind\u001b[0m \u001b[1;33m==\u001b[0m \u001b[0m_DatasetKind\u001b[0m\u001b[1;33m.\u001b[0m\u001b[0mIterable\u001b[0m \u001b[1;32mand\u001b[0m\u001b[0;31m \u001b[0m\u001b[0;31m\\\u001b[0m\u001b[1;33m\u001b[0m\u001b[1;33m\u001b[0m\u001b[0m\n",
      "\u001b[1;32m~\\miniconda3\\envs\\abhishek\\lib\\site-packages\\torch\\utils\\data\\dataloader.py\u001b[0m in \u001b[0;36m_next_data\u001b[1;34m(self)\u001b[0m\n\u001b[0;32m    383\u001b[0m     \u001b[1;32mdef\u001b[0m \u001b[0m_next_data\u001b[0m\u001b[1;33m(\u001b[0m\u001b[0mself\u001b[0m\u001b[1;33m)\u001b[0m\u001b[1;33m:\u001b[0m\u001b[1;33m\u001b[0m\u001b[1;33m\u001b[0m\u001b[0m\n\u001b[0;32m    384\u001b[0m         \u001b[0mindex\u001b[0m \u001b[1;33m=\u001b[0m \u001b[0mself\u001b[0m\u001b[1;33m.\u001b[0m\u001b[0m_next_index\u001b[0m\u001b[1;33m(\u001b[0m\u001b[1;33m)\u001b[0m  \u001b[1;31m# may raise StopIteration\u001b[0m\u001b[1;33m\u001b[0m\u001b[1;33m\u001b[0m\u001b[0m\n\u001b[1;32m--> 385\u001b[1;33m         \u001b[0mdata\u001b[0m \u001b[1;33m=\u001b[0m \u001b[0mself\u001b[0m\u001b[1;33m.\u001b[0m\u001b[0m_dataset_fetcher\u001b[0m\u001b[1;33m.\u001b[0m\u001b[0mfetch\u001b[0m\u001b[1;33m(\u001b[0m\u001b[0mindex\u001b[0m\u001b[1;33m)\u001b[0m  \u001b[1;31m# may raise StopIteration\u001b[0m\u001b[1;33m\u001b[0m\u001b[1;33m\u001b[0m\u001b[0m\n\u001b[0m\u001b[0;32m    386\u001b[0m         \u001b[1;32mif\u001b[0m \u001b[0mself\u001b[0m\u001b[1;33m.\u001b[0m\u001b[0m_pin_memory\u001b[0m\u001b[1;33m:\u001b[0m\u001b[1;33m\u001b[0m\u001b[1;33m\u001b[0m\u001b[0m\n\u001b[0;32m    387\u001b[0m             \u001b[0mdata\u001b[0m \u001b[1;33m=\u001b[0m \u001b[0m_utils\u001b[0m\u001b[1;33m.\u001b[0m\u001b[0mpin_memory\u001b[0m\u001b[1;33m.\u001b[0m\u001b[0mpin_memory\u001b[0m\u001b[1;33m(\u001b[0m\u001b[0mdata\u001b[0m\u001b[1;33m)\u001b[0m\u001b[1;33m\u001b[0m\u001b[1;33m\u001b[0m\u001b[0m\n",
      "\u001b[1;32m~\\miniconda3\\envs\\abhishek\\lib\\site-packages\\torch\\utils\\data\\_utils\\fetch.py\u001b[0m in \u001b[0;36mfetch\u001b[1;34m(self, possibly_batched_index)\u001b[0m\n\u001b[0;32m     42\u001b[0m     \u001b[1;32mdef\u001b[0m \u001b[0mfetch\u001b[0m\u001b[1;33m(\u001b[0m\u001b[0mself\u001b[0m\u001b[1;33m,\u001b[0m \u001b[0mpossibly_batched_index\u001b[0m\u001b[1;33m)\u001b[0m\u001b[1;33m:\u001b[0m\u001b[1;33m\u001b[0m\u001b[1;33m\u001b[0m\u001b[0m\n\u001b[0;32m     43\u001b[0m         \u001b[1;32mif\u001b[0m \u001b[0mself\u001b[0m\u001b[1;33m.\u001b[0m\u001b[0mauto_collation\u001b[0m\u001b[1;33m:\u001b[0m\u001b[1;33m\u001b[0m\u001b[1;33m\u001b[0m\u001b[0m\n\u001b[1;32m---> 44\u001b[1;33m             \u001b[0mdata\u001b[0m \u001b[1;33m=\u001b[0m \u001b[1;33m[\u001b[0m\u001b[0mself\u001b[0m\u001b[1;33m.\u001b[0m\u001b[0mdataset\u001b[0m\u001b[1;33m[\u001b[0m\u001b[0midx\u001b[0m\u001b[1;33m]\u001b[0m \u001b[1;32mfor\u001b[0m \u001b[0midx\u001b[0m \u001b[1;32min\u001b[0m \u001b[0mpossibly_batched_index\u001b[0m\u001b[1;33m]\u001b[0m\u001b[1;33m\u001b[0m\u001b[1;33m\u001b[0m\u001b[0m\n\u001b[0m\u001b[0;32m     45\u001b[0m         \u001b[1;32melse\u001b[0m\u001b[1;33m:\u001b[0m\u001b[1;33m\u001b[0m\u001b[1;33m\u001b[0m\u001b[0m\n\u001b[0;32m     46\u001b[0m             \u001b[0mdata\u001b[0m \u001b[1;33m=\u001b[0m \u001b[0mself\u001b[0m\u001b[1;33m.\u001b[0m\u001b[0mdataset\u001b[0m\u001b[1;33m[\u001b[0m\u001b[0mpossibly_batched_index\u001b[0m\u001b[1;33m]\u001b[0m\u001b[1;33m\u001b[0m\u001b[1;33m\u001b[0m\u001b[0m\n",
      "\u001b[1;32m~\\miniconda3\\envs\\abhishek\\lib\\site-packages\\torch\\utils\\data\\_utils\\fetch.py\u001b[0m in \u001b[0;36m<listcomp>\u001b[1;34m(.0)\u001b[0m\n\u001b[0;32m     42\u001b[0m     \u001b[1;32mdef\u001b[0m \u001b[0mfetch\u001b[0m\u001b[1;33m(\u001b[0m\u001b[0mself\u001b[0m\u001b[1;33m,\u001b[0m \u001b[0mpossibly_batched_index\u001b[0m\u001b[1;33m)\u001b[0m\u001b[1;33m:\u001b[0m\u001b[1;33m\u001b[0m\u001b[1;33m\u001b[0m\u001b[0m\n\u001b[0;32m     43\u001b[0m         \u001b[1;32mif\u001b[0m \u001b[0mself\u001b[0m\u001b[1;33m.\u001b[0m\u001b[0mauto_collation\u001b[0m\u001b[1;33m:\u001b[0m\u001b[1;33m\u001b[0m\u001b[1;33m\u001b[0m\u001b[0m\n\u001b[1;32m---> 44\u001b[1;33m             \u001b[0mdata\u001b[0m \u001b[1;33m=\u001b[0m \u001b[1;33m[\u001b[0m\u001b[0mself\u001b[0m\u001b[1;33m.\u001b[0m\u001b[0mdataset\u001b[0m\u001b[1;33m[\u001b[0m\u001b[0midx\u001b[0m\u001b[1;33m]\u001b[0m \u001b[1;32mfor\u001b[0m \u001b[0midx\u001b[0m \u001b[1;32min\u001b[0m \u001b[0mpossibly_batched_index\u001b[0m\u001b[1;33m]\u001b[0m\u001b[1;33m\u001b[0m\u001b[1;33m\u001b[0m\u001b[0m\n\u001b[0m\u001b[0;32m     45\u001b[0m         \u001b[1;32melse\u001b[0m\u001b[1;33m:\u001b[0m\u001b[1;33m\u001b[0m\u001b[1;33m\u001b[0m\u001b[0m\n\u001b[0;32m     46\u001b[0m             \u001b[0mdata\u001b[0m \u001b[1;33m=\u001b[0m \u001b[0mself\u001b[0m\u001b[1;33m.\u001b[0m\u001b[0mdataset\u001b[0m\u001b[1;33m[\u001b[0m\u001b[0mpossibly_batched_index\u001b[0m\u001b[1;33m]\u001b[0m\u001b[1;33m\u001b[0m\u001b[1;33m\u001b[0m\u001b[0m\n",
      "\u001b[1;32m<ipython-input-28-61f7d494ed8c>\u001b[0m in \u001b[0;36m__getitem__\u001b[1;34m(self, idx)\u001b[0m\n\u001b[0;32m      6\u001b[0m \u001b[1;33m\u001b[0m\u001b[0m\n\u001b[0;32m      7\u001b[0m     \u001b[1;32mdef\u001b[0m \u001b[0m__getitem__\u001b[0m\u001b[1;33m(\u001b[0m\u001b[0mself\u001b[0m\u001b[1;33m,\u001b[0m \u001b[0midx\u001b[0m\u001b[1;33m)\u001b[0m\u001b[1;33m:\u001b[0m\u001b[1;33m\u001b[0m\u001b[1;33m\u001b[0m\u001b[0m\n\u001b[1;32m----> 8\u001b[1;33m         \u001b[0mimage\u001b[0m \u001b[1;33m=\u001b[0m \u001b[0mcv2\u001b[0m\u001b[1;33m.\u001b[0m\u001b[0mimread\u001b[0m\u001b[1;33m(\u001b[0m\u001b[0mself\u001b[0m\u001b[1;33m.\u001b[0m\u001b[0mimage_ids\u001b[0m\u001b[1;33m.\u001b[0m\u001b[0mvalues\u001b[0m\u001b[1;33m[\u001b[0m\u001b[0midx\u001b[0m\u001b[1;33m]\u001b[0m\u001b[1;33m)\u001b[0m\u001b[1;33m\u001b[0m\u001b[1;33m\u001b[0m\u001b[0m\n\u001b[0m\u001b[0;32m      9\u001b[0m         \u001b[0mlabel\u001b[0m \u001b[1;33m=\u001b[0m \u001b[0mself\u001b[0m\u001b[1;33m.\u001b[0m\u001b[0mlabels\u001b[0m\u001b[1;33m.\u001b[0m\u001b[0mvalues\u001b[0m\u001b[1;33m[\u001b[0m\u001b[0midx\u001b[0m\u001b[1;33m]\u001b[0m\u001b[1;33m\u001b[0m\u001b[1;33m\u001b[0m\u001b[0m\n\u001b[0;32m     10\u001b[0m \u001b[1;33m\u001b[0m\u001b[0m\n",
      "\u001b[1;31mKeyboardInterrupt\u001b[0m: "
     ]
    }
   ],
   "source": [
    "train_loss = []\n",
    "valid_loss = []\n",
    "best_loss = 1\n",
    "for epoch in range(50):\n",
    "    \n",
    "    start = time.time()\n",
    "    print('*'*15)\n",
    "    print(f'EPOCH: {epoch+1}')\n",
    "    print('*'*15)\n",
    "        \n",
    "    print('Training.....')\n",
    "    avg_train_loss = train_fn(epoch=epoch+1, \n",
    "                              train_dataloader=train_dataloader, \n",
    "                              optimizer=optimizer, \n",
    "                              criterion=criterion,\n",
    "                              scheduler=lr_scheduler,\n",
    "                              device=device)\n",
    "        \n",
    "    lr_scheduler.step()\n",
    "        \n",
    "    with torch.no_grad():\n",
    "        print('Validating....')\n",
    "        avg_valid_loss = valid_fn(epoch=epoch+1, \n",
    "                                  valid_dataloader=valid_dataloader, \n",
    "                                  criterion=criterion, \n",
    "                                  device=device)\n",
    "\n",
    "        print(f'Epoch: {epoch+1} | Average Training loss: {avg_train_loss} | Average Validation loss: {avg_valid_loss} | lr: {lr_scheduler.get_last_lr()}')\n",
    "        if avg_valid_loss < best_loss:\n",
    "            best_loss = avg_valid_loss\n",
    "            print('Saving best model....')\n",
    "            torch.save(\n",
    "                {\n",
    "                    'epoch': epoch, \n",
    "                    'best_loss': best_loss, \n",
    "                    'state_dict': model.state_dict()\n",
    "                },\n",
    "                f'mobilenet-v2-bs-16.pt'\n",
    "            )\n",
    "\n",
    "    print(f'Epoch completed in {(time.time() - start)/60} minutes')\n",
    "\n",
    "    train_loss.append(avg_train_loss)\n",
    "    valid_loss.append(avg_valid_loss)"
   ]
  },
  {
   "cell_type": "code",
   "execution_count": 59,
   "metadata": {},
   "outputs": [],
   "source": [
    "%matplotlib inline"
   ]
  },
  {
   "cell_type": "code",
   "execution_count": 60,
   "metadata": {},
   "outputs": [
    {
     "output_type": "execute_result",
     "data": {
      "text/plain": "Text(0, 0.5, 'Loss')"
     },
     "metadata": {},
     "execution_count": 60
    },
    {
     "output_type": "display_data",
     "data": {
      "text/plain": "<Figure size 432x288 with 1 Axes>",
      "image/svg+xml": "<?xml version=\"1.0\" encoding=\"utf-8\" standalone=\"no\"?>\r\n<!DOCTYPE svg PUBLIC \"-//W3C//DTD SVG 1.1//EN\"\r\n  \"http://www.w3.org/Graphics/SVG/1.1/DTD/svg11.dtd\">\r\n<!-- Created with matplotlib (https://matplotlib.org/) -->\r\n<svg height=\"265.995469pt\" version=\"1.1\" viewBox=\"0 0 385.78125 265.995469\" width=\"385.78125pt\" xmlns=\"http://www.w3.org/2000/svg\" xmlns:xlink=\"http://www.w3.org/1999/xlink\">\r\n <defs>\r\n  <style type=\"text/css\">\r\n*{stroke-linecap:butt;stroke-linejoin:round;}\r\n  </style>\r\n </defs>\r\n <g id=\"figure_1\">\r\n  <g id=\"patch_1\">\r\n   <path d=\"M 0 265.995469 \r\nL 385.78125 265.995469 \r\nL 385.78125 0 \r\nL 0 0 \r\nz\r\n\" style=\"fill:none;\"/>\r\n  </g>\r\n  <g id=\"axes_1\">\r\n   <g id=\"patch_2\">\r\n    <path d=\"M 43.78125 228.439219 \r\nL 378.58125 228.439219 \r\nL 378.58125 10.999219 \r\nL 43.78125 10.999219 \r\nz\r\n\" style=\"fill:#ffffff;\"/>\r\n   </g>\r\n   <g id=\"matplotlib.axis_1\">\r\n    <g id=\"xtick_1\">\r\n     <g id=\"line2d_1\">\r\n      <defs>\r\n       <path d=\"M 0 0 \r\nL 0 3.5 \r\n\" id=\"md2b792d49f\" style=\"stroke:#000000;stroke-width:0.8;\"/>\r\n      </defs>\r\n      <g>\r\n       <use style=\"stroke:#000000;stroke-width:0.8;\" x=\"84.363068\" xlink:href=\"#md2b792d49f\" y=\"228.439219\"/>\r\n      </g>\r\n     </g>\r\n     <g id=\"text_1\">\r\n      <!-- 5 -->\r\n      <defs>\r\n       <path d=\"M 10.796875 72.90625 \r\nL 49.515625 72.90625 \r\nL 49.515625 64.59375 \r\nL 19.828125 64.59375 \r\nL 19.828125 46.734375 \r\nQ 21.96875 47.46875 24.109375 47.828125 \r\nQ 26.265625 48.1875 28.421875 48.1875 \r\nQ 40.625 48.1875 47.75 41.5 \r\nQ 54.890625 34.8125 54.890625 23.390625 \r\nQ 54.890625 11.625 47.5625 5.09375 \r\nQ 40.234375 -1.421875 26.90625 -1.421875 \r\nQ 22.3125 -1.421875 17.546875 -0.640625 \r\nQ 12.796875 0.140625 7.71875 1.703125 \r\nL 7.71875 11.625 \r\nQ 12.109375 9.234375 16.796875 8.0625 \r\nQ 21.484375 6.890625 26.703125 6.890625 \r\nQ 35.15625 6.890625 40.078125 11.328125 \r\nQ 45.015625 15.765625 45.015625 23.390625 \r\nQ 45.015625 31 40.078125 35.4375 \r\nQ 35.15625 39.890625 26.703125 39.890625 \r\nQ 22.75 39.890625 18.8125 39.015625 \r\nQ 14.890625 38.140625 10.796875 36.28125 \r\nz\r\n\" id=\"DejaVuSans-53\"/>\r\n      </defs>\r\n      <g transform=\"translate(81.181818 243.037656)scale(0.1 -0.1)\">\r\n       <use xlink:href=\"#DejaVuSans-53\"/>\r\n      </g>\r\n     </g>\r\n    </g>\r\n    <g id=\"xtick_2\">\r\n     <g id=\"line2d_2\">\r\n      <g>\r\n       <use style=\"stroke:#000000;stroke-width:0.8;\" x=\"135.090341\" xlink:href=\"#md2b792d49f\" y=\"228.439219\"/>\r\n      </g>\r\n     </g>\r\n     <g id=\"text_2\">\r\n      <!-- 10 -->\r\n      <defs>\r\n       <path d=\"M 12.40625 8.296875 \r\nL 28.515625 8.296875 \r\nL 28.515625 63.921875 \r\nL 10.984375 60.40625 \r\nL 10.984375 69.390625 \r\nL 28.421875 72.90625 \r\nL 38.28125 72.90625 \r\nL 38.28125 8.296875 \r\nL 54.390625 8.296875 \r\nL 54.390625 0 \r\nL 12.40625 0 \r\nz\r\n\" id=\"DejaVuSans-49\"/>\r\n       <path d=\"M 31.78125 66.40625 \r\nQ 24.171875 66.40625 20.328125 58.90625 \r\nQ 16.5 51.421875 16.5 36.375 \r\nQ 16.5 21.390625 20.328125 13.890625 \r\nQ 24.171875 6.390625 31.78125 6.390625 \r\nQ 39.453125 6.390625 43.28125 13.890625 \r\nQ 47.125 21.390625 47.125 36.375 \r\nQ 47.125 51.421875 43.28125 58.90625 \r\nQ 39.453125 66.40625 31.78125 66.40625 \r\nz\r\nM 31.78125 74.21875 \r\nQ 44.046875 74.21875 50.515625 64.515625 \r\nQ 56.984375 54.828125 56.984375 36.375 \r\nQ 56.984375 17.96875 50.515625 8.265625 \r\nQ 44.046875 -1.421875 31.78125 -1.421875 \r\nQ 19.53125 -1.421875 13.0625 8.265625 \r\nQ 6.59375 17.96875 6.59375 36.375 \r\nQ 6.59375 54.828125 13.0625 64.515625 \r\nQ 19.53125 74.21875 31.78125 74.21875 \r\nz\r\n\" id=\"DejaVuSans-48\"/>\r\n      </defs>\r\n      <g transform=\"translate(128.727841 243.037656)scale(0.1 -0.1)\">\r\n       <use xlink:href=\"#DejaVuSans-49\"/>\r\n       <use x=\"63.623047\" xlink:href=\"#DejaVuSans-48\"/>\r\n      </g>\r\n     </g>\r\n    </g>\r\n    <g id=\"xtick_3\">\r\n     <g id=\"line2d_3\">\r\n      <g>\r\n       <use style=\"stroke:#000000;stroke-width:0.8;\" x=\"185.817614\" xlink:href=\"#md2b792d49f\" y=\"228.439219\"/>\r\n      </g>\r\n     </g>\r\n     <g id=\"text_3\">\r\n      <!-- 15 -->\r\n      <g transform=\"translate(179.455114 243.037656)scale(0.1 -0.1)\">\r\n       <use xlink:href=\"#DejaVuSans-49\"/>\r\n       <use x=\"63.623047\" xlink:href=\"#DejaVuSans-53\"/>\r\n      </g>\r\n     </g>\r\n    </g>\r\n    <g id=\"xtick_4\">\r\n     <g id=\"line2d_4\">\r\n      <g>\r\n       <use style=\"stroke:#000000;stroke-width:0.8;\" x=\"236.544886\" xlink:href=\"#md2b792d49f\" y=\"228.439219\"/>\r\n      </g>\r\n     </g>\r\n     <g id=\"text_4\">\r\n      <!-- 20 -->\r\n      <defs>\r\n       <path d=\"M 19.1875 8.296875 \r\nL 53.609375 8.296875 \r\nL 53.609375 0 \r\nL 7.328125 0 \r\nL 7.328125 8.296875 \r\nQ 12.9375 14.109375 22.625 23.890625 \r\nQ 32.328125 33.6875 34.8125 36.53125 \r\nQ 39.546875 41.84375 41.421875 45.53125 \r\nQ 43.3125 49.21875 43.3125 52.78125 \r\nQ 43.3125 58.59375 39.234375 62.25 \r\nQ 35.15625 65.921875 28.609375 65.921875 \r\nQ 23.96875 65.921875 18.8125 64.3125 \r\nQ 13.671875 62.703125 7.8125 59.421875 \r\nL 7.8125 69.390625 \r\nQ 13.765625 71.78125 18.9375 73 \r\nQ 24.125 74.21875 28.421875 74.21875 \r\nQ 39.75 74.21875 46.484375 68.546875 \r\nQ 53.21875 62.890625 53.21875 53.421875 \r\nQ 53.21875 48.921875 51.53125 44.890625 \r\nQ 49.859375 40.875 45.40625 35.40625 \r\nQ 44.1875 33.984375 37.640625 27.21875 \r\nQ 31.109375 20.453125 19.1875 8.296875 \r\nz\r\n\" id=\"DejaVuSans-50\"/>\r\n      </defs>\r\n      <g transform=\"translate(230.182386 243.037656)scale(0.1 -0.1)\">\r\n       <use xlink:href=\"#DejaVuSans-50\"/>\r\n       <use x=\"63.623047\" xlink:href=\"#DejaVuSans-48\"/>\r\n      </g>\r\n     </g>\r\n    </g>\r\n    <g id=\"xtick_5\">\r\n     <g id=\"line2d_5\">\r\n      <g>\r\n       <use style=\"stroke:#000000;stroke-width:0.8;\" x=\"287.272159\" xlink:href=\"#md2b792d49f\" y=\"228.439219\"/>\r\n      </g>\r\n     </g>\r\n     <g id=\"text_5\">\r\n      <!-- 25 -->\r\n      <g transform=\"translate(280.909659 243.037656)scale(0.1 -0.1)\">\r\n       <use xlink:href=\"#DejaVuSans-50\"/>\r\n       <use x=\"63.623047\" xlink:href=\"#DejaVuSans-53\"/>\r\n      </g>\r\n     </g>\r\n    </g>\r\n    <g id=\"xtick_6\">\r\n     <g id=\"line2d_6\">\r\n      <g>\r\n       <use style=\"stroke:#000000;stroke-width:0.8;\" x=\"337.999432\" xlink:href=\"#md2b792d49f\" y=\"228.439219\"/>\r\n      </g>\r\n     </g>\r\n     <g id=\"text_6\">\r\n      <!-- 30 -->\r\n      <defs>\r\n       <path d=\"M 40.578125 39.3125 \r\nQ 47.65625 37.796875 51.625 33 \r\nQ 55.609375 28.21875 55.609375 21.1875 \r\nQ 55.609375 10.40625 48.1875 4.484375 \r\nQ 40.765625 -1.421875 27.09375 -1.421875 \r\nQ 22.515625 -1.421875 17.65625 -0.515625 \r\nQ 12.796875 0.390625 7.625 2.203125 \r\nL 7.625 11.71875 \r\nQ 11.71875 9.328125 16.59375 8.109375 \r\nQ 21.484375 6.890625 26.8125 6.890625 \r\nQ 36.078125 6.890625 40.9375 10.546875 \r\nQ 45.796875 14.203125 45.796875 21.1875 \r\nQ 45.796875 27.640625 41.28125 31.265625 \r\nQ 36.765625 34.90625 28.71875 34.90625 \r\nL 20.21875 34.90625 \r\nL 20.21875 43.015625 \r\nL 29.109375 43.015625 \r\nQ 36.375 43.015625 40.234375 45.921875 \r\nQ 44.09375 48.828125 44.09375 54.296875 \r\nQ 44.09375 59.90625 40.109375 62.90625 \r\nQ 36.140625 65.921875 28.71875 65.921875 \r\nQ 24.65625 65.921875 20.015625 65.03125 \r\nQ 15.375 64.15625 9.8125 62.3125 \r\nL 9.8125 71.09375 \r\nQ 15.4375 72.65625 20.34375 73.4375 \r\nQ 25.25 74.21875 29.59375 74.21875 \r\nQ 40.828125 74.21875 47.359375 69.109375 \r\nQ 53.90625 64.015625 53.90625 55.328125 \r\nQ 53.90625 49.265625 50.4375 45.09375 \r\nQ 46.96875 40.921875 40.578125 39.3125 \r\nz\r\n\" id=\"DejaVuSans-51\"/>\r\n      </defs>\r\n      <g transform=\"translate(331.636932 243.037656)scale(0.1 -0.1)\">\r\n       <use xlink:href=\"#DejaVuSans-51\"/>\r\n       <use x=\"63.623047\" xlink:href=\"#DejaVuSans-48\"/>\r\n      </g>\r\n     </g>\r\n    </g>\r\n    <g id=\"text_7\">\r\n     <!-- Epochs -->\r\n     <defs>\r\n      <path d=\"M 9.8125 72.90625 \r\nL 55.90625 72.90625 \r\nL 55.90625 64.59375 \r\nL 19.671875 64.59375 \r\nL 19.671875 43.015625 \r\nL 54.390625 43.015625 \r\nL 54.390625 34.71875 \r\nL 19.671875 34.71875 \r\nL 19.671875 8.296875 \r\nL 56.78125 8.296875 \r\nL 56.78125 0 \r\nL 9.8125 0 \r\nz\r\n\" id=\"DejaVuSans-69\"/>\r\n      <path d=\"M 18.109375 8.203125 \r\nL 18.109375 -20.796875 \r\nL 9.078125 -20.796875 \r\nL 9.078125 54.6875 \r\nL 18.109375 54.6875 \r\nL 18.109375 46.390625 \r\nQ 20.953125 51.265625 25.265625 53.625 \r\nQ 29.59375 56 35.59375 56 \r\nQ 45.5625 56 51.78125 48.09375 \r\nQ 58.015625 40.1875 58.015625 27.296875 \r\nQ 58.015625 14.40625 51.78125 6.484375 \r\nQ 45.5625 -1.421875 35.59375 -1.421875 \r\nQ 29.59375 -1.421875 25.265625 0.953125 \r\nQ 20.953125 3.328125 18.109375 8.203125 \r\nz\r\nM 48.6875 27.296875 \r\nQ 48.6875 37.203125 44.609375 42.84375 \r\nQ 40.53125 48.484375 33.40625 48.484375 \r\nQ 26.265625 48.484375 22.1875 42.84375 \r\nQ 18.109375 37.203125 18.109375 27.296875 \r\nQ 18.109375 17.390625 22.1875 11.75 \r\nQ 26.265625 6.109375 33.40625 6.109375 \r\nQ 40.53125 6.109375 44.609375 11.75 \r\nQ 48.6875 17.390625 48.6875 27.296875 \r\nz\r\n\" id=\"DejaVuSans-112\"/>\r\n      <path d=\"M 30.609375 48.390625 \r\nQ 23.390625 48.390625 19.1875 42.75 \r\nQ 14.984375 37.109375 14.984375 27.296875 \r\nQ 14.984375 17.484375 19.15625 11.84375 \r\nQ 23.34375 6.203125 30.609375 6.203125 \r\nQ 37.796875 6.203125 41.984375 11.859375 \r\nQ 46.1875 17.53125 46.1875 27.296875 \r\nQ 46.1875 37.015625 41.984375 42.703125 \r\nQ 37.796875 48.390625 30.609375 48.390625 \r\nz\r\nM 30.609375 56 \r\nQ 42.328125 56 49.015625 48.375 \r\nQ 55.71875 40.765625 55.71875 27.296875 \r\nQ 55.71875 13.875 49.015625 6.21875 \r\nQ 42.328125 -1.421875 30.609375 -1.421875 \r\nQ 18.84375 -1.421875 12.171875 6.21875 \r\nQ 5.515625 13.875 5.515625 27.296875 \r\nQ 5.515625 40.765625 12.171875 48.375 \r\nQ 18.84375 56 30.609375 56 \r\nz\r\n\" id=\"DejaVuSans-111\"/>\r\n      <path d=\"M 48.78125 52.59375 \r\nL 48.78125 44.1875 \r\nQ 44.96875 46.296875 41.140625 47.34375 \r\nQ 37.3125 48.390625 33.40625 48.390625 \r\nQ 24.65625 48.390625 19.8125 42.84375 \r\nQ 14.984375 37.3125 14.984375 27.296875 \r\nQ 14.984375 17.28125 19.8125 11.734375 \r\nQ 24.65625 6.203125 33.40625 6.203125 \r\nQ 37.3125 6.203125 41.140625 7.25 \r\nQ 44.96875 8.296875 48.78125 10.40625 \r\nL 48.78125 2.09375 \r\nQ 45.015625 0.34375 40.984375 -0.53125 \r\nQ 36.96875 -1.421875 32.421875 -1.421875 \r\nQ 20.0625 -1.421875 12.78125 6.34375 \r\nQ 5.515625 14.109375 5.515625 27.296875 \r\nQ 5.515625 40.671875 12.859375 48.328125 \r\nQ 20.21875 56 33.015625 56 \r\nQ 37.15625 56 41.109375 55.140625 \r\nQ 45.0625 54.296875 48.78125 52.59375 \r\nz\r\n\" id=\"DejaVuSans-99\"/>\r\n      <path d=\"M 54.890625 33.015625 \r\nL 54.890625 0 \r\nL 45.90625 0 \r\nL 45.90625 32.71875 \r\nQ 45.90625 40.484375 42.875 44.328125 \r\nQ 39.84375 48.1875 33.796875 48.1875 \r\nQ 26.515625 48.1875 22.3125 43.546875 \r\nQ 18.109375 38.921875 18.109375 30.90625 \r\nL 18.109375 0 \r\nL 9.078125 0 \r\nL 9.078125 75.984375 \r\nL 18.109375 75.984375 \r\nL 18.109375 46.1875 \r\nQ 21.34375 51.125 25.703125 53.5625 \r\nQ 30.078125 56 35.796875 56 \r\nQ 45.21875 56 50.046875 50.171875 \r\nQ 54.890625 44.34375 54.890625 33.015625 \r\nz\r\n\" id=\"DejaVuSans-104\"/>\r\n      <path d=\"M 44.28125 53.078125 \r\nL 44.28125 44.578125 \r\nQ 40.484375 46.53125 36.375 47.5 \r\nQ 32.28125 48.484375 27.875 48.484375 \r\nQ 21.1875 48.484375 17.84375 46.4375 \r\nQ 14.5 44.390625 14.5 40.28125 \r\nQ 14.5 37.15625 16.890625 35.375 \r\nQ 19.28125 33.59375 26.515625 31.984375 \r\nL 29.59375 31.296875 \r\nQ 39.15625 29.25 43.1875 25.515625 \r\nQ 47.21875 21.78125 47.21875 15.09375 \r\nQ 47.21875 7.46875 41.1875 3.015625 \r\nQ 35.15625 -1.421875 24.609375 -1.421875 \r\nQ 20.21875 -1.421875 15.453125 -0.5625 \r\nQ 10.6875 0.296875 5.421875 2 \r\nL 5.421875 11.28125 \r\nQ 10.40625 8.6875 15.234375 7.390625 \r\nQ 20.0625 6.109375 24.8125 6.109375 \r\nQ 31.15625 6.109375 34.5625 8.28125 \r\nQ 37.984375 10.453125 37.984375 14.40625 \r\nQ 37.984375 18.0625 35.515625 20.015625 \r\nQ 33.0625 21.96875 24.703125 23.78125 \r\nL 21.578125 24.515625 \r\nQ 13.234375 26.265625 9.515625 29.90625 \r\nQ 5.8125 33.546875 5.8125 39.890625 \r\nQ 5.8125 47.609375 11.28125 51.796875 \r\nQ 16.75 56 26.8125 56 \r\nQ 31.78125 56 36.171875 55.265625 \r\nQ 40.578125 54.546875 44.28125 53.078125 \r\nz\r\n\" id=\"DejaVuSans-115\"/>\r\n     </defs>\r\n     <g transform=\"translate(193.265625 256.715781)scale(0.1 -0.1)\">\r\n      <use xlink:href=\"#DejaVuSans-69\"/>\r\n      <use x=\"63.183594\" xlink:href=\"#DejaVuSans-112\"/>\r\n      <use x=\"126.660156\" xlink:href=\"#DejaVuSans-111\"/>\r\n      <use x=\"187.841797\" xlink:href=\"#DejaVuSans-99\"/>\r\n      <use x=\"242.822266\" xlink:href=\"#DejaVuSans-104\"/>\r\n      <use x=\"306.201172\" xlink:href=\"#DejaVuSans-115\"/>\r\n     </g>\r\n    </g>\r\n   </g>\r\n   <g id=\"matplotlib.axis_2\">\r\n    <g id=\"ytick_1\">\r\n     <g id=\"line2d_7\">\r\n      <defs>\r\n       <path d=\"M 0 0 \r\nL -3.5 0 \r\n\" id=\"mcc259b4b24\" style=\"stroke:#000000;stroke-width:0.8;\"/>\r\n      </defs>\r\n      <g>\r\n       <use style=\"stroke:#000000;stroke-width:0.8;\" x=\"43.78125\" xlink:href=\"#mcc259b4b24\" y=\"228.439219\"/>\r\n      </g>\r\n     </g>\r\n     <g id=\"text_8\">\r\n      <!-- 0.0 -->\r\n      <defs>\r\n       <path d=\"M 10.6875 12.40625 \r\nL 21 12.40625 \r\nL 21 0 \r\nL 10.6875 0 \r\nz\r\n\" id=\"DejaVuSans-46\"/>\r\n      </defs>\r\n      <g transform=\"translate(20.878125 232.238437)scale(0.1 -0.1)\">\r\n       <use xlink:href=\"#DejaVuSans-48\"/>\r\n       <use x=\"63.623047\" xlink:href=\"#DejaVuSans-46\"/>\r\n       <use x=\"95.410156\" xlink:href=\"#DejaVuSans-48\"/>\r\n      </g>\r\n     </g>\r\n    </g>\r\n    <g id=\"ytick_2\">\r\n     <g id=\"line2d_8\">\r\n      <g>\r\n       <use style=\"stroke:#000000;stroke-width:0.8;\" x=\"43.78125\" xlink:href=\"#mcc259b4b24\" y=\"184.951219\"/>\r\n      </g>\r\n     </g>\r\n     <g id=\"text_9\">\r\n      <!-- 0.2 -->\r\n      <g transform=\"translate(20.878125 188.750437)scale(0.1 -0.1)\">\r\n       <use xlink:href=\"#DejaVuSans-48\"/>\r\n       <use x=\"63.623047\" xlink:href=\"#DejaVuSans-46\"/>\r\n       <use x=\"95.410156\" xlink:href=\"#DejaVuSans-50\"/>\r\n      </g>\r\n     </g>\r\n    </g>\r\n    <g id=\"ytick_3\">\r\n     <g id=\"line2d_9\">\r\n      <g>\r\n       <use style=\"stroke:#000000;stroke-width:0.8;\" x=\"43.78125\" xlink:href=\"#mcc259b4b24\" y=\"141.463219\"/>\r\n      </g>\r\n     </g>\r\n     <g id=\"text_10\">\r\n      <!-- 0.4 -->\r\n      <defs>\r\n       <path d=\"M 37.796875 64.3125 \r\nL 12.890625 25.390625 \r\nL 37.796875 25.390625 \r\nz\r\nM 35.203125 72.90625 \r\nL 47.609375 72.90625 \r\nL 47.609375 25.390625 \r\nL 58.015625 25.390625 \r\nL 58.015625 17.1875 \r\nL 47.609375 17.1875 \r\nL 47.609375 0 \r\nL 37.796875 0 \r\nL 37.796875 17.1875 \r\nL 4.890625 17.1875 \r\nL 4.890625 26.703125 \r\nz\r\n\" id=\"DejaVuSans-52\"/>\r\n      </defs>\r\n      <g transform=\"translate(20.878125 145.262437)scale(0.1 -0.1)\">\r\n       <use xlink:href=\"#DejaVuSans-48\"/>\r\n       <use x=\"63.623047\" xlink:href=\"#DejaVuSans-46\"/>\r\n       <use x=\"95.410156\" xlink:href=\"#DejaVuSans-52\"/>\r\n      </g>\r\n     </g>\r\n    </g>\r\n    <g id=\"ytick_4\">\r\n     <g id=\"line2d_10\">\r\n      <g>\r\n       <use style=\"stroke:#000000;stroke-width:0.8;\" x=\"43.78125\" xlink:href=\"#mcc259b4b24\" y=\"97.975219\"/>\r\n      </g>\r\n     </g>\r\n     <g id=\"text_11\">\r\n      <!-- 0.6 -->\r\n      <defs>\r\n       <path d=\"M 33.015625 40.375 \r\nQ 26.375 40.375 22.484375 35.828125 \r\nQ 18.609375 31.296875 18.609375 23.390625 \r\nQ 18.609375 15.53125 22.484375 10.953125 \r\nQ 26.375 6.390625 33.015625 6.390625 \r\nQ 39.65625 6.390625 43.53125 10.953125 \r\nQ 47.40625 15.53125 47.40625 23.390625 \r\nQ 47.40625 31.296875 43.53125 35.828125 \r\nQ 39.65625 40.375 33.015625 40.375 \r\nz\r\nM 52.59375 71.296875 \r\nL 52.59375 62.3125 \r\nQ 48.875 64.0625 45.09375 64.984375 \r\nQ 41.3125 65.921875 37.59375 65.921875 \r\nQ 27.828125 65.921875 22.671875 59.328125 \r\nQ 17.53125 52.734375 16.796875 39.40625 \r\nQ 19.671875 43.65625 24.015625 45.921875 \r\nQ 28.375 48.1875 33.59375 48.1875 \r\nQ 44.578125 48.1875 50.953125 41.515625 \r\nQ 57.328125 34.859375 57.328125 23.390625 \r\nQ 57.328125 12.15625 50.6875 5.359375 \r\nQ 44.046875 -1.421875 33.015625 -1.421875 \r\nQ 20.359375 -1.421875 13.671875 8.265625 \r\nQ 6.984375 17.96875 6.984375 36.375 \r\nQ 6.984375 53.65625 15.1875 63.9375 \r\nQ 23.390625 74.21875 37.203125 74.21875 \r\nQ 40.921875 74.21875 44.703125 73.484375 \r\nQ 48.484375 72.75 52.59375 71.296875 \r\nz\r\n\" id=\"DejaVuSans-54\"/>\r\n      </defs>\r\n      <g transform=\"translate(20.878125 101.774437)scale(0.1 -0.1)\">\r\n       <use xlink:href=\"#DejaVuSans-48\"/>\r\n       <use x=\"63.623047\" xlink:href=\"#DejaVuSans-46\"/>\r\n       <use x=\"95.410156\" xlink:href=\"#DejaVuSans-54\"/>\r\n      </g>\r\n     </g>\r\n    </g>\r\n    <g id=\"ytick_5\">\r\n     <g id=\"line2d_11\">\r\n      <g>\r\n       <use style=\"stroke:#000000;stroke-width:0.8;\" x=\"43.78125\" xlink:href=\"#mcc259b4b24\" y=\"54.487219\"/>\r\n      </g>\r\n     </g>\r\n     <g id=\"text_12\">\r\n      <!-- 0.8 -->\r\n      <defs>\r\n       <path d=\"M 31.78125 34.625 \r\nQ 24.75 34.625 20.71875 30.859375 \r\nQ 16.703125 27.09375 16.703125 20.515625 \r\nQ 16.703125 13.921875 20.71875 10.15625 \r\nQ 24.75 6.390625 31.78125 6.390625 \r\nQ 38.8125 6.390625 42.859375 10.171875 \r\nQ 46.921875 13.96875 46.921875 20.515625 \r\nQ 46.921875 27.09375 42.890625 30.859375 \r\nQ 38.875 34.625 31.78125 34.625 \r\nz\r\nM 21.921875 38.8125 \r\nQ 15.578125 40.375 12.03125 44.71875 \r\nQ 8.5 49.078125 8.5 55.328125 \r\nQ 8.5 64.0625 14.71875 69.140625 \r\nQ 20.953125 74.21875 31.78125 74.21875 \r\nQ 42.671875 74.21875 48.875 69.140625 \r\nQ 55.078125 64.0625 55.078125 55.328125 \r\nQ 55.078125 49.078125 51.53125 44.71875 \r\nQ 48 40.375 41.703125 38.8125 \r\nQ 48.828125 37.15625 52.796875 32.3125 \r\nQ 56.78125 27.484375 56.78125 20.515625 \r\nQ 56.78125 9.90625 50.3125 4.234375 \r\nQ 43.84375 -1.421875 31.78125 -1.421875 \r\nQ 19.734375 -1.421875 13.25 4.234375 \r\nQ 6.78125 9.90625 6.78125 20.515625 \r\nQ 6.78125 27.484375 10.78125 32.3125 \r\nQ 14.796875 37.15625 21.921875 38.8125 \r\nz\r\nM 18.3125 54.390625 \r\nQ 18.3125 48.734375 21.84375 45.5625 \r\nQ 25.390625 42.390625 31.78125 42.390625 \r\nQ 38.140625 42.390625 41.71875 45.5625 \r\nQ 45.3125 48.734375 45.3125 54.390625 \r\nQ 45.3125 60.0625 41.71875 63.234375 \r\nQ 38.140625 66.40625 31.78125 66.40625 \r\nQ 25.390625 66.40625 21.84375 63.234375 \r\nQ 18.3125 60.0625 18.3125 54.390625 \r\nz\r\n\" id=\"DejaVuSans-56\"/>\r\n      </defs>\r\n      <g transform=\"translate(20.878125 58.286437)scale(0.1 -0.1)\">\r\n       <use xlink:href=\"#DejaVuSans-48\"/>\r\n       <use x=\"63.623047\" xlink:href=\"#DejaVuSans-46\"/>\r\n       <use x=\"95.410156\" xlink:href=\"#DejaVuSans-56\"/>\r\n      </g>\r\n     </g>\r\n    </g>\r\n    <g id=\"ytick_6\">\r\n     <g id=\"line2d_12\">\r\n      <g>\r\n       <use style=\"stroke:#000000;stroke-width:0.8;\" x=\"43.78125\" xlink:href=\"#mcc259b4b24\" y=\"10.999219\"/>\r\n      </g>\r\n     </g>\r\n     <g id=\"text_13\">\r\n      <!-- 1.0 -->\r\n      <g transform=\"translate(20.878125 14.798437)scale(0.1 -0.1)\">\r\n       <use xlink:href=\"#DejaVuSans-49\"/>\r\n       <use x=\"63.623047\" xlink:href=\"#DejaVuSans-46\"/>\r\n       <use x=\"95.410156\" xlink:href=\"#DejaVuSans-48\"/>\r\n      </g>\r\n     </g>\r\n    </g>\r\n    <g id=\"text_14\">\r\n     <!-- Loss -->\r\n     <defs>\r\n      <path d=\"M 9.8125 72.90625 \r\nL 19.671875 72.90625 \r\nL 19.671875 8.296875 \r\nL 55.171875 8.296875 \r\nL 55.171875 0 \r\nL 9.8125 0 \r\nz\r\n\" id=\"DejaVuSans-76\"/>\r\n     </defs>\r\n     <g transform=\"translate(14.798438 130.686406)rotate(-90)scale(0.1 -0.1)\">\r\n      <use xlink:href=\"#DejaVuSans-76\"/>\r\n      <use x=\"53.962891\" xlink:href=\"#DejaVuSans-111\"/>\r\n      <use x=\"115.144531\" xlink:href=\"#DejaVuSans-115\"/>\r\n      <use x=\"167.244141\" xlink:href=\"#DejaVuSans-115\"/>\r\n     </g>\r\n    </g>\r\n   </g>\r\n   <g id=\"line2d_13\">\r\n    <path clip-path=\"url(#p4ae4fe4b05)\" d=\"M 38.395805 -1 \r\nL 43.78125 22.166606 \r\nL 53.926705 66.446567 \r\nL 64.072159 104.877193 \r\nL 74.217614 129.382168 \r\nL 84.363068 149.98326 \r\nL 94.508523 159.572008 \r\nL 104.653977 172.551497 \r\nL 114.799432 180.03064 \r\nL 124.944886 189.854242 \r\nL 135.090341 191.968676 \r\nL 145.235795 201.459062 \r\nL 155.38125 209.049403 \r\nL 165.526705 208.86634 \r\nL 175.672159 214.528632 \r\nL 185.817614 218.763805 \r\nL 195.963068 216.961807 \r\nL 206.108523 216.597974 \r\nL 216.253977 219.223475 \r\nL 226.399432 222.145735 \r\nL 236.544886 218.618554 \r\nL 246.690341 222.052584 \r\nL 256.835795 224.136624 \r\nL 266.98125 221.915629 \r\nL 277.126705 223.463654 \r\nL 287.272159 219.795805 \r\nL 297.417614 214.142986 \r\nL 307.563068 221.761565 \r\nL 317.708523 220.591163 \r\nL 327.853977 219.707863 \r\nL 337.999432 223.438654 \r\nL 348.144886 224.348585 \r\nL 358.290341 224.706147 \r\n\" style=\"fill:none;stroke:#1f77b4;stroke-linecap:square;stroke-width:1.5;\"/>\r\n   </g>\r\n   <g id=\"line2d_14\">\r\n    <path clip-path=\"url(#p4ae4fe4b05)\" d=\"M 33.75978 -1 \r\nL 43.78125 41.516853 \r\nL 53.926705 86.025087 \r\nL 64.072159 118.552572 \r\nL 74.217614 131.865142 \r\nL 84.363068 146.955274 \r\nL 94.508523 153.481435 \r\nL 104.653977 159.408726 \r\nL 114.799432 157.004226 \r\nL 124.944886 164.991072 \r\nL 135.090341 166.878374 \r\nL 145.235795 170.013548 \r\nL 155.38125 173.810431 \r\nL 165.526705 168.745161 \r\nL 175.672159 167.251582 \r\nL 185.817614 164.393583 \r\nL 195.963068 166.866543 \r\nL 206.108523 160.475737 \r\nL 216.253977 170.142969 \r\nL 226.399432 152.55124 \r\nL 236.544886 161.078712 \r\nL 246.690341 160.989437 \r\nL 256.835795 155.4545 \r\nL 266.98125 159.689696 \r\nL 277.126705 157.324319 \r\nL 287.272159 156.397558 \r\nL 297.417614 145.000933 \r\nL 307.563068 161.062333 \r\nL 317.708523 155.37701 \r\nL 327.853977 137.439453 \r\nL 337.999432 162.106295 \r\nL 348.144886 158.56477 \r\nL 358.290341 160.852505 \r\n\" style=\"fill:none;stroke:#ff7f0e;stroke-linecap:square;stroke-width:1.5;\"/>\r\n   </g>\r\n   <g id=\"patch_3\">\r\n    <path d=\"M 43.78125 228.439219 \r\nL 43.78125 10.999219 \r\n\" style=\"fill:none;stroke:#000000;stroke-linecap:square;stroke-linejoin:miter;stroke-width:0.8;\"/>\r\n   </g>\r\n   <g id=\"patch_4\">\r\n    <path d=\"M 378.58125 228.439219 \r\nL 378.58125 10.999219 \r\n\" style=\"fill:none;stroke:#000000;stroke-linecap:square;stroke-linejoin:miter;stroke-width:0.8;\"/>\r\n   </g>\r\n   <g id=\"patch_5\">\r\n    <path d=\"M 43.78125 228.439219 \r\nL 378.58125 228.439219 \r\n\" style=\"fill:none;stroke:#000000;stroke-linecap:square;stroke-linejoin:miter;stroke-width:0.8;\"/>\r\n   </g>\r\n   <g id=\"patch_6\">\r\n    <path d=\"M 43.78125 10.999219 \r\nL 378.58125 10.999219 \r\n\" style=\"fill:none;stroke:#000000;stroke-linecap:square;stroke-linejoin:miter;stroke-width:0.8;\"/>\r\n   </g>\r\n  </g>\r\n </g>\r\n <defs>\r\n  <clipPath id=\"p4ae4fe4b05\">\r\n   <rect height=\"217.44\" width=\"334.8\" x=\"43.78125\" y=\"10.999219\"/>\r\n  </clipPath>\r\n </defs>\r\n</svg>\r\n",
      "image/png": "[encoded data removed]"
     },
     "metadata": {
      "needs_background": "light"
     }
    }
   ],
   "source": [
    "axes = plt.gca()\n",
    "axes.set_xlim([1,34])\n",
    "axes.set_ylim([0,1])\n",
    "plt.plot(train_loss)\n",
    "plt.plot(valid_loss)\n",
    "plt.xlabel('Epochs')\n",
    "plt.ylabel('Loss')"
   ]
  },
  {
   "cell_type": "code",
   "execution_count": 61,
   "metadata": {},
   "outputs": [],
   "source": [
    "class SimpleTestDataset(Dataset):\n",
    "    def __init__(self, image_ids_df, transform=None):\n",
    "        self.image_ids = image_ids_df\n",
    "        self.transform = transform\n",
    "        \n",
    "    def __getitem__(self, idx):\n",
    "        image = cv2.imread(self.image_ids.values[idx])\n",
    "        \n",
    "        sample = {\n",
    "            'image': image,\n",
    "        }\n",
    "        \n",
    "        if self.transform:\n",
    "            sample = self.transform(**sample)\n",
    "        \n",
    "        image = sample['image']\n",
    "        \n",
    "        return image\n",
    "    \n",
    "    def __len__(self):\n",
    "        return len(self.image_ids)"
   ]
  },
  {
   "cell_type": "code",
   "execution_count": 62,
   "metadata": {},
   "outputs": [],
   "source": [
    "test_df = pd.read_csv('test.csv')\n",
    "test_df['image_id'] = 'images\\\\' + test_df['image_id'] + '.jpg'"
   ]
  },
  {
   "cell_type": "code",
   "execution_count": 63,
   "metadata": {},
   "outputs": [
    {
     "output_type": "execute_result",
     "data": {
      "text/plain": "            image_id\n0  images\\Test_0.jpg\n1  images\\Test_1.jpg\n2  images\\Test_2.jpg\n3  images\\Test_3.jpg\n4  images\\Test_4.jpg",
      "text/html": "<div>\n<style scoped>\n    .dataframe tbody tr th:only-of-type {\n        vertical-align: middle;\n    }\n\n    .dataframe tbody tr th {\n        vertical-align: top;\n    }\n\n    .dataframe thead th {\n        text-align: right;\n    }\n</style>\n<table border=\"1\" class=\"dataframe\">\n  <thead>\n    <tr style=\"text-align: right;\">\n      <th></th>\n      <th>image_id</th>\n    </tr>\n  </thead>\n  <tbody>\n    <tr>\n      <th>0</th>\n      <td>images\\Test_0.jpg</td>\n    </tr>\n    <tr>\n      <th>1</th>\n      <td>images\\Test_1.jpg</td>\n    </tr>\n    <tr>\n      <th>2</th>\n      <td>images\\Test_2.jpg</td>\n    </tr>\n    <tr>\n      <th>3</th>\n      <td>images\\Test_3.jpg</td>\n    </tr>\n    <tr>\n      <th>4</th>\n      <td>images\\Test_4.jpg</td>\n    </tr>\n  </tbody>\n</table>\n</div>"
     },
     "metadata": {},
     "execution_count": 63
    }
   ],
   "source": [
    "test_df.head()"
   ]
  },
  {
   "cell_type": "code",
   "execution_count": 64,
   "metadata": {},
   "outputs": [],
   "source": [
    "test_transform = Compose(\n",
    "    [\n",
    "        Resize(224, 224),\n",
    "        HorizontalFlip(p=0.5),\n",
    "        VerticalFlip(p=0.5),\n",
    "        ShiftScaleRotate(rotate_limit=25.0, p=0.7),\n",
    "        Normalize((0.485, 0.456, 0.406), (0.229, 0.224, 0.225), always_apply=True),\n",
    "        ToTensor()\n",
    "    ]\n",
    ")"
   ]
  },
  {
   "cell_type": "code",
   "execution_count": 65,
   "metadata": {},
   "outputs": [],
   "source": [
    "test_dataset = SimpleTestDataset(test_df['image_id'], transform=test_transform)\n",
    "test_dataloader = DataLoader(test_dataset, batch_size=16, shuffle=True)"
   ]
  },
  {
   "cell_type": "code",
   "execution_count": 66,
   "metadata": {},
   "outputs": [],
   "source": [
    "\n",
    "def test_fn(model):\n",
    "    predictions = np.zeros((1, 4))\n",
    "    with torch.no_grad():\n",
    "        for images in tqdm(test_dataloader):\n",
    "\n",
    "            images = images.to('cuda')\n",
    "            model = model.to('cuda')\n",
    "\n",
    "            preds = model(images)\n",
    "\n",
    "            predictions = np.concatenate((predictions, preds.cpu().detach().numpy()), 0)\n",
    "            \n",
    "    return predictions\n",
    "\n",
    "\n"
   ]
  },
  {
   "cell_type": "code",
   "execution_count": 68,
   "metadata": {},
   "outputs": [
    {
     "output_type": "stream",
     "name": "stderr",
     "text": "0%|          | 0/114 [00:00<?, ?it/s]Loading pre-trained model\n<All keys matched successfully>\n100%|██████████| 114/114 [01:11<00:00,  1.58it/s]\n100%|██████████| 114/114 [01:19<00:00,  1.43it/s]\n100%|██████████| 114/114 [01:15<00:00,  1.50it/s]\n"
    }
   ],
   "source": [
    "test_df = pd.read_csv('test.csv')\n",
    "\n",
    "# model = EfficientNet.from_pretrained('efficientnet-b4', num_classes=4)\n",
    "# print('Loading pre-trained model')\n",
    "# model_ckpt = torch.load('efficientnet-b4.pt')\n",
    "# print(model.load_state_dict(model_ckpt['state_dict']))\n",
    "\n",
    "model = torchvision.models.mobilenet_v2(pretrained=True)\n",
    "model.classifier[1] = nn.Linear(in_features=1280, out_features=4)\n",
    "for params in model.parameters():\n",
    "    params.trainable = False\n",
    "for params in model.classifier[1].parameters():\n",
    "    params.trainable = False\n",
    "\n",
    "print('Loading pre-trained model')\n",
    "model_ckpt = torch.load('mobilenet-v2-bs-16.pt')\n",
    "print(model.load_state_dict(model_ckpt['state_dict']))\n",
    "\n",
    "model = model.cuda()\n",
    "\n",
    "subs = []\n",
    "for i in range(3):\n",
    "    out = test_fn(model)\n",
    "    output = pd.DataFrame(softmax(out,1), columns = ['healthy','multiple_diseases','rust','scab']) #the submission expects probability scores for each class\n",
    "    output.drop(0, inplace = True)\n",
    "    output.reset_index(drop=True,inplace=True)\n",
    "    subs.append(output)\n",
    "\n",
    "sub_eff = sum(subs)/10\n",
    "sub1 = sub_eff.copy()\n",
    "sub1['image_id'] = test_df.image_id\n",
    "sub1 = sub1[['image_id','healthy','multiple_diseases','rust','scab']]\n",
    "sub1.to_csv('submission_mobilenet-v2-bs-16.csv', index = False)"
   ]
  },
  {
   "cell_type": "code",
   "execution_count": null,
   "metadata": {},
   "outputs": [],
   "source": []
  }
 ],
 "metadata": {
  "kernelspec": {
   "display_name": "Python 3",
   "language": "python",
   "name": "python3"
  },
  "language_info": {
   "codemirror_mode": {
    "name": "ipython",
    "version": 3
   },
   "file_extension": ".py",
   "mimetype": "text/x-python",
   "name": "python",
   "nbconvert_exporter": "python",
   "pygments_lexer": "ipython3",
   "version": "3.8.2-final"
  }
 },
 "nbformat": 4,
 "nbformat_minor": 4
}