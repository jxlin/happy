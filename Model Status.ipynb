{
  "metadata": {
    "bento_stylesheets": {
      "bento/extensions/flow/main.css": true,
      "bento/extensions/kernel_selector/main.css": true,
      "bento/extensions/kernel_ui/main.css": true,
      "bento/extensions/new_kernel/main.css": true,
      "bento/extensions/system_usage/main.css": true,
      "bento/extensions/theme/main.css": true
    },
    "kernelspec": {
      "display_name": "fluent2",
      "language": "python",
      "name": "bento_kernel_fluent2",
      "metadata": {
        "kernel_name": "bento_kernel_fluent2",
        "nightly_builds": false,
        "fbpkg_supported": true,
        "is_prebuilt": true
      }
    },
    "language_info": {
      "codemirror_mode": {
        "name": "ipython",
        "version": 3
      },
      "file_extension": ".py",
      "mimetype": "text/x-python",
      "name": "python",
      "nbconvert_exporter": "python",
      "pygments_lexer": "ipython3"
    },
    "last_server_session_id": "b641072f-954e-4548-9f01-086e72255020",
    "last_kernel_id": "157a6b6d-ac9d-4a6d-bb49-adcd3b7e8b51",
    "last_base_url": "https://devvm5278.vll0.facebook.com:8090/",
    "last_msg_id": "b771ccb6-09a81f0d6542a31db6a3fd77_39",
    "captumWidgetMessage": {},
    "outputWidgetContext": {}
  },
  "nbformat": 4,
  "nbformat_minor": 2,
  "cells": [
    {
      "cell_type": "code",
      "metadata": {
        "collapsed": false,
        "originalKey": "25eda45b-856a-4bb8-abc6-a8f65148b79e",
        "code_folding": [],
        "hidden_ranges": [],
        "requestMsgId": "71b9edde-1e6b-49a4-98d6-9ceaca67d04d",
        "executionStartTime": 1643582224798,
        "executionStopTime": 1643582224883
      },
      "source": [
        "from fblearner.predictor.model_publishing_service.ModelPublishingService import Client\n",
        "from fblearner.predictor.model_publishing_service.ttypes import (\n",
        "    GetModelStatusRequest,\n",
        "    ModelID,\n",
        "    ModelPublishingException,\n",
        "    ModelStatusResponse,\n",
        ")\n",
        "from libfb.py.asyncio.await_utils import convert_to_async\n",
        "from model_id.ttypes import ModelId\n",
        "from ServiceRouter import ServiceRouter"
      ],
      "execution_count": 1,
      "outputs": []
    },
    {
      "cell_type": "code",
      "metadata": {
        "originalKey": "f04164f1-86ef-4915-af90-e60a48e96b20",
        "showInput": true,
        "customInput": null,
        "code_folding": [],
        "hidden_ranges": [],
        "collapsed": false,
        "requestMsgId": "4a9dd0ff-74a6-49fa-9a90-a4febf79e11f",
        "executionStartTime": 1643582233998,
        "executionStopTime": 1643582234049
      },
      "source": [
        "async def get_model_status(\n",
        "    current_model_id: str, current_snapshot_id: int, deployment_name: str = \"service_sharded\"\n",
        ") -> int:\n",
        "    with ServiceRouter.getClient2(Client, \"fblearner.predictor.model_publishing_service\") as client:\n",
        "        try:\n",
        "            request = GetModelStatusRequest(\n",
        "                model_id=ModelID(model_id=ModelId(model=int(current_model_id), snapshot=current_snapshot_id)),\n",
        "                deployment=deployment_name,\n",
        "            )\n",
        "            result: ModelStatusResponse = await convert_to_async(client.getModelStatus, request)\n",
        "            return result.model_status\n",
        "        except ModelPublishingException as e:\n",
        "            print(\"Model: {}, snapshot: {}, error: {}\".format(current_model_id, current_snapshot_id, str(e)))\n",
        "            return -1"
      ],
      "execution_count": 2,
      "outputs": []
    },
    {
      "cell_type": "code",
      "metadata": {
        "originalKey": "7007cb20-8638-44f7-85eb-c1c91b43e668",
        "showInput": true,
        "customInput": null,
        "collapsed": false,
        "requestMsgId": "3ca6f85f-b416-4517-aee4-0bae6750d9f4",
        "executionStartTime": 1643582236400,
        "executionStopTime": 1643582238828,
        "code_folding": [],
        "hidden_ranges": []
      },
      "source": [
        "await get_model_status(214408175, 289114258)"
      ],
      "execution_count": 3,
      "outputs": [
        {
          "output_type": "execute_result",
          "data": {
            "text/plain": "21"
          },
          "metadata": {},
          "execution_count": 3
        }
      ]
    },
    {
      "cell_type": "markdown",
      "metadata": {
        "originalKey": "6e61a4ce-41e7-4b5f-95db-fe3542486668",
        "showInput": false,
        "customInput": null,
        "code_folding": [],
        "hidden_ranges": []
      },
      "source": [
        "fbcode: [Model status](https://www.internalfb.com/code/fbsource/[ed9e87131d0ad99676cd925292d0198b2978212c]/fbcode/fblearner/predictor/model_publishing_service/if/model_publishing_service.thrift?lines=565)"
      ]
    }
  ]
}
