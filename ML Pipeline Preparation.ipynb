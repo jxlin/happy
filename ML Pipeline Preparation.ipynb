{
 "cells": [
  {
   "cell_type": "markdown",
   "metadata": {},
   "source": [
    "# ML Pipeline Preparation\n",
    "Follow the instructions below to help you create your ML pipeline.\n",
    "### 1. Import libraries and load data from database.\n",
    "- Import Python libraries\n",
    "- Load dataset from database with [`read_sql_table`](https://pandas.pydata.org/pandas-docs/stable/generated/pandas.read_sql_table.html)\n",
    "- Define feature and target variables X and Y"
   ]
  },
  {
   "cell_type": "code",
   "execution_count": 1,
   "metadata": {},
   "outputs": [],
   "source": [
    "# import libraries\n",
    "import sqlite3\n",
    "import numpy as np\n",
    "import pandas as pd\n",
    "from sqlalchemy import create_engine"
   ]
  },
  {
   "cell_type": "code",
   "execution_count": 2,
   "metadata": {},
   "outputs": [],
   "source": [
    "# load data from database\n",
    "engine = create_engine('sqlite:///DisasterResponse.db')\n",
    "df = pd.read_sql(\"SELECT * FROM DisasterMessage\", engine)\n",
    "X = df['message'].values\n",
    "Y = df[df.columns[4:]].values"
   ]
  },
  {
   "cell_type": "markdown",
   "metadata": {},
   "source": [
    "### 2. Write a tokenization function to process your text data"
   ]
  },
  {
   "cell_type": "code",
   "execution_count": 3,
   "metadata": {},
   "outputs": [],
   "source": [
    "import re\n",
    "from nltk.tokenize import word_tokenize\n",
    "from nltk.stem import WordNetLemmatizer\n",
    "\n",
    "from sklearn.pipeline import Pipeline\n",
    "from sklearn.metrics import confusion_matrix\n",
    "from sklearn.model_selection import train_test_split, GridSearchCV\n",
    "from sklearn.ensemble import RandomForestClassifier\n",
    "from sklearn.feature_extraction.text import CountVectorizer, TfidfTransformer\n",
    "\n",
    "def tokenize(text):\n",
    "    text = re.sub(r\"[^a-zA-Z0-9]\", \" \", text.lower())\n",
    "    tokens = word_tokenize(text)\n",
    "    lemmatizer = WordNetLemmatizer()\n",
    "\n",
    "    clean_tokens = []\n",
    "    for tok in tokens:\n",
    "        clean_tok = lemmatizer.lemmatize(tok).lower().strip()\n",
    "        clean_tokens.append(clean_tok)\n",
    "\n",
    "    return clean_tokens"
   ]
  },
  {
   "cell_type": "markdown",
   "metadata": {},
   "source": [
    "### 3. Build a machine learning pipeline\n",
    "This machine pipeline should take in the `message` column as input and output classification results on the other 36 categories in the dataset. You may find the [MultiOutputClassifier](http://scikit-learn.org/stable/modules/generated/sklearn.multioutput.MultiOutputClassifier.html) helpful for predicting multiple target variables."
   ]
  },
  {
   "cell_type": "code",
   "execution_count": 4,
   "metadata": {},
   "outputs": [],
   "source": [
    "from sklearn.multioutput import MultiOutputClassifier\n",
    "from sklearn.multiclass import OneVsRestClassifier\n",
    "from sklearn.svm import LinearSVC\n",
    "\n",
    "pipeline = Pipeline([\n",
    "        ('vect', CountVectorizer(tokenizer=tokenize)),\n",
    "        ('tfidf', TfidfTransformer()),\n",
    "        ('clf', MultiOutputClassifier(OneVsRestClassifier(LinearSVC(random_state=0))))\n",
    "    ])"
   ]
  },
  {
   "cell_type": "markdown",
   "metadata": {},
   "source": [
    "### 4. Train pipeline\n",
    "- Split data into train and test sets\n",
    "- Train pipeline"
   ]
  },
  {
   "cell_type": "code",
   "execution_count": 5,
   "metadata": {},
   "outputs": [
    {
     "name": "stdout",
     "output_type": "stream",
     "text": [
      "[nltk_data] Downloading package punkt to /root/nltk_data...\n",
      "[nltk_data]   Package punkt is already up-to-date!\n",
      "[nltk_data] Downloading package wordnet to /root/nltk_data...\n",
      "[nltk_data]   Package wordnet is already up-to-date!\n"
     ]
    },
    {
     "name": "stderr",
     "output_type": "stream",
     "text": [
      "/opt/conda/lib/python3.6/site-packages/sklearn/multiclass.py:76: UserWarning: Label not 0 is present in all training examples.\n",
      "  str(classes[c]))\n"
     ]
    },
    {
     "data": {
      "text/plain": [
       "Pipeline(memory=None,\n",
       "     steps=[('vect', CountVectorizer(analyzer='word', binary=False, decode_error='strict',\n",
       "        dtype=<class 'numpy.int64'>, encoding='utf-8', input='content',\n",
       "        lowercase=True, max_df=1.0, max_features=None, min_df=1,\n",
       "        ngram_range=(1, 1), preprocessor=None, stop_words=None,\n",
       "        strip...nalty='l2', random_state=0, tol=0.0001,\n",
       "     verbose=0),\n",
       "          n_jobs=1),\n",
       "           n_jobs=1))])"
      ]
     },
     "execution_count": 5,
     "metadata": {},
     "output_type": "execute_result"
    }
   ],
   "source": [
    "import nltk\n",
    "nltk.download(['punkt', 'wordnet'])\n",
    "\n",
    "X_train, X_test, y_train, y_test = train_test_split(X, Y)\n",
    "\n",
    "pipeline.fit(X_train, y_train)"
   ]
  },
  {
   "cell_type": "markdown",
   "metadata": {},
   "source": [
    "### 5. Test your model\n",
    "Report the f1 score, precision and recall for each output category of the dataset. You can do this by iterating through the columns and calling sklearn's `classification_report` on each."
   ]
  },
  {
   "cell_type": "code",
   "execution_count": 6,
   "metadata": {},
   "outputs": [
    {
     "name": "stderr",
     "output_type": "stream",
     "text": [
      "/opt/conda/lib/python3.6/site-packages/sklearn/metrics/classification.py:1428: UserWarning: labels size, 3, does not match size of target_names, 36\n",
      "  .format(len(labels), len(target_names))\n"
     ]
    },
    {
     "data": {
      "text/plain": [
       "'                        precision    recall  f1-score   support\\n\\n               related       0.96      0.98      0.97    215354\\n               request       0.77      0.61      0.68     20541\\n                 offer       0.77      0.20      0.32        49\\n\\n           avg / total       0.95      0.95      0.95    235944\\n'"
      ]
     },
     "execution_count": 6,
     "metadata": {},
     "output_type": "execute_result"
    }
   ],
   "source": [
    "from sklearn.metrics import classification_report\n",
    "\n",
    "y_pred = pipeline.predict(X_test)\n",
    "classification_report(np.hstack(y_test), np.hstack(y_pred), target_names=list(df.columns[4:]))"
   ]
  },
  {
   "cell_type": "markdown",
   "metadata": {},
   "source": [
    "### 6. Improve your model\n",
    "Use grid search to find better parameters. "
   ]
  },
  {
   "cell_type": "code",
   "execution_count": 7,
   "metadata": {},
   "outputs": [],
   "source": [
    "parameters = {\n",
    "                'tfidf__smooth_idf': [True, False],\n",
    "                'clf__estimator__estimator__C': [1, 5]\n",
    "             }\n",
    "\n",
    "cv = GridSearchCV(pipeline, param_grid=parameters)"
   ]
  },
  {
   "cell_type": "code",
   "execution_count": 8,
   "metadata": {},
   "outputs": [
    {
     "name": "stdout",
     "output_type": "stream",
     "text": [
      "related 0.822551113824\n",
      "request 0.896856881294\n",
      "offer 0.995422642661\n",
      "aid_related 0.763045468416\n",
      "medical_help 0.928135489777\n",
      "medical_products 0.959108941105\n",
      "search_and_rescue 0.975434848947\n",
      "security 0.983063777846\n",
      "military 0.971162648764\n",
      "child_alone 1.0\n",
      "water 0.961550198352\n",
      "food 0.945834604821\n",
      "shelter 0.946750076289\n",
      "clothing 0.990082392432\n",
      "money 0.974366798901\n",
      "missing_people 0.989319499542\n",
      "refugees 0.971620384498\n",
      "death 0.968568812939\n",
      "other_aid 0.862221544095\n",
      "infrastructure_related 0.93240768996\n",
      "transport 0.961245041196\n",
      "buildings 0.961550198352\n",
      "electricity 0.97970704913\n",
      "tools 0.994507171193\n",
      "hospitals 0.98870918523\n",
      "shops 0.995117485505\n",
      "aid_centers 0.989166920964\n",
      "other_infrastructure 0.953310955142\n",
      "weather_related 0.87686908758\n",
      "floods 0.959871833995\n",
      "storm 0.942783033262\n",
      "fire 0.990692706744\n",
      "earthquake 0.967958498627\n",
      "cold 0.984284406469\n",
      "other_weather 0.952090326518\n",
      "direct_report 0.869697894416\n"
     ]
    }
   ],
   "source": [
    "from sklearn.metrics import accuracy_score\n",
    "\n",
    "for i, category in enumerate(df.columns[4:]):\n",
    "    print(category, accuracy_score(y_test[:, i], y_pred[:, i]))"
   ]
  },
  {
   "cell_type": "markdown",
   "metadata": {},
   "source": [
    "### 7. Test your model\n",
    "Show the accuracy, precision, and recall of the tuned model.  \n",
    "\n",
    "Since this project focuses on code quality, process, and  pipelines, there is no minimum performance metric needed to pass. However, make sure to fine tune your models for accuracy, precision and recall to make your project stand out - especially for your portfolio!"
   ]
  },
  {
   "cell_type": "code",
   "execution_count": 9,
   "metadata": {},
   "outputs": [
    {
     "data": {
      "text/plain": [
       "'                        precision    recall  f1-score   support\\n\\n               related       0.96      0.98      0.97    215354\\n               request       0.77      0.61      0.68     20541\\n                 offer       0.77      0.20      0.32        49\\n\\n           avg / total       0.95      0.95      0.95    235944\\n'"
      ]
     },
     "execution_count": 9,
     "metadata": {},
     "output_type": "execute_result"
    }
   ],
   "source": [
    "import warnings\n",
    "warnings.filterwarnings(\"ignore\")\n",
    "cv.fit(X_train, y_train)\n",
    "y_pred = cv.predict(X_test)\n",
    "classification_report(np.hstack(y_test), np.hstack(y_pred), target_names=list(df.columns[4:]))"
   ]
  },
  {
   "cell_type": "markdown",
   "metadata": {},
   "source": [
    "### 8. Try improving your model further. Here are a few ideas:\n",
    "* try other machine learning algorithms\n",
    "* add other features besides the TF-IDF"
   ]
  },
  {
   "cell_type": "code",
   "execution_count": 10,
   "metadata": {},
   "outputs": [
    {
     "name": "stdout",
     "output_type": "stream",
     "text": [
      "                        precision    recall  f1-score   support\n",
      "\n",
      "               related       0.96      0.98      0.97    215354\n",
      "               request       0.77      0.61      0.68     20541\n",
      "                 offer       0.77      0.20      0.32        49\n",
      "\n",
      "           avg / total       0.95      0.95      0.95    235944\n",
      "\n"
     ]
    }
   ],
   "source": [
    "print(classification_report(np.hstack(y_test), np.hstack(y_pred), target_names=list(df.columns[4:])))"
   ]
  },
  {
   "cell_type": "code",
   "execution_count": 11,
   "metadata": {},
   "outputs": [
    {
     "name": "stdout",
     "output_type": "stream",
     "text": [
      "related 0.822551113824\n",
      "request 0.896856881294\n",
      "offer 0.995422642661\n",
      "aid_related 0.763045468416\n",
      "medical_help 0.928135489777\n",
      "medical_products 0.959108941105\n",
      "search_and_rescue 0.975434848947\n",
      "security 0.983063777846\n",
      "military 0.971162648764\n",
      "child_alone 1.0\n",
      "water 0.961550198352\n",
      "food 0.945834604821\n",
      "shelter 0.946750076289\n",
      "clothing 0.990082392432\n",
      "money 0.974366798901\n",
      "missing_people 0.989319499542\n",
      "refugees 0.971620384498\n",
      "death 0.968568812939\n",
      "other_aid 0.862221544095\n",
      "infrastructure_related 0.93240768996\n",
      "transport 0.961245041196\n",
      "buildings 0.961550198352\n",
      "electricity 0.97970704913\n",
      "tools 0.994507171193\n",
      "hospitals 0.98870918523\n",
      "shops 0.995117485505\n",
      "aid_centers 0.989166920964\n",
      "other_infrastructure 0.953310955142\n",
      "weather_related 0.87686908758\n",
      "floods 0.959871833995\n",
      "storm 0.942783033262\n",
      "fire 0.990692706744\n",
      "earthquake 0.967958498627\n",
      "cold 0.984284406469\n",
      "other_weather 0.952090326518\n",
      "direct_report 0.869697894416\n"
     ]
    }
   ],
   "source": [
    "for i, category in enumerate(df.columns[4:]):\n",
    "    print(category, accuracy_score(y_test[:, i], y_pred[:, i]))"
   ]
  },
  {
   "cell_type": "markdown",
   "metadata": {},
   "source": [
    "### 9. Export your model as a pickle file"
   ]
  },
  {
   "cell_type": "code",
   "execution_count": 12,
   "metadata": {},
   "outputs": [
    {
     "data": {
      "text/plain": [
       "['classifier.pkl']"
      ]
     },
     "execution_count": 12,
     "metadata": {},
     "output_type": "execute_result"
    }
   ],
   "source": [
    "from sklearn.externals import joblib\n",
    "\n",
    "joblib.dump(cv, 'classifier.pkl')"
   ]
  },
  {
   "cell_type": "markdown",
   "metadata": {},
   "source": [
    "### 10. Use this notebook to complete `train.py`\n",
    "Use the template file attached in the Resources folder to write a script that runs the steps above to create a database and export a model based on a new dataset specified by the user."
   ]
  },
  {
   "cell_type": "code",
   "execution_count": null,
   "metadata": {},
   "outputs": [],
   "source": []
  }
 ],
 "metadata": {
  "kernelspec": {
   "display_name": "Python 3",
   "language": "python",
   "name": "python3"
  },
  "language_info": {
   "codemirror_mode": {
    "name": "ipython",
    "version": 3
   },
   "file_extension": ".py",
   "mimetype": "text/x-python",
   "name": "python",
   "nbconvert_exporter": "python",
   "pygments_lexer": "ipython3",
   "version": "3.6.3"
  }
 },
 "nbformat": 4,
 "nbformat_minor": 2
}
