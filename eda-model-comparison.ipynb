{
 "cells": [
  {
   "cell_type": "code",
   "execution_count": 1,
   "id": "d8bb8be5",
   "metadata": {
    "execution": {
     "iopub.execute_input": "2023-05-24T19:21:46.811153Z",
     "iopub.status.busy": "2023-05-24T19:21:46.810681Z",
     "iopub.status.idle": "2023-05-24T19:22:23.839073Z",
     "shell.execute_reply": "2023-05-24T19:22:23.837749Z"
    },
    "id": "jyvUsLFsFU81",
    "outputId": "5c157c70-2d4f-40b1-ca4d-c5d06d6fab7e",
    "papermill": {
     "duration": 37.045835,
     "end_time": "2023-05-24T19:22:23.841775",
     "exception": false,
     "start_time": "2023-05-24T19:21:46.795940",
     "status": "completed"
    },
    "tags": []
   },
   "outputs": [
    {
     "name": "stdout",
     "output_type": "stream",
     "text": [
      "Collecting pycaret\r\n",
      "  Downloading pycaret-3.0.2-py3-none-any.whl (483 kB)\r\n",
      "\u001b[2K     \u001b[90m━━━━━━━━━━━━━━━━━━━━━━━━━━━━━━━━━━━━━━\u001b[0m \u001b[32m483.6/483.6 kB\u001b[0m \u001b[31m14.4 MB/s\u001b[0m eta \u001b[36m0:00:00\u001b[0m\r\n",
      "\u001b[?25hRequirement already satisfied: ipython>=5.5.0 in /opt/conda/lib/python3.10/site-packages (from pycaret) (8.13.2)\r\n",
      "Requirement already satisfied: ipywidgets>=7.6.5 in /opt/conda/lib/python3.10/site-packages (from pycaret) (7.7.1)\r\n",
      "Requirement already satisfied: tqdm>=4.62.0 in /opt/conda/lib/python3.10/site-packages (from pycaret) (4.64.1)\r\n",
      "Requirement already satisfied: numpy<1.24,>=1.21 in /opt/conda/lib/python3.10/site-packages (from pycaret) (1.23.5)\r\n",
      "Requirement already satisfied: pandas<2.0.0,>=1.3.0 in /opt/conda/lib/python3.10/site-packages (from pycaret) (1.5.3)\r\n",
      "Requirement already satisfied: jinja2>=1.2 in /opt/conda/lib/python3.10/site-packages (from pycaret) (3.1.2)\r\n",
      "Requirement already satisfied: scipy<2.0.0 in /opt/conda/lib/python3.10/site-packages (from pycaret) (1.10.1)\r\n",
      "Requirement already satisfied: joblib>=1.2.0 in /opt/conda/lib/python3.10/site-packages (from pycaret) (1.2.0)\r\n",
      "Requirement already satisfied: scikit-learn>=1.0 in /opt/conda/lib/python3.10/site-packages (from pycaret) (1.2.2)\r\n",
      "Collecting pyod>=1.0.8 (from pycaret)\r\n",
      "  Downloading pyod-1.0.9.tar.gz (149 kB)\r\n",
      "\u001b[2K     \u001b[90m━━━━━━━━━━━━━━━━━━━━━━━━━━━━━━━━━━━━━━━\u001b[0m \u001b[32m150.0/150.0 kB\u001b[0m \u001b[31m8.0 MB/s\u001b[0m eta \u001b[36m0:00:00\u001b[0m\r\n",
      "\u001b[?25h  Preparing metadata (setup.py) ... \u001b[?25l-\b \b\\\b \bdone\r\n",
      "\u001b[?25hRequirement already satisfied: imbalanced-learn>=0.8.1 in /opt/conda/lib/python3.10/site-packages (from pycaret) (0.10.1)\r\n",
      "Requirement already satisfied: category-encoders>=2.4.0 in /opt/conda/lib/python3.10/site-packages (from pycaret) (2.6.1)\r\n",
      "Requirement already satisfied: lightgbm>=3.0.0 in /opt/conda/lib/python3.10/site-packages (from pycaret) (3.3.2)\r\n",
      "Requirement already satisfied: numba>=0.55.0 in /opt/conda/lib/python3.10/site-packages (from pycaret) (0.57.0)\r\n",
      "Requirement already satisfied: requests>=2.27.1 in /opt/conda/lib/python3.10/site-packages (from pycaret) (2.28.2)\r\n",
      "Requirement already satisfied: psutil>=5.9.0 in /opt/conda/lib/python3.10/site-packages (from pycaret) (5.9.3)\r\n",
      "Requirement already satisfied: markupsafe>=2.0.1 in /opt/conda/lib/python3.10/site-packages (from pycaret) (2.1.2)\r\n",
      "Requirement already satisfied: importlib-metadata>=4.12.0 in /opt/conda/lib/python3.10/site-packages (from pycaret) (5.2.0)\r\n",
      "Requirement already satisfied: nbformat>=4.2.0 in /opt/conda/lib/python3.10/site-packages (from pycaret) (5.8.0)\r\n",
      "Requirement already satisfied: cloudpickle in /opt/conda/lib/python3.10/site-packages (from pycaret) (2.2.1)\r\n",
      "Requirement already satisfied: deprecation>=2.1.0 in /opt/conda/lib/python3.10/site-packages (from pycaret) (2.1.0)\r\n",
      "Requirement already satisfied: xxhash in /opt/conda/lib/python3.10/site-packages (from pycaret) (3.2.0)\r\n",
      "Requirement already satisfied: matplotlib>=3.3.0 in /opt/conda/lib/python3.10/site-packages (from pycaret) (3.6.3)\r\n",
      "Requirement already satisfied: scikit-plot>=0.3.7 in /opt/conda/lib/python3.10/site-packages (from pycaret) (0.3.7)\r\n",
      "Requirement already satisfied: yellowbrick>=1.4 in /opt/conda/lib/python3.10/site-packages (from pycaret) (1.5)\r\n",
      "Requirement already satisfied: plotly>=5.0.0 in /opt/conda/lib/python3.10/site-packages (from pycaret) (5.14.1)\r\n",
      "Collecting kaleido>=0.2.1 (from pycaret)\r\n",
      "  Downloading kaleido-0.2.1-py2.py3-none-manylinux1_x86_64.whl (79.9 MB)\r\n",
      "\u001b[2K     \u001b[90m━━━━━━━━━━━━━━━━━━━━━━━━━━━━━━━━━━━━━━━━\u001b[0m \u001b[32m79.9/79.9 MB\u001b[0m \u001b[31m16.4 MB/s\u001b[0m eta \u001b[36m0:00:00\u001b[0m\r\n",
      "\u001b[?25hCollecting schemdraw==0.15 (from pycaret)\r\n",
      "  Downloading schemdraw-0.15-py3-none-any.whl (106 kB)\r\n",
      "\u001b[2K     \u001b[90m━━━━━━━━━━━━━━━━━━━━━━━━━━━━━━━━━━━━━━━\u001b[0m \u001b[32m106.8/106.8 kB\u001b[0m \u001b[31m8.2 MB/s\u001b[0m eta \u001b[36m0:00:00\u001b[0m\r\n",
      "\u001b[?25hCollecting plotly-resampler>=0.8.3.1 (from pycaret)\r\n",
      "  Downloading plotly_resampler-0.8.3.2.tar.gz (46 kB)\r\n",
      "\u001b[2K     \u001b[90m━━━━━━━━━━━━━━━━━━━━━━━━━━━━━━━━━━━━━━━━\u001b[0m \u001b[32m46.4/46.4 kB\u001b[0m \u001b[31m3.2 MB/s\u001b[0m eta \u001b[36m0:00:00\u001b[0m\r\n",
      "\u001b[?25h  Installing build dependencies ... \u001b[?25l-\b \b\\\b \b|\b \b/\b \b-\b \b\\\b \b|\b \bdone\r\n",
      "\u001b[?25h  Getting requirements to build wheel ... \u001b[?25ldone\r\n",
      "\u001b[?25h  Preparing metadata (pyproject.toml) ... \u001b[?25ldone\r\n",
      "\u001b[?25hRequirement already satisfied: statsmodels>=0.12.1 in /opt/conda/lib/python3.10/site-packages (from pycaret) (0.13.5)\r\n",
      "Collecting sktime!=0.17.1,<0.17.2,>=0.16.1 (from pycaret)\r\n",
      "  Downloading sktime-0.17.0-py3-none-any.whl (16.1 MB)\r\n",
      "\u001b[2K     \u001b[90m━━━━━━━━━━━━━━━━━━━━━━━━━━━━━━━━━━━━━━━━\u001b[0m \u001b[32m16.1/16.1 MB\u001b[0m \u001b[31m80.3 MB/s\u001b[0m eta \u001b[36m0:00:00\u001b[0m\r\n",
      "\u001b[?25hCollecting tbats>=1.1.3 (from pycaret)\r\n",
      "  Downloading tbats-1.1.3-py3-none-any.whl (44 kB)\r\n",
      "\u001b[2K     \u001b[90m━━━━━━━━━━━━━━━━━━━━━━━━━━━━━━━━━━━━━━━━\u001b[0m \u001b[32m44.0/44.0 kB\u001b[0m \u001b[31m2.7 MB/s\u001b[0m eta \u001b[36m0:00:00\u001b[0m\r\n",
      "\u001b[?25hCollecting pmdarima!=1.8.1,<3.0.0,>=1.8.0 (from pycaret)\r\n",
      "  Downloading pmdarima-2.0.3-cp310-cp310-manylinux_2_17_x86_64.manylinux2014_x86_64.manylinux_2_28_x86_64.whl (1.8 MB)\r\n",
      "\u001b[2K     \u001b[90m━━━━━━━━━━━━━━━━━━━━━━━━━━━━━━━━━━━━━━━━\u001b[0m \u001b[32m1.8/1.8 MB\u001b[0m \u001b[31m63.3 MB/s\u001b[0m eta \u001b[36m0:00:00\u001b[0m\r\n",
      "\u001b[?25hRequirement already satisfied: wurlitzer in /opt/conda/lib/python3.10/site-packages (from pycaret) (3.0.3)\r\n",
      "Requirement already satisfied: patsy>=0.5.1 in /opt/conda/lib/python3.10/site-packages (from category-encoders>=2.4.0->pycaret) (0.5.3)\r\n",
      "Requirement already satisfied: packaging in /opt/conda/lib/python3.10/site-packages (from deprecation>=2.1.0->pycaret) (21.3)\r\n",
      "Requirement already satisfied: threadpoolctl>=2.0.0 in /opt/conda/lib/python3.10/site-packages (from imbalanced-learn>=0.8.1->pycaret) (3.1.0)\r\n",
      "Requirement already satisfied: zipp>=0.5 in /opt/conda/lib/python3.10/site-packages (from importlib-metadata>=4.12.0->pycaret) (3.15.0)\r\n",
      "Requirement already satisfied: backcall in /opt/conda/lib/python3.10/site-packages (from ipython>=5.5.0->pycaret) (0.2.0)\r\n",
      "Requirement already satisfied: decorator in /opt/conda/lib/python3.10/site-packages (from ipython>=5.5.0->pycaret) (5.1.1)\r\n",
      "Requirement already satisfied: jedi>=0.16 in /opt/conda/lib/python3.10/site-packages (from ipython>=5.5.0->pycaret) (0.18.2)\r\n",
      "Requirement already satisfied: matplotlib-inline in /opt/conda/lib/python3.10/site-packages (from ipython>=5.5.0->pycaret) (0.1.6)\r\n",
      "Requirement already satisfied: pickleshare in /opt/conda/lib/python3.10/site-packages (from ipython>=5.5.0->pycaret) (0.7.5)\r\n",
      "Requirement already satisfied: prompt-toolkit!=3.0.37,<3.1.0,>=3.0.30 in /opt/conda/lib/python3.10/site-packages (from ipython>=5.5.0->pycaret) (3.0.38)\r\n",
      "Requirement already satisfied: pygments>=2.4.0 in /opt/conda/lib/python3.10/site-packages (from ipython>=5.5.0->pycaret) (2.15.1)\r\n",
      "Requirement already satisfied: stack-data in /opt/conda/lib/python3.10/site-packages (from ipython>=5.5.0->pycaret) (0.6.2)\r\n",
      "Requirement already satisfied: traitlets>=5 in /opt/conda/lib/python3.10/site-packages (from ipython>=5.5.0->pycaret) (5.9.0)\r\n",
      "Requirement already satisfied: pexpect>4.3 in /opt/conda/lib/python3.10/site-packages (from ipython>=5.5.0->pycaret) (4.8.0)\r\n",
      "Requirement already satisfied: ipykernel>=4.5.1 in /opt/conda/lib/python3.10/site-packages (from ipywidgets>=7.6.5->pycaret) (6.23.0)\r\n",
      "Requirement already satisfied: ipython-genutils~=0.2.0 in /opt/conda/lib/python3.10/site-packages (from ipywidgets>=7.6.5->pycaret) (0.2.0)\r\n",
      "Requirement already satisfied: widgetsnbextension~=3.6.0 in /opt/conda/lib/python3.10/site-packages (from ipywidgets>=7.6.5->pycaret) (3.6.4)\r\n",
      "Requirement already satisfied: jupyterlab-widgets>=1.0.0 in /opt/conda/lib/python3.10/site-packages (from ipywidgets>=7.6.5->pycaret) (3.0.7)\r\n",
      "Requirement already satisfied: wheel in /opt/conda/lib/python3.10/site-packages (from lightgbm>=3.0.0->pycaret) (0.40.0)\r\n",
      "Requirement already satisfied: contourpy>=1.0.1 in /opt/conda/lib/python3.10/site-packages (from matplotlib>=3.3.0->pycaret) (1.0.7)\r\n",
      "Requirement already satisfied: cycler>=0.10 in /opt/conda/lib/python3.10/site-packages (from matplotlib>=3.3.0->pycaret) (0.11.0)\r\n",
      "Requirement already satisfied: fonttools>=4.22.0 in /opt/conda/lib/python3.10/site-packages (from matplotlib>=3.3.0->pycaret) (4.39.3)\r\n",
      "Requirement already satisfied: kiwisolver>=1.0.1 in /opt/conda/lib/python3.10/site-packages (from matplotlib>=3.3.0->pycaret) (1.4.4)\r\n",
      "Requirement already satisfied: pillow>=6.2.0 in /opt/conda/lib/python3.10/site-packages (from matplotlib>=3.3.0->pycaret) (9.5.0)\r\n",
      "Requirement already satisfied: pyparsing>=2.2.1 in /opt/conda/lib/python3.10/site-packages (from matplotlib>=3.3.0->pycaret) (3.0.9)\r\n",
      "Requirement already satisfied: python-dateutil>=2.7 in /opt/conda/lib/python3.10/site-packages (from matplotlib>=3.3.0->pycaret) (2.8.2)\r\n",
      "Requirement already satisfied: fastjsonschema in /opt/conda/lib/python3.10/site-packages (from nbformat>=4.2.0->pycaret) (2.16.3)\r\n",
      "Requirement already satisfied: jsonschema>=2.6 in /opt/conda/lib/python3.10/site-packages (from nbformat>=4.2.0->pycaret) (4.17.3)\r\n",
      "Requirement already satisfied: jupyter-core in /opt/conda/lib/python3.10/site-packages (from nbformat>=4.2.0->pycaret) (5.3.0)\r\n",
      "Requirement already satisfied: llvmlite<0.41,>=0.40.0dev0 in /opt/conda/lib/python3.10/site-packages (from numba>=0.55.0->pycaret) (0.40.0)\r\n",
      "Requirement already satisfied: pytz>=2020.1 in /opt/conda/lib/python3.10/site-packages (from pandas<2.0.0,>=1.3.0->pycaret) (2023.3)\r\n",
      "Requirement already satisfied: tenacity>=6.2.0 in /opt/conda/lib/python3.10/site-packages (from plotly>=5.0.0->pycaret) (8.2.2)\r\n",
      "Collecting dash<3.0.0,>=2.2.0 (from plotly-resampler>=0.8.3.1->pycaret)\r\n",
      "  Downloading dash-2.9.3-py3-none-any.whl (10.2 MB)\r\n",
      "\u001b[2K     \u001b[90m━━━━━━━━━━━━━━━━━━━━━━━━━━━━━━━━━━━━━━━━\u001b[0m \u001b[32m10.2/10.2 MB\u001b[0m \u001b[31m78.7 MB/s\u001b[0m eta \u001b[36m0:00:00\u001b[0m\r\n",
      "\u001b[?25hCollecting jupyter-dash>=0.4.2 (from plotly-resampler>=0.8.3.1->pycaret)\r\n",
      "  Downloading jupyter_dash-0.4.2-py3-none-any.whl (23 kB)\r\n",
      "Requirement already satisfied: orjson<4.0.0,>=3.8.0 in /opt/conda/lib/python3.10/site-packages (from plotly-resampler>=0.8.3.1->pycaret) (3.8.12)\r\n",
      "Collecting trace-updater>=0.0.8 (from plotly-resampler>=0.8.3.1->pycaret)\r\n",
      "  Downloading trace_updater-0.0.9.1-py3-none-any.whl (185 kB)\r\n",
      "\u001b[2K     \u001b[90m━━━━━━━━━━━━━━━━━━━━━━━━━━━━━━━━━━━━━━\u001b[0m \u001b[32m185.2/185.2 kB\u001b[0m \u001b[31m14.0 MB/s\u001b[0m eta \u001b[36m0:00:00\u001b[0m\r\n",
      "\u001b[?25hRequirement already satisfied: Cython!=0.29.18,!=0.29.31,>=0.29 in /opt/conda/lib/python3.10/site-packages (from pmdarima!=1.8.1,<3.0.0,>=1.8.0->pycaret) (0.29.34)\r\n",
      "Requirement already satisfied: urllib3 in /opt/conda/lib/python3.10/site-packages (from pmdarima!=1.8.1,<3.0.0,>=1.8.0->pycaret) (1.26.15)\r\n",
      "Requirement already satisfied: setuptools!=50.0.0,>=38.6.0 in /opt/conda/lib/python3.10/site-packages (from pmdarima!=1.8.1,<3.0.0,>=1.8.0->pycaret) (59.8.0)\r\n",
      "Requirement already satisfied: six in /opt/conda/lib/python3.10/site-packages (from pyod>=1.0.8->pycaret) (1.16.0)\r\n",
      "Requirement already satisfied: charset-normalizer<4,>=2 in /opt/conda/lib/python3.10/site-packages (from requests>=2.27.1->pycaret) (2.1.1)\r\n",
      "Requirement already satisfied: idna<4,>=2.5 in /opt/conda/lib/python3.10/site-packages (from requests>=2.27.1->pycaret) (3.4)\r\n",
      "Requirement already satisfied: certifi>=2017.4.17 in /opt/conda/lib/python3.10/site-packages (from requests>=2.27.1->pycaret) (2023.5.7)\r\n",
      "Requirement already satisfied: deprecated>=1.2.13 in /opt/conda/lib/python3.10/site-packages (from sktime!=0.17.1,<0.17.2,>=0.16.1->pycaret) (1.2.13)\r\n",
      "Requirement already satisfied: Flask>=1.0.4 in /opt/conda/lib/python3.10/site-packages (from dash<3.0.0,>=2.2.0->plotly-resampler>=0.8.3.1->pycaret) (2.3.2)\r\n",
      "Collecting dash-html-components==2.0.0 (from dash<3.0.0,>=2.2.0->plotly-resampler>=0.8.3.1->pycaret)\r\n",
      "  Downloading dash_html_components-2.0.0-py3-none-any.whl (4.1 kB)\r\n",
      "Collecting dash-core-components==2.0.0 (from dash<3.0.0,>=2.2.0->plotly-resampler>=0.8.3.1->pycaret)\r\n",
      "  Downloading dash_core_components-2.0.0-py3-none-any.whl (3.8 kB)\r\n",
      "Collecting dash-table==5.0.0 (from dash<3.0.0,>=2.2.0->plotly-resampler>=0.8.3.1->pycaret)\r\n",
      "  Downloading dash_table-5.0.0-py3-none-any.whl (3.9 kB)\r\n",
      "Requirement already satisfied: wrapt<2,>=1.10 in /opt/conda/lib/python3.10/site-packages (from deprecated>=1.2.13->sktime!=0.17.1,<0.17.2,>=0.16.1->pycaret) (1.14.1)\r\n",
      "Requirement already satisfied: comm>=0.1.1 in /opt/conda/lib/python3.10/site-packages (from ipykernel>=4.5.1->ipywidgets>=7.6.5->pycaret) (0.1.3)\r\n",
      "Requirement already satisfied: debugpy>=1.6.5 in /opt/conda/lib/python3.10/site-packages (from ipykernel>=4.5.1->ipywidgets>=7.6.5->pycaret) (1.6.7)\r\n",
      "Requirement already satisfied: jupyter-client>=6.1.12 in /opt/conda/lib/python3.10/site-packages (from ipykernel>=4.5.1->ipywidgets>=7.6.5->pycaret) (7.4.9)\r\n",
      "Requirement already satisfied: nest-asyncio in /opt/conda/lib/python3.10/site-packages (from ipykernel>=4.5.1->ipywidgets>=7.6.5->pycaret) (1.5.6)\r\n",
      "Requirement already satisfied: pyzmq>=20 in /opt/conda/lib/python3.10/site-packages (from ipykernel>=4.5.1->ipywidgets>=7.6.5->pycaret) (25.0.2)\r\n",
      "Requirement already satisfied: tornado>=6.1 in /opt/conda/lib/python3.10/site-packages (from ipykernel>=4.5.1->ipywidgets>=7.6.5->pycaret) (6.3.1)\r\n",
      "Requirement already satisfied: parso<0.9.0,>=0.8.0 in /opt/conda/lib/python3.10/site-packages (from jedi>=0.16->ipython>=5.5.0->pycaret) (0.8.3)\r\n",
      "Requirement already satisfied: attrs>=17.4.0 in /opt/conda/lib/python3.10/site-packages (from jsonschema>=2.6->nbformat>=4.2.0->pycaret) (23.1.0)\r\n",
      "Requirement already satisfied: pyrsistent!=0.17.0,!=0.17.1,!=0.17.2,>=0.14.0 in /opt/conda/lib/python3.10/site-packages (from jsonschema>=2.6->nbformat>=4.2.0->pycaret) (0.19.3)\r\n",
      "Requirement already satisfied: platformdirs>=2.5 in /opt/conda/lib/python3.10/site-packages (from jupyter-core->nbformat>=4.2.0->pycaret) (3.5.0)\r\n",
      "Requirement already satisfied: retrying in /opt/conda/lib/python3.10/site-packages (from jupyter-dash>=0.4.2->plotly-resampler>=0.8.3.1->pycaret) (1.3.3)\r\n",
      "Collecting ansi2html (from jupyter-dash>=0.4.2->plotly-resampler>=0.8.3.1->pycaret)\r\n",
      "  Downloading ansi2html-1.8.0-py3-none-any.whl (16 kB)\r\n",
      "Requirement already satisfied: ptyprocess>=0.5 in /opt/conda/lib/python3.10/site-packages (from pexpect>4.3->ipython>=5.5.0->pycaret) (0.7.0)\r\n",
      "Requirement already satisfied: wcwidth in /opt/conda/lib/python3.10/site-packages (from prompt-toolkit!=3.0.37,<3.1.0,>=3.0.30->ipython>=5.5.0->pycaret) (0.2.6)\r\n",
      "Requirement already satisfied: notebook>=4.4.1 in /opt/conda/lib/python3.10/site-packages (from widgetsnbextension~=3.6.0->ipywidgets>=7.6.5->pycaret) (6.5.4)\r\n",
      "Requirement already satisfied: executing>=1.2.0 in /opt/conda/lib/python3.10/site-packages (from stack-data->ipython>=5.5.0->pycaret) (1.2.0)\r\n",
      "Requirement already satisfied: asttokens>=2.1.0 in /opt/conda/lib/python3.10/site-packages (from stack-data->ipython>=5.5.0->pycaret) (2.2.1)\r\n",
      "Requirement already satisfied: pure-eval in /opt/conda/lib/python3.10/site-packages (from stack-data->ipython>=5.5.0->pycaret) (0.2.2)\r\n",
      "Requirement already satisfied: Werkzeug>=2.3.3 in /opt/conda/lib/python3.10/site-packages (from Flask>=1.0.4->dash<3.0.0,>=2.2.0->plotly-resampler>=0.8.3.1->pycaret) (2.3.4)\r\n",
      "Requirement already satisfied: itsdangerous>=2.1.2 in /opt/conda/lib/python3.10/site-packages (from Flask>=1.0.4->dash<3.0.0,>=2.2.0->plotly-resampler>=0.8.3.1->pycaret) (2.1.2)\r\n",
      "Requirement already satisfied: click>=8.1.3 in /opt/conda/lib/python3.10/site-packages (from Flask>=1.0.4->dash<3.0.0,>=2.2.0->plotly-resampler>=0.8.3.1->pycaret) (8.1.3)\r\n",
      "Requirement already satisfied: blinker>=1.6.2 in /opt/conda/lib/python3.10/site-packages (from Flask>=1.0.4->dash<3.0.0,>=2.2.0->plotly-resampler>=0.8.3.1->pycaret) (1.6.2)\r\n",
      "Requirement already satisfied: entrypoints in /opt/conda/lib/python3.10/site-packages (from jupyter-client>=6.1.12->ipykernel>=4.5.1->ipywidgets>=7.6.5->pycaret) (0.4)\r\n",
      "Requirement already satisfied: argon2-cffi in /opt/conda/lib/python3.10/site-packages (from notebook>=4.4.1->widgetsnbextension~=3.6.0->ipywidgets>=7.6.5->pycaret) (21.3.0)\r\n",
      "Requirement already satisfied: nbconvert>=5 in /opt/conda/lib/python3.10/site-packages (from notebook>=4.4.1->widgetsnbextension~=3.6.0->ipywidgets>=7.6.5->pycaret) (6.4.5)\r\n",
      "Requirement already satisfied: Send2Trash>=1.8.0 in /opt/conda/lib/python3.10/site-packages (from notebook>=4.4.1->widgetsnbextension~=3.6.0->ipywidgets>=7.6.5->pycaret) (1.8.2)\r\n",
      "Requirement already satisfied: terminado>=0.8.3 in /opt/conda/lib/python3.10/site-packages (from notebook>=4.4.1->widgetsnbextension~=3.6.0->ipywidgets>=7.6.5->pycaret) (0.17.1)\r\n",
      "Requirement already satisfied: prometheus-client in /opt/conda/lib/python3.10/site-packages (from notebook>=4.4.1->widgetsnbextension~=3.6.0->ipywidgets>=7.6.5->pycaret) (0.16.0)\r\n",
      "Requirement already satisfied: nbclassic>=0.4.7 in /opt/conda/lib/python3.10/site-packages (from notebook>=4.4.1->widgetsnbextension~=3.6.0->ipywidgets>=7.6.5->pycaret) (1.0.0)\r\n",
      "Requirement already satisfied: jupyter-server>=1.8 in /opt/conda/lib/python3.10/site-packages (from nbclassic>=0.4.7->notebook>=4.4.1->widgetsnbextension~=3.6.0->ipywidgets>=7.6.5->pycaret) (2.5.0)\r\n",
      "Requirement already satisfied: notebook-shim>=0.2.3 in /opt/conda/lib/python3.10/site-packages (from nbclassic>=0.4.7->notebook>=4.4.1->widgetsnbextension~=3.6.0->ipywidgets>=7.6.5->pycaret) (0.2.3)\r\n",
      "Requirement already satisfied: mistune<2,>=0.8.1 in /opt/conda/lib/python3.10/site-packages (from nbconvert>=5->notebook>=4.4.1->widgetsnbextension~=3.6.0->ipywidgets>=7.6.5->pycaret) (0.8.4)\r\n",
      "Requirement already satisfied: jupyterlab-pygments in /opt/conda/lib/python3.10/site-packages (from nbconvert>=5->notebook>=4.4.1->widgetsnbextension~=3.6.0->ipywidgets>=7.6.5->pycaret) (0.2.2)\r\n",
      "Requirement already satisfied: bleach in /opt/conda/lib/python3.10/site-packages (from nbconvert>=5->notebook>=4.4.1->widgetsnbextension~=3.6.0->ipywidgets>=7.6.5->pycaret) (6.0.0)\r\n",
      "Requirement already satisfied: pandocfilters>=1.4.1 in /opt/conda/lib/python3.10/site-packages (from nbconvert>=5->notebook>=4.4.1->widgetsnbextension~=3.6.0->ipywidgets>=7.6.5->pycaret) (1.5.0)\r\n",
      "Requirement already satisfied: testpath in /opt/conda/lib/python3.10/site-packages (from nbconvert>=5->notebook>=4.4.1->widgetsnbextension~=3.6.0->ipywidgets>=7.6.5->pycaret) (0.6.0)\r\n",
      "Requirement already satisfied: defusedxml in /opt/conda/lib/python3.10/site-packages (from nbconvert>=5->notebook>=4.4.1->widgetsnbextension~=3.6.0->ipywidgets>=7.6.5->pycaret) (0.7.1)\r\n",
      "Requirement already satisfied: beautifulsoup4 in /opt/conda/lib/python3.10/site-packages (from nbconvert>=5->notebook>=4.4.1->widgetsnbextension~=3.6.0->ipywidgets>=7.6.5->pycaret) (4.12.2)\r\n",
      "Requirement already satisfied: nbclient<0.6.0,>=0.5.0 in /opt/conda/lib/python3.10/site-packages (from nbconvert>=5->notebook>=4.4.1->widgetsnbextension~=3.6.0->ipywidgets>=7.6.5->pycaret) (0.5.13)\r\n",
      "Requirement already satisfied: argon2-cffi-bindings in /opt/conda/lib/python3.10/site-packages (from argon2-cffi->notebook>=4.4.1->widgetsnbextension~=3.6.0->ipywidgets>=7.6.5->pycaret) (21.2.0)\r\n",
      "Requirement already satisfied: anyio>=3.1.0 in /opt/conda/lib/python3.10/site-packages (from jupyter-server>=1.8->nbclassic>=0.4.7->notebook>=4.4.1->widgetsnbextension~=3.6.0->ipywidgets>=7.6.5->pycaret) (3.6.2)\r\n",
      "Requirement already satisfied: jupyter-events>=0.4.0 in /opt/conda/lib/python3.10/site-packages (from jupyter-server>=1.8->nbclassic>=0.4.7->notebook>=4.4.1->widgetsnbextension~=3.6.0->ipywidgets>=7.6.5->pycaret) (0.6.3)\r\n",
      "Requirement already satisfied: jupyter-server-terminals in /opt/conda/lib/python3.10/site-packages (from jupyter-server>=1.8->nbclassic>=0.4.7->notebook>=4.4.1->widgetsnbextension~=3.6.0->ipywidgets>=7.6.5->pycaret) (0.4.4)\r\n",
      "Requirement already satisfied: websocket-client in /opt/conda/lib/python3.10/site-packages (from jupyter-server>=1.8->nbclassic>=0.4.7->notebook>=4.4.1->widgetsnbextension~=3.6.0->ipywidgets>=7.6.5->pycaret) (1.5.1)\r\n",
      "Requirement already satisfied: cffi>=1.0.1 in /opt/conda/lib/python3.10/site-packages (from argon2-cffi-bindings->argon2-cffi->notebook>=4.4.1->widgetsnbextension~=3.6.0->ipywidgets>=7.6.5->pycaret) (1.15.1)\r\n",
      "Requirement already satisfied: soupsieve>1.2 in /opt/conda/lib/python3.10/site-packages (from beautifulsoup4->nbconvert>=5->notebook>=4.4.1->widgetsnbextension~=3.6.0->ipywidgets>=7.6.5->pycaret) (2.3.2.post1)\r\n",
      "Requirement already satisfied: webencodings in /opt/conda/lib/python3.10/site-packages (from bleach->nbconvert>=5->notebook>=4.4.1->widgetsnbextension~=3.6.0->ipywidgets>=7.6.5->pycaret) (0.5.1)\r\n",
      "Requirement already satisfied: sniffio>=1.1 in /opt/conda/lib/python3.10/site-packages (from anyio>=3.1.0->jupyter-server>=1.8->nbclassic>=0.4.7->notebook>=4.4.1->widgetsnbextension~=3.6.0->ipywidgets>=7.6.5->pycaret) (1.3.0)\r\n",
      "Requirement already satisfied: pycparser in /opt/conda/lib/python3.10/site-packages (from cffi>=1.0.1->argon2-cffi-bindings->argon2-cffi->notebook>=4.4.1->widgetsnbextension~=3.6.0->ipywidgets>=7.6.5->pycaret) (2.21)\r\n",
      "Requirement already satisfied: python-json-logger>=2.0.4 in /opt/conda/lib/python3.10/site-packages (from jupyter-events>=0.4.0->jupyter-server>=1.8->nbclassic>=0.4.7->notebook>=4.4.1->widgetsnbextension~=3.6.0->ipywidgets>=7.6.5->pycaret) (2.0.7)\r\n",
      "Requirement already satisfied: pyyaml>=5.3 in /opt/conda/lib/python3.10/site-packages (from jupyter-events>=0.4.0->jupyter-server>=1.8->nbclassic>=0.4.7->notebook>=4.4.1->widgetsnbextension~=3.6.0->ipywidgets>=7.6.5->pycaret) (5.4.1)\r\n",
      "Requirement already satisfied: rfc3339-validator in /opt/conda/lib/python3.10/site-packages (from jupyter-events>=0.4.0->jupyter-server>=1.8->nbclassic>=0.4.7->notebook>=4.4.1->widgetsnbextension~=3.6.0->ipywidgets>=7.6.5->pycaret) (0.1.4)\r\n",
      "Requirement already satisfied: rfc3986-validator>=0.1.1 in /opt/conda/lib/python3.10/site-packages (from jupyter-events>=0.4.0->jupyter-server>=1.8->nbclassic>=0.4.7->notebook>=4.4.1->widgetsnbextension~=3.6.0->ipywidgets>=7.6.5->pycaret) (0.1.1)\r\n",
      "Requirement already satisfied: fqdn in /opt/conda/lib/python3.10/site-packages (from jsonschema>=2.6->nbformat>=4.2.0->pycaret) (1.5.1)\r\n",
      "Requirement already satisfied: isoduration in /opt/conda/lib/python3.10/site-packages (from jsonschema>=2.6->nbformat>=4.2.0->pycaret) (20.11.0)\r\n",
      "Requirement already satisfied: jsonpointer>1.13 in /opt/conda/lib/python3.10/site-packages (from jsonschema>=2.6->nbformat>=4.2.0->pycaret) (2.0)\r\n",
      "Requirement already satisfied: uri-template in /opt/conda/lib/python3.10/site-packages (from jsonschema>=2.6->nbformat>=4.2.0->pycaret) (1.2.0)\r\n",
      "Requirement already satisfied: webcolors>=1.11 in /opt/conda/lib/python3.10/site-packages (from jsonschema>=2.6->nbformat>=4.2.0->pycaret) (1.13)\r\n",
      "Requirement already satisfied: arrow>=0.15.0 in /opt/conda/lib/python3.10/site-packages (from isoduration->jsonschema>=2.6->nbformat>=4.2.0->pycaret) (1.2.3)\r\n",
      "Building wheels for collected packages: plotly-resampler, pyod\r\n",
      "  Building wheel for plotly-resampler (pyproject.toml) ... \u001b[?25ldone\r\n",
      "\u001b[?25h  Created wheel for plotly-resampler: filename=plotly_resampler-0.8.3.2-cp310-cp310-manylinux_2_31_x86_64.whl size=53617 sha256=3a9eec0f04fffb2a9fcc58045342263224b7deb958488d49d0f551e155dbf341\r\n",
      "  Stored in directory: /root/.cache/pip/wheels/a9/19/e2/ec856d98cf9b617511fff0abae1dfed5bf1f6093ce65126b45\r\n",
      "  Building wheel for pyod (setup.py) ... \u001b[?25l-\b \b\\\b \b|\b \bdone\r\n",
      "\u001b[?25h  Created wheel for pyod: filename=pyod-1.0.9-py3-none-any.whl size=184113 sha256=c9a2d649ce0835b19daa94b33c9201795b2e2300a5df861fc6faacbcbebd178e\r\n",
      "  Stored in directory: /root/.cache/pip/wheels/83/55/6b/552e083cf5509c0afe808b76cf434f1be284d01a112623bd37\r\n",
      "Successfully built plotly-resampler pyod\r\n",
      "Installing collected packages: trace-updater, kaleido, dash-table, dash-html-components, dash-core-components, schemdraw, ansi2html, sktime, pyod, dash, pmdarima, tbats, jupyter-dash, plotly-resampler, pycaret\r\n",
      "Successfully installed ansi2html-1.8.0 dash-2.9.3 dash-core-components-2.0.0 dash-html-components-2.0.0 dash-table-5.0.0 jupyter-dash-0.4.2 kaleido-0.2.1 plotly-resampler-0.8.3.2 pmdarima-2.0.3 pycaret-3.0.2 pyod-1.0.9 schemdraw-0.15 sktime-0.17.0 tbats-1.1.3 trace-updater-0.0.9.1\r\n",
      "\u001b[33mWARNING: Running pip as the 'root' user can result in broken permissions and conflicting behaviour with the system package manager. It is recommended to use a virtual environment instead: https://pip.pypa.io/warnings/venv\u001b[0m\u001b[33m\r\n",
      "\u001b[0m"
     ]
    }
   ],
   "source": [
    "!pip install pycaret"
   ]
  },
  {
   "cell_type": "markdown",
   "id": "78da456c",
   "metadata": {
    "cell_id": "d746f925f0744a12a1f8d352cecb1c55",
    "deepnote_cell_type": "text-cell-h1",
    "formattedRanges": [],
    "id": "c0XXHL8rFLAl",
    "papermill": {
     "duration": 0.018629,
     "end_time": "2023-05-24T19:22:23.879013",
     "exception": false,
     "start_time": "2023-05-24T19:22:23.860384",
     "status": "completed"
    },
    "tags": []
   },
   "source": [
    "# 1. Importing Libraries"
   ]
  },
  {
   "cell_type": "code",
   "execution_count": 2,
   "id": "2defbef4",
   "metadata": {
    "cell_id": "18d11f9020504705a07356bf949fb8d6",
    "deepnote_cell_type": "code",
    "deepnote_to_be_reexecuted": false,
    "execution": {
     "iopub.execute_input": "2023-05-24T19:22:23.918533Z",
     "iopub.status.busy": "2023-05-24T19:22:23.918151Z",
     "iopub.status.idle": "2023-05-24T19:22:25.416082Z",
     "shell.execute_reply": "2023-05-24T19:22:25.414682Z"
    },
    "execution_millis": 2135,
    "execution_start": 1684953518343,
    "id": "othZb10xFLAr",
    "papermill": {
     "duration": 1.521149,
     "end_time": "2023-05-24T19:22:25.418902",
     "exception": false,
     "start_time": "2023-05-24T19:22:23.897753",
     "status": "completed"
    },
    "source_hash": "bfc0ddb6",
    "tags": []
   },
   "outputs": [],
   "source": [
    "import pandas as pd\n",
    "import seaborn as sns\n",
    "import matplotlib.pyplot as plt"
   ]
  },
  {
   "cell_type": "markdown",
   "id": "e719795c",
   "metadata": {
    "cell_id": "defb44198dc04a82bdad7dea69005137",
    "deepnote_cell_type": "text-cell-h1",
    "formattedRanges": [],
    "id": "t0nvyvv7FLAt",
    "papermill": {
     "duration": 0.018484,
     "end_time": "2023-05-24T19:22:25.457340",
     "exception": false,
     "start_time": "2023-05-24T19:22:25.438856",
     "status": "completed"
    },
    "tags": []
   },
   "source": [
    "# 2. Importing Dataset"
   ]
  },
  {
   "cell_type": "code",
   "execution_count": 3,
   "id": "1df867e6",
   "metadata": {
    "cell_id": "e3ce102135ee4b19857d2726650baadf",
    "deepnote_cell_type": "code",
    "deepnote_to_be_reexecuted": false,
    "execution": {
     "iopub.execute_input": "2023-05-24T19:22:25.496478Z",
     "iopub.status.busy": "2023-05-24T19:22:25.495815Z",
     "iopub.status.idle": "2023-05-24T19:22:25.526483Z",
     "shell.execute_reply": "2023-05-24T19:22:25.524783Z"
    },
    "execution_millis": 2,
    "execution_start": 1684953520522,
    "id": "n70bTyRMFLAu",
    "papermill": {
     "duration": 0.053583,
     "end_time": "2023-05-24T19:22:25.528991",
     "exception": false,
     "start_time": "2023-05-24T19:22:25.475408",
     "status": "completed"
    },
    "source_hash": "df17b481",
    "tags": []
   },
   "outputs": [],
   "source": [
    "df = pd.read_csv(\"/kaggle/input/credit-score-classification-dataset/Credit Score Classification Dataset.csv\")"
   ]
  },
  {
   "cell_type": "markdown",
   "id": "d5839b42",
   "metadata": {
    "cell_id": "7bec41f2017a41ed8d94f010c3c97696",
    "deepnote_cell_type": "text-cell-h1",
    "formattedRanges": [],
    "id": "PqYAlglkFLAu",
    "papermill": {
     "duration": 0.019158,
     "end_time": "2023-05-24T19:22:25.567588",
     "exception": false,
     "start_time": "2023-05-24T19:22:25.548430",
     "status": "completed"
    },
    "tags": []
   },
   "source": [
    "# 3. Data Cleaning"
   ]
  },
  {
   "cell_type": "code",
   "execution_count": 4,
   "id": "c3f60fd6",
   "metadata": {
    "cell_id": "207066a272b6428bb09e1b3b3befbb50",
    "deepnote_cell_type": "code",
    "deepnote_to_be_reexecuted": false,
    "execution": {
     "iopub.execute_input": "2023-05-24T19:22:25.607373Z",
     "iopub.status.busy": "2023-05-24T19:22:25.607012Z",
     "iopub.status.idle": "2023-05-24T19:22:25.638057Z",
     "shell.execute_reply": "2023-05-24T19:22:25.637404Z"
    },
    "execution_millis": 50,
    "execution_start": 1684953520523,
    "id": "k8PcjmS8FLAv",
    "outputId": "15730c2e-bd24-4b74-89e5-d5db45f96c60",
    "papermill": {
     "duration": 0.053338,
     "end_time": "2023-05-24T19:22:25.639983",
     "exception": false,
     "start_time": "2023-05-24T19:22:25.586645",
     "status": "completed"
    },
    "source_hash": "c085b6ba",
    "tags": []
   },
   "outputs": [
    {
     "data": {
      "text/html": [
       "<div>\n",
       "<style scoped>\n",
       "    .dataframe tbody tr th:only-of-type {\n",
       "        vertical-align: middle;\n",
       "    }\n",
       "\n",
       "    .dataframe tbody tr th {\n",
       "        vertical-align: top;\n",
       "    }\n",
       "\n",
       "    .dataframe thead th {\n",
       "        text-align: right;\n",
       "    }\n",
       "</style>\n",
       "<table border=\"1\" class=\"dataframe\">\n",
       "  <thead>\n",
       "    <tr style=\"text-align: right;\">\n",
       "      <th></th>\n",
       "      <th>Age</th>\n",
       "      <th>Gender</th>\n",
       "      <th>Income</th>\n",
       "      <th>Education</th>\n",
       "      <th>Marital Status</th>\n",
       "      <th>Number of Children</th>\n",
       "      <th>Home Ownership</th>\n",
       "      <th>Credit Score</th>\n",
       "    </tr>\n",
       "  </thead>\n",
       "  <tbody>\n",
       "    <tr>\n",
       "      <th>0</th>\n",
       "      <td>25</td>\n",
       "      <td>Female</td>\n",
       "      <td>50000</td>\n",
       "      <td>Bachelor's Degree</td>\n",
       "      <td>Single</td>\n",
       "      <td>0</td>\n",
       "      <td>Rented</td>\n",
       "      <td>High</td>\n",
       "    </tr>\n",
       "    <tr>\n",
       "      <th>1</th>\n",
       "      <td>30</td>\n",
       "      <td>Male</td>\n",
       "      <td>100000</td>\n",
       "      <td>Master's Degree</td>\n",
       "      <td>Married</td>\n",
       "      <td>2</td>\n",
       "      <td>Owned</td>\n",
       "      <td>High</td>\n",
       "    </tr>\n",
       "    <tr>\n",
       "      <th>2</th>\n",
       "      <td>35</td>\n",
       "      <td>Female</td>\n",
       "      <td>75000</td>\n",
       "      <td>Doctorate</td>\n",
       "      <td>Married</td>\n",
       "      <td>1</td>\n",
       "      <td>Owned</td>\n",
       "      <td>High</td>\n",
       "    </tr>\n",
       "    <tr>\n",
       "      <th>3</th>\n",
       "      <td>40</td>\n",
       "      <td>Male</td>\n",
       "      <td>125000</td>\n",
       "      <td>High School Diploma</td>\n",
       "      <td>Single</td>\n",
       "      <td>0</td>\n",
       "      <td>Owned</td>\n",
       "      <td>High</td>\n",
       "    </tr>\n",
       "    <tr>\n",
       "      <th>4</th>\n",
       "      <td>45</td>\n",
       "      <td>Female</td>\n",
       "      <td>100000</td>\n",
       "      <td>Bachelor's Degree</td>\n",
       "      <td>Married</td>\n",
       "      <td>3</td>\n",
       "      <td>Owned</td>\n",
       "      <td>High</td>\n",
       "    </tr>\n",
       "  </tbody>\n",
       "</table>\n",
       "</div>"
      ],
      "text/plain": [
       "   Age  Gender  Income            Education Marital Status  \\\n",
       "0   25  Female   50000    Bachelor's Degree         Single   \n",
       "1   30    Male  100000      Master's Degree        Married   \n",
       "2   35  Female   75000            Doctorate        Married   \n",
       "3   40    Male  125000  High School Diploma         Single   \n",
       "4   45  Female  100000    Bachelor's Degree        Married   \n",
       "\n",
       "   Number of Children Home Ownership Credit Score  \n",
       "0                   0         Rented         High  \n",
       "1                   2          Owned         High  \n",
       "2                   1          Owned         High  \n",
       "3                   0          Owned         High  \n",
       "4                   3          Owned         High  "
      ]
     },
     "execution_count": 4,
     "metadata": {},
     "output_type": "execute_result"
    }
   ],
   "source": [
    "df.head()"
   ]
  },
  {
   "cell_type": "code",
   "execution_count": 5,
   "id": "301b35b9",
   "metadata": {
    "cell_id": "ce1acdf510c64f66a4246322174a347f",
    "deepnote_cell_type": "code",
    "deepnote_to_be_reexecuted": false,
    "execution": {
     "iopub.execute_input": "2023-05-24T19:22:25.680084Z",
     "iopub.status.busy": "2023-05-24T19:22:25.679407Z",
     "iopub.status.idle": "2023-05-24T19:22:25.685658Z",
     "shell.execute_reply": "2023-05-24T19:22:25.684988Z"
    },
    "execution_millis": 3,
    "execution_start": 1684953520609,
    "id": "eRJsGpFPFLAw",
    "outputId": "3016b6d1-f807-48e4-c696-2e83bb836b25",
    "papermill": {
     "duration": 0.028352,
     "end_time": "2023-05-24T19:22:25.687416",
     "exception": false,
     "start_time": "2023-05-24T19:22:25.659064",
     "status": "completed"
    },
    "source_hash": "25d43fa0",
    "tags": []
   },
   "outputs": [
    {
     "data": {
      "text/plain": [
       "Index(['Age', 'Gender', 'Income', 'Education', 'Marital Status',\n",
       "       'Number of Children', 'Home Ownership', 'Credit Score'],\n",
       "      dtype='object')"
      ]
     },
     "execution_count": 5,
     "metadata": {},
     "output_type": "execute_result"
    }
   ],
   "source": [
    "df.columns"
   ]
  },
  {
   "cell_type": "code",
   "execution_count": 6,
   "id": "ef6cfabc",
   "metadata": {
    "cell_id": "0466ad6bb2644c60aeb0d5729d90ea24",
    "deepnote_cell_type": "code",
    "deepnote_to_be_reexecuted": false,
    "execution": {
     "iopub.execute_input": "2023-05-24T19:22:25.726765Z",
     "iopub.status.busy": "2023-05-24T19:22:25.726154Z",
     "iopub.status.idle": "2023-05-24T19:22:25.739710Z",
     "shell.execute_reply": "2023-05-24T19:22:25.737699Z"
    },
    "execution_millis": 3,
    "execution_start": 1684953520610,
    "id": "JU3h-pqaFLAw",
    "outputId": "a7916e28-2e53-41c3-a567-8ed0c257b082",
    "papermill": {
     "duration": 0.036332,
     "end_time": "2023-05-24T19:22:25.742430",
     "exception": false,
     "start_time": "2023-05-24T19:22:25.706098",
     "status": "completed"
    },
    "source_hash": "512907e",
    "tags": []
   },
   "outputs": [
    {
     "data": {
      "text/plain": [
       "Age                   0\n",
       "Gender                0\n",
       "Income                0\n",
       "Education             0\n",
       "Marital Status        0\n",
       "Number of Children    0\n",
       "Home Ownership        0\n",
       "Credit Score          0\n",
       "dtype: int64"
      ]
     },
     "execution_count": 6,
     "metadata": {},
     "output_type": "execute_result"
    }
   ],
   "source": [
    "missing_values_count = df.isna().sum(axis=0)\n",
    "missing_values_count\n"
   ]
  },
  {
   "cell_type": "markdown",
   "id": "acee1b62",
   "metadata": {
    "cell_id": "5e5052ecadf24243b44f247c862e18a3",
    "deepnote_cell_type": "text-cell-p",
    "formattedRanges": [],
    "id": "tucuY7fOFLAy",
    "papermill": {
     "duration": 0.01939,
     "end_time": "2023-05-24T19:22:25.781562",
     "exception": false,
     "start_time": "2023-05-24T19:22:25.762172",
     "status": "completed"
    },
    "tags": []
   },
   "source": [
    "So we see that there are no missing values in the dataset"
   ]
  },
  {
   "cell_type": "code",
   "execution_count": 7,
   "id": "e95652fc",
   "metadata": {
    "cell_id": "c8a215013aa24be991704f649855b19c",
    "deepnote_cell_type": "code",
    "deepnote_to_be_reexecuted": false,
    "execution": {
     "iopub.execute_input": "2023-05-24T19:22:25.822275Z",
     "iopub.status.busy": "2023-05-24T19:22:25.821273Z",
     "iopub.status.idle": "2023-05-24T19:22:25.845121Z",
     "shell.execute_reply": "2023-05-24T19:22:25.843679Z"
    },
    "execution_millis": 8,
    "execution_start": 1684953520614,
    "id": "0TlR-t89FLAy",
    "outputId": "ab3f2a78-65ba-41bb-c692-18c514217d91",
    "papermill": {
     "duration": 0.047155,
     "end_time": "2023-05-24T19:22:25.847296",
     "exception": false,
     "start_time": "2023-05-24T19:22:25.800141",
     "status": "completed"
    },
    "source_hash": "de1e323c",
    "tags": []
   },
   "outputs": [
    {
     "name": "stdout",
     "output_type": "stream",
     "text": [
      "<class 'pandas.core.frame.DataFrame'>\n",
      "RangeIndex: 164 entries, 0 to 163\n",
      "Data columns (total 8 columns):\n",
      " #   Column              Non-Null Count  Dtype \n",
      "---  ------              --------------  ----- \n",
      " 0   Age                 164 non-null    int64 \n",
      " 1   Gender              164 non-null    object\n",
      " 2   Income              164 non-null    int64 \n",
      " 3   Education           164 non-null    object\n",
      " 4   Marital Status      164 non-null    object\n",
      " 5   Number of Children  164 non-null    int64 \n",
      " 6   Home Ownership      164 non-null    object\n",
      " 7   Credit Score        164 non-null    object\n",
      "dtypes: int64(3), object(5)\n",
      "memory usage: 10.4+ KB\n"
     ]
    }
   ],
   "source": [
    "df.info()"
   ]
  },
  {
   "cell_type": "code",
   "execution_count": 8,
   "id": "8a725532",
   "metadata": {
    "cell_id": "a13c5d0e1eca4c7f86cd205f7e18aede",
    "deepnote_cell_type": "code",
    "deepnote_to_be_reexecuted": false,
    "execution": {
     "iopub.execute_input": "2023-05-24T19:22:25.886936Z",
     "iopub.status.busy": "2023-05-24T19:22:25.886356Z",
     "iopub.status.idle": "2023-05-24T19:22:25.893199Z",
     "shell.execute_reply": "2023-05-24T19:22:25.891997Z"
    },
    "execution_millis": 3,
    "execution_start": 1684953520657,
    "id": "NzsWAH4_FLA0",
    "outputId": "99b9bb53-9aec-4f26-9c2e-a01ae70cf530",
    "papermill": {
     "duration": 0.029074,
     "end_time": "2023-05-24T19:22:25.895349",
     "exception": false,
     "start_time": "2023-05-24T19:22:25.866275",
     "status": "completed"
    },
    "source_hash": "14f60b8f",
    "tags": []
   },
   "outputs": [
    {
     "data": {
      "text/plain": [
       "(164, 8)"
      ]
     },
     "execution_count": 8,
     "metadata": {},
     "output_type": "execute_result"
    }
   ],
   "source": [
    "df.shape"
   ]
  },
  {
   "cell_type": "markdown",
   "id": "0218ac60",
   "metadata": {
    "cell_id": "fb6db925360b4c53bc58d496ed70bc67",
    "deepnote_cell_type": "text-cell-p",
    "formattedRanges": [],
    "id": "A9Fj3uqzFLA0",
    "papermill": {
     "duration": 0.018821,
     "end_time": "2023-05-24T19:22:25.933619",
     "exception": false,
     "start_time": "2023-05-24T19:22:25.914798",
     "status": "completed"
    },
    "tags": []
   },
   "source": [
    "The dataset is already clean. Doesn't require further cleaning."
   ]
  },
  {
   "cell_type": "markdown",
   "id": "889da749",
   "metadata": {
    "cell_id": "7a6561c5b110419b8c8fef265c7c3a66",
    "deepnote_cell_type": "text-cell-h1",
    "formattedRanges": [],
    "id": "mgSBUdPzFLA1",
    "papermill": {
     "duration": 0.018781,
     "end_time": "2023-05-24T19:22:25.971715",
     "exception": false,
     "start_time": "2023-05-24T19:22:25.952934",
     "status": "completed"
    },
    "tags": []
   },
   "source": [
    "# 4. EDA"
   ]
  },
  {
   "cell_type": "code",
   "execution_count": 9,
   "id": "4eabed5e",
   "metadata": {
    "cell_id": "f66939e75a304a6eb1d3590b579dd5a2",
    "deepnote_cell_type": "code",
    "deepnote_to_be_reexecuted": false,
    "execution": {
     "iopub.execute_input": "2023-05-24T19:22:26.012348Z",
     "iopub.status.busy": "2023-05-24T19:22:26.011590Z",
     "iopub.status.idle": "2023-05-24T19:22:26.032416Z",
     "shell.execute_reply": "2023-05-24T19:22:26.031357Z"
    },
    "execution_millis": 3,
    "execution_start": 1684953520659,
    "id": "a6-d3Mi-FLA1",
    "outputId": "ab610e8e-8d31-42e0-ea57-b719247d8442",
    "papermill": {
     "duration": 0.043914,
     "end_time": "2023-05-24T19:22:26.034726",
     "exception": false,
     "start_time": "2023-05-24T19:22:25.990812",
     "status": "completed"
    },
    "source_hash": "f88152d9",
    "tags": []
   },
   "outputs": [
    {
     "data": {
      "text/html": [
       "<div>\n",
       "<style scoped>\n",
       "    .dataframe tbody tr th:only-of-type {\n",
       "        vertical-align: middle;\n",
       "    }\n",
       "\n",
       "    .dataframe tbody tr th {\n",
       "        vertical-align: top;\n",
       "    }\n",
       "\n",
       "    .dataframe thead th {\n",
       "        text-align: right;\n",
       "    }\n",
       "</style>\n",
       "<table border=\"1\" class=\"dataframe\">\n",
       "  <thead>\n",
       "    <tr style=\"text-align: right;\">\n",
       "      <th></th>\n",
       "      <th>Age</th>\n",
       "      <th>Income</th>\n",
       "      <th>Number of Children</th>\n",
       "    </tr>\n",
       "  </thead>\n",
       "  <tbody>\n",
       "    <tr>\n",
       "      <th>count</th>\n",
       "      <td>164.000000</td>\n",
       "      <td>164.000000</td>\n",
       "      <td>164.000000</td>\n",
       "    </tr>\n",
       "    <tr>\n",
       "      <th>mean</th>\n",
       "      <td>37.975610</td>\n",
       "      <td>83765.243902</td>\n",
       "      <td>0.652439</td>\n",
       "    </tr>\n",
       "    <tr>\n",
       "      <th>std</th>\n",
       "      <td>8.477289</td>\n",
       "      <td>32457.306728</td>\n",
       "      <td>0.883346</td>\n",
       "    </tr>\n",
       "    <tr>\n",
       "      <th>min</th>\n",
       "      <td>25.000000</td>\n",
       "      <td>25000.000000</td>\n",
       "      <td>0.000000</td>\n",
       "    </tr>\n",
       "    <tr>\n",
       "      <th>25%</th>\n",
       "      <td>30.750000</td>\n",
       "      <td>57500.000000</td>\n",
       "      <td>0.000000</td>\n",
       "    </tr>\n",
       "    <tr>\n",
       "      <th>50%</th>\n",
       "      <td>37.000000</td>\n",
       "      <td>83750.000000</td>\n",
       "      <td>0.000000</td>\n",
       "    </tr>\n",
       "    <tr>\n",
       "      <th>75%</th>\n",
       "      <td>45.000000</td>\n",
       "      <td>105000.000000</td>\n",
       "      <td>1.000000</td>\n",
       "    </tr>\n",
       "    <tr>\n",
       "      <th>max</th>\n",
       "      <td>53.000000</td>\n",
       "      <td>162500.000000</td>\n",
       "      <td>3.000000</td>\n",
       "    </tr>\n",
       "  </tbody>\n",
       "</table>\n",
       "</div>"
      ],
      "text/plain": [
       "              Age         Income  Number of Children\n",
       "count  164.000000     164.000000          164.000000\n",
       "mean    37.975610   83765.243902            0.652439\n",
       "std      8.477289   32457.306728            0.883346\n",
       "min     25.000000   25000.000000            0.000000\n",
       "25%     30.750000   57500.000000            0.000000\n",
       "50%     37.000000   83750.000000            0.000000\n",
       "75%     45.000000  105000.000000            1.000000\n",
       "max     53.000000  162500.000000            3.000000"
      ]
     },
     "execution_count": 9,
     "metadata": {},
     "output_type": "execute_result"
    }
   ],
   "source": [
    "df.describe()"
   ]
  },
  {
   "cell_type": "code",
   "execution_count": 10,
   "id": "6b17c44b",
   "metadata": {
    "cell_id": "edd93b36d0534ec1a406d9662ff5114f",
    "deepnote_cell_type": "code",
    "deepnote_to_be_reexecuted": false,
    "execution": {
     "iopub.execute_input": "2023-05-24T19:22:26.074646Z",
     "iopub.status.busy": "2023-05-24T19:22:26.074229Z",
     "iopub.status.idle": "2023-05-24T19:22:26.323062Z",
     "shell.execute_reply": "2023-05-24T19:22:26.322050Z"
    },
    "execution_millis": 464,
    "execution_start": 1684953520664,
    "id": "dAT1iDx4FLA2",
    "outputId": "5e7ac0b9-ad51-4033-8d82-491a2ada09f2",
    "papermill": {
     "duration": 0.271329,
     "end_time": "2023-05-24T19:22:26.325283",
     "exception": false,
     "start_time": "2023-05-24T19:22:26.053954",
     "status": "completed"
    },
    "source_hash": "db731bb3",
    "tags": []
   },
   "outputs": [
    {
     "name": "stderr",
     "output_type": "stream",
     "text": [
      "/tmp/ipykernel_20/985099981.py:2: FutureWarning: The default value of numeric_only in DataFrame.corr is deprecated. In a future version, it will default to False. Select only valid columns or specify the value of numeric_only to silence this warning.\n",
      "  correlation_matrix = df.corr()\n"
     ]
    },
    {
     "data": {
      "image/png": "[encoded data removed]",
      "text/plain": [
       "<Figure size 640x480 with 2 Axes>"
      ]
     },
     "metadata": {},
     "output_type": "display_data"
    }
   ],
   "source": [
    "# Compute the correlation matrix\n",
    "correlation_matrix = df.corr()\n",
    "\n",
    "# Plot the correlation matrix as a heatmap\n",
    "sns.heatmap(correlation_matrix, annot=True, cmap='coolwarm')\n",
    "\n",
    "# Add title and display the plot\n",
    "plt.title('Correlation Matrix')\n",
    "plt.show()"
   ]
  },
  {
   "cell_type": "markdown",
   "id": "5ef3d7ab",
   "metadata": {
    "cell_id": "d2c31a74c266484f8ddb4b833b79707a",
    "deepnote_cell_type": "text-cell-p",
    "formattedRanges": [],
    "id": "4Bygtod5FLA3",
    "papermill": {
     "duration": 0.01914,
     "end_time": "2023-05-24T19:22:26.364565",
     "exception": false,
     "start_time": "2023-05-24T19:22:26.345425",
     "status": "completed"
    },
    "tags": []
   },
   "source": [
    "We see a high positive correlation between Age and Income"
   ]
  },
  {
   "cell_type": "markdown",
   "id": "ad5afa70",
   "metadata": {
    "cell_id": "de8aedfd98f64c30a7f8b137e6c0b06f",
    "deepnote_cell_type": "text-cell-h2",
    "formattedRanges": [],
    "id": "8bjd_8bqFLA3",
    "papermill": {
     "duration": 0.019111,
     "end_time": "2023-05-24T19:22:26.403013",
     "exception": false,
     "start_time": "2023-05-24T19:22:26.383902",
     "status": "completed"
    },
    "tags": []
   },
   "source": [
    "## 4.1 Age"
   ]
  },
  {
   "cell_type": "code",
   "execution_count": 11,
   "id": "0d54950c",
   "metadata": {
    "cell_id": "88d6c1e6a19d4695a695a5ee9fd82eee",
    "deepnote_cell_type": "code",
    "deepnote_to_be_reexecuted": false,
    "execution": {
     "iopub.execute_input": "2023-05-24T19:22:26.443487Z",
     "iopub.status.busy": "2023-05-24T19:22:26.442814Z",
     "iopub.status.idle": "2023-05-24T19:22:26.449966Z",
     "shell.execute_reply": "2023-05-24T19:22:26.448374Z"
    },
    "execution_millis": 4,
    "execution_start": 1684953521132,
    "id": "xHtautqiFLA3",
    "outputId": "b1b0b3d2-6828-4b41-9797-7aeecdfeb018",
    "papermill": {
     "duration": 0.029882,
     "end_time": "2023-05-24T19:22:26.452285",
     "exception": false,
     "start_time": "2023-05-24T19:22:26.422403",
     "status": "completed"
    },
    "source_hash": "25d43fa0",
    "tags": []
   },
   "outputs": [
    {
     "data": {
      "text/plain": [
       "Index(['Age', 'Gender', 'Income', 'Education', 'Marital Status',\n",
       "       'Number of Children', 'Home Ownership', 'Credit Score'],\n",
       "      dtype='object')"
      ]
     },
     "execution_count": 11,
     "metadata": {},
     "output_type": "execute_result"
    }
   ],
   "source": [
    "df.columns"
   ]
  },
  {
   "cell_type": "code",
   "execution_count": 12,
   "id": "fc61bb96",
   "metadata": {
    "cell_id": "78dbcd361d7c4fbfb2d9196a7131af69",
    "deepnote_cell_type": "code",
    "deepnote_to_be_reexecuted": false,
    "execution": {
     "iopub.execute_input": "2023-05-24T19:22:26.493426Z",
     "iopub.status.busy": "2023-05-24T19:22:26.493037Z",
     "iopub.status.idle": "2023-05-24T19:22:26.733345Z",
     "shell.execute_reply": "2023-05-24T19:22:26.732451Z"
    },
    "execution_millis": 329,
    "execution_start": 1684953521147,
    "id": "qqBaCuaTFLA4",
    "outputId": "fcdece16-3f5b-4bcf-d17e-ed4e505035de",
    "papermill": {
     "duration": 0.263122,
     "end_time": "2023-05-24T19:22:26.735118",
     "exception": false,
     "start_time": "2023-05-24T19:22:26.471996",
     "status": "completed"
    },
    "source_hash": "d6c2ab5b",
    "tags": []
   },
   "outputs": [
    {
     "data": {
      "image/png": "[encoded data removed]",
      "text/plain": [
       "<Figure size 640x480 with 1 Axes>"
      ]
     },
     "metadata": {},
     "output_type": "display_data"
    }
   ],
   "source": [
    "# Plot histogram with KDE\n",
    "sns.histplot(data=df, x='Age', kde=True)\n",
    "\n",
    "# Add labels and title\n",
    "plt.xlabel('Age')\n",
    "plt.ylabel('Frequency')\n",
    "plt.title('Distribution of Age')\n",
    "\n",
    "# Display the plot\n",
    "plt.show()"
   ]
  },
  {
   "cell_type": "markdown",
   "id": "51fb3376",
   "metadata": {
    "cell_id": "0efd7987a9444158b5e1490e7c5f57bc",
    "deepnote_cell_type": "text-cell-p",
    "formattedRanges": [],
    "id": "eYzZzEukFLA4",
    "papermill": {
     "duration": 0.018897,
     "end_time": "2023-05-24T19:22:26.773691",
     "exception": false,
     "start_time": "2023-05-24T19:22:26.754794",
     "status": "completed"
    },
    "tags": []
   },
   "source": [
    "Distribution of the age column"
   ]
  },
  {
   "cell_type": "markdown",
   "id": "b5f89d27",
   "metadata": {
    "cell_id": "657e1cc3f35544658dfcc98e6cb1798f",
    "deepnote_cell_type": "text-cell-h2",
    "formattedRanges": [],
    "id": "-CNHpE44FLA4",
    "papermill": {
     "duration": 0.019068,
     "end_time": "2023-05-24T19:22:26.812085",
     "exception": false,
     "start_time": "2023-05-24T19:22:26.793017",
     "status": "completed"
    },
    "tags": []
   },
   "source": [
    "## 4.2 Gender"
   ]
  },
  {
   "cell_type": "code",
   "execution_count": 13,
   "id": "c2fc1064",
   "metadata": {
    "cell_id": "09994afb2368412aa4ab5914b3e66f2d",
    "deepnote_cell_type": "code",
    "deepnote_to_be_reexecuted": false,
    "execution": {
     "iopub.execute_input": "2023-05-24T19:22:26.852695Z",
     "iopub.status.busy": "2023-05-24T19:22:26.852312Z",
     "iopub.status.idle": "2023-05-24T19:22:27.005326Z",
     "shell.execute_reply": "2023-05-24T19:22:27.004126Z"
    },
    "execution_millis": 208,
    "execution_start": 1684953521538,
    "id": "MNnDZVWMFLA5",
    "outputId": "3f163181-2efd-4c0e-d9cb-3c198b238478",
    "papermill": {
     "duration": 0.176211,
     "end_time": "2023-05-24T19:22:27.007674",
     "exception": false,
     "start_time": "2023-05-24T19:22:26.831463",
     "status": "completed"
    },
    "source_hash": "b6bed15f",
    "tags": []
   },
   "outputs": [
    {
     "data": {
      "image/png": "[encoded data removed]",
      "text/plain": [
       "<Figure size 640x480 with 1 Axes>"
      ]
     },
     "metadata": {},
     "output_type": "display_data"
    }
   ],
   "source": [
    "# Compute value counts for the \"Gender\" column\n",
    "gender_counts = df['Gender'].value_counts()\n",
    "\n",
    "# Plot the value counts as a bar plot\n",
    "sns.barplot(x=gender_counts.index, y=gender_counts.values)\n",
    "\n",
    "# Add labels and title\n",
    "plt.xlabel('Gender')\n",
    "plt.ylabel('Count')\n",
    "plt.title('Value Counts of Gender')\n",
    "\n",
    "# Display the plot\n",
    "plt.show()"
   ]
  },
  {
   "cell_type": "markdown",
   "id": "2abbe676",
   "metadata": {
    "cell_id": "0ef1056462ec41e4b89d16a42744527f",
    "deepnote_cell_type": "text-cell-h2",
    "formattedRanges": [],
    "id": "jvQ4ngazFLA5",
    "papermill": {
     "duration": 0.019773,
     "end_time": "2023-05-24T19:22:27.047966",
     "exception": false,
     "start_time": "2023-05-24T19:22:27.028193",
     "status": "completed"
    },
    "tags": []
   },
   "source": [
    "## 4.3 Income"
   ]
  },
  {
   "cell_type": "code",
   "execution_count": 14,
   "id": "f53eba4c",
   "metadata": {
    "cell_id": "2cd28bac42f14a89b7242713b7e28c3e",
    "deepnote_cell_type": "code",
    "deepnote_to_be_reexecuted": false,
    "execution": {
     "iopub.execute_input": "2023-05-24T19:22:27.089549Z",
     "iopub.status.busy": "2023-05-24T19:22:27.088774Z",
     "iopub.status.idle": "2023-05-24T19:22:27.374563Z",
     "shell.execute_reply": "2023-05-24T19:22:27.373439Z"
    },
    "execution_millis": 372,
    "execution_start": 1684953521756,
    "id": "CPfKG_NDFLA5",
    "outputId": "8c9ee421-7d46-440f-e33d-99863f550e94",
    "papermill": {
     "duration": 0.308389,
     "end_time": "2023-05-24T19:22:27.376435",
     "exception": false,
     "start_time": "2023-05-24T19:22:27.068046",
     "status": "completed"
    },
    "source_hash": "b048f78e",
    "tags": []
   },
   "outputs": [
    {
     "data": {
      "image/png": "[encoded data removed]",
      "text/plain": [
       "<Figure size 640x480 with 1 Axes>"
      ]
     },
     "metadata": {},
     "output_type": "display_data"
    }
   ],
   "source": [
    "# Plot histogram with KDE\n",
    "sns.histplot(data=df, x='Income', kde=True)\n",
    "\n",
    "# Add labels and title\n",
    "plt.xlabel('Income')\n",
    "plt.ylabel('Frequency')\n",
    "plt.title('Distribution of Income')\n",
    "\n",
    "# Display the plot\n",
    "plt.show()"
   ]
  },
  {
   "cell_type": "markdown",
   "id": "87564008",
   "metadata": {
    "cell_id": "932895bbddd74474bd164d9f2e71810b",
    "deepnote_cell_type": "text-cell-h2",
    "formattedRanges": [],
    "id": "aNj57eqdFLA6",
    "papermill": {
     "duration": 0.019679,
     "end_time": "2023-05-24T19:22:27.416523",
     "exception": false,
     "start_time": "2023-05-24T19:22:27.396844",
     "status": "completed"
    },
    "tags": []
   },
   "source": [
    "## 4.4 Education"
   ]
  },
  {
   "cell_type": "code",
   "execution_count": 15,
   "id": "6289877d",
   "metadata": {
    "cell_id": "5ad865e64ab24382b3a423da664ef4cd",
    "deepnote_cell_type": "code",
    "deepnote_to_be_reexecuted": false,
    "execution": {
     "iopub.execute_input": "2023-05-24T19:22:27.459741Z",
     "iopub.status.busy": "2023-05-24T19:22:27.459309Z",
     "iopub.status.idle": "2023-05-24T19:22:27.667189Z",
     "shell.execute_reply": "2023-05-24T19:22:27.665911Z"
    },
    "execution_millis": 362,
    "execution_start": 1684953522134,
    "id": "hjFMp5J2FLA6",
    "outputId": "99781475-5f6e-41e6-b078-f3ea27b196c5",
    "papermill": {
     "duration": 0.233667,
     "end_time": "2023-05-24T19:22:27.670273",
     "exception": false,
     "start_time": "2023-05-24T19:22:27.436606",
     "status": "completed"
    },
    "source_hash": "c74755d4",
    "tags": []
   },
   "outputs": [
    {
     "data": {
      "image/png": "[encoded data removed]",
      "text/plain": [
       "<Figure size 640x480 with 1 Axes>"
      ]
     },
     "metadata": {},
     "output_type": "display_data"
    }
   ],
   "source": [
    "# Compute value counts for the \"Education\" column\n",
    "education_counts = df['Education'].value_counts()\n",
    "\n",
    "# Plot the value counts as a bar plot\n",
    "sns.barplot(x=education_counts.index, y=education_counts.values)\n",
    "\n",
    "# Add labels and title\n",
    "plt.xlabel('Education')\n",
    "plt.ylabel('Count')\n",
    "plt.title('Value Counts of Education')\n",
    "\n",
    "# Rotate x-axis labels if needed\n",
    "plt.xticks(rotation=45)\n",
    "\n",
    "# Display the plot\n",
    "plt.show()"
   ]
  },
  {
   "cell_type": "markdown",
   "id": "e62b50fc",
   "metadata": {
    "cell_id": "35d27bbb46254ef4a5ddb50e058f28b8",
    "deepnote_cell_type": "text-cell-h2",
    "formattedRanges": [],
    "id": "En1Ik_1CFLA7",
    "papermill": {
     "duration": 0.020981,
     "end_time": "2023-05-24T19:22:27.713202",
     "exception": false,
     "start_time": "2023-05-24T19:22:27.692221",
     "status": "completed"
    },
    "tags": []
   },
   "source": [
    "## 4.5 Marital Status"
   ]
  },
  {
   "cell_type": "code",
   "execution_count": 16,
   "id": "59e4b664",
   "metadata": {
    "cell_id": "23908cec991b4e63a6b47a23750d629a",
    "deepnote_cell_type": "code",
    "deepnote_to_be_reexecuted": false,
    "execution": {
     "iopub.execute_input": "2023-05-24T19:22:27.757462Z",
     "iopub.status.busy": "2023-05-24T19:22:27.756427Z",
     "iopub.status.idle": "2023-05-24T19:22:27.910653Z",
     "shell.execute_reply": "2023-05-24T19:22:27.909774Z"
    },
    "execution_millis": 290,
    "execution_start": 1684953522500,
    "id": "4_XusxNzFLA7",
    "outputId": "c89f503d-b8f4-4f3f-b4ec-7a00c1e2752e",
    "papermill": {
     "duration": 0.178725,
     "end_time": "2023-05-24T19:22:27.913084",
     "exception": false,
     "start_time": "2023-05-24T19:22:27.734359",
     "status": "completed"
    },
    "source_hash": "1b828d13",
    "tags": []
   },
   "outputs": [
    {
     "data": {
      "image/png": "[encoded data removed]",
      "text/plain": [
       "<Figure size 640x480 with 1 Axes>"
      ]
     },
     "metadata": {},
     "output_type": "display_data"
    }
   ],
   "source": [
    "# Compute value counts for the \"Marital Status\" column\n",
    "marital_status_counts = df['Marital Status'].value_counts()\n",
    "\n",
    "# Plot the value counts as a bar plot\n",
    "sns.barplot(x=marital_status_counts.index, y=marital_status_counts.values)\n",
    "\n",
    "# Add labels and title\n",
    "plt.xlabel('Marital Status')\n",
    "plt.ylabel('Count')\n",
    "plt.title('Value Counts of Marital Status')\n",
    "\n",
    "# Rotate x-axis labels if needed\n",
    "plt.xticks(rotation=45)\n",
    "\n",
    "# Display the plot\n",
    "plt.show()"
   ]
  },
  {
   "cell_type": "markdown",
   "id": "d6779f0e",
   "metadata": {
    "cell_id": "9df88acf3ce2461eba0bfd29ada53e02",
    "deepnote_cell_type": "text-cell-h2",
    "formattedRanges": [],
    "id": "vituKZfdFLA8",
    "papermill": {
     "duration": 0.021653,
     "end_time": "2023-05-24T19:22:27.960947",
     "exception": false,
     "start_time": "2023-05-24T19:22:27.939294",
     "status": "completed"
    },
    "tags": []
   },
   "source": [
    "## 4.6 Number of Children"
   ]
  },
  {
   "cell_type": "code",
   "execution_count": 17,
   "id": "2b2cc798",
   "metadata": {
    "cell_id": "16e2574d26cc4a099ade87df5ab0182c",
    "deepnote_cell_type": "code",
    "deepnote_to_be_reexecuted": false,
    "execution": {
     "iopub.execute_input": "2023-05-24T19:22:28.006492Z",
     "iopub.status.busy": "2023-05-24T19:22:28.006021Z",
     "iopub.status.idle": "2023-05-24T19:22:28.177025Z",
     "shell.execute_reply": "2023-05-24T19:22:28.176030Z"
    },
    "execution_millis": 312,
    "execution_start": 1684953522805,
    "id": "6ItbaOsPFLA8",
    "outputId": "61016d43-f9c6-4866-94bd-f4f0a0942f5f",
    "papermill": {
     "duration": 0.196154,
     "end_time": "2023-05-24T19:22:28.178905",
     "exception": false,
     "start_time": "2023-05-24T19:22:27.982751",
     "status": "completed"
    },
    "source_hash": "57724a35",
    "tags": []
   },
   "outputs": [
    {
     "data": {
      "image/png": "[encoded data removed]",
      "text/plain": [
       "<Figure size 640x480 with 1 Axes>"
      ]
     },
     "metadata": {},
     "output_type": "display_data"
    }
   ],
   "source": [
    "# Compute value counts for the \"Number of Children\" column\n",
    "children_counts = df['Number of Children'].value_counts()\n",
    "\n",
    "# Plot the value counts as a bar plot\n",
    "sns.barplot(x=children_counts.index, y=children_counts.values)\n",
    "\n",
    "# Add labels and title\n",
    "plt.xlabel('Number of Children')\n",
    "plt.ylabel('Count')\n",
    "plt.title('Value Counts of Number of Children')\n",
    "\n",
    "# Display the plot\n",
    "plt.show()"
   ]
  },
  {
   "cell_type": "markdown",
   "id": "8e8320b5",
   "metadata": {
    "cell_id": "85d65d9691504915a16336848c6d6989",
    "deepnote_cell_type": "text-cell-h2",
    "formattedRanges": [],
    "id": "wTYDaItBFLA8",
    "papermill": {
     "duration": 0.020594,
     "end_time": "2023-05-24T19:22:28.221047",
     "exception": false,
     "start_time": "2023-05-24T19:22:28.200453",
     "status": "completed"
    },
    "tags": []
   },
   "source": [
    "## 4.7 Home Ownership"
   ]
  },
  {
   "cell_type": "code",
   "execution_count": 18,
   "id": "0310967d",
   "metadata": {
    "cell_id": "45b4359677e34ced8d1a9d9d99966392",
    "deepnote_cell_type": "code",
    "deepnote_to_be_reexecuted": false,
    "execution": {
     "iopub.execute_input": "2023-05-24T19:22:28.264259Z",
     "iopub.status.busy": "2023-05-24T19:22:28.263924Z",
     "iopub.status.idle": "2023-05-24T19:22:28.269351Z",
     "shell.execute_reply": "2023-05-24T19:22:28.268575Z"
    },
    "execution_millis": 3,
    "execution_start": 1684953523120,
    "id": "TNgr9EHGFLA8",
    "outputId": "ed03f3c4-785e-4feb-9a17-ce47cab0af3b",
    "papermill": {
     "duration": 0.02922,
     "end_time": "2023-05-24T19:22:28.271019",
     "exception": false,
     "start_time": "2023-05-24T19:22:28.241799",
     "status": "completed"
    },
    "source_hash": "25d43fa0",
    "tags": []
   },
   "outputs": [
    {
     "data": {
      "text/plain": [
       "Index(['Age', 'Gender', 'Income', 'Education', 'Marital Status',\n",
       "       'Number of Children', 'Home Ownership', 'Credit Score'],\n",
       "      dtype='object')"
      ]
     },
     "execution_count": 18,
     "metadata": {},
     "output_type": "execute_result"
    }
   ],
   "source": [
    "df.columns"
   ]
  },
  {
   "cell_type": "code",
   "execution_count": 19,
   "id": "2c64134f",
   "metadata": {
    "cell_id": "79b719bdc699410e90ce997109fcf062",
    "deepnote_cell_type": "code",
    "deepnote_to_be_reexecuted": false,
    "execution": {
     "iopub.execute_input": "2023-05-24T19:22:28.314948Z",
     "iopub.status.busy": "2023-05-24T19:22:28.314652Z",
     "iopub.status.idle": "2023-05-24T19:22:28.477644Z",
     "shell.execute_reply": "2023-05-24T19:22:28.476760Z"
    },
    "execution_millis": 270,
    "execution_start": 1684953523131,
    "id": "p6efjZV6FLA9",
    "outputId": "ad657dd5-0b22-4529-ef5e-0db97213221a",
    "papermill": {
     "duration": 0.187282,
     "end_time": "2023-05-24T19:22:28.479425",
     "exception": false,
     "start_time": "2023-05-24T19:22:28.292143",
     "status": "completed"
    },
    "source_hash": "5a47915e",
    "tags": []
   },
   "outputs": [
    {
     "data": {
      "image/png": "[encoded data removed]",
      "text/plain": [
       "<Figure size 640x480 with 1 Axes>"
      ]
     },
     "metadata": {},
     "output_type": "display_data"
    }
   ],
   "source": [
    "# Compute value counts for the \"Home Ownership\" column\n",
    "home_ownership_counts = df['Home Ownership'].value_counts()\n",
    "\n",
    "# Plot the value counts as a bar plot\n",
    "sns.barplot(x=home_ownership_counts.index, y=home_ownership_counts.values)\n",
    "\n",
    "# Add labels and title\n",
    "plt.xlabel('Home Ownership')\n",
    "plt.ylabel('Count')\n",
    "plt.title('Value Counts of Home Ownership')\n",
    "\n",
    "# Rotate x-axis labels if needed\n",
    "plt.xticks(rotation=45)\n",
    "\n",
    "# Display the plot\n",
    "plt.show()"
   ]
  },
  {
   "cell_type": "markdown",
   "id": "bde77545",
   "metadata": {
    "cell_id": "ce74741097504ccbaa0abf4671287373",
    "deepnote_cell_type": "text-cell-h2",
    "formattedRanges": [],
    "id": "t2ZKYLe5FLA9",
    "papermill": {
     "duration": 0.021082,
     "end_time": "2023-05-24T19:22:28.521818",
     "exception": false,
     "start_time": "2023-05-24T19:22:28.500736",
     "status": "completed"
    },
    "tags": []
   },
   "source": [
    "## 4.8 Credit Score"
   ]
  },
  {
   "cell_type": "code",
   "execution_count": 20,
   "id": "d7f8199a",
   "metadata": {
    "cell_id": "4517fd1a96f94c71a47cbf099dab0df1",
    "deepnote_cell_type": "code",
    "deepnote_to_be_reexecuted": false,
    "execution": {
     "iopub.execute_input": "2023-05-24T19:22:28.567605Z",
     "iopub.status.busy": "2023-05-24T19:22:28.567159Z",
     "iopub.status.idle": "2023-05-24T19:22:28.740710Z",
     "shell.execute_reply": "2023-05-24T19:22:28.739443Z"
    },
    "execution_millis": 313,
    "execution_start": 1684953523415,
    "id": "di5UiWF_FLA9",
    "outputId": "bd6100bb-760c-44e2-e98b-622dfb1d63d8",
    "papermill": {
     "duration": 0.199447,
     "end_time": "2023-05-24T19:22:28.742656",
     "exception": false,
     "start_time": "2023-05-24T19:22:28.543209",
     "status": "completed"
    },
    "source_hash": "89b36c39",
    "tags": []
   },
   "outputs": [
    {
     "data": {
      "image/png": "[encoded data removed]",
      "text/plain": [
       "<Figure size 640x480 with 1 Axes>"
      ]
     },
     "metadata": {},
     "output_type": "display_data"
    }
   ],
   "source": [
    "# Compute value counts for the \"Credit Score\" column\n",
    "credit_score_counts = df['Credit Score'].value_counts()\n",
    "\n",
    "# Plot the value counts as a bar plot\n",
    "sns.barplot(x=credit_score_counts.index, y=credit_score_counts.values)\n",
    "\n",
    "# Add labels and title\n",
    "plt.xlabel('Credit Score')\n",
    "plt.ylabel('Count')\n",
    "plt.title('Value Counts of Credit Score')\n",
    "\n",
    "# Rotate x-axis labels if needed\n",
    "plt.xticks(rotation=45)\n",
    "\n",
    "# Display the plot\n",
    "plt.show()"
   ]
  },
  {
   "cell_type": "code",
   "execution_count": 21,
   "id": "480fc68f",
   "metadata": {
    "cell_id": "069019aee7314945bded0b7356bdead3",
    "deepnote_cell_type": "code",
    "deepnote_to_be_reexecuted": false,
    "execution": {
     "iopub.execute_input": "2023-05-24T19:22:28.788947Z",
     "iopub.status.busy": "2023-05-24T19:22:28.788209Z",
     "iopub.status.idle": "2023-05-24T19:22:28.904820Z",
     "shell.execute_reply": "2023-05-24T19:22:28.903785Z"
    },
    "execution_millis": 171,
    "execution_start": 1684953523745,
    "id": "9ckq4CGmFLA-",
    "outputId": "b02165d0-061f-444d-e29e-f4584b7ef276",
    "papermill": {
     "duration": 0.141792,
     "end_time": "2023-05-24T19:22:28.906829",
     "exception": false,
     "start_time": "2023-05-24T19:22:28.765037",
     "status": "completed"
    },
    "source_hash": "8304f1bf",
    "tags": []
   },
   "outputs": [
    {
     "data": {
      "image/png": "[encoded data removed]",
      "text/plain": [
       "<Figure size 800x600 with 1 Axes>"
      ]
     },
     "metadata": {},
     "output_type": "display_data"
    }
   ],
   "source": [
    "# Plot the value counts as a pie chart\n",
    "plt.figure(figsize=(8, 6))\n",
    "plt.pie(credit_score_counts.values, labels=credit_score_counts.index, autopct='%1.1f%%')\n",
    "plt.title('Value Counts of Credit Score')\n",
    "\n",
    "# Display the pie chart\n",
    "plt.show()"
   ]
  },
  {
   "cell_type": "markdown",
   "id": "32e0ae50",
   "metadata": {
    "cell_id": "b8dafd728d98477e9ba9d5ef993731fa",
    "deepnote_cell_type": "text-cell-h2",
    "formattedRanges": [],
    "id": "YXB_ilVZFLA-",
    "papermill": {
     "duration": 0.030136,
     "end_time": "2023-05-24T19:22:28.966537",
     "exception": false,
     "start_time": "2023-05-24T19:22:28.936401",
     "status": "completed"
    },
    "tags": []
   },
   "source": [
    "## 4.9 Correlation w.r.t Credit Score"
   ]
  },
  {
   "cell_type": "code",
   "execution_count": 22,
   "id": "166005b2",
   "metadata": {
    "cell_id": "a3225ea280764545a04547313abbba21",
    "deepnote_cell_type": "code",
    "deepnote_to_be_reexecuted": false,
    "execution": {
     "iopub.execute_input": "2023-05-24T19:22:29.014809Z",
     "iopub.status.busy": "2023-05-24T19:22:29.014508Z",
     "iopub.status.idle": "2023-05-24T19:22:29.188832Z",
     "shell.execute_reply": "2023-05-24T19:22:29.187390Z"
    },
    "execution_millis": 655,
    "execution_start": 1684953523928,
    "id": "aGf061nNFLA-",
    "outputId": "a2e2c9ff-3193-43d6-e0d2-2645d239d70d",
    "papermill": {
     "duration": 0.199816,
     "end_time": "2023-05-24T19:22:29.191345",
     "exception": false,
     "start_time": "2023-05-24T19:22:28.991529",
     "status": "completed"
    },
    "source_hash": "d055ed7d",
    "tags": []
   },
   "outputs": [
    {
     "name": "stdout",
     "output_type": "stream",
     "text": [
      "Age                   0.205362\n",
      "Gender               -0.247729\n",
      "Income                0.083698\n",
      "Education             0.334424\n",
      "Marital Status       -0.205756\n",
      "Number of Children    0.136517\n",
      "Home Ownership       -0.293384\n",
      "Credit Score          1.000000\n",
      "Name: Credit Score, dtype: float64\n"
     ]
    }
   ],
   "source": [
    "from sklearn.preprocessing import LabelEncoder\n",
    "\n",
    "# Create a copy of the DataFrame\n",
    "df_encoded = df.copy()\n",
    "\n",
    "# Initialize the LabelEncoder\n",
    "label_encoder = LabelEncoder()\n",
    "\n",
    "# Iterate over each column\n",
    "for column in df_encoded.columns:\n",
    "    # Check if the column needs to be encoded\n",
    "    if df_encoded[column].dtype == 'object':\n",
    "        # Use LabelEncoder to encode the column\n",
    "        df_encoded[column] = label_encoder.fit_transform(df_encoded[column])\n",
    "\n",
    "# Calculate the correlation with respect to 'Credit Score'\n",
    "correlation = df_encoded.corr()['Credit Score']\n",
    "\n",
    "# Print the correlation values\n",
    "print(correlation)"
   ]
  },
  {
   "cell_type": "code",
   "execution_count": 23,
   "id": "5f012f36",
   "metadata": {
    "cell_id": "cd4d6821080d4073adee0b19c1665b42",
    "deepnote_cell_type": "code",
    "deepnote_to_be_reexecuted": false,
    "execution": {
     "iopub.execute_input": "2023-05-24T19:22:29.239196Z",
     "iopub.status.busy": "2023-05-24T19:22:29.238872Z",
     "iopub.status.idle": "2023-05-24T19:22:29.486500Z",
     "shell.execute_reply": "2023-05-24T19:22:29.485223Z"
    },
    "execution_millis": 369,
    "execution_start": 1684953524590,
    "id": "BtL4ynYaFLA-",
    "outputId": "f3f9454d-e16f-4e32-ee69-bdca601c2da7",
    "papermill": {
     "duration": 0.273704,
     "end_time": "2023-05-24T19:22:29.488276",
     "exception": false,
     "start_time": "2023-05-24T19:22:29.214572",
     "status": "completed"
    },
    "source_hash": "f626f26f",
    "tags": []
   },
   "outputs": [
    {
     "data": {
      "image/png": "[encoded data removed]",
      "text/plain": [
       "<Figure size 1000x600 with 1 Axes>"
      ]
     },
     "metadata": {},
     "output_type": "display_data"
    }
   ],
   "source": [
    "# Plot the correlation values as a bar plot\n",
    "plt.figure(figsize=(10, 6))\n",
    "sns.barplot(x=correlation.index, y=correlation.values)\n",
    "plt.xlabel('Columns')\n",
    "plt.ylabel('Correlation')\n",
    "plt.title('Correlation with Credit Score')\n",
    "\n",
    "# Rotate x-axis labels if needed\n",
    "plt.xticks(rotation=45)\n",
    "\n",
    "# Display the plot\n",
    "plt.show()"
   ]
  },
  {
   "cell_type": "markdown",
   "id": "7ca4f297",
   "metadata": {
    "cell_id": "2b31eaa581534ff5a6c479119e9bbe51",
    "deepnote_cell_type": "text-cell-p",
    "formattedRanges": [],
    "id": "PJTpUCqGFLBK",
    "papermill": {
     "duration": 0.024035,
     "end_time": "2023-05-24T19:22:29.537206",
     "exception": false,
     "start_time": "2023-05-24T19:22:29.513171",
     "status": "completed"
    },
    "tags": []
   },
   "source": [
    "A slightly +ve correlation is seen between Education and Credit Score"
   ]
  },
  {
   "cell_type": "code",
   "execution_count": 24,
   "id": "62d5659a",
   "metadata": {
    "cell_id": "6a54e09e46304c65a36ce4f59d4a109c",
    "deepnote_cell_type": "code",
    "deepnote_to_be_reexecuted": false,
    "execution": {
     "iopub.execute_input": "2023-05-24T19:22:29.586121Z",
     "iopub.status.busy": "2023-05-24T19:22:29.585780Z",
     "iopub.status.idle": "2023-05-24T19:22:31.847379Z",
     "shell.execute_reply": "2023-05-24T19:22:31.846291Z"
    },
    "execution_millis": 2512,
    "execution_start": 1684953524988,
    "id": "3UkwDvPJFLBK",
    "outputId": "18d75233-21ee-480e-86ef-dce01e4c1920",
    "papermill": {
     "duration": 2.288288,
     "end_time": "2023-05-24T19:22:31.849366",
     "exception": false,
     "start_time": "2023-05-24T19:22:29.561078",
     "status": "completed"
    },
    "source_hash": "49e00b7a",
    "tags": []
   },
   "outputs": [
    {
     "data": {
      "image/png": "[encoded data removed]",
      "text/plain": [
       "<Figure size 750x750 with 12 Axes>"
      ]
     },
     "metadata": {},
     "output_type": "display_data"
    }
   ],
   "source": [
    "# Plot pairwise relationships using a pair plot\n",
    "sns.pairplot(data=df)\n",
    "\n",
    "# Display the plot\n",
    "plt.show()"
   ]
  },
  {
   "cell_type": "markdown",
   "id": "6f2c8227",
   "metadata": {
    "cell_id": "b301fbdc86914973a9037409ab269a04",
    "deepnote_cell_type": "text-cell-h1",
    "formattedRanges": [],
    "id": "3lG_0B7tFLBL",
    "papermill": {
     "duration": 0.026777,
     "end_time": "2023-05-24T19:22:31.900058",
     "exception": false,
     "start_time": "2023-05-24T19:22:31.873281",
     "status": "completed"
    },
    "tags": []
   },
   "source": [
    "# 5. ML: Multiclassification (Model Comparison)"
   ]
  },
  {
   "cell_type": "code",
   "execution_count": 25,
   "id": "677fb0ad",
   "metadata": {
    "cell_id": "353b86452334407a9416a9cfb10be1fc",
    "deepnote_cell_type": "code",
    "deepnote_to_be_reexecuted": false,
    "execution": {
     "iopub.execute_input": "2023-05-24T19:22:31.951808Z",
     "iopub.status.busy": "2023-05-24T19:22:31.951120Z",
     "iopub.status.idle": "2023-05-24T19:22:31.962652Z",
     "shell.execute_reply": "2023-05-24T19:22:31.961796Z"
    },
    "execution_millis": 28,
    "execution_start": 1684953527515,
    "id": "_PCt-4XRFLBL",
    "outputId": "09fd7954-3065-4dc8-9a0a-87ed961e0e4b",
    "papermill": {
     "duration": 0.038822,
     "end_time": "2023-05-24T19:22:31.964381",
     "exception": false,
     "start_time": "2023-05-24T19:22:31.925559",
     "status": "completed"
    },
    "source_hash": "2a8a3f64",
    "tags": []
   },
   "outputs": [
    {
     "data": {
      "text/html": [
       "<div>\n",
       "<style scoped>\n",
       "    .dataframe tbody tr th:only-of-type {\n",
       "        vertical-align: middle;\n",
       "    }\n",
       "\n",
       "    .dataframe tbody tr th {\n",
       "        vertical-align: top;\n",
       "    }\n",
       "\n",
       "    .dataframe thead th {\n",
       "        text-align: right;\n",
       "    }\n",
       "</style>\n",
       "<table border=\"1\" class=\"dataframe\">\n",
       "  <thead>\n",
       "    <tr style=\"text-align: right;\">\n",
       "      <th></th>\n",
       "      <th>Age</th>\n",
       "      <th>Gender</th>\n",
       "      <th>Income</th>\n",
       "      <th>Education</th>\n",
       "      <th>Marital Status</th>\n",
       "      <th>Number of Children</th>\n",
       "      <th>Home Ownership</th>\n",
       "      <th>Credit Score</th>\n",
       "    </tr>\n",
       "  </thead>\n",
       "  <tbody>\n",
       "    <tr>\n",
       "      <th>0</th>\n",
       "      <td>25</td>\n",
       "      <td>0</td>\n",
       "      <td>50000</td>\n",
       "      <td>1</td>\n",
       "      <td>1</td>\n",
       "      <td>0</td>\n",
       "      <td>1</td>\n",
       "      <td>1</td>\n",
       "    </tr>\n",
       "    <tr>\n",
       "      <th>1</th>\n",
       "      <td>30</td>\n",
       "      <td>1</td>\n",
       "      <td>100000</td>\n",
       "      <td>4</td>\n",
       "      <td>0</td>\n",
       "      <td>2</td>\n",
       "      <td>0</td>\n",
       "      <td>1</td>\n",
       "    </tr>\n",
       "    <tr>\n",
       "      <th>2</th>\n",
       "      <td>35</td>\n",
       "      <td>0</td>\n",
       "      <td>75000</td>\n",
       "      <td>2</td>\n",
       "      <td>0</td>\n",
       "      <td>1</td>\n",
       "      <td>0</td>\n",
       "      <td>1</td>\n",
       "    </tr>\n",
       "    <tr>\n",
       "      <th>3</th>\n",
       "      <td>40</td>\n",
       "      <td>1</td>\n",
       "      <td>125000</td>\n",
       "      <td>3</td>\n",
       "      <td>1</td>\n",
       "      <td>0</td>\n",
       "      <td>0</td>\n",
       "      <td>1</td>\n",
       "    </tr>\n",
       "    <tr>\n",
       "      <th>4</th>\n",
       "      <td>45</td>\n",
       "      <td>0</td>\n",
       "      <td>100000</td>\n",
       "      <td>1</td>\n",
       "      <td>0</td>\n",
       "      <td>3</td>\n",
       "      <td>0</td>\n",
       "      <td>1</td>\n",
       "    </tr>\n",
       "  </tbody>\n",
       "</table>\n",
       "</div>"
      ],
      "text/plain": [
       "   Age  Gender  Income  Education  Marital Status  Number of Children  \\\n",
       "0   25       0   50000          1               1                   0   \n",
       "1   30       1  100000          4               0                   2   \n",
       "2   35       0   75000          2               0                   1   \n",
       "3   40       1  125000          3               1                   0   \n",
       "4   45       0  100000          1               0                   3   \n",
       "\n",
       "   Home Ownership  Credit Score  \n",
       "0               1             1  \n",
       "1               0             1  \n",
       "2               0             1  \n",
       "3               0             1  \n",
       "4               0             1  "
      ]
     },
     "execution_count": 25,
     "metadata": {},
     "output_type": "execute_result"
    }
   ],
   "source": [
    "df_encoded.head()"
   ]
  },
  {
   "cell_type": "code",
   "execution_count": 26,
   "id": "809c2ec7",
   "metadata": {
    "cell_id": "729c042ffa4744bba3d3513b43b79b5a",
    "deepnote_cell_type": "code",
    "deepnote_to_be_reexecuted": false,
    "execution": {
     "iopub.execute_input": "2023-05-24T19:22:32.015954Z",
     "iopub.status.busy": "2023-05-24T19:22:32.015612Z",
     "iopub.status.idle": "2023-05-24T19:22:32.131835Z",
     "shell.execute_reply": "2023-05-24T19:22:32.130325Z"
    },
    "execution_millis": 73,
    "execution_start": 1684953527547,
    "id": "7TpJv29HFLBL",
    "outputId": "56157080-2901-465e-b59c-56bc88fffa0d",
    "papermill": {
     "duration": 0.143883,
     "end_time": "2023-05-24T19:22:32.133870",
     "exception": false,
     "start_time": "2023-05-24T19:22:31.989987",
     "status": "completed"
    },
    "source_hash": "263d4923",
    "tags": []
   },
   "outputs": [
    {
     "name": "stdout",
     "output_type": "stream",
     "text": [
      "Training set shape: (131, 8)\n",
      "Testing set shape: (33, 8)\n"
     ]
    }
   ],
   "source": [
    "from sklearn.model_selection import train_test_split\n",
    "\n",
    "# Split the df_encoded DataFrame into training and testing sets\n",
    "train_df, test_df = train_test_split(df_encoded, test_size=0.2, random_state=42)\n",
    "\n",
    "# Print the shapes of the training and testing sets\n",
    "print(\"Training set shape:\", train_df.shape)\n",
    "print(\"Testing set shape:\", test_df.shape)\n"
   ]
  },
  {
   "cell_type": "code",
   "execution_count": 27,
   "id": "313fd7ae",
   "metadata": {
    "cell_id": "454c1528077d4c4fb57890de00142583",
    "deepnote_cell_type": "code",
    "deepnote_to_be_reexecuted": false,
    "execution": {
     "iopub.execute_input": "2023-05-24T19:22:32.184806Z",
     "iopub.status.busy": "2023-05-24T19:22:32.184499Z",
     "iopub.status.idle": "2023-05-24T19:22:32.195097Z",
     "shell.execute_reply": "2023-05-24T19:22:32.194186Z"
    },
    "execution_millis": 40,
    "execution_start": 1684953527641,
    "id": "Cped-EgaFLBM",
    "outputId": "dafb01e9-024f-4a74-f898-2655ef2579a7",
    "papermill": {
     "duration": 0.038056,
     "end_time": "2023-05-24T19:22:32.196790",
     "exception": false,
     "start_time": "2023-05-24T19:22:32.158734",
     "status": "completed"
    },
    "source_hash": "b1a8b3e0",
    "tags": []
   },
   "outputs": [
    {
     "data": {
      "text/html": [
       "<div>\n",
       "<style scoped>\n",
       "    .dataframe tbody tr th:only-of-type {\n",
       "        vertical-align: middle;\n",
       "    }\n",
       "\n",
       "    .dataframe tbody tr th {\n",
       "        vertical-align: top;\n",
       "    }\n",
       "\n",
       "    .dataframe thead th {\n",
       "        text-align: right;\n",
       "    }\n",
       "</style>\n",
       "<table border=\"1\" class=\"dataframe\">\n",
       "  <thead>\n",
       "    <tr style=\"text-align: right;\">\n",
       "      <th></th>\n",
       "      <th>Age</th>\n",
       "      <th>Gender</th>\n",
       "      <th>Income</th>\n",
       "      <th>Education</th>\n",
       "      <th>Marital Status</th>\n",
       "      <th>Number of Children</th>\n",
       "      <th>Home Ownership</th>\n",
       "      <th>Credit Score</th>\n",
       "    </tr>\n",
       "  </thead>\n",
       "  <tbody>\n",
       "    <tr>\n",
       "      <th>84</th>\n",
       "      <td>53</td>\n",
       "      <td>1</td>\n",
       "      <td>125000</td>\n",
       "      <td>0</td>\n",
       "      <td>0</td>\n",
       "      <td>0</td>\n",
       "      <td>0</td>\n",
       "      <td>1</td>\n",
       "    </tr>\n",
       "    <tr>\n",
       "      <th>2</th>\n",
       "      <td>35</td>\n",
       "      <td>0</td>\n",
       "      <td>75000</td>\n",
       "      <td>2</td>\n",
       "      <td>0</td>\n",
       "      <td>1</td>\n",
       "      <td>0</td>\n",
       "      <td>1</td>\n",
       "    </tr>\n",
       "    <tr>\n",
       "      <th>94</th>\n",
       "      <td>30</td>\n",
       "      <td>1</td>\n",
       "      <td>117500</td>\n",
       "      <td>4</td>\n",
       "      <td>0</td>\n",
       "      <td>2</td>\n",
       "      <td>0</td>\n",
       "      <td>1</td>\n",
       "    </tr>\n",
       "    <tr>\n",
       "      <th>45</th>\n",
       "      <td>47</td>\n",
       "      <td>0</td>\n",
       "      <td>90000</td>\n",
       "      <td>2</td>\n",
       "      <td>0</td>\n",
       "      <td>1</td>\n",
       "      <td>0</td>\n",
       "      <td>1</td>\n",
       "    </tr>\n",
       "    <tr>\n",
       "      <th>42</th>\n",
       "      <td>32</td>\n",
       "      <td>1</td>\n",
       "      <td>57500</td>\n",
       "      <td>0</td>\n",
       "      <td>1</td>\n",
       "      <td>0</td>\n",
       "      <td>1</td>\n",
       "      <td>0</td>\n",
       "    </tr>\n",
       "  </tbody>\n",
       "</table>\n",
       "</div>"
      ],
      "text/plain": [
       "    Age  Gender  Income  Education  Marital Status  Number of Children  \\\n",
       "84   53       1  125000          0               0                   0   \n",
       "2    35       0   75000          2               0                   1   \n",
       "94   30       1  117500          4               0                   2   \n",
       "45   47       0   90000          2               0                   1   \n",
       "42   32       1   57500          0               1                   0   \n",
       "\n",
       "    Home Ownership  Credit Score  \n",
       "84               0             1  \n",
       "2                0             1  \n",
       "94               0             1  \n",
       "45               0             1  \n",
       "42               1             0  "
      ]
     },
     "execution_count": 27,
     "metadata": {},
     "output_type": "execute_result"
    }
   ],
   "source": [
    "train_df.head()"
   ]
  },
  {
   "cell_type": "code",
   "execution_count": 28,
   "id": "cd88d628",
   "metadata": {
    "cell_id": "2971dbc5722c41a686dd4eec5f8433ab",
    "deepnote_cell_type": "code",
    "deepnote_to_be_reexecuted": false,
    "execution": {
     "iopub.execute_input": "2023-05-24T19:22:32.247949Z",
     "iopub.status.busy": "2023-05-24T19:22:32.246708Z",
     "iopub.status.idle": "2023-05-24T19:22:37.827254Z",
     "shell.execute_reply": "2023-05-24T19:22:37.825804Z"
    },
    "execution_millis": 862,
    "execution_start": 1684953554495,
    "id": "9Y8CAWolFLBM",
    "papermill": {
     "duration": 5.607963,
     "end_time": "2023-05-24T19:22:37.829738",
     "exception": false,
     "start_time": "2023-05-24T19:22:32.221775",
     "status": "completed"
    },
    "source_hash": "f14b8d20",
    "tags": []
   },
   "outputs": [],
   "source": [
    "from pycaret.classification import *"
   ]
  },
  {
   "cell_type": "code",
   "execution_count": 29,
   "id": "1e5b20cc",
   "metadata": {
    "cell_id": "db3385990dc148b7a27fbfb3163214f0",
    "deepnote_cell_type": "code",
    "deepnote_to_be_reexecuted": true,
    "execution": {
     "iopub.execute_input": "2023-05-24T19:22:37.882017Z",
     "iopub.status.busy": "2023-05-24T19:22:37.881640Z",
     "iopub.status.idle": "2023-05-24T19:22:40.192083Z",
     "shell.execute_reply": "2023-05-24T19:22:40.190674Z"
    },
    "execution_millis": 1214,
    "execution_start": 1684953398032,
    "id": "WuE8KZU3FLBN",
    "outputId": "df341500-7567-455e-a755-47fe6d300f10",
    "papermill": {
     "duration": 2.339145,
     "end_time": "2023-05-24T19:22:40.194836",
     "exception": false,
     "start_time": "2023-05-24T19:22:37.855691",
     "status": "completed"
    },
    "source_hash": "6a9b7494",
    "tags": []
   },
   "outputs": [
    {
     "data": {
      "text/html": [
       "<style type=\"text/css\">\n",
       "#T_43484_row8_col1, #T_43484_row12_col1, #T_43484_row14_col1, #T_43484_row16_col1 {\n",
       "  background-color: lightgreen;\n",
       "}\n",
       "</style>\n",
       "<table id=\"T_43484\">\n",
       "  <thead>\n",
       "    <tr>\n",
       "      <th class=\"blank level0\" >&nbsp;</th>\n",
       "      <th id=\"T_43484_level0_col0\" class=\"col_heading level0 col0\" >Description</th>\n",
       "      <th id=\"T_43484_level0_col1\" class=\"col_heading level0 col1\" >Value</th>\n",
       "    </tr>\n",
       "  </thead>\n",
       "  <tbody>\n",
       "    <tr>\n",
       "      <th id=\"T_43484_level0_row0\" class=\"row_heading level0 row0\" >0</th>\n",
       "      <td id=\"T_43484_row0_col0\" class=\"data row0 col0\" >Session id</td>\n",
       "      <td id=\"T_43484_row0_col1\" class=\"data row0 col1\" >123</td>\n",
       "    </tr>\n",
       "    <tr>\n",
       "      <th id=\"T_43484_level0_row1\" class=\"row_heading level0 row1\" >1</th>\n",
       "      <td id=\"T_43484_row1_col0\" class=\"data row1 col0\" >Target</td>\n",
       "      <td id=\"T_43484_row1_col1\" class=\"data row1 col1\" >Credit Score</td>\n",
       "    </tr>\n",
       "    <tr>\n",
       "      <th id=\"T_43484_level0_row2\" class=\"row_heading level0 row2\" >2</th>\n",
       "      <td id=\"T_43484_row2_col0\" class=\"data row2 col0\" >Target type</td>\n",
       "      <td id=\"T_43484_row2_col1\" class=\"data row2 col1\" >Multiclass</td>\n",
       "    </tr>\n",
       "    <tr>\n",
       "      <th id=\"T_43484_level0_row3\" class=\"row_heading level0 row3\" >3</th>\n",
       "      <td id=\"T_43484_row3_col0\" class=\"data row3 col0\" >Original data shape</td>\n",
       "      <td id=\"T_43484_row3_col1\" class=\"data row3 col1\" >(131, 8)</td>\n",
       "    </tr>\n",
       "    <tr>\n",
       "      <th id=\"T_43484_level0_row4\" class=\"row_heading level0 row4\" >4</th>\n",
       "      <td id=\"T_43484_row4_col0\" class=\"data row4 col0\" >Transformed data shape</td>\n",
       "      <td id=\"T_43484_row4_col1\" class=\"data row4 col1\" >(131, 8)</td>\n",
       "    </tr>\n",
       "    <tr>\n",
       "      <th id=\"T_43484_level0_row5\" class=\"row_heading level0 row5\" >5</th>\n",
       "      <td id=\"T_43484_row5_col0\" class=\"data row5 col0\" >Transformed train set shape</td>\n",
       "      <td id=\"T_43484_row5_col1\" class=\"data row5 col1\" >(91, 8)</td>\n",
       "    </tr>\n",
       "    <tr>\n",
       "      <th id=\"T_43484_level0_row6\" class=\"row_heading level0 row6\" >6</th>\n",
       "      <td id=\"T_43484_row6_col0\" class=\"data row6 col0\" >Transformed test set shape</td>\n",
       "      <td id=\"T_43484_row6_col1\" class=\"data row6 col1\" >(40, 8)</td>\n",
       "    </tr>\n",
       "    <tr>\n",
       "      <th id=\"T_43484_level0_row7\" class=\"row_heading level0 row7\" >7</th>\n",
       "      <td id=\"T_43484_row7_col0\" class=\"data row7 col0\" >Numeric features</td>\n",
       "      <td id=\"T_43484_row7_col1\" class=\"data row7 col1\" >7</td>\n",
       "    </tr>\n",
       "    <tr>\n",
       "      <th id=\"T_43484_level0_row8\" class=\"row_heading level0 row8\" >8</th>\n",
       "      <td id=\"T_43484_row8_col0\" class=\"data row8 col0\" >Preprocess</td>\n",
       "      <td id=\"T_43484_row8_col1\" class=\"data row8 col1\" >True</td>\n",
       "    </tr>\n",
       "    <tr>\n",
       "      <th id=\"T_43484_level0_row9\" class=\"row_heading level0 row9\" >9</th>\n",
       "      <td id=\"T_43484_row9_col0\" class=\"data row9 col0\" >Imputation type</td>\n",
       "      <td id=\"T_43484_row9_col1\" class=\"data row9 col1\" >simple</td>\n",
       "    </tr>\n",
       "    <tr>\n",
       "      <th id=\"T_43484_level0_row10\" class=\"row_heading level0 row10\" >10</th>\n",
       "      <td id=\"T_43484_row10_col0\" class=\"data row10 col0\" >Numeric imputation</td>\n",
       "      <td id=\"T_43484_row10_col1\" class=\"data row10 col1\" >mean</td>\n",
       "    </tr>\n",
       "    <tr>\n",
       "      <th id=\"T_43484_level0_row11\" class=\"row_heading level0 row11\" >11</th>\n",
       "      <td id=\"T_43484_row11_col0\" class=\"data row11 col0\" >Categorical imputation</td>\n",
       "      <td id=\"T_43484_row11_col1\" class=\"data row11 col1\" >mode</td>\n",
       "    </tr>\n",
       "    <tr>\n",
       "      <th id=\"T_43484_level0_row12\" class=\"row_heading level0 row12\" >12</th>\n",
       "      <td id=\"T_43484_row12_col0\" class=\"data row12 col0\" >Remove multicollinearity</td>\n",
       "      <td id=\"T_43484_row12_col1\" class=\"data row12 col1\" >True</td>\n",
       "    </tr>\n",
       "    <tr>\n",
       "      <th id=\"T_43484_level0_row13\" class=\"row_heading level0 row13\" >13</th>\n",
       "      <td id=\"T_43484_row13_col0\" class=\"data row13 col0\" >Multicollinearity threshold</td>\n",
       "      <td id=\"T_43484_row13_col1\" class=\"data row13 col1\" >0.950000</td>\n",
       "    </tr>\n",
       "    <tr>\n",
       "      <th id=\"T_43484_level0_row14\" class=\"row_heading level0 row14\" >14</th>\n",
       "      <td id=\"T_43484_row14_col0\" class=\"data row14 col0\" >Transformation</td>\n",
       "      <td id=\"T_43484_row14_col1\" class=\"data row14 col1\" >True</td>\n",
       "    </tr>\n",
       "    <tr>\n",
       "      <th id=\"T_43484_level0_row15\" class=\"row_heading level0 row15\" >15</th>\n",
       "      <td id=\"T_43484_row15_col0\" class=\"data row15 col0\" >Transformation method</td>\n",
       "      <td id=\"T_43484_row15_col1\" class=\"data row15 col1\" >yeo-johnson</td>\n",
       "    </tr>\n",
       "    <tr>\n",
       "      <th id=\"T_43484_level0_row16\" class=\"row_heading level0 row16\" >16</th>\n",
       "      <td id=\"T_43484_row16_col0\" class=\"data row16 col0\" >Normalize</td>\n",
       "      <td id=\"T_43484_row16_col1\" class=\"data row16 col1\" >True</td>\n",
       "    </tr>\n",
       "    <tr>\n",
       "      <th id=\"T_43484_level0_row17\" class=\"row_heading level0 row17\" >17</th>\n",
       "      <td id=\"T_43484_row17_col0\" class=\"data row17 col0\" >Normalize method</td>\n",
       "      <td id=\"T_43484_row17_col1\" class=\"data row17 col1\" >zscore</td>\n",
       "    </tr>\n",
       "    <tr>\n",
       "      <th id=\"T_43484_level0_row18\" class=\"row_heading level0 row18\" >18</th>\n",
       "      <td id=\"T_43484_row18_col0\" class=\"data row18 col0\" >Fold Generator</td>\n",
       "      <td id=\"T_43484_row18_col1\" class=\"data row18 col1\" >StratifiedKFold</td>\n",
       "    </tr>\n",
       "    <tr>\n",
       "      <th id=\"T_43484_level0_row19\" class=\"row_heading level0 row19\" >19</th>\n",
       "      <td id=\"T_43484_row19_col0\" class=\"data row19 col0\" >Fold Number</td>\n",
       "      <td id=\"T_43484_row19_col1\" class=\"data row19 col1\" >10</td>\n",
       "    </tr>\n",
       "    <tr>\n",
       "      <th id=\"T_43484_level0_row20\" class=\"row_heading level0 row20\" >20</th>\n",
       "      <td id=\"T_43484_row20_col0\" class=\"data row20 col0\" >CPU Jobs</td>\n",
       "      <td id=\"T_43484_row20_col1\" class=\"data row20 col1\" >-1</td>\n",
       "    </tr>\n",
       "    <tr>\n",
       "      <th id=\"T_43484_level0_row21\" class=\"row_heading level0 row21\" >21</th>\n",
       "      <td id=\"T_43484_row21_col0\" class=\"data row21 col0\" >Use GPU</td>\n",
       "      <td id=\"T_43484_row21_col1\" class=\"data row21 col1\" >False</td>\n",
       "    </tr>\n",
       "    <tr>\n",
       "      <th id=\"T_43484_level0_row22\" class=\"row_heading level0 row22\" >22</th>\n",
       "      <td id=\"T_43484_row22_col0\" class=\"data row22 col0\" >Log Experiment</td>\n",
       "      <td id=\"T_43484_row22_col1\" class=\"data row22 col1\" >False</td>\n",
       "    </tr>\n",
       "    <tr>\n",
       "      <th id=\"T_43484_level0_row23\" class=\"row_heading level0 row23\" >23</th>\n",
       "      <td id=\"T_43484_row23_col0\" class=\"data row23 col0\" >Experiment Name</td>\n",
       "      <td id=\"T_43484_row23_col1\" class=\"data row23 col1\" >clf-default-name</td>\n",
       "    </tr>\n",
       "    <tr>\n",
       "      <th id=\"T_43484_level0_row24\" class=\"row_heading level0 row24\" >24</th>\n",
       "      <td id=\"T_43484_row24_col0\" class=\"data row24 col0\" >USI</td>\n",
       "      <td id=\"T_43484_row24_col1\" class=\"data row24 col1\" >2325</td>\n",
       "    </tr>\n",
       "  </tbody>\n",
       "</table>\n"
      ],
      "text/plain": [
       "<pandas.io.formats.style.Styler at 0x785abdc66890>"
      ]
     },
     "metadata": {},
     "output_type": "display_data"
    }
   ],
   "source": [
    "exp_clf102 = setup(data = train_df, target = 'Credit Score', session_id=123,\n",
    "                  normalize = True, \n",
    "                  transformation = True, \n",
    "                  remove_multicollinearity = True, multicollinearity_threshold = 0.95,\n",
    "                  ) "
   ]
  },
  {
   "cell_type": "code",
   "execution_count": 30,
   "id": "9a480229",
   "metadata": {
    "cell_id": "72e7b43e6caf4deca335327c745f4705",
    "deepnote_cell_type": "code",
    "deepnote_to_be_reexecuted": true,
    "execution": {
     "iopub.execute_input": "2023-05-24T19:22:40.247015Z",
     "iopub.status.busy": "2023-05-24T19:22:40.246656Z",
     "iopub.status.idle": "2023-05-24T19:23:13.696080Z",
     "shell.execute_reply": "2023-05-24T19:23:13.694841Z"
    },
    "execution_millis": 76548,
    "execution_start": 1684953402512,
    "id": "bLLvMTyVFLBN",
    "outputId": "51e53cc1-c84c-4802-882d-dcc989cb865c",
    "papermill": {
     "duration": 33.478055,
     "end_time": "2023-05-24T19:23:13.698071",
     "exception": false,
     "start_time": "2023-05-24T19:22:40.220016",
     "status": "completed"
    },
    "source_hash": "35e80024",
    "tags": []
   },
   "outputs": [
    {
     "data": {
      "text/html": [],
      "text/plain": [
       "<IPython.core.display.HTML object>"
      ]
     },
     "metadata": {},
     "output_type": "display_data"
    },
    {
     "data": {
      "text/html": [
       "<style type=\"text/css\">\n",
       "#T_9244f th {\n",
       "  text-align: left;\n",
       "}\n",
       "#T_9244f_row0_col0, #T_9244f_row0_col2, #T_9244f_row1_col0, #T_9244f_row2_col0, #T_9244f_row2_col1, #T_9244f_row2_col2, #T_9244f_row2_col3, #T_9244f_row2_col4, #T_9244f_row2_col5, #T_9244f_row2_col6, #T_9244f_row2_col7, #T_9244f_row3_col0, #T_9244f_row3_col1, #T_9244f_row3_col2, #T_9244f_row3_col3, #T_9244f_row3_col4, #T_9244f_row3_col5, #T_9244f_row3_col6, #T_9244f_row3_col7, #T_9244f_row4_col0, #T_9244f_row4_col1, #T_9244f_row4_col3, #T_9244f_row4_col4, #T_9244f_row4_col5, #T_9244f_row4_col6, #T_9244f_row4_col7, #T_9244f_row5_col0, #T_9244f_row5_col1, #T_9244f_row5_col2, #T_9244f_row5_col3, #T_9244f_row5_col4, #T_9244f_row5_col5, #T_9244f_row5_col6, #T_9244f_row5_col7, #T_9244f_row6_col0, #T_9244f_row6_col1, #T_9244f_row6_col2, #T_9244f_row6_col3, #T_9244f_row6_col4, #T_9244f_row6_col5, #T_9244f_row6_col6, #T_9244f_row6_col7, #T_9244f_row7_col0, #T_9244f_row7_col1, #T_9244f_row7_col2, #T_9244f_row7_col3, #T_9244f_row7_col4, #T_9244f_row7_col5, #T_9244f_row7_col6, #T_9244f_row7_col7, #T_9244f_row8_col0, #T_9244f_row8_col1, #T_9244f_row8_col2, #T_9244f_row8_col3, #T_9244f_row8_col4, #T_9244f_row8_col5, #T_9244f_row8_col6, #T_9244f_row8_col7, #T_9244f_row9_col0, #T_9244f_row9_col1, #T_9244f_row9_col2, #T_9244f_row9_col3, #T_9244f_row9_col4, #T_9244f_row9_col5, #T_9244f_row9_col6, #T_9244f_row9_col7, #T_9244f_row10_col0, #T_9244f_row10_col1, #T_9244f_row10_col2, #T_9244f_row10_col3, #T_9244f_row10_col4, #T_9244f_row10_col5, #T_9244f_row10_col6, #T_9244f_row10_col7, #T_9244f_row11_col0, #T_9244f_row11_col1, #T_9244f_row11_col2, #T_9244f_row11_col3, #T_9244f_row11_col4, #T_9244f_row11_col5, #T_9244f_row11_col6, #T_9244f_row11_col7, #T_9244f_row12_col0, #T_9244f_row12_col1, #T_9244f_row12_col2, #T_9244f_row12_col3, #T_9244f_row12_col4, #T_9244f_row12_col5, #T_9244f_row12_col6, #T_9244f_row12_col7, #T_9244f_row13_col0, #T_9244f_row13_col1, #T_9244f_row13_col2, #T_9244f_row13_col3, #T_9244f_row13_col4, #T_9244f_row13_col5, #T_9244f_row13_col6, #T_9244f_row13_col7, #T_9244f_row14_col0, #T_9244f_row14_col1, #T_9244f_row14_col2, #T_9244f_row14_col3, #T_9244f_row14_col4, #T_9244f_row14_col5, #T_9244f_row14_col6, #T_9244f_row14_col7, #T_9244f_row15_col0, #T_9244f_row15_col1, #T_9244f_row15_col2, #T_9244f_row15_col3, #T_9244f_row15_col4, #T_9244f_row15_col5, #T_9244f_row15_col6, #T_9244f_row15_col7 {\n",
       "  text-align: left;\n",
       "}\n",
       "#T_9244f_row0_col1, #T_9244f_row0_col3, #T_9244f_row0_col4, #T_9244f_row0_col5, #T_9244f_row0_col6, #T_9244f_row0_col7, #T_9244f_row1_col1, #T_9244f_row1_col2, #T_9244f_row1_col3, #T_9244f_row1_col4, #T_9244f_row1_col5, #T_9244f_row1_col6, #T_9244f_row1_col7, #T_9244f_row4_col2 {\n",
       "  text-align: left;\n",
       "  background-color: yellow;\n",
       "}\n",
       "#T_9244f_row0_col8, #T_9244f_row1_col8, #T_9244f_row2_col8, #T_9244f_row3_col8, #T_9244f_row4_col8, #T_9244f_row5_col8, #T_9244f_row6_col8, #T_9244f_row8_col8, #T_9244f_row9_col8, #T_9244f_row10_col8, #T_9244f_row11_col8, #T_9244f_row13_col8, #T_9244f_row14_col8, #T_9244f_row15_col8 {\n",
       "  text-align: left;\n",
       "  background-color: lightgrey;\n",
       "}\n",
       "#T_9244f_row7_col8, #T_9244f_row12_col8 {\n",
       "  text-align: left;\n",
       "  background-color: yellow;\n",
       "  background-color: lightgrey;\n",
       "}\n",
       "</style>\n",
       "<table id=\"T_9244f\">\n",
       "  <thead>\n",
       "    <tr>\n",
       "      <th class=\"blank level0\" >&nbsp;</th>\n",
       "      <th id=\"T_9244f_level0_col0\" class=\"col_heading level0 col0\" >Model</th>\n",
       "      <th id=\"T_9244f_level0_col1\" class=\"col_heading level0 col1\" >Accuracy</th>\n",
       "      <th id=\"T_9244f_level0_col2\" class=\"col_heading level0 col2\" >AUC</th>\n",
       "      <th id=\"T_9244f_level0_col3\" class=\"col_heading level0 col3\" >Recall</th>\n",
       "      <th id=\"T_9244f_level0_col4\" class=\"col_heading level0 col4\" >Prec.</th>\n",
       "      <th id=\"T_9244f_level0_col5\" class=\"col_heading level0 col5\" >F1</th>\n",
       "      <th id=\"T_9244f_level0_col6\" class=\"col_heading level0 col6\" >Kappa</th>\n",
       "      <th id=\"T_9244f_level0_col7\" class=\"col_heading level0 col7\" >MCC</th>\n",
       "      <th id=\"T_9244f_level0_col8\" class=\"col_heading level0 col8\" >TT (Sec)</th>\n",
       "    </tr>\n",
       "  </thead>\n",
       "  <tbody>\n",
       "    <tr>\n",
       "      <th id=\"T_9244f_level0_row0\" class=\"row_heading level0 row0\" >rf</th>\n",
       "      <td id=\"T_9244f_row0_col0\" class=\"data row0 col0\" >Random Forest Classifier</td>\n",
       "      <td id=\"T_9244f_row0_col1\" class=\"data row0 col1\" >0.9800</td>\n",
       "      <td id=\"T_9244f_row0_col2\" class=\"data row0 col2\" >0.6942</td>\n",
       "      <td id=\"T_9244f_row0_col3\" class=\"data row0 col3\" >0.9800</td>\n",
       "      <td id=\"T_9244f_row0_col4\" class=\"data row0 col4\" >0.9800</td>\n",
       "      <td id=\"T_9244f_row0_col5\" class=\"data row0 col5\" >0.9800</td>\n",
       "      <td id=\"T_9244f_row0_col6\" class=\"data row0 col6\" >0.9565</td>\n",
       "      <td id=\"T_9244f_row0_col7\" class=\"data row0 col7\" >0.9565</td>\n",
       "      <td id=\"T_9244f_row0_col8\" class=\"data row0 col8\" >0.2280</td>\n",
       "    </tr>\n",
       "    <tr>\n",
       "      <th id=\"T_9244f_level0_row1\" class=\"row_heading level0 row1\" >et</th>\n",
       "      <td id=\"T_9244f_row1_col0\" class=\"data row1 col0\" >Extra Trees Classifier</td>\n",
       "      <td id=\"T_9244f_row1_col1\" class=\"data row1 col1\" >0.9800</td>\n",
       "      <td id=\"T_9244f_row1_col2\" class=\"data row1 col2\" >0.6954</td>\n",
       "      <td id=\"T_9244f_row1_col3\" class=\"data row1 col3\" >0.9800</td>\n",
       "      <td id=\"T_9244f_row1_col4\" class=\"data row1 col4\" >0.9800</td>\n",
       "      <td id=\"T_9244f_row1_col5\" class=\"data row1 col5\" >0.9800</td>\n",
       "      <td id=\"T_9244f_row1_col6\" class=\"data row1 col6\" >0.9565</td>\n",
       "      <td id=\"T_9244f_row1_col7\" class=\"data row1 col7\" >0.9565</td>\n",
       "      <td id=\"T_9244f_row1_col8\" class=\"data row1 col8\" >0.2120</td>\n",
       "    </tr>\n",
       "    <tr>\n",
       "      <th id=\"T_9244f_level0_row2\" class=\"row_heading level0 row2\" >dt</th>\n",
       "      <td id=\"T_9244f_row2_col0\" class=\"data row2 col0\" >Decision Tree Classifier</td>\n",
       "      <td id=\"T_9244f_row2_col1\" class=\"data row2 col1\" >0.9689</td>\n",
       "      <td id=\"T_9244f_row2_col2\" class=\"data row2 col2\" >0.6771</td>\n",
       "      <td id=\"T_9244f_row2_col3\" class=\"data row2 col3\" >0.8800</td>\n",
       "      <td id=\"T_9244f_row2_col4\" class=\"data row2 col4\" >0.8800</td>\n",
       "      <td id=\"T_9244f_row2_col5\" class=\"data row2 col5\" >0.8800</td>\n",
       "      <td id=\"T_9244f_row2_col6\" class=\"data row2 col6\" >0.9265</td>\n",
       "      <td id=\"T_9244f_row2_col7\" class=\"data row2 col7\" >0.9290</td>\n",
       "      <td id=\"T_9244f_row2_col8\" class=\"data row2 col8\" >0.0560</td>\n",
       "    </tr>\n",
       "    <tr>\n",
       "      <th id=\"T_9244f_level0_row3\" class=\"row_heading level0 row3\" >gbc</th>\n",
       "      <td id=\"T_9244f_row3_col0\" class=\"data row3 col0\" >Gradient Boosting Classifier</td>\n",
       "      <td id=\"T_9244f_row3_col1\" class=\"data row3 col1\" >0.9689</td>\n",
       "      <td id=\"T_9244f_row3_col2\" class=\"data row3 col2\" >0.6748</td>\n",
       "      <td id=\"T_9244f_row3_col3\" class=\"data row3 col3\" >0.8800</td>\n",
       "      <td id=\"T_9244f_row3_col4\" class=\"data row3 col4\" >0.8800</td>\n",
       "      <td id=\"T_9244f_row3_col5\" class=\"data row3 col5\" >0.8800</td>\n",
       "      <td id=\"T_9244f_row3_col6\" class=\"data row3 col6\" >0.9265</td>\n",
       "      <td id=\"T_9244f_row3_col7\" class=\"data row3 col7\" >0.9290</td>\n",
       "      <td id=\"T_9244f_row3_col8\" class=\"data row3 col8\" >0.2960</td>\n",
       "    </tr>\n",
       "    <tr>\n",
       "      <th id=\"T_9244f_level0_row4\" class=\"row_heading level0 row4\" >catboost</th>\n",
       "      <td id=\"T_9244f_row4_col0\" class=\"data row4 col0\" >CatBoost Classifier</td>\n",
       "      <td id=\"T_9244f_row4_col1\" class=\"data row4 col1\" >0.9689</td>\n",
       "      <td id=\"T_9244f_row4_col2\" class=\"data row4 col2\" >0.6954</td>\n",
       "      <td id=\"T_9244f_row4_col3\" class=\"data row4 col3\" >0.8800</td>\n",
       "      <td id=\"T_9244f_row4_col4\" class=\"data row4 col4\" >0.8800</td>\n",
       "      <td id=\"T_9244f_row4_col5\" class=\"data row4 col5\" >0.8800</td>\n",
       "      <td id=\"T_9244f_row4_col6\" class=\"data row4 col6\" >0.9265</td>\n",
       "      <td id=\"T_9244f_row4_col7\" class=\"data row4 col7\" >0.9290</td>\n",
       "      <td id=\"T_9244f_row4_col8\" class=\"data row4 col8\" >0.7920</td>\n",
       "    </tr>\n",
       "    <tr>\n",
       "      <th id=\"T_9244f_level0_row5\" class=\"row_heading level0 row5\" >lr</th>\n",
       "      <td id=\"T_9244f_row5_col0\" class=\"data row5 col0\" >Logistic Regression</td>\n",
       "      <td id=\"T_9244f_row5_col1\" class=\"data row5 col1\" >0.9589</td>\n",
       "      <td id=\"T_9244f_row5_col2\" class=\"data row5 col2\" >0.6871</td>\n",
       "      <td id=\"T_9244f_row5_col3\" class=\"data row5 col3\" >0.9589</td>\n",
       "      <td id=\"T_9244f_row5_col4\" class=\"data row5 col4\" >0.9481</td>\n",
       "      <td id=\"T_9244f_row5_col5\" class=\"data row5 col5\" >0.9524</td>\n",
       "      <td id=\"T_9244f_row5_col6\" class=\"data row5 col6\" >0.9103</td>\n",
       "      <td id=\"T_9244f_row5_col7\" class=\"data row5 col7\" >0.9132</td>\n",
       "      <td id=\"T_9244f_row5_col8\" class=\"data row5 col8\" >0.3220</td>\n",
       "    </tr>\n",
       "    <tr>\n",
       "      <th id=\"T_9244f_level0_row6\" class=\"row_heading level0 row6\" >knn</th>\n",
       "      <td id=\"T_9244f_row6_col0\" class=\"data row6 col0\" >K Neighbors Classifier</td>\n",
       "      <td id=\"T_9244f_row6_col1\" class=\"data row6 col1\" >0.9589</td>\n",
       "      <td id=\"T_9244f_row6_col2\" class=\"data row6 col2\" >0.6765</td>\n",
       "      <td id=\"T_9244f_row6_col3\" class=\"data row6 col3\" >0.9589</td>\n",
       "      <td id=\"T_9244f_row6_col4\" class=\"data row6 col4\" >0.9481</td>\n",
       "      <td id=\"T_9244f_row6_col5\" class=\"data row6 col5\" >0.9524</td>\n",
       "      <td id=\"T_9244f_row6_col6\" class=\"data row6 col6\" >0.9103</td>\n",
       "      <td id=\"T_9244f_row6_col7\" class=\"data row6 col7\" >0.9132</td>\n",
       "      <td id=\"T_9244f_row6_col8\" class=\"data row6 col8\" >0.0580</td>\n",
       "    </tr>\n",
       "    <tr>\n",
       "      <th id=\"T_9244f_level0_row7\" class=\"row_heading level0 row7\" >ridge</th>\n",
       "      <td id=\"T_9244f_row7_col0\" class=\"data row7 col0\" >Ridge Classifier</td>\n",
       "      <td id=\"T_9244f_row7_col1\" class=\"data row7 col1\" >0.9589</td>\n",
       "      <td id=\"T_9244f_row7_col2\" class=\"data row7 col2\" >0.0000</td>\n",
       "      <td id=\"T_9244f_row7_col3\" class=\"data row7 col3\" >0.9589</td>\n",
       "      <td id=\"T_9244f_row7_col4\" class=\"data row7 col4\" >0.9481</td>\n",
       "      <td id=\"T_9244f_row7_col5\" class=\"data row7 col5\" >0.9524</td>\n",
       "      <td id=\"T_9244f_row7_col6\" class=\"data row7 col6\" >0.9103</td>\n",
       "      <td id=\"T_9244f_row7_col7\" class=\"data row7 col7\" >0.9132</td>\n",
       "      <td id=\"T_9244f_row7_col8\" class=\"data row7 col8\" >0.0450</td>\n",
       "    </tr>\n",
       "    <tr>\n",
       "      <th id=\"T_9244f_level0_row8\" class=\"row_heading level0 row8\" >ada</th>\n",
       "      <td id=\"T_9244f_row8_col0\" class=\"data row8 col0\" >Ada Boost Classifier</td>\n",
       "      <td id=\"T_9244f_row8_col1\" class=\"data row8 col1\" >0.9578</td>\n",
       "      <td id=\"T_9244f_row8_col2\" class=\"data row8 col2\" >0.6794</td>\n",
       "      <td id=\"T_9244f_row8_col3\" class=\"data row8 col3\" >0.8689</td>\n",
       "      <td id=\"T_9244f_row8_col4\" class=\"data row8 col4\" >0.8705</td>\n",
       "      <td id=\"T_9244f_row8_col5\" class=\"data row8 col5\" >0.8675</td>\n",
       "      <td id=\"T_9244f_row8_col6\" class=\"data row8 col6\" >0.9015</td>\n",
       "      <td id=\"T_9244f_row8_col7\" class=\"data row8 col7\" >0.9069</td>\n",
       "      <td id=\"T_9244f_row8_col8\" class=\"data row8 col8\" >0.1200</td>\n",
       "    </tr>\n",
       "    <tr>\n",
       "      <th id=\"T_9244f_level0_row9\" class=\"row_heading level0 row9\" >xgboost</th>\n",
       "      <td id=\"T_9244f_row9_col0\" class=\"data row9 col0\" >Extreme Gradient Boosting</td>\n",
       "      <td id=\"T_9244f_row9_col1\" class=\"data row9 col1\" >0.9578</td>\n",
       "      <td id=\"T_9244f_row9_col2\" class=\"data row9 col2\" >0.6908</td>\n",
       "      <td id=\"T_9244f_row9_col3\" class=\"data row9 col3\" >0.8689</td>\n",
       "      <td id=\"T_9244f_row9_col4\" class=\"data row9 col4\" >0.8705</td>\n",
       "      <td id=\"T_9244f_row9_col5\" class=\"data row9 col5\" >0.8675</td>\n",
       "      <td id=\"T_9244f_row9_col6\" class=\"data row9 col6\" >0.9015</td>\n",
       "      <td id=\"T_9244f_row9_col7\" class=\"data row9 col7\" >0.9069</td>\n",
       "      <td id=\"T_9244f_row9_col8\" class=\"data row9 col8\" >0.0730</td>\n",
       "    </tr>\n",
       "    <tr>\n",
       "      <th id=\"T_9244f_level0_row10\" class=\"row_heading level0 row10\" >lightgbm</th>\n",
       "      <td id=\"T_9244f_row10_col0\" class=\"data row10 col0\" >Light Gradient Boosting Machine</td>\n",
       "      <td id=\"T_9244f_row10_col1\" class=\"data row10 col1\" >0.9578</td>\n",
       "      <td id=\"T_9244f_row10_col2\" class=\"data row10 col2\" >0.6804</td>\n",
       "      <td id=\"T_9244f_row10_col3\" class=\"data row10 col3\" >0.8689</td>\n",
       "      <td id=\"T_9244f_row10_col4\" class=\"data row10 col4\" >0.8705</td>\n",
       "      <td id=\"T_9244f_row10_col5\" class=\"data row10 col5\" >0.8675</td>\n",
       "      <td id=\"T_9244f_row10_col6\" class=\"data row10 col6\" >0.9015</td>\n",
       "      <td id=\"T_9244f_row10_col7\" class=\"data row10 col7\" >0.9069</td>\n",
       "      <td id=\"T_9244f_row10_col8\" class=\"data row10 col8\" >0.2690</td>\n",
       "    </tr>\n",
       "    <tr>\n",
       "      <th id=\"T_9244f_level0_row11\" class=\"row_heading level0 row11\" >lda</th>\n",
       "      <td id=\"T_9244f_row11_col0\" class=\"data row11 col0\" >Linear Discriminant Analysis</td>\n",
       "      <td id=\"T_9244f_row11_col1\" class=\"data row11 col1\" >0.9367</td>\n",
       "      <td id=\"T_9244f_row11_col2\" class=\"data row11 col2\" >0.6708</td>\n",
       "      <td id=\"T_9244f_row11_col3\" class=\"data row11 col3\" >0.8589</td>\n",
       "      <td id=\"T_9244f_row11_col4\" class=\"data row11 col4\" >0.8481</td>\n",
       "      <td id=\"T_9244f_row11_col5\" class=\"data row11 col5\" >0.8524</td>\n",
       "      <td id=\"T_9244f_row11_col6\" class=\"data row11 col6\" >0.8540</td>\n",
       "      <td id=\"T_9244f_row11_col7\" class=\"data row11 col7\" >0.8632</td>\n",
       "      <td id=\"T_9244f_row11_col8\" class=\"data row11 col8\" >0.0570</td>\n",
       "    </tr>\n",
       "    <tr>\n",
       "      <th id=\"T_9244f_level0_row12\" class=\"row_heading level0 row12\" >svm</th>\n",
       "      <td id=\"T_9244f_row12_col0\" class=\"data row12 col0\" >SVM - Linear Kernel</td>\n",
       "      <td id=\"T_9244f_row12_col1\" class=\"data row12 col1\" >0.9256</td>\n",
       "      <td id=\"T_9244f_row12_col2\" class=\"data row12 col2\" >0.0000</td>\n",
       "      <td id=\"T_9244f_row12_col3\" class=\"data row12 col3\" >0.9367</td>\n",
       "      <td id=\"T_9244f_row12_col4\" class=\"data row12 col4\" >0.9148</td>\n",
       "      <td id=\"T_9244f_row12_col5\" class=\"data row12 col5\" >0.9197</td>\n",
       "      <td id=\"T_9244f_row12_col6\" class=\"data row12 col6\" >0.8330</td>\n",
       "      <td id=\"T_9244f_row12_col7\" class=\"data row12 col7\" >0.8447</td>\n",
       "      <td id=\"T_9244f_row12_col8\" class=\"data row12 col8\" >0.0450</td>\n",
       "    </tr>\n",
       "    <tr>\n",
       "      <th id=\"T_9244f_level0_row13\" class=\"row_heading level0 row13\" >nb</th>\n",
       "      <td id=\"T_9244f_row13_col0\" class=\"data row13 col0\" >Naive Bayes</td>\n",
       "      <td id=\"T_9244f_row13_col1\" class=\"data row13 col1\" >0.9022</td>\n",
       "      <td id=\"T_9244f_row13_col2\" class=\"data row13 col2\" >0.6733</td>\n",
       "      <td id=\"T_9244f_row13_col3\" class=\"data row13 col3\" >0.7467</td>\n",
       "      <td id=\"T_9244f_row13_col4\" class=\"data row13 col4\" >0.7633</td>\n",
       "      <td id=\"T_9244f_row13_col5\" class=\"data row13 col5\" >0.7467</td>\n",
       "      <td id=\"T_9244f_row13_col6\" class=\"data row13 col6\" >0.7916</td>\n",
       "      <td id=\"T_9244f_row13_col7\" class=\"data row13 col7\" >0.8098</td>\n",
       "      <td id=\"T_9244f_row13_col8\" class=\"data row13 col8\" >0.0560</td>\n",
       "    </tr>\n",
       "    <tr>\n",
       "      <th id=\"T_9244f_level0_row14\" class=\"row_heading level0 row14\" >dummy</th>\n",
       "      <td id=\"T_9244f_row14_col0\" class=\"data row14 col0\" >Dummy Classifier</td>\n",
       "      <td id=\"T_9244f_row14_col1\" class=\"data row14 col1\" >0.6811</td>\n",
       "      <td id=\"T_9244f_row14_col2\" class=\"data row14 col2\" >0.3500</td>\n",
       "      <td id=\"T_9244f_row14_col3\" class=\"data row14 col3\" >0.7700</td>\n",
       "      <td id=\"T_9244f_row14_col4\" class=\"data row14 col4\" >0.5268</td>\n",
       "      <td id=\"T_9244f_row14_col5\" class=\"data row14 col5\" >0.6251</td>\n",
       "      <td id=\"T_9244f_row14_col6\" class=\"data row14 col6\" >0.0000</td>\n",
       "      <td id=\"T_9244f_row14_col7\" class=\"data row14 col7\" >0.0000</td>\n",
       "      <td id=\"T_9244f_row14_col8\" class=\"data row14 col8\" >0.1360</td>\n",
       "    </tr>\n",
       "    <tr>\n",
       "      <th id=\"T_9244f_level0_row15\" class=\"row_heading level0 row15\" >qda</th>\n",
       "      <td id=\"T_9244f_row15_col0\" class=\"data row15 col0\" >Quadratic Discriminant Analysis</td>\n",
       "      <td id=\"T_9244f_row15_col1\" class=\"data row15 col1\" >0.0767</td>\n",
       "      <td id=\"T_9244f_row15_col2\" class=\"data row15 col2\" >0.0000</td>\n",
       "      <td id=\"T_9244f_row15_col3\" class=\"data row15 col3\" >0.0767</td>\n",
       "      <td id=\"T_9244f_row15_col4\" class=\"data row15 col4\" >0.0084</td>\n",
       "      <td id=\"T_9244f_row15_col5\" class=\"data row15 col5\" >0.0152</td>\n",
       "      <td id=\"T_9244f_row15_col6\" class=\"data row15 col6\" >0.0000</td>\n",
       "      <td id=\"T_9244f_row15_col7\" class=\"data row15 col7\" >0.0000</td>\n",
       "      <td id=\"T_9244f_row15_col8\" class=\"data row15 col8\" >0.0540</td>\n",
       "    </tr>\n",
       "  </tbody>\n",
       "</table>\n"
      ],
      "text/plain": [
       "<pandas.io.formats.style.Styler at 0x785af4a82da0>"
      ]
     },
     "metadata": {},
     "output_type": "display_data"
    },
    {
     "data": {
      "application/vnd.jupyter.widget-view+json": {
       "model_id": "6d41e908c6e44ab8a5eaecfd4b49b713",
       "version_major": 2,
       "version_minor": 0
      },
      "text/plain": [
       "Processing:   0%|          | 0/69 [00:00<?, ?it/s]"
      ]
     },
     "metadata": {},
     "output_type": "display_data"
    },
    {
     "data": {
      "text/html": [
       "<style>#sk-container-id-1 {color: black;background-color: white;}#sk-container-id-1 pre{padding: 0;}#sk-container-id-1 div.sk-toggleable {background-color: white;}#sk-container-id-1 label.sk-toggleable__label {cursor: pointer;display: block;width: 100%;margin-bottom: 0;padding: 0.3em;box-sizing: border-box;text-align: center;}#sk-container-id-1 label.sk-toggleable__label-arrow:before {content: \"▸\";float: left;margin-right: 0.25em;color: #696969;}#sk-container-id-1 label.sk-toggleable__label-arrow:hover:before {color: black;}#sk-container-id-1 div.sk-estimator:hover label.sk-toggleable__label-arrow:before {color: black;}#sk-container-id-1 div.sk-toggleable__content {max-height: 0;max-width: 0;overflow: hidden;text-align: left;background-color: #f0f8ff;}#sk-container-id-1 div.sk-toggleable__content pre {margin: 0.2em;color: black;border-radius: 0.25em;background-color: #f0f8ff;}#sk-container-id-1 input.sk-toggleable__control:checked~div.sk-toggleable__content {max-height: 200px;max-width: 100%;overflow: auto;}#sk-container-id-1 input.sk-toggleable__control:checked~label.sk-toggleable__label-arrow:before {content: \"▾\";}#sk-container-id-1 div.sk-estimator input.sk-toggleable__control:checked~label.sk-toggleable__label {background-color: #d4ebff;}#sk-container-id-1 div.sk-label input.sk-toggleable__control:checked~label.sk-toggleable__label {background-color: #d4ebff;}#sk-container-id-1 input.sk-hidden--visually {border: 0;clip: rect(1px 1px 1px 1px);clip: rect(1px, 1px, 1px, 1px);height: 1px;margin: -1px;overflow: hidden;padding: 0;position: absolute;width: 1px;}#sk-container-id-1 div.sk-estimator {font-family: monospace;background-color: #f0f8ff;border: 1px dotted black;border-radius: 0.25em;box-sizing: border-box;margin-bottom: 0.5em;}#sk-container-id-1 div.sk-estimator:hover {background-color: #d4ebff;}#sk-container-id-1 div.sk-parallel-item::after {content: \"\";width: 100%;border-bottom: 1px solid gray;flex-grow: 1;}#sk-container-id-1 div.sk-label:hover label.sk-toggleable__label {background-color: #d4ebff;}#sk-container-id-1 div.sk-serial::before {content: \"\";position: absolute;border-left: 1px solid gray;box-sizing: border-box;top: 0;bottom: 0;left: 50%;z-index: 0;}#sk-container-id-1 div.sk-serial {display: flex;flex-direction: column;align-items: center;background-color: white;padding-right: 0.2em;padding-left: 0.2em;position: relative;}#sk-container-id-1 div.sk-item {position: relative;z-index: 1;}#sk-container-id-1 div.sk-parallel {display: flex;align-items: stretch;justify-content: center;background-color: white;position: relative;}#sk-container-id-1 div.sk-item::before, #sk-container-id-1 div.sk-parallel-item::before {content: \"\";position: absolute;border-left: 1px solid gray;box-sizing: border-box;top: 0;bottom: 0;left: 50%;z-index: -1;}#sk-container-id-1 div.sk-parallel-item {display: flex;flex-direction: column;z-index: 1;position: relative;background-color: white;}#sk-container-id-1 div.sk-parallel-item:first-child::after {align-self: flex-end;width: 50%;}#sk-container-id-1 div.sk-parallel-item:last-child::after {align-self: flex-start;width: 50%;}#sk-container-id-1 div.sk-parallel-item:only-child::after {width: 0;}#sk-container-id-1 div.sk-dashed-wrapped {border: 1px dashed gray;margin: 0 0.4em 0.5em 0.4em;box-sizing: border-box;padding-bottom: 0.4em;background-color: white;}#sk-container-id-1 div.sk-label label {font-family: monospace;font-weight: bold;display: inline-block;line-height: 1.2em;}#sk-container-id-1 div.sk-label-container {text-align: center;}#sk-container-id-1 div.sk-container {/* jupyter's `normalize.less` sets `[hidden] { display: none; }` but bootstrap.min.css set `[hidden] { display: none !important; }` so we also need the `!important` here to be able to override the default hidden behavior on the sphinx rendered scikit-learn.org. See: https://github.com/scikit-learn/scikit-learn/issues/21755 */display: inline-block !important;position: relative;}#sk-container-id-1 div.sk-text-repr-fallback {display: none;}</style><div id=\"sk-container-id-1\" class=\"sk-top-container\"><div class=\"sk-text-repr-fallback\"><pre>RandomForestClassifier(bootstrap=True, ccp_alpha=0.0, class_weight=None,\n",
       "                       criterion=&#x27;gini&#x27;, max_depth=None, max_features=&#x27;sqrt&#x27;,\n",
       "                       max_leaf_nodes=None, max_samples=None,\n",
       "                       min_impurity_decrease=0.0, min_samples_leaf=1,\n",
       "                       min_samples_split=2, min_weight_fraction_leaf=0.0,\n",
       "                       n_estimators=100, n_jobs=-1, oob_score=False,\n",
       "                       random_state=123, verbose=0, warm_start=False)</pre><b>In a Jupyter environment, please rerun this cell to show the HTML representation or trust the notebook. <br />On GitHub, the HTML representation is unable to render, please try loading this page with nbviewer.org.</b></div><div class=\"sk-container\" hidden><div class=\"sk-item\"><div class=\"sk-estimator sk-toggleable\"><input class=\"sk-toggleable__control sk-hidden--visually\" id=\"sk-estimator-id-1\" type=\"checkbox\" checked><label for=\"sk-estimator-id-1\" class=\"sk-toggleable__label sk-toggleable__label-arrow\">RandomForestClassifier</label><div class=\"sk-toggleable__content\"><pre>RandomForestClassifier(bootstrap=True, ccp_alpha=0.0, class_weight=None,\n",
       "                       criterion=&#x27;gini&#x27;, max_depth=None, max_features=&#x27;sqrt&#x27;,\n",
       "                       max_leaf_nodes=None, max_samples=None,\n",
       "                       min_impurity_decrease=0.0, min_samples_leaf=1,\n",
       "                       min_samples_split=2, min_weight_fraction_leaf=0.0,\n",
       "                       n_estimators=100, n_jobs=-1, oob_score=False,\n",
       "                       random_state=123, verbose=0, warm_start=False)</pre></div></div></div></div></div>"
      ],
      "text/plain": [
       "RandomForestClassifier(bootstrap=True, ccp_alpha=0.0, class_weight=None,\n",
       "                       criterion='gini', max_depth=None, max_features='sqrt',\n",
       "                       max_leaf_nodes=None, max_samples=None,\n",
       "                       min_impurity_decrease=0.0, min_samples_leaf=1,\n",
       "                       min_samples_split=2, min_weight_fraction_leaf=0.0,\n",
       "                       n_estimators=100, n_jobs=-1, oob_score=False,\n",
       "                       random_state=123, verbose=0, warm_start=False)"
      ]
     },
     "execution_count": 30,
     "metadata": {},
     "output_type": "execute_result"
    }
   ],
   "source": [
    "compare_models()"
   ]
  },
  {
   "cell_type": "code",
   "execution_count": 31,
   "id": "2053c80c",
   "metadata": {
    "cell_id": "379d95aa0d78493bbc32210f3e0e8aa7",
    "deepnote_cell_type": "code",
    "deepnote_to_be_reexecuted": true,
    "execution": {
     "iopub.execute_input": "2023-05-24T19:23:13.752841Z",
     "iopub.status.busy": "2023-05-24T19:23:13.751503Z",
     "iopub.status.idle": "2023-05-24T19:23:17.410450Z",
     "shell.execute_reply": "2023-05-24T19:23:17.408959Z"
    },
    "id": "vIqcAg_gFLBO",
    "outputId": "db3ec862-5602-4c81-9439-c49fa7c6fc7c",
    "papermill": {
     "duration": 3.687588,
     "end_time": "2023-05-24T19:23:17.412363",
     "exception": false,
     "start_time": "2023-05-24T19:23:13.724775",
     "status": "completed"
    },
    "source_hash": "b623e53d",
    "tags": []
   },
   "outputs": [
    {
     "data": {
      "text/html": [],
      "text/plain": [
       "<IPython.core.display.HTML object>"
      ]
     },
     "metadata": {},
     "output_type": "display_data"
    },
    {
     "data": {
      "text/html": [
       "<style type=\"text/css\">\n",
       "#T_90487_row10_col0, #T_90487_row10_col1, #T_90487_row10_col2, #T_90487_row10_col3, #T_90487_row10_col4, #T_90487_row10_col5, #T_90487_row10_col6 {\n",
       "  background: yellow;\n",
       "}\n",
       "</style>\n",
       "<table id=\"T_90487\">\n",
       "  <thead>\n",
       "    <tr>\n",
       "      <th class=\"blank level0\" >&nbsp;</th>\n",
       "      <th id=\"T_90487_level0_col0\" class=\"col_heading level0 col0\" >Accuracy</th>\n",
       "      <th id=\"T_90487_level0_col1\" class=\"col_heading level0 col1\" >AUC</th>\n",
       "      <th id=\"T_90487_level0_col2\" class=\"col_heading level0 col2\" >Recall</th>\n",
       "      <th id=\"T_90487_level0_col3\" class=\"col_heading level0 col3\" >Prec.</th>\n",
       "      <th id=\"T_90487_level0_col4\" class=\"col_heading level0 col4\" >F1</th>\n",
       "      <th id=\"T_90487_level0_col5\" class=\"col_heading level0 col5\" >Kappa</th>\n",
       "      <th id=\"T_90487_level0_col6\" class=\"col_heading level0 col6\" >MCC</th>\n",
       "    </tr>\n",
       "    <tr>\n",
       "      <th class=\"index_name level0\" >Fold</th>\n",
       "      <th class=\"blank col0\" >&nbsp;</th>\n",
       "      <th class=\"blank col1\" >&nbsp;</th>\n",
       "      <th class=\"blank col2\" >&nbsp;</th>\n",
       "      <th class=\"blank col3\" >&nbsp;</th>\n",
       "      <th class=\"blank col4\" >&nbsp;</th>\n",
       "      <th class=\"blank col5\" >&nbsp;</th>\n",
       "      <th class=\"blank col6\" >&nbsp;</th>\n",
       "    </tr>\n",
       "  </thead>\n",
       "  <tbody>\n",
       "    <tr>\n",
       "      <th id=\"T_90487_level0_row0\" class=\"row_heading level0 row0\" >0</th>\n",
       "      <td id=\"T_90487_row0_col0\" class=\"data row0 col0\" >0.8000</td>\n",
       "      <td id=\"T_90487_row0_col1\" class=\"data row0 col1\" >0.9417</td>\n",
       "      <td id=\"T_90487_row0_col2\" class=\"data row0 col2\" >0.8000</td>\n",
       "      <td id=\"T_90487_row0_col3\" class=\"data row0 col3\" >0.8000</td>\n",
       "      <td id=\"T_90487_row0_col4\" class=\"data row0 col4\" >0.8000</td>\n",
       "      <td id=\"T_90487_row0_col5\" class=\"data row0 col5\" >0.5652</td>\n",
       "      <td id=\"T_90487_row0_col6\" class=\"data row0 col6\" >0.5652</td>\n",
       "    </tr>\n",
       "    <tr>\n",
       "      <th id=\"T_90487_level0_row1\" class=\"row_heading level0 row1\" >1</th>\n",
       "      <td id=\"T_90487_row1_col0\" class=\"data row1 col0\" >1.0000</td>\n",
       "      <td id=\"T_90487_row1_col1\" class=\"data row1 col1\" >0.0000</td>\n",
       "      <td id=\"T_90487_row1_col2\" class=\"data row1 col2\" >1.0000</td>\n",
       "      <td id=\"T_90487_row1_col3\" class=\"data row1 col3\" >1.0000</td>\n",
       "      <td id=\"T_90487_row1_col4\" class=\"data row1 col4\" >1.0000</td>\n",
       "      <td id=\"T_90487_row1_col5\" class=\"data row1 col5\" >1.0000</td>\n",
       "      <td id=\"T_90487_row1_col6\" class=\"data row1 col6\" >1.0000</td>\n",
       "    </tr>\n",
       "    <tr>\n",
       "      <th id=\"T_90487_level0_row2\" class=\"row_heading level0 row2\" >2</th>\n",
       "      <td id=\"T_90487_row2_col0\" class=\"data row2 col0\" >1.0000</td>\n",
       "      <td id=\"T_90487_row2_col1\" class=\"data row2 col1\" >0.0000</td>\n",
       "      <td id=\"T_90487_row2_col2\" class=\"data row2 col2\" >1.0000</td>\n",
       "      <td id=\"T_90487_row2_col3\" class=\"data row2 col3\" >1.0000</td>\n",
       "      <td id=\"T_90487_row2_col4\" class=\"data row2 col4\" >1.0000</td>\n",
       "      <td id=\"T_90487_row2_col5\" class=\"data row2 col5\" >1.0000</td>\n",
       "      <td id=\"T_90487_row2_col6\" class=\"data row2 col6\" >1.0000</td>\n",
       "    </tr>\n",
       "    <tr>\n",
       "      <th id=\"T_90487_level0_row3\" class=\"row_heading level0 row3\" >3</th>\n",
       "      <td id=\"T_90487_row3_col0\" class=\"data row3 col0\" >1.0000</td>\n",
       "      <td id=\"T_90487_row3_col1\" class=\"data row3 col1\" >0.0000</td>\n",
       "      <td id=\"T_90487_row3_col2\" class=\"data row3 col2\" >1.0000</td>\n",
       "      <td id=\"T_90487_row3_col3\" class=\"data row3 col3\" >1.0000</td>\n",
       "      <td id=\"T_90487_row3_col4\" class=\"data row3 col4\" >1.0000</td>\n",
       "      <td id=\"T_90487_row3_col5\" class=\"data row3 col5\" >1.0000</td>\n",
       "      <td id=\"T_90487_row3_col6\" class=\"data row3 col6\" >1.0000</td>\n",
       "    </tr>\n",
       "    <tr>\n",
       "      <th id=\"T_90487_level0_row4\" class=\"row_heading level0 row4\" >4</th>\n",
       "      <td id=\"T_90487_row4_col0\" class=\"data row4 col0\" >1.0000</td>\n",
       "      <td id=\"T_90487_row4_col1\" class=\"data row4 col1\" >1.0000</td>\n",
       "      <td id=\"T_90487_row4_col2\" class=\"data row4 col2\" >1.0000</td>\n",
       "      <td id=\"T_90487_row4_col3\" class=\"data row4 col3\" >1.0000</td>\n",
       "      <td id=\"T_90487_row4_col4\" class=\"data row4 col4\" >1.0000</td>\n",
       "      <td id=\"T_90487_row4_col5\" class=\"data row4 col5\" >1.0000</td>\n",
       "      <td id=\"T_90487_row4_col6\" class=\"data row4 col6\" >1.0000</td>\n",
       "    </tr>\n",
       "    <tr>\n",
       "      <th id=\"T_90487_level0_row5\" class=\"row_heading level0 row5\" >5</th>\n",
       "      <td id=\"T_90487_row5_col0\" class=\"data row5 col0\" >1.0000</td>\n",
       "      <td id=\"T_90487_row5_col1\" class=\"data row5 col1\" >1.0000</td>\n",
       "      <td id=\"T_90487_row5_col2\" class=\"data row5 col2\" >1.0000</td>\n",
       "      <td id=\"T_90487_row5_col3\" class=\"data row5 col3\" >1.0000</td>\n",
       "      <td id=\"T_90487_row5_col4\" class=\"data row5 col4\" >1.0000</td>\n",
       "      <td id=\"T_90487_row5_col5\" class=\"data row5 col5\" >1.0000</td>\n",
       "      <td id=\"T_90487_row5_col6\" class=\"data row5 col6\" >1.0000</td>\n",
       "    </tr>\n",
       "    <tr>\n",
       "      <th id=\"T_90487_level0_row6\" class=\"row_heading level0 row6\" >6</th>\n",
       "      <td id=\"T_90487_row6_col0\" class=\"data row6 col0\" >1.0000</td>\n",
       "      <td id=\"T_90487_row6_col1\" class=\"data row6 col1\" >1.0000</td>\n",
       "      <td id=\"T_90487_row6_col2\" class=\"data row6 col2\" >1.0000</td>\n",
       "      <td id=\"T_90487_row6_col3\" class=\"data row6 col3\" >1.0000</td>\n",
       "      <td id=\"T_90487_row6_col4\" class=\"data row6 col4\" >1.0000</td>\n",
       "      <td id=\"T_90487_row6_col5\" class=\"data row6 col5\" >1.0000</td>\n",
       "      <td id=\"T_90487_row6_col6\" class=\"data row6 col6\" >1.0000</td>\n",
       "    </tr>\n",
       "    <tr>\n",
       "      <th id=\"T_90487_level0_row7\" class=\"row_heading level0 row7\" >7</th>\n",
       "      <td id=\"T_90487_row7_col0\" class=\"data row7 col0\" >1.0000</td>\n",
       "      <td id=\"T_90487_row7_col1\" class=\"data row7 col1\" >1.0000</td>\n",
       "      <td id=\"T_90487_row7_col2\" class=\"data row7 col2\" >1.0000</td>\n",
       "      <td id=\"T_90487_row7_col3\" class=\"data row7 col3\" >1.0000</td>\n",
       "      <td id=\"T_90487_row7_col4\" class=\"data row7 col4\" >1.0000</td>\n",
       "      <td id=\"T_90487_row7_col5\" class=\"data row7 col5\" >1.0000</td>\n",
       "      <td id=\"T_90487_row7_col6\" class=\"data row7 col6\" >1.0000</td>\n",
       "    </tr>\n",
       "    <tr>\n",
       "      <th id=\"T_90487_level0_row8\" class=\"row_heading level0 row8\" >8</th>\n",
       "      <td id=\"T_90487_row8_col0\" class=\"data row8 col0\" >1.0000</td>\n",
       "      <td id=\"T_90487_row8_col1\" class=\"data row8 col1\" >1.0000</td>\n",
       "      <td id=\"T_90487_row8_col2\" class=\"data row8 col2\" >1.0000</td>\n",
       "      <td id=\"T_90487_row8_col3\" class=\"data row8 col3\" >1.0000</td>\n",
       "      <td id=\"T_90487_row8_col4\" class=\"data row8 col4\" >1.0000</td>\n",
       "      <td id=\"T_90487_row8_col5\" class=\"data row8 col5\" >1.0000</td>\n",
       "      <td id=\"T_90487_row8_col6\" class=\"data row8 col6\" >1.0000</td>\n",
       "    </tr>\n",
       "    <tr>\n",
       "      <th id=\"T_90487_level0_row9\" class=\"row_heading level0 row9\" >9</th>\n",
       "      <td id=\"T_90487_row9_col0\" class=\"data row9 col0\" >1.0000</td>\n",
       "      <td id=\"T_90487_row9_col1\" class=\"data row9 col1\" >1.0000</td>\n",
       "      <td id=\"T_90487_row9_col2\" class=\"data row9 col2\" >1.0000</td>\n",
       "      <td id=\"T_90487_row9_col3\" class=\"data row9 col3\" >1.0000</td>\n",
       "      <td id=\"T_90487_row9_col4\" class=\"data row9 col4\" >1.0000</td>\n",
       "      <td id=\"T_90487_row9_col5\" class=\"data row9 col5\" >1.0000</td>\n",
       "      <td id=\"T_90487_row9_col6\" class=\"data row9 col6\" >1.0000</td>\n",
       "    </tr>\n",
       "    <tr>\n",
       "      <th id=\"T_90487_level0_row10\" class=\"row_heading level0 row10\" >Mean</th>\n",
       "      <td id=\"T_90487_row10_col0\" class=\"data row10 col0\" >0.9800</td>\n",
       "      <td id=\"T_90487_row10_col1\" class=\"data row10 col1\" >0.6942</td>\n",
       "      <td id=\"T_90487_row10_col2\" class=\"data row10 col2\" >0.9800</td>\n",
       "      <td id=\"T_90487_row10_col3\" class=\"data row10 col3\" >0.9800</td>\n",
       "      <td id=\"T_90487_row10_col4\" class=\"data row10 col4\" >0.9800</td>\n",
       "      <td id=\"T_90487_row10_col5\" class=\"data row10 col5\" >0.9565</td>\n",
       "      <td id=\"T_90487_row10_col6\" class=\"data row10 col6\" >0.9565</td>\n",
       "    </tr>\n",
       "    <tr>\n",
       "      <th id=\"T_90487_level0_row11\" class=\"row_heading level0 row11\" >Std</th>\n",
       "      <td id=\"T_90487_row11_col0\" class=\"data row11 col0\" >0.0600</td>\n",
       "      <td id=\"T_90487_row11_col1\" class=\"data row11 col1\" >0.4548</td>\n",
       "      <td id=\"T_90487_row11_col2\" class=\"data row11 col2\" >0.0600</td>\n",
       "      <td id=\"T_90487_row11_col3\" class=\"data row11 col3\" >0.0600</td>\n",
       "      <td id=\"T_90487_row11_col4\" class=\"data row11 col4\" >0.0600</td>\n",
       "      <td id=\"T_90487_row11_col5\" class=\"data row11 col5\" >0.1304</td>\n",
       "      <td id=\"T_90487_row11_col6\" class=\"data row11 col6\" >0.1304</td>\n",
       "    </tr>\n",
       "  </tbody>\n",
       "</table>\n"
      ],
      "text/plain": [
       "<pandas.io.formats.style.Styler at 0x785afa7e40d0>"
      ]
     },
     "metadata": {},
     "output_type": "display_data"
    },
    {
     "data": {
      "application/vnd.jupyter.widget-view+json": {
       "model_id": "debf15da412b4c55aca1debfdec08874",
       "version_major": 2,
       "version_minor": 0
      },
      "text/plain": [
       "Processing:   0%|          | 0/4 [00:00<?, ?it/s]"
      ]
     },
     "metadata": {},
     "output_type": "display_data"
    }
   ],
   "source": [
    "rf = create_model('rf')"
   ]
  },
  {
   "cell_type": "markdown",
   "id": "96b67af4",
   "metadata": {
    "id": "DMqn_YlmGQ-y",
    "papermill": {
     "duration": 0.03147,
     "end_time": "2023-05-24T19:23:17.471089",
     "exception": false,
     "start_time": "2023-05-24T19:23:17.439619",
     "status": "completed"
    },
    "tags": []
   },
   "source": [
    "## Visualize the model"
   ]
  },
  {
   "cell_type": "code",
   "execution_count": 32,
   "id": "9e4355ad",
   "metadata": {
    "execution": {
     "iopub.execute_input": "2023-05-24T19:23:17.536668Z",
     "iopub.status.busy": "2023-05-24T19:23:17.535565Z",
     "iopub.status.idle": "2023-05-24T19:23:18.137961Z",
     "shell.execute_reply": "2023-05-24T19:23:18.136770Z"
    },
    "id": "ZuVeA_laGKzh",
    "outputId": "90b176a4-8a6e-44bc-f71f-7208f9c1cb5f",
    "papermill": {
     "duration": 0.640188,
     "end_time": "2023-05-24T19:23:18.140911",
     "exception": false,
     "start_time": "2023-05-24T19:23:17.500723",
     "status": "completed"
    },
    "tags": []
   },
   "outputs": [
    {
     "data": {
      "text/html": [],
      "text/plain": [
       "<IPython.core.display.HTML object>"
      ]
     },
     "metadata": {},
     "output_type": "display_data"
    },
    {
     "data": {
      "image/png": "[encoded data removed]",
      "text/plain": [
       "<Figure size 800x550 with 1 Axes>"
      ]
     },
     "metadata": {},
     "output_type": "display_data"
    }
   ],
   "source": [
    "plot_model(rf, plot = 'confusion_matrix')\n"
   ]
  },
  {
   "cell_type": "code",
   "execution_count": 33,
   "id": "46279119",
   "metadata": {
    "execution": {
     "iopub.execute_input": "2023-05-24T19:23:18.197894Z",
     "iopub.status.busy": "2023-05-24T19:23:18.197473Z",
     "iopub.status.idle": "2023-05-24T19:23:18.914731Z",
     "shell.execute_reply": "2023-05-24T19:23:18.913380Z"
    },
    "id": "TubERJAMGXJR",
    "outputId": "8622264c-864b-4922-dfca-834ce8237938",
    "papermill": {
     "duration": 0.750048,
     "end_time": "2023-05-24T19:23:18.917631",
     "exception": false,
     "start_time": "2023-05-24T19:23:18.167583",
     "status": "completed"
    },
    "tags": []
   },
   "outputs": [
    {
     "data": {
      "text/html": [],
      "text/plain": [
       "<IPython.core.display.HTML object>"
      ]
     },
     "metadata": {},
     "output_type": "display_data"
    },
    {
     "data": {
      "image/png": "[encoded data removed]",
      "text/plain": [
       "<Figure size 800x550 with 2 Axes>"
      ]
     },
     "metadata": {},
     "output_type": "display_data"
    }
   ],
   "source": [
    "plot_model(rf, plot = 'class_report')"
   ]
  },
  {
   "cell_type": "code",
   "execution_count": 34,
   "id": "13b399c0",
   "metadata": {
    "execution": {
     "iopub.execute_input": "2023-05-24T19:23:18.974450Z",
     "iopub.status.busy": "2023-05-24T19:23:18.973610Z",
     "iopub.status.idle": "2023-05-24T19:23:21.219873Z",
     "shell.execute_reply": "2023-05-24T19:23:21.218690Z"
    },
    "id": "NlRBh7gbGawn",
    "outputId": "8e119692-8108-4e1d-baec-cc9efee5df95",
    "papermill": {
     "duration": 2.276818,
     "end_time": "2023-05-24T19:23:21.222366",
     "exception": false,
     "start_time": "2023-05-24T19:23:18.945548",
     "status": "completed"
    },
    "tags": []
   },
   "outputs": [
    {
     "data": {
      "text/html": [],
      "text/plain": [
       "<IPython.core.display.HTML object>"
      ]
     },
     "metadata": {},
     "output_type": "display_data"
    },
    {
     "data": {
      "image/png": "[encoded data removed]",
      "text/plain": [
       "<Figure size 800x550 with 1 Axes>"
      ]
     },
     "metadata": {},
     "output_type": "display_data"
    }
   ],
   "source": [
    "plot_model(rf, plot='boundary')"
   ]
  },
  {
   "cell_type": "code",
   "execution_count": 35,
   "id": "6688098e",
   "metadata": {
    "execution": {
     "iopub.execute_input": "2023-05-24T19:23:21.281179Z",
     "iopub.status.busy": "2023-05-24T19:23:21.280818Z",
     "iopub.status.idle": "2023-05-24T19:23:21.974744Z",
     "shell.execute_reply": "2023-05-24T19:23:21.973738Z"
    },
    "id": "XUzR96I0GfGA",
    "outputId": "2eca38d6-66ef-4056-ca8f-5381a79f8bfd",
    "papermill": {
     "duration": 0.727669,
     "end_time": "2023-05-24T19:23:21.977420",
     "exception": false,
     "start_time": "2023-05-24T19:23:21.249751",
     "status": "completed"
    },
    "tags": []
   },
   "outputs": [
    {
     "data": {
      "text/html": [],
      "text/plain": [
       "<IPython.core.display.HTML object>"
      ]
     },
     "metadata": {},
     "output_type": "display_data"
    },
    {
     "data": {
      "image/png": "[encoded data removed]",
      "text/plain": [
       "<Figure size 800x550 with 1 Axes>"
      ]
     },
     "metadata": {},
     "output_type": "display_data"
    }
   ],
   "source": [
    "plot_model(rf, plot = 'error')"
   ]
  },
  {
   "cell_type": "code",
   "execution_count": 36,
   "id": "4bfea2c9",
   "metadata": {
    "execution": {
     "iopub.execute_input": "2023-05-24T19:23:22.037827Z",
     "iopub.status.busy": "2023-05-24T19:23:22.037458Z",
     "iopub.status.idle": "2023-05-24T19:23:22.515288Z",
     "shell.execute_reply": "2023-05-24T19:23:22.514599Z"
    },
    "id": "IaTsCVOBGlq0",
    "outputId": "a1e4410d-1302-44bb-8321-a0d7351b63a1",
    "papermill": {
     "duration": 0.509591,
     "end_time": "2023-05-24T19:23:22.516992",
     "exception": false,
     "start_time": "2023-05-24T19:23:22.007401",
     "status": "completed"
    },
    "tags": []
   },
   "outputs": [
    {
     "data": {
      "application/vnd.jupyter.widget-view+json": {
       "model_id": "11c410af7cf94abf86e4638a1962040c",
       "version_major": 2,
       "version_minor": 0
      },
      "text/plain": [
       "interactive(children=(ToggleButtons(description='Plot Type:', icons=('',), options=(('Pipeline Plot', 'pipelin…"
      ]
     },
     "metadata": {},
     "output_type": "display_data"
    }
   ],
   "source": [
    "evaluate_model(rf)"
   ]
  },
  {
   "cell_type": "markdown",
   "id": "eb43ef0b",
   "metadata": {
    "id": "d-QJN1JWG4fA",
    "papermill": {
     "duration": 0.027255,
     "end_time": "2023-05-24T19:23:22.572268",
     "exception": false,
     "start_time": "2023-05-24T19:23:22.545013",
     "status": "completed"
    },
    "tags": []
   },
   "source": [
    "## Prediction on test"
   ]
  },
  {
   "cell_type": "code",
   "execution_count": 37,
   "id": "1ea96768",
   "metadata": {
    "execution": {
     "iopub.execute_input": "2023-05-24T19:23:22.629290Z",
     "iopub.status.busy": "2023-05-24T19:23:22.628755Z",
     "iopub.status.idle": "2023-05-24T19:23:22.999883Z",
     "shell.execute_reply": "2023-05-24T19:23:22.998311Z"
    },
    "id": "f0iLkFAhGrDb",
    "outputId": "f48f97cd-b1ad-45a7-e6dc-3b25d41746ca",
    "papermill": {
     "duration": 0.402271,
     "end_time": "2023-05-24T19:23:23.002390",
     "exception": false,
     "start_time": "2023-05-24T19:23:22.600119",
     "status": "completed"
    },
    "tags": []
   },
   "outputs": [
    {
     "data": {
      "text/html": [
       "<style type=\"text/css\">\n",
       "</style>\n",
       "<table id=\"T_0061c\">\n",
       "  <thead>\n",
       "    <tr>\n",
       "      <th class=\"blank level0\" >&nbsp;</th>\n",
       "      <th id=\"T_0061c_level0_col0\" class=\"col_heading level0 col0\" >Model</th>\n",
       "      <th id=\"T_0061c_level0_col1\" class=\"col_heading level0 col1\" >Accuracy</th>\n",
       "      <th id=\"T_0061c_level0_col2\" class=\"col_heading level0 col2\" >AUC</th>\n",
       "      <th id=\"T_0061c_level0_col3\" class=\"col_heading level0 col3\" >Recall</th>\n",
       "      <th id=\"T_0061c_level0_col4\" class=\"col_heading level0 col4\" >Prec.</th>\n",
       "      <th id=\"T_0061c_level0_col5\" class=\"col_heading level0 col5\" >F1</th>\n",
       "      <th id=\"T_0061c_level0_col6\" class=\"col_heading level0 col6\" >Kappa</th>\n",
       "      <th id=\"T_0061c_level0_col7\" class=\"col_heading level0 col7\" >MCC</th>\n",
       "    </tr>\n",
       "  </thead>\n",
       "  <tbody>\n",
       "    <tr>\n",
       "      <th id=\"T_0061c_level0_row0\" class=\"row_heading level0 row0\" >0</th>\n",
       "      <td id=\"T_0061c_row0_col0\" class=\"data row0 col0\" >Random Forest Classifier</td>\n",
       "      <td id=\"T_0061c_row0_col1\" class=\"data row0 col1\" >0.9750</td>\n",
       "      <td id=\"T_0061c_row0_col2\" class=\"data row0 col2\" >0.9810</td>\n",
       "      <td id=\"T_0061c_row0_col3\" class=\"data row0 col3\" >0.9750</td>\n",
       "      <td id=\"T_0061c_row0_col4\" class=\"data row0 col4\" >0.9775</td>\n",
       "      <td id=\"T_0061c_row0_col5\" class=\"data row0 col5\" >0.9754</td>\n",
       "      <td id=\"T_0061c_row0_col6\" class=\"data row0 col6\" >0.9463</td>\n",
       "      <td id=\"T_0061c_row0_col7\" class=\"data row0 col7\" >0.9479</td>\n",
       "    </tr>\n",
       "  </tbody>\n",
       "</table>\n"
      ],
      "text/plain": [
       "<pandas.io.formats.style.Styler at 0x785af417ec80>"
      ]
     },
     "metadata": {},
     "output_type": "display_data"
    }
   ],
   "source": [
    "predict_model(rf);"
   ]
  },
  {
   "cell_type": "markdown",
   "id": "cb2a0249",
   "metadata": {
    "id": "ZlJ-bSbLHCvP",
    "papermill": {
     "duration": 0.028069,
     "end_time": "2023-05-24T19:23:23.059927",
     "exception": false,
     "start_time": "2023-05-24T19:23:23.031858",
     "status": "completed"
    },
    "tags": []
   },
   "source": [
    "## Finalizing"
   ]
  },
  {
   "cell_type": "code",
   "execution_count": 38,
   "id": "a60ee708",
   "metadata": {
    "execution": {
     "iopub.execute_input": "2023-05-24T19:23:23.117384Z",
     "iopub.status.busy": "2023-05-24T19:23:23.117046Z",
     "iopub.status.idle": "2023-05-24T19:23:23.976704Z",
     "shell.execute_reply": "2023-05-24T19:23:23.974813Z"
    },
    "id": "UnHSDcb4HA5k",
    "papermill": {
     "duration": 0.891524,
     "end_time": "2023-05-24T19:23:23.979176",
     "exception": false,
     "start_time": "2023-05-24T19:23:23.087652",
     "status": "completed"
    },
    "tags": []
   },
   "outputs": [],
   "source": [
    "final_rf = finalize_model(rf)"
   ]
  },
  {
   "cell_type": "code",
   "execution_count": 39,
   "id": "22e9fd7c",
   "metadata": {
    "execution": {
     "iopub.execute_input": "2023-05-24T19:23:24.037698Z",
     "iopub.status.busy": "2023-05-24T19:23:24.037402Z",
     "iopub.status.idle": "2023-05-24T19:23:24.068749Z",
     "shell.execute_reply": "2023-05-24T19:23:24.067922Z"
    },
    "id": "wl7O-AXyHHTU",
    "outputId": "cfeb6bca-cff9-410a-fbdd-9802adb35c05",
    "papermill": {
     "duration": 0.062703,
     "end_time": "2023-05-24T19:23:24.070448",
     "exception": false,
     "start_time": "2023-05-24T19:23:24.007745",
     "status": "completed"
    },
    "tags": []
   },
   "outputs": [
    {
     "data": {
      "text/html": [
       "<style>#sk-container-id-2 {color: black;background-color: white;}#sk-container-id-2 pre{padding: 0;}#sk-container-id-2 div.sk-toggleable {background-color: white;}#sk-container-id-2 label.sk-toggleable__label {cursor: pointer;display: block;width: 100%;margin-bottom: 0;padding: 0.3em;box-sizing: border-box;text-align: center;}#sk-container-id-2 label.sk-toggleable__label-arrow:before {content: \"▸\";float: left;margin-right: 0.25em;color: #696969;}#sk-container-id-2 label.sk-toggleable__label-arrow:hover:before {color: black;}#sk-container-id-2 div.sk-estimator:hover label.sk-toggleable__label-arrow:before {color: black;}#sk-container-id-2 div.sk-toggleable__content {max-height: 0;max-width: 0;overflow: hidden;text-align: left;background-color: #f0f8ff;}#sk-container-id-2 div.sk-toggleable__content pre {margin: 0.2em;color: black;border-radius: 0.25em;background-color: #f0f8ff;}#sk-container-id-2 input.sk-toggleable__control:checked~div.sk-toggleable__content {max-height: 200px;max-width: 100%;overflow: auto;}#sk-container-id-2 input.sk-toggleable__control:checked~label.sk-toggleable__label-arrow:before {content: \"▾\";}#sk-container-id-2 div.sk-estimator input.sk-toggleable__control:checked~label.sk-toggleable__label {background-color: #d4ebff;}#sk-container-id-2 div.sk-label input.sk-toggleable__control:checked~label.sk-toggleable__label {background-color: #d4ebff;}#sk-container-id-2 input.sk-hidden--visually {border: 0;clip: rect(1px 1px 1px 1px);clip: rect(1px, 1px, 1px, 1px);height: 1px;margin: -1px;overflow: hidden;padding: 0;position: absolute;width: 1px;}#sk-container-id-2 div.sk-estimator {font-family: monospace;background-color: #f0f8ff;border: 1px dotted black;border-radius: 0.25em;box-sizing: border-box;margin-bottom: 0.5em;}#sk-container-id-2 div.sk-estimator:hover {background-color: #d4ebff;}#sk-container-id-2 div.sk-parallel-item::after {content: \"\";width: 100%;border-bottom: 1px solid gray;flex-grow: 1;}#sk-container-id-2 div.sk-label:hover label.sk-toggleable__label {background-color: #d4ebff;}#sk-container-id-2 div.sk-serial::before {content: \"\";position: absolute;border-left: 1px solid gray;box-sizing: border-box;top: 0;bottom: 0;left: 50%;z-index: 0;}#sk-container-id-2 div.sk-serial {display: flex;flex-direction: column;align-items: center;background-color: white;padding-right: 0.2em;padding-left: 0.2em;position: relative;}#sk-container-id-2 div.sk-item {position: relative;z-index: 1;}#sk-container-id-2 div.sk-parallel {display: flex;align-items: stretch;justify-content: center;background-color: white;position: relative;}#sk-container-id-2 div.sk-item::before, #sk-container-id-2 div.sk-parallel-item::before {content: \"\";position: absolute;border-left: 1px solid gray;box-sizing: border-box;top: 0;bottom: 0;left: 50%;z-index: -1;}#sk-container-id-2 div.sk-parallel-item {display: flex;flex-direction: column;z-index: 1;position: relative;background-color: white;}#sk-container-id-2 div.sk-parallel-item:first-child::after {align-self: flex-end;width: 50%;}#sk-container-id-2 div.sk-parallel-item:last-child::after {align-self: flex-start;width: 50%;}#sk-container-id-2 div.sk-parallel-item:only-child::after {width: 0;}#sk-container-id-2 div.sk-dashed-wrapped {border: 1px dashed gray;margin: 0 0.4em 0.5em 0.4em;box-sizing: border-box;padding-bottom: 0.4em;background-color: white;}#sk-container-id-2 div.sk-label label {font-family: monospace;font-weight: bold;display: inline-block;line-height: 1.2em;}#sk-container-id-2 div.sk-label-container {text-align: center;}#sk-container-id-2 div.sk-container {/* jupyter's `normalize.less` sets `[hidden] { display: none; }` but bootstrap.min.css set `[hidden] { display: none !important; }` so we also need the `!important` here to be able to override the default hidden behavior on the sphinx rendered scikit-learn.org. See: https://github.com/scikit-learn/scikit-learn/issues/21755 */display: inline-block !important;position: relative;}#sk-container-id-2 div.sk-text-repr-fallback {display: none;}</style><div id=\"sk-container-id-2\" class=\"sk-top-container\"><div class=\"sk-text-repr-fallback\"><pre>Pipeline(memory=FastMemory(location=/tmp/joblib),\n",
       "         steps=[(&#x27;numerical_imputer&#x27;,\n",
       "                 TransformerWrapper(exclude=None,\n",
       "                                    include=[&#x27;Age&#x27;, &#x27;Gender&#x27;, &#x27;Income&#x27;,\n",
       "                                             &#x27;Education&#x27;, &#x27;Marital Status&#x27;,\n",
       "                                             &#x27;Number of Children&#x27;,\n",
       "                                             &#x27;Home Ownership&#x27;],\n",
       "                                    transformer=SimpleImputer(add_indicator=False,\n",
       "                                                              copy=True,\n",
       "                                                              fill_value=None,\n",
       "                                                              keep_empty_features=False,\n",
       "                                                              missing_values=nan,\n",
       "                                                              strategy=&#x27;mean&#x27;,\n",
       "                                                              verbose=&#x27;de...\n",
       "                 RandomForestClassifier(bootstrap=True, ccp_alpha=0.0,\n",
       "                                        class_weight=None, criterion=&#x27;gini&#x27;,\n",
       "                                        max_depth=None, max_features=&#x27;sqrt&#x27;,\n",
       "                                        max_leaf_nodes=None, max_samples=None,\n",
       "                                        min_impurity_decrease=0.0,\n",
       "                                        min_samples_leaf=1, min_samples_split=2,\n",
       "                                        min_weight_fraction_leaf=0.0,\n",
       "                                        n_estimators=100, n_jobs=-1,\n",
       "                                        oob_score=False, random_state=123,\n",
       "                                        verbose=0, warm_start=False))],\n",
       "         verbose=False)</pre><b>In a Jupyter environment, please rerun this cell to show the HTML representation or trust the notebook. <br />On GitHub, the HTML representation is unable to render, please try loading this page with nbviewer.org.</b></div><div class=\"sk-container\" hidden><div class=\"sk-item sk-dashed-wrapped\"><div class=\"sk-label-container\"><div class=\"sk-label sk-toggleable\"><input class=\"sk-toggleable__control sk-hidden--visually\" id=\"sk-estimator-id-2\" type=\"checkbox\" ><label for=\"sk-estimator-id-2\" class=\"sk-toggleable__label sk-toggleable__label-arrow\">Pipeline</label><div class=\"sk-toggleable__content\"><pre>Pipeline(memory=FastMemory(location=/tmp/joblib),\n",
       "         steps=[(&#x27;numerical_imputer&#x27;,\n",
       "                 TransformerWrapper(exclude=None,\n",
       "                                    include=[&#x27;Age&#x27;, &#x27;Gender&#x27;, &#x27;Income&#x27;,\n",
       "                                             &#x27;Education&#x27;, &#x27;Marital Status&#x27;,\n",
       "                                             &#x27;Number of Children&#x27;,\n",
       "                                             &#x27;Home Ownership&#x27;],\n",
       "                                    transformer=SimpleImputer(add_indicator=False,\n",
       "                                                              copy=True,\n",
       "                                                              fill_value=None,\n",
       "                                                              keep_empty_features=False,\n",
       "                                                              missing_values=nan,\n",
       "                                                              strategy=&#x27;mean&#x27;,\n",
       "                                                              verbose=&#x27;de...\n",
       "                 RandomForestClassifier(bootstrap=True, ccp_alpha=0.0,\n",
       "                                        class_weight=None, criterion=&#x27;gini&#x27;,\n",
       "                                        max_depth=None, max_features=&#x27;sqrt&#x27;,\n",
       "                                        max_leaf_nodes=None, max_samples=None,\n",
       "                                        min_impurity_decrease=0.0,\n",
       "                                        min_samples_leaf=1, min_samples_split=2,\n",
       "                                        min_weight_fraction_leaf=0.0,\n",
       "                                        n_estimators=100, n_jobs=-1,\n",
       "                                        oob_score=False, random_state=123,\n",
       "                                        verbose=0, warm_start=False))],\n",
       "         verbose=False)</pre></div></div></div><div class=\"sk-serial\"><div class=\"sk-item sk-dashed-wrapped\"><div class=\"sk-label-container\"><div class=\"sk-label sk-toggleable\"><input class=\"sk-toggleable__control sk-hidden--visually\" id=\"sk-estimator-id-3\" type=\"checkbox\" ><label for=\"sk-estimator-id-3\" class=\"sk-toggleable__label sk-toggleable__label-arrow\">numerical_imputer: TransformerWrapper</label><div class=\"sk-toggleable__content\"><pre>TransformerWrapper(exclude=None,\n",
       "                   include=[&#x27;Age&#x27;, &#x27;Gender&#x27;, &#x27;Income&#x27;, &#x27;Education&#x27;,\n",
       "                            &#x27;Marital Status&#x27;, &#x27;Number of Children&#x27;,\n",
       "                            &#x27;Home Ownership&#x27;],\n",
       "                   transformer=SimpleImputer(add_indicator=False, copy=True,\n",
       "                                             fill_value=None,\n",
       "                                             keep_empty_features=False,\n",
       "                                             missing_values=nan,\n",
       "                                             strategy=&#x27;mean&#x27;,\n",
       "                                             verbose=&#x27;deprecated&#x27;))</pre></div></div></div><div class=\"sk-parallel\"><div class=\"sk-parallel-item\"><div class=\"sk-item\"><div class=\"sk-label-container\"><div class=\"sk-label sk-toggleable\"><input class=\"sk-toggleable__control sk-hidden--visually\" id=\"sk-estimator-id-4\" type=\"checkbox\" ><label for=\"sk-estimator-id-4\" class=\"sk-toggleable__label sk-toggleable__label-arrow\">transformer: SimpleImputer</label><div class=\"sk-toggleable__content\"><pre>SimpleImputer()</pre></div></div></div><div class=\"sk-serial\"><div class=\"sk-item\"><div class=\"sk-estimator sk-toggleable\"><input class=\"sk-toggleable__control sk-hidden--visually\" id=\"sk-estimator-id-5\" type=\"checkbox\" ><label for=\"sk-estimator-id-5\" class=\"sk-toggleable__label sk-toggleable__label-arrow\">SimpleImputer</label><div class=\"sk-toggleable__content\"><pre>SimpleImputer()</pre></div></div></div></div></div></div></div></div><div class=\"sk-item sk-dashed-wrapped\"><div class=\"sk-label-container\"><div class=\"sk-label sk-toggleable\"><input class=\"sk-toggleable__control sk-hidden--visually\" id=\"sk-estimator-id-6\" type=\"checkbox\" ><label for=\"sk-estimator-id-6\" class=\"sk-toggleable__label sk-toggleable__label-arrow\">categorical_imputer: TransformerWrapper</label><div class=\"sk-toggleable__content\"><pre>TransformerWrapper(exclude=None, include=[],\n",
       "                   transformer=SimpleImputer(add_indicator=False, copy=True,\n",
       "                                             fill_value=None,\n",
       "                                             keep_empty_features=False,\n",
       "                                             missing_values=nan,\n",
       "                                             strategy=&#x27;most_frequent&#x27;,\n",
       "                                             verbose=&#x27;deprecated&#x27;))</pre></div></div></div><div class=\"sk-parallel\"><div class=\"sk-parallel-item\"><div class=\"sk-item\"><div class=\"sk-label-container\"><div class=\"sk-label sk-toggleable\"><input class=\"sk-toggleable__control sk-hidden--visually\" id=\"sk-estimator-id-7\" type=\"checkbox\" ><label for=\"sk-estimator-id-7\" class=\"sk-toggleable__label sk-toggleable__label-arrow\">transformer: SimpleImputer</label><div class=\"sk-toggleable__content\"><pre>SimpleImputer(strategy=&#x27;most_frequent&#x27;)</pre></div></div></div><div class=\"sk-serial\"><div class=\"sk-item\"><div class=\"sk-estimator sk-toggleable\"><input class=\"sk-toggleable__control sk-hidden--visually\" id=\"sk-estimator-id-8\" type=\"checkbox\" ><label for=\"sk-estimator-id-8\" class=\"sk-toggleable__label sk-toggleable__label-arrow\">SimpleImputer</label><div class=\"sk-toggleable__content\"><pre>SimpleImputer(strategy=&#x27;most_frequent&#x27;)</pre></div></div></div></div></div></div></div></div><div class=\"sk-item sk-dashed-wrapped\"><div class=\"sk-label-container\"><div class=\"sk-label sk-toggleable\"><input class=\"sk-toggleable__control sk-hidden--visually\" id=\"sk-estimator-id-9\" type=\"checkbox\" ><label for=\"sk-estimator-id-9\" class=\"sk-toggleable__label sk-toggleable__label-arrow\">remove_multicollinearity: TransformerWrapper</label><div class=\"sk-toggleable__content\"><pre>TransformerWrapper(exclude=[], include=None,\n",
       "                   transformer=RemoveMulticollinearity(threshold=0.95))</pre></div></div></div><div class=\"sk-parallel\"><div class=\"sk-parallel-item\"><div class=\"sk-item\"><div class=\"sk-label-container\"><div class=\"sk-label sk-toggleable\"><input class=\"sk-toggleable__control sk-hidden--visually\" id=\"sk-estimator-id-10\" type=\"checkbox\" ><label for=\"sk-estimator-id-10\" class=\"sk-toggleable__label sk-toggleable__label-arrow\">transformer: RemoveMulticollinearity</label><div class=\"sk-toggleable__content\"><pre>RemoveMulticollinearity(threshold=0.95)</pre></div></div></div><div class=\"sk-serial\"><div class=\"sk-item\"><div class=\"sk-estimator sk-toggleable\"><input class=\"sk-toggleable__control sk-hidden--visually\" id=\"sk-estimator-id-11\" type=\"checkbox\" ><label for=\"sk-estimator-id-11\" class=\"sk-toggleable__label sk-toggleable__label-arrow\">RemoveMulticollinearity</label><div class=\"sk-toggleable__content\"><pre>RemoveMulticollinearity(threshold=0.95)</pre></div></div></div></div></div></div></div></div><div class=\"sk-item sk-dashed-wrapped\"><div class=\"sk-label-container\"><div class=\"sk-label sk-toggleable\"><input class=\"sk-toggleable__control sk-hidden--visually\" id=\"sk-estimator-id-12\" type=\"checkbox\" ><label for=\"sk-estimator-id-12\" class=\"sk-toggleable__label sk-toggleable__label-arrow\">transformation: TransformerWrapper</label><div class=\"sk-toggleable__content\"><pre>TransformerWrapper(exclude=None, include=None,\n",
       "                   transformer=PowerTransformer(copy=True, method=&#x27;yeo-johnson&#x27;,\n",
       "                                                standardize=False))</pre></div></div></div><div class=\"sk-parallel\"><div class=\"sk-parallel-item\"><div class=\"sk-item\"><div class=\"sk-label-container\"><div class=\"sk-label sk-toggleable\"><input class=\"sk-toggleable__control sk-hidden--visually\" id=\"sk-estimator-id-13\" type=\"checkbox\" ><label for=\"sk-estimator-id-13\" class=\"sk-toggleable__label sk-toggleable__label-arrow\">transformer: PowerTransformer</label><div class=\"sk-toggleable__content\"><pre>PowerTransformer(standardize=False)</pre></div></div></div><div class=\"sk-serial\"><div class=\"sk-item\"><div class=\"sk-estimator sk-toggleable\"><input class=\"sk-toggleable__control sk-hidden--visually\" id=\"sk-estimator-id-14\" type=\"checkbox\" ><label for=\"sk-estimator-id-14\" class=\"sk-toggleable__label sk-toggleable__label-arrow\">PowerTransformer</label><div class=\"sk-toggleable__content\"><pre>PowerTransformer(standardize=False)</pre></div></div></div></div></div></div></div></div><div class=\"sk-item sk-dashed-wrapped\"><div class=\"sk-label-container\"><div class=\"sk-label sk-toggleable\"><input class=\"sk-toggleable__control sk-hidden--visually\" id=\"sk-estimator-id-15\" type=\"checkbox\" ><label for=\"sk-estimator-id-15\" class=\"sk-toggleable__label sk-toggleable__label-arrow\">normalize: TransformerWrapper</label><div class=\"sk-toggleable__content\"><pre>TransformerWrapper(exclude=None, include=None,\n",
       "                   transformer=StandardScaler(copy=True, with_mean=True,\n",
       "                                              with_std=True))</pre></div></div></div><div class=\"sk-parallel\"><div class=\"sk-parallel-item\"><div class=\"sk-item\"><div class=\"sk-label-container\"><div class=\"sk-label sk-toggleable\"><input class=\"sk-toggleable__control sk-hidden--visually\" id=\"sk-estimator-id-16\" type=\"checkbox\" ><label for=\"sk-estimator-id-16\" class=\"sk-toggleable__label sk-toggleable__label-arrow\">transformer: StandardScaler</label><div class=\"sk-toggleable__content\"><pre>StandardScaler()</pre></div></div></div><div class=\"sk-serial\"><div class=\"sk-item\"><div class=\"sk-estimator sk-toggleable\"><input class=\"sk-toggleable__control sk-hidden--visually\" id=\"sk-estimator-id-17\" type=\"checkbox\" ><label for=\"sk-estimator-id-17\" class=\"sk-toggleable__label sk-toggleable__label-arrow\">StandardScaler</label><div class=\"sk-toggleable__content\"><pre>StandardScaler()</pre></div></div></div></div></div></div></div></div><div class=\"sk-item sk-dashed-wrapped\"><div class=\"sk-label-container\"><div class=\"sk-label sk-toggleable\"><input class=\"sk-toggleable__control sk-hidden--visually\" id=\"sk-estimator-id-18\" type=\"checkbox\" ><label for=\"sk-estimator-id-18\" class=\"sk-toggleable__label sk-toggleable__label-arrow\">clean_column_names: TransformerWrapper</label><div class=\"sk-toggleable__content\"><pre>TransformerWrapper(exclude=None, include=None,\n",
       "                   transformer=CleanColumnNames(match=&#x27;[\\\\]\\\\[\\\\,\\\\{\\\\}\\\\&quot;\\\\:]+&#x27;))</pre></div></div></div><div class=\"sk-parallel\"><div class=\"sk-parallel-item\"><div class=\"sk-item\"><div class=\"sk-label-container\"><div class=\"sk-label sk-toggleable\"><input class=\"sk-toggleable__control sk-hidden--visually\" id=\"sk-estimator-id-19\" type=\"checkbox\" ><label for=\"sk-estimator-id-19\" class=\"sk-toggleable__label sk-toggleable__label-arrow\">transformer: CleanColumnNames</label><div class=\"sk-toggleable__content\"><pre>CleanColumnNames()</pre></div></div></div><div class=\"sk-serial\"><div class=\"sk-item\"><div class=\"sk-estimator sk-toggleable\"><input class=\"sk-toggleable__control sk-hidden--visually\" id=\"sk-estimator-id-20\" type=\"checkbox\" ><label for=\"sk-estimator-id-20\" class=\"sk-toggleable__label sk-toggleable__label-arrow\">CleanColumnNames</label><div class=\"sk-toggleable__content\"><pre>CleanColumnNames()</pre></div></div></div></div></div></div></div></div><div class=\"sk-item\"><div class=\"sk-estimator sk-toggleable\"><input class=\"sk-toggleable__control sk-hidden--visually\" id=\"sk-estimator-id-21\" type=\"checkbox\" ><label for=\"sk-estimator-id-21\" class=\"sk-toggleable__label sk-toggleable__label-arrow\">RandomForestClassifier</label><div class=\"sk-toggleable__content\"><pre>RandomForestClassifier(n_jobs=-1, random_state=123)</pre></div></div></div></div></div></div></div>"
      ],
      "text/plain": [
       "Pipeline(memory=FastMemory(location=/tmp/joblib),\n",
       "         steps=[('numerical_imputer',\n",
       "                 TransformerWrapper(exclude=None,\n",
       "                                    include=['Age', 'Gender', 'Income',\n",
       "                                             'Education', 'Marital Status',\n",
       "                                             'Number of Children',\n",
       "                                             'Home Ownership'],\n",
       "                                    transformer=SimpleImputer(add_indicator=False,\n",
       "                                                              copy=True,\n",
       "                                                              fill_value=None,\n",
       "                                                              keep_empty_features=False,\n",
       "                                                              missing_values=nan,\n",
       "                                                              strategy='mean',\n",
       "                                                              verbose='de...\n",
       "                 RandomForestClassifier(bootstrap=True, ccp_alpha=0.0,\n",
       "                                        class_weight=None, criterion='gini',\n",
       "                                        max_depth=None, max_features='sqrt',\n",
       "                                        max_leaf_nodes=None, max_samples=None,\n",
       "                                        min_impurity_decrease=0.0,\n",
       "                                        min_samples_leaf=1, min_samples_split=2,\n",
       "                                        min_weight_fraction_leaf=0.0,\n",
       "                                        n_estimators=100, n_jobs=-1,\n",
       "                                        oob_score=False, random_state=123,\n",
       "                                        verbose=0, warm_start=False))],\n",
       "         verbose=False)"
      ]
     },
     "execution_count": 39,
     "metadata": {},
     "output_type": "execute_result"
    }
   ],
   "source": [
    "final_rf"
   ]
  },
  {
   "cell_type": "code",
   "execution_count": 40,
   "id": "3699abd8",
   "metadata": {
    "execution": {
     "iopub.execute_input": "2023-05-24T19:23:24.127642Z",
     "iopub.status.busy": "2023-05-24T19:23:24.127226Z",
     "iopub.status.idle": "2023-05-24T19:23:24.477897Z",
     "shell.execute_reply": "2023-05-24T19:23:24.476701Z"
    },
    "id": "qYwq5fz7HIVJ",
    "outputId": "21beeece-ff4c-4018-8248-07668b0d86de",
    "papermill": {
     "duration": 0.382819,
     "end_time": "2023-05-24T19:23:24.480859",
     "exception": false,
     "start_time": "2023-05-24T19:23:24.098040",
     "status": "completed"
    },
    "tags": []
   },
   "outputs": [
    {
     "data": {
      "text/html": [
       "<style type=\"text/css\">\n",
       "</style>\n",
       "<table id=\"T_319e7\">\n",
       "  <thead>\n",
       "    <tr>\n",
       "      <th class=\"blank level0\" >&nbsp;</th>\n",
       "      <th id=\"T_319e7_level0_col0\" class=\"col_heading level0 col0\" >Model</th>\n",
       "      <th id=\"T_319e7_level0_col1\" class=\"col_heading level0 col1\" >Accuracy</th>\n",
       "      <th id=\"T_319e7_level0_col2\" class=\"col_heading level0 col2\" >AUC</th>\n",
       "      <th id=\"T_319e7_level0_col3\" class=\"col_heading level0 col3\" >Recall</th>\n",
       "      <th id=\"T_319e7_level0_col4\" class=\"col_heading level0 col4\" >Prec.</th>\n",
       "      <th id=\"T_319e7_level0_col5\" class=\"col_heading level0 col5\" >F1</th>\n",
       "      <th id=\"T_319e7_level0_col6\" class=\"col_heading level0 col6\" >Kappa</th>\n",
       "      <th id=\"T_319e7_level0_col7\" class=\"col_heading level0 col7\" >MCC</th>\n",
       "    </tr>\n",
       "  </thead>\n",
       "  <tbody>\n",
       "    <tr>\n",
       "      <th id=\"T_319e7_level0_row0\" class=\"row_heading level0 row0\" >0</th>\n",
       "      <td id=\"T_319e7_row0_col0\" class=\"data row0 col0\" >Random Forest Classifier</td>\n",
       "      <td id=\"T_319e7_row0_col1\" class=\"data row0 col1\" >1.0000</td>\n",
       "      <td id=\"T_319e7_row0_col2\" class=\"data row0 col2\" >1.0000</td>\n",
       "      <td id=\"T_319e7_row0_col3\" class=\"data row0 col3\" >1.0000</td>\n",
       "      <td id=\"T_319e7_row0_col4\" class=\"data row0 col4\" >1.0000</td>\n",
       "      <td id=\"T_319e7_row0_col5\" class=\"data row0 col5\" >1.0000</td>\n",
       "      <td id=\"T_319e7_row0_col6\" class=\"data row0 col6\" >1.0000</td>\n",
       "      <td id=\"T_319e7_row0_col7\" class=\"data row0 col7\" >1.0000</td>\n",
       "    </tr>\n",
       "  </tbody>\n",
       "</table>\n"
      ],
      "text/plain": [
       "<pandas.io.formats.style.Styler at 0x785af4375390>"
      ]
     },
     "metadata": {},
     "output_type": "display_data"
    }
   ],
   "source": [
    "predict_model(final_rf);"
   ]
  },
  {
   "cell_type": "markdown",
   "id": "41a0f63f",
   "metadata": {
    "id": "XUQH5o0yHZ7G",
    "papermill": {
     "duration": 0.028664,
     "end_time": "2023-05-24T19:23:24.538274",
     "exception": false,
     "start_time": "2023-05-24T19:23:24.509610",
     "status": "completed"
    },
    "tags": []
   },
   "source": [
    "## Predict on Unseen data"
   ]
  },
  {
   "cell_type": "code",
   "execution_count": 41,
   "id": "199f33de",
   "metadata": {
    "execution": {
     "iopub.execute_input": "2023-05-24T19:23:24.597564Z",
     "iopub.status.busy": "2023-05-24T19:23:24.596328Z",
     "iopub.status.idle": "2023-05-24T19:23:24.946792Z",
     "shell.execute_reply": "2023-05-24T19:23:24.946167Z"
    },
    "id": "_Ep51m0kHRKb",
    "outputId": "5b6de736-2829-4be5-8cf4-b2cfd0f2c89e",
    "papermill": {
     "duration": 0.381752,
     "end_time": "2023-05-24T19:23:24.948446",
     "exception": false,
     "start_time": "2023-05-24T19:23:24.566694",
     "status": "completed"
    },
    "tags": []
   },
   "outputs": [
    {
     "data": {
      "text/html": [
       "<style type=\"text/css\">\n",
       "</style>\n",
       "<table id=\"T_16925\">\n",
       "  <thead>\n",
       "    <tr>\n",
       "      <th class=\"blank level0\" >&nbsp;</th>\n",
       "      <th id=\"T_16925_level0_col0\" class=\"col_heading level0 col0\" >Model</th>\n",
       "      <th id=\"T_16925_level0_col1\" class=\"col_heading level0 col1\" >Accuracy</th>\n",
       "      <th id=\"T_16925_level0_col2\" class=\"col_heading level0 col2\" >AUC</th>\n",
       "      <th id=\"T_16925_level0_col3\" class=\"col_heading level0 col3\" >Recall</th>\n",
       "      <th id=\"T_16925_level0_col4\" class=\"col_heading level0 col4\" >Prec.</th>\n",
       "      <th id=\"T_16925_level0_col5\" class=\"col_heading level0 col5\" >F1</th>\n",
       "      <th id=\"T_16925_level0_col6\" class=\"col_heading level0 col6\" >Kappa</th>\n",
       "      <th id=\"T_16925_level0_col7\" class=\"col_heading level0 col7\" >MCC</th>\n",
       "    </tr>\n",
       "  </thead>\n",
       "  <tbody>\n",
       "    <tr>\n",
       "      <th id=\"T_16925_level0_row0\" class=\"row_heading level0 row0\" >0</th>\n",
       "      <td id=\"T_16925_row0_col0\" class=\"data row0 col0\" >Random Forest Classifier</td>\n",
       "      <td id=\"T_16925_row0_col1\" class=\"data row0 col1\" >0.9697</td>\n",
       "      <td id=\"T_16925_row0_col2\" class=\"data row0 col2\" >1.0000</td>\n",
       "      <td id=\"T_16925_row0_col3\" class=\"data row0 col3\" >0.9697</td>\n",
       "      <td id=\"T_16925_row0_col4\" class=\"data row0 col4\" >0.9710</td>\n",
       "      <td id=\"T_16925_row0_col5\" class=\"data row0 col5\" >0.9683</td>\n",
       "      <td id=\"T_16925_row0_col6\" class=\"data row0 col6\" >0.9329</td>\n",
       "      <td id=\"T_16925_row0_col7\" class=\"data row0 col7\" >0.9355</td>\n",
       "    </tr>\n",
       "  </tbody>\n",
       "</table>\n"
      ],
      "text/plain": [
       "<pandas.io.formats.style.Styler at 0x785af6b2add0>"
      ]
     },
     "metadata": {},
     "output_type": "display_data"
    },
    {
     "data": {
      "text/html": [
       "<div>\n",
       "<style scoped>\n",
       "    .dataframe tbody tr th:only-of-type {\n",
       "        vertical-align: middle;\n",
       "    }\n",
       "\n",
       "    .dataframe tbody tr th {\n",
       "        vertical-align: top;\n",
       "    }\n",
       "\n",
       "    .dataframe thead th {\n",
       "        text-align: right;\n",
       "    }\n",
       "</style>\n",
       "<table border=\"1\" class=\"dataframe\">\n",
       "  <thead>\n",
       "    <tr style=\"text-align: right;\">\n",
       "      <th></th>\n",
       "      <th>Age</th>\n",
       "      <th>Gender</th>\n",
       "      <th>Income</th>\n",
       "      <th>Education</th>\n",
       "      <th>Marital Status</th>\n",
       "      <th>Number of Children</th>\n",
       "      <th>Home Ownership</th>\n",
       "      <th>Credit Score</th>\n",
       "      <th>prediction_label</th>\n",
       "      <th>prediction_score</th>\n",
       "    </tr>\n",
       "  </thead>\n",
       "  <tbody>\n",
       "    <tr>\n",
       "      <th>135</th>\n",
       "      <td>25</td>\n",
       "      <td>0</td>\n",
       "      <td>55000</td>\n",
       "      <td>1</td>\n",
       "      <td>1</td>\n",
       "      <td>0</td>\n",
       "      <td>1</td>\n",
       "      <td>0</td>\n",
       "      <td>0</td>\n",
       "      <td>1.00</td>\n",
       "    </tr>\n",
       "    <tr>\n",
       "      <th>115</th>\n",
       "      <td>48</td>\n",
       "      <td>0</td>\n",
       "      <td>87500</td>\n",
       "      <td>2</td>\n",
       "      <td>0</td>\n",
       "      <td>1</td>\n",
       "      <td>0</td>\n",
       "      <td>1</td>\n",
       "      <td>1</td>\n",
       "      <td>1.00</td>\n",
       "    </tr>\n",
       "    <tr>\n",
       "      <th>131</th>\n",
       "      <td>26</td>\n",
       "      <td>0</td>\n",
       "      <td>55000</td>\n",
       "      <td>1</td>\n",
       "      <td>0</td>\n",
       "      <td>1</td>\n",
       "      <td>0</td>\n",
       "      <td>0</td>\n",
       "      <td>1</td>\n",
       "      <td>0.51</td>\n",
       "    </tr>\n",
       "    <tr>\n",
       "      <th>55</th>\n",
       "      <td>39</td>\n",
       "      <td>0</td>\n",
       "      <td>62500</td>\n",
       "      <td>1</td>\n",
       "      <td>0</td>\n",
       "      <td>2</td>\n",
       "      <td>0</td>\n",
       "      <td>1</td>\n",
       "      <td>1</td>\n",
       "      <td>1.00</td>\n",
       "    </tr>\n",
       "    <tr>\n",
       "      <th>95</th>\n",
       "      <td>35</td>\n",
       "      <td>0</td>\n",
       "      <td>90000</td>\n",
       "      <td>2</td>\n",
       "      <td>0</td>\n",
       "      <td>1</td>\n",
       "      <td>0</td>\n",
       "      <td>1</td>\n",
       "      <td>1</td>\n",
       "      <td>1.00</td>\n",
       "    </tr>\n",
       "  </tbody>\n",
       "</table>\n",
       "</div>"
      ],
      "text/plain": [
       "     Age  Gender  Income  Education  Marital Status  Number of Children  \\\n",
       "135   25       0   55000          1               1                   0   \n",
       "115   48       0   87500          2               0                   1   \n",
       "131   26       0   55000          1               0                   1   \n",
       "55    39       0   62500          1               0                   2   \n",
       "95    35       0   90000          2               0                   1   \n",
       "\n",
       "     Home Ownership  Credit Score  prediction_label  prediction_score  \n",
       "135               1             0                 0              1.00  \n",
       "115               0             1                 1              1.00  \n",
       "131               0             0                 1              0.51  \n",
       "55                0             1                 1              1.00  \n",
       "95                0             1                 1              1.00  "
      ]
     },
     "execution_count": 41,
     "metadata": {},
     "output_type": "execute_result"
    }
   ],
   "source": [
    "unseen_predictions = predict_model(final_rf, data=test_df)\n",
    "unseen_predictions.head()"
   ]
  }
 ],
 "metadata": {
  "kernelspec": {
   "display_name": "Python 3",
   "language": "python",
   "name": "python3"
  },
  "language_info": {
   "codemirror_mode": {
    "name": "ipython",
    "version": 3
   },
   "file_extension": ".py",
   "mimetype": "text/x-python",
   "name": "python",
   "nbconvert_exporter": "python",
   "pygments_lexer": "ipython3",
   "version": "3.10.10"
  },
  "papermill": {
   "default_parameters": {},
   "duration": 110.108384,
   "end_time": "2023-05-24T19:23:27.600758",
   "environment_variables": {},
   "exception": null,
   "input_path": "__notebook__.ipynb",
   "output_path": "__notebook__.ipynb",
   "parameters": {},
   "start_time": "2023-05-24T19:21:37.492374",
   "version": "2.4.0"
  },
  "widgets": {
   "application/vnd.jupyter.widget-state+json": {
    "state": {
     "102e9d9f481747e78cb8767667ec7242": {
      "model_module": "@jupyter-widgets/controls",
      "model_module_version": "1.5.0",
      "model_name": "ProgressStyleModel",
      "state": {
       "_model_module": "@jupyter-widgets/controls",
       "_model_module_version": "1.5.0",
       "_model_name": "ProgressStyleModel",
       "_view_count": null,
       "_view_module": "@jupyter-widgets/base",
       "_view_module_version": "1.2.0",
       "_view_name": "StyleView",
       "bar_color": null,
       "description_width": ""
      }
     },
     "11c410af7cf94abf86e4638a1962040c": {
      "model_module": "@jupyter-widgets/controls",
      "model_module_version": "1.5.0",
      "model_name": "VBoxModel",
      "state": {
       "_dom_classes": [
        "widget-interact"
       ],
       "_model_module": "@jupyter-widgets/controls",
       "_model_module_version": "1.5.0",
       "_model_name": "VBoxModel",
       "_view_count": null,
       "_view_module": "@jupyter-widgets/controls",
       "_view_module_version": "1.5.0",
       "_view_name": "VBoxView",
       "box_style": "",
       "children": [
        "IPY_MODEL_1c1e675214fc4212931256c7fa499d23",
        "IPY_MODEL_20531a405c164ab28a2028a92298c316"
       ],
       "layout": "IPY_MODEL_c7277302fd5e4af099a107476f224f0b"
      }
     },
     "159301ff3cdf46c395cd9167628330db": {
      "model_module": "@jupyter-widgets/controls",
      "model_module_version": "1.5.0",
      "model_name": "HTMLModel",
      "state": {
       "_dom_classes": [],
       "_model_module": "@jupyter-widgets/controls",
       "_model_module_version": "1.5.0",
       "_model_name": "HTMLModel",
       "_view_count": null,
       "_view_module": "@jupyter-widgets/controls",
       "_view_module_version": "1.5.0",
       "_view_name": "HTMLView",
       "description": "",
       "description_tooltip": null,
       "layout": "IPY_MODEL_571f3d84272c4dc79a29137737845da6",
       "placeholder": "​",
       "style": "IPY_MODEL_6dce4a451f56440691aaff2cf7837f22",
       "value": " 69/69 [00:33&lt;00:00,  1.67it/s]"
      }
     },
     "1be8c2f798f94a6bb090cbfc3d20a790": {
      "model_module": "@jupyter-widgets/controls",
      "model_module_version": "1.5.0",
      "model_name": "FloatProgressModel",
      "state": {
       "_dom_classes": [],
       "_model_module": "@jupyter-widgets/controls",
       "_model_module_version": "1.5.0",
       "_model_name": "FloatProgressModel",
       "_view_count": null,
       "_view_module": "@jupyter-widgets/controls",
       "_view_module_version": "1.5.0",
       "_view_name": "ProgressView",
       "bar_style": "",
       "description": "",
       "description_tooltip": null,
       "layout": "IPY_MODEL_56eb48077b544b09b53766616cab27e0",
       "max": 4.0,
       "min": 0.0,
       "orientation": "horizontal",
       "style": "IPY_MODEL_102e9d9f481747e78cb8767667ec7242",
       "value": 4.0
      }
     },
     "1c1e675214fc4212931256c7fa499d23": {
      "model_module": "@jupyter-widgets/controls",
      "model_module_version": "1.5.0",
      "model_name": "ToggleButtonsModel",
      "state": {
       "_dom_classes": [],
       "_model_module": "@jupyter-widgets/controls",
       "_model_module_version": "1.5.0",
       "_model_name": "ToggleButtonsModel",
       "_options_labels": [
        "Pipeline Plot",
        "Hyperparameters",
        "AUC",
        "Confusion Matrix",
        "Threshold",
        "Precision Recall",
        "Prediction Error",
        "Class Report",
        "Feature Selection",
        "Learning Curve",
        "Manifold Learning",
        "Calibration Curve",
        "Validation Curve",
        "Dimensions",
        "Feature Importance",
        "Feature Importance (All)",
        "Decision Boundary",
        "Lift Chart",
        "Gain Chart",
        "Decision Tree",
        "KS Statistic Plot"
       ],
       "_view_count": null,
       "_view_module": "@jupyter-widgets/controls",
       "_view_module_version": "1.5.0",
       "_view_name": "ToggleButtonsView",
       "button_style": "",
       "description": "Plot Type:",
       "description_tooltip": null,
       "disabled": false,
       "icons": [
        ""
       ],
       "index": 0,
       "layout": "IPY_MODEL_8699348f0c214947998f1fee31e8aced",
       "style": "IPY_MODEL_fcc25d66435b44cba3ff3df6b8151d3c",
       "tooltips": []
      }
     },
     "203363f7d94d4ca795fe85d914e8c6fd": {
      "model_module": "@jupyter-widgets/base",
      "model_module_version": "1.2.0",
      "model_name": "LayoutModel",
      "state": {
       "_model_module": "@jupyter-widgets/base",
       "_model_module_version": "1.2.0",
       "_model_name": "LayoutModel",
       "_view_count": null,
       "_view_module": "@jupyter-widgets/base",
       "_view_module_version": "1.2.0",
       "_view_name": "LayoutView",
       "align_content": null,
       "align_items": null,
       "align_self": null,
       "border": null,
       "bottom": null,
       "display": null,
       "flex": null,
       "flex_flow": null,
       "grid_area": null,
       "grid_auto_columns": null,
       "grid_auto_flow": null,
       "grid_auto_rows": null,
       "grid_column": null,
       "grid_gap": null,
       "grid_row": null,
       "grid_template_areas": null,
       "grid_template_columns": null,
       "grid_template_rows": null,
       "height": null,
       "justify_content": null,
       "justify_items": null,
       "left": null,
       "margin": null,
       "max_height": null,
       "max_width": null,
       "min_height": null,
       "min_width": null,
       "object_fit": null,
       "object_position": null,
       "order": null,
       "overflow": null,
       "overflow_x": null,
       "overflow_y": null,
       "padding": null,
       "right": null,
       "top": null,
       "visibility": null,
       "width": null
      }
     },
     "20531a405c164ab28a2028a92298c316": {
      "model_module": "@jupyter-widgets/output",
      "model_module_version": "1.0.0",
      "model_name": "OutputModel",
      "state": {
       "_dom_classes": [],
       "_model_module": "@jupyter-widgets/output",
       "_model_module_version": "1.0.0",
       "_model_name": "OutputModel",
       "_view_count": null,
       "_view_module": "@jupyter-widgets/output",
       "_view_module_version": "1.0.0",
       "_view_name": "OutputView",
       "layout": "IPY_MODEL_9543274307b94d10a34ca6805cd0d26a",
       "msg_id": "",
       "outputs": [
        {
         "data": {
          "image/png": "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",
          "text/plain": "<Figure size 3200x600 with 1 Axes>"
         },
         "metadata": {},
         "output_type": "display_data"
        }
       ]
      }
     },
     "412e9dc7f4a34ca08cdaf14144661583": {
      "model_module": "@jupyter-widgets/controls",
      "model_module_version": "1.5.0",
      "model_name": "ProgressStyleModel",
      "state": {
       "_model_module": "@jupyter-widgets/controls",
       "_model_module_version": "1.5.0",
       "_model_name": "ProgressStyleModel",
       "_view_count": null,
       "_view_module": "@jupyter-widgets/base",
       "_view_module_version": "1.2.0",
       "_view_name": "StyleView",
       "bar_color": null,
       "description_width": ""
      }
     },
     "4333e026d4de4fa48398a398fc9f8826": {
      "model_module": "@jupyter-widgets/controls",
      "model_module_version": "1.5.0",
      "model_name": "HTMLModel",
      "state": {
       "_dom_classes": [],
       "_model_module": "@jupyter-widgets/controls",
       "_model_module_version": "1.5.0",
       "_model_name": "HTMLModel",
       "_view_count": null,
       "_view_module": "@jupyter-widgets/controls",
       "_view_module_version": "1.5.0",
       "_view_name": "HTMLView",
       "description": "",
       "description_tooltip": null,
       "layout": "IPY_MODEL_cef4872fc013432e8826f76455a68c32",
       "placeholder": "​",
       "style": "IPY_MODEL_53cdbc407d444ef5841f15e591f0e642",
       "value": "Processing: 100%"
      }
     },
     "484ccf7b306a4fbe9374477ed248996f": {
      "model_module": "@jupyter-widgets/controls",
      "model_module_version": "1.5.0",
      "model_name": "HTMLModel",
      "state": {
       "_dom_classes": [],
       "_model_module": "@jupyter-widgets/controls",
       "_model_module_version": "1.5.0",
       "_model_name": "HTMLModel",
       "_view_count": null,
       "_view_module": "@jupyter-widgets/controls",
       "_view_module_version": "1.5.0",
       "_view_name": "HTMLView",
       "description": "",
       "description_tooltip": null,
       "layout": "IPY_MODEL_203363f7d94d4ca795fe85d914e8c6fd",
       "placeholder": "​",
       "style": "IPY_MODEL_9bc39ba0241b4f1eb50670c286f0976d",
       "value": " 4/4 [00:03&lt;00:00,  1.28it/s]"
      }
     },
     "53cdbc407d444ef5841f15e591f0e642": {
      "model_module": "@jupyter-widgets/controls",
      "model_module_version": "1.5.0",
      "model_name": "DescriptionStyleModel",
      "state": {
       "_model_module": "@jupyter-widgets/controls",
       "_model_module_version": "1.5.0",
       "_model_name": "DescriptionStyleModel",
       "_view_count": null,
       "_view_module": "@jupyter-widgets/base",
       "_view_module_version": "1.2.0",
       "_view_name": "StyleView",
       "description_width": ""
      }
     },
     "56eb48077b544b09b53766616cab27e0": {
      "model_module": "@jupyter-widgets/base",
      "model_module_version": "1.2.0",
      "model_name": "LayoutModel",
      "state": {
       "_model_module": "@jupyter-widgets/base",
       "_model_module_version": "1.2.0",
       "_model_name": "LayoutModel",
       "_view_count": null,
       "_view_module": "@jupyter-widgets/base",
       "_view_module_version": "1.2.0",
       "_view_name": "LayoutView",
       "align_content": null,
       "align_items": null,
       "align_self": null,
       "border": null,
       "bottom": null,
       "display": null,
       "flex": null,
       "flex_flow": null,
       "grid_area": null,
       "grid_auto_columns": null,
       "grid_auto_flow": null,
       "grid_auto_rows": null,
       "grid_column": null,
       "grid_gap": null,
       "grid_row": null,
       "grid_template_areas": null,
       "grid_template_columns": null,
       "grid_template_rows": null,
       "height": null,
       "justify_content": null,
       "justify_items": null,
       "left": null,
       "margin": null,
       "max_height": null,
       "max_width": null,
       "min_height": null,
       "min_width": null,
       "object_fit": null,
       "object_position": null,
       "order": null,
       "overflow": null,
       "overflow_x": null,
       "overflow_y": null,
       "padding": null,
       "right": null,
       "top": null,
       "visibility": null,
       "width": null
      }
     },
     "571f3d84272c4dc79a29137737845da6": {
      "model_module": "@jupyter-widgets/base",
      "model_module_version": "1.2.0",
      "model_name": "LayoutModel",
      "state": {
       "_model_module": "@jupyter-widgets/base",
       "_model_module_version": "1.2.0",
       "_model_name": "LayoutModel",
       "_view_count": null,
       "_view_module": "@jupyter-widgets/base",
       "_view_module_version": "1.2.0",
       "_view_name": "LayoutView",
       "align_content": null,
       "align_items": null,
       "align_self": null,
       "border": null,
       "bottom": null,
       "display": null,
       "flex": null,
       "flex_flow": null,
       "grid_area": null,
       "grid_auto_columns": null,
       "grid_auto_flow": null,
       "grid_auto_rows": null,
       "grid_column": null,
       "grid_gap": null,
       "grid_row": null,
       "grid_template_areas": null,
       "grid_template_columns": null,
       "grid_template_rows": null,
       "height": null,
       "justify_content": null,
       "justify_items": null,
       "left": null,
       "margin": null,
       "max_height": null,
       "max_width": null,
       "min_height": null,
       "min_width": null,
       "object_fit": null,
       "object_position": null,
       "order": null,
       "overflow": null,
       "overflow_x": null,
       "overflow_y": null,
       "padding": null,
       "right": null,
       "top": null,
       "visibility": null,
       "width": null
      }
     },
     "5f2eb3bc827f44ae8d11bb8374323cda": {
      "model_module": "@jupyter-widgets/base",
      "model_module_version": "1.2.0",
      "model_name": "LayoutModel",
      "state": {
       "_model_module": "@jupyter-widgets/base",
       "_model_module_version": "1.2.0",
       "_model_name": "LayoutModel",
       "_view_count": null,
       "_view_module": "@jupyter-widgets/base",
       "_view_module_version": "1.2.0",
       "_view_name": "LayoutView",
       "align_content": null,
       "align_items": null,
       "align_self": null,
       "border": null,
       "bottom": null,
       "display": null,
       "flex": null,
       "flex_flow": null,
       "grid_area": null,
       "grid_auto_columns": null,
       "grid_auto_flow": null,
       "grid_auto_rows": null,
       "grid_column": null,
       "grid_gap": null,
       "grid_row": null,
       "grid_template_areas": null,
       "grid_template_columns": null,
       "grid_template_rows": null,
       "height": null,
       "justify_content": null,
       "justify_items": null,
       "left": null,
       "margin": null,
       "max_height": null,
       "max_width": null,
       "min_height": null,
       "min_width": null,
       "object_fit": null,
       "object_position": null,
       "order": null,
       "overflow": null,
       "overflow_x": null,
       "overflow_y": null,
       "padding": null,
       "right": null,
       "top": null,
       "visibility": null,
       "width": null
      }
     },
     "6a18785e29c44a1097ab046e98d7d162": {
      "model_module": "@jupyter-widgets/controls",
      "model_module_version": "1.5.0",
      "model_name": "FloatProgressModel",
      "state": {
       "_dom_classes": [],
       "_model_module": "@jupyter-widgets/controls",
       "_model_module_version": "1.5.0",
       "_model_name": "FloatProgressModel",
       "_view_count": null,
       "_view_module": "@jupyter-widgets/controls",
       "_view_module_version": "1.5.0",
       "_view_name": "ProgressView",
       "bar_style": "",
       "description": "",
       "description_tooltip": null,
       "layout": "IPY_MODEL_5f2eb3bc827f44ae8d11bb8374323cda",
       "max": 69.0,
       "min": 0.0,
       "orientation": "horizontal",
       "style": "IPY_MODEL_412e9dc7f4a34ca08cdaf14144661583",
       "value": 69.0
      }
     },
     "6d41e908c6e44ab8a5eaecfd4b49b713": {
      "model_module": "@jupyter-widgets/controls",
      "model_module_version": "1.5.0",
      "model_name": "HBoxModel",
      "state": {
       "_dom_classes": [],
       "_model_module": "@jupyter-widgets/controls",
       "_model_module_version": "1.5.0",
       "_model_name": "HBoxModel",
       "_view_count": null,
       "_view_module": "@jupyter-widgets/controls",
       "_view_module_version": "1.5.0",
       "_view_name": "HBoxView",
       "box_style": "",
       "children": [
        "IPY_MODEL_f673c01b6a77478c89593fbd0559e1a0",
        "IPY_MODEL_6a18785e29c44a1097ab046e98d7d162",
        "IPY_MODEL_159301ff3cdf46c395cd9167628330db"
       ],
       "layout": "IPY_MODEL_ad065729da8d4ca9ae91c83620834665"
      }
     },
     "6dce4a451f56440691aaff2cf7837f22": {
      "model_module": "@jupyter-widgets/controls",
      "model_module_version": "1.5.0",
      "model_name": "DescriptionStyleModel",
      "state": {
       "_model_module": "@jupyter-widgets/controls",
       "_model_module_version": "1.5.0",
       "_model_name": "DescriptionStyleModel",
       "_view_count": null,
       "_view_module": "@jupyter-widgets/base",
       "_view_module_version": "1.2.0",
       "_view_name": "StyleView",
       "description_width": ""
      }
     },
     "8699348f0c214947998f1fee31e8aced": {
      "model_module": "@jupyter-widgets/base",
      "model_module_version": "1.2.0",
      "model_name": "LayoutModel",
      "state": {
       "_model_module": "@jupyter-widgets/base",
       "_model_module_version": "1.2.0",
       "_model_name": "LayoutModel",
       "_view_count": null,
       "_view_module": "@jupyter-widgets/base",
       "_view_module_version": "1.2.0",
       "_view_name": "LayoutView",
       "align_content": null,
       "align_items": null,
       "align_self": null,
       "border": null,
       "bottom": null,
       "display": null,
       "flex": null,
       "flex_flow": null,
       "grid_area": null,
       "grid_auto_columns": null,
       "grid_auto_flow": null,
       "grid_auto_rows": null,
       "grid_column": null,
       "grid_gap": null,
       "grid_row": null,
       "grid_template_areas": null,
       "grid_template_columns": null,
       "grid_template_rows": null,
       "height": null,
       "justify_content": null,
       "justify_items": null,
       "left": null,
       "margin": null,
       "max_height": null,
       "max_width": null,
       "min_height": null,
       "min_width": null,
       "object_fit": null,
       "object_position": null,
       "order": null,
       "overflow": null,
       "overflow_x": null,
       "overflow_y": null,
       "padding": null,
       "right": null,
       "top": null,
       "visibility": null,
       "width": null
      }
     },
     "9543274307b94d10a34ca6805cd0d26a": {
      "model_module": "@jupyter-widgets/base",
      "model_module_version": "1.2.0",
      "model_name": "LayoutModel",
      "state": {
       "_model_module": "@jupyter-widgets/base",
       "_model_module_version": "1.2.0",
       "_model_name": "LayoutModel",
       "_view_count": null,
       "_view_module": "@jupyter-widgets/base",
       "_view_module_version": "1.2.0",
       "_view_name": "LayoutView",
       "align_content": null,
       "align_items": null,
       "align_self": null,
       "border": null,
       "bottom": null,
       "display": null,
       "flex": null,
       "flex_flow": null,
       "grid_area": null,
       "grid_auto_columns": null,
       "grid_auto_flow": null,
       "grid_auto_rows": null,
       "grid_column": null,
       "grid_gap": null,
       "grid_row": null,
       "grid_template_areas": null,
       "grid_template_columns": null,
       "grid_template_rows": null,
       "height": null,
       "justify_content": null,
       "justify_items": null,
       "left": null,
       "margin": null,
       "max_height": null,
       "max_width": null,
       "min_height": null,
       "min_width": null,
       "object_fit": null,
       "object_position": null,
       "order": null,
       "overflow": null,
       "overflow_x": null,
       "overflow_y": null,
       "padding": null,
       "right": null,
       "top": null,
       "visibility": null,
       "width": null
      }
     },
     "9a154e34abc74809be0a7a9df9a66c74": {
      "model_module": "@jupyter-widgets/controls",
      "model_module_version": "1.5.0",
      "model_name": "DescriptionStyleModel",
      "state": {
       "_model_module": "@jupyter-widgets/controls",
       "_model_module_version": "1.5.0",
       "_model_name": "DescriptionStyleModel",
       "_view_count": null,
       "_view_module": "@jupyter-widgets/base",
       "_view_module_version": "1.2.0",
       "_view_name": "StyleView",
       "description_width": ""
      }
     },
     "9bc39ba0241b4f1eb50670c286f0976d": {
      "model_module": "@jupyter-widgets/controls",
      "model_module_version": "1.5.0",
      "model_name": "DescriptionStyleModel",
      "state": {
       "_model_module": "@jupyter-widgets/controls",
       "_model_module_version": "1.5.0",
       "_model_name": "DescriptionStyleModel",
       "_view_count": null,
       "_view_module": "@jupyter-widgets/base",
       "_view_module_version": "1.2.0",
       "_view_name": "StyleView",
       "description_width": ""
      }
     },
     "ad065729da8d4ca9ae91c83620834665": {
      "model_module": "@jupyter-widgets/base",
      "model_module_version": "1.2.0",
      "model_name": "LayoutModel",
      "state": {
       "_model_module": "@jupyter-widgets/base",
       "_model_module_version": "1.2.0",
       "_model_name": "LayoutModel",
       "_view_count": null,
       "_view_module": "@jupyter-widgets/base",
       "_view_module_version": "1.2.0",
       "_view_name": "LayoutView",
       "align_content": null,
       "align_items": null,
       "align_self": null,
       "border": null,
       "bottom": null,
       "display": null,
       "flex": null,
       "flex_flow": null,
       "grid_area": null,
       "grid_auto_columns": null,
       "grid_auto_flow": null,
       "grid_auto_rows": null,
       "grid_column": null,
       "grid_gap": null,
       "grid_row": null,
       "grid_template_areas": null,
       "grid_template_columns": null,
       "grid_template_rows": null,
       "height": null,
       "justify_content": null,
       "justify_items": null,
       "left": null,
       "margin": null,
       "max_height": null,
       "max_width": null,
       "min_height": null,
       "min_width": null,
       "object_fit": null,
       "object_position": null,
       "order": null,
       "overflow": null,
       "overflow_x": null,
       "overflow_y": null,
       "padding": null,
       "right": null,
       "top": null,
       "visibility": "hidden",
       "width": null
      }
     },
     "c7277302fd5e4af099a107476f224f0b": {
      "model_module": "@jupyter-widgets/base",
      "model_module_version": "1.2.0",
      "model_name": "LayoutModel",
      "state": {
       "_model_module": "@jupyter-widgets/base",
       "_model_module_version": "1.2.0",
       "_model_name": "LayoutModel",
       "_view_count": null,
       "_view_module": "@jupyter-widgets/base",
       "_view_module_version": "1.2.0",
       "_view_name": "LayoutView",
       "align_content": null,
       "align_items": null,
       "align_self": null,
       "border": null,
       "bottom": null,
       "display": null,
       "flex": null,
       "flex_flow": null,
       "grid_area": null,
       "grid_auto_columns": null,
       "grid_auto_flow": null,
       "grid_auto_rows": null,
       "grid_column": null,
       "grid_gap": null,
       "grid_row": null,
       "grid_template_areas": null,
       "grid_template_columns": null,
       "grid_template_rows": null,
       "height": null,
       "justify_content": null,
       "justify_items": null,
       "left": null,
       "margin": null,
       "max_height": null,
       "max_width": null,
       "min_height": null,
       "min_width": null,
       "object_fit": null,
       "object_position": null,
       "order": null,
       "overflow": null,
       "overflow_x": null,
       "overflow_y": null,
       "padding": null,
       "right": null,
       "top": null,
       "visibility": null,
       "width": null
      }
     },
     "cef4872fc013432e8826f76455a68c32": {
      "model_module": "@jupyter-widgets/base",
      "model_module_version": "1.2.0",
      "model_name": "LayoutModel",
      "state": {
       "_model_module": "@jupyter-widgets/base",
       "_model_module_version": "1.2.0",
       "_model_name": "LayoutModel",
       "_view_count": null,
       "_view_module": "@jupyter-widgets/base",
       "_view_module_version": "1.2.0",
       "_view_name": "LayoutView",
       "align_content": null,
       "align_items": null,
       "align_self": null,
       "border": null,
       "bottom": null,
       "display": null,
       "flex": null,
       "flex_flow": null,
       "grid_area": null,
       "grid_auto_columns": null,
       "grid_auto_flow": null,
       "grid_auto_rows": null,
       "grid_column": null,
       "grid_gap": null,
       "grid_row": null,
       "grid_template_areas": null,
       "grid_template_columns": null,
       "grid_template_rows": null,
       "height": null,
       "justify_content": null,
       "justify_items": null,
       "left": null,
       "margin": null,
       "max_height": null,
       "max_width": null,
       "min_height": null,
       "min_width": null,
       "object_fit": null,
       "object_position": null,
       "order": null,
       "overflow": null,
       "overflow_x": null,
       "overflow_y": null,
       "padding": null,
       "right": null,
       "top": null,
       "visibility": null,
       "width": null
      }
     },
     "d4f6b746b75544c886216322461b31e7": {
      "model_module": "@jupyter-widgets/base",
      "model_module_version": "1.2.0",
      "model_name": "LayoutModel",
      "state": {
       "_model_module": "@jupyter-widgets/base",
       "_model_module_version": "1.2.0",
       "_model_name": "LayoutModel",
       "_view_count": null,
       "_view_module": "@jupyter-widgets/base",
       "_view_module_version": "1.2.0",
       "_view_name": "LayoutView",
       "align_content": null,
       "align_items": null,
       "align_self": null,
       "border": null,
       "bottom": null,
       "display": null,
       "flex": null,
       "flex_flow": null,
       "grid_area": null,
       "grid_auto_columns": null,
       "grid_auto_flow": null,
       "grid_auto_rows": null,
       "grid_column": null,
       "grid_gap": null,
       "grid_row": null,
       "grid_template_areas": null,
       "grid_template_columns": null,
       "grid_template_rows": null,
       "height": null,
       "justify_content": null,
       "justify_items": null,
       "left": null,
       "margin": null,
       "max_height": null,
       "max_width": null,
       "min_height": null,
       "min_width": null,
       "object_fit": null,
       "object_position": null,
       "order": null,
       "overflow": null,
       "overflow_x": null,
       "overflow_y": null,
       "padding": null,
       "right": null,
       "top": null,
       "visibility": "hidden",
       "width": null
      }
     },
     "debf15da412b4c55aca1debfdec08874": {
      "model_module": "@jupyter-widgets/controls",
      "model_module_version": "1.5.0",
      "model_name": "HBoxModel",
      "state": {
       "_dom_classes": [],
       "_model_module": "@jupyter-widgets/controls",
       "_model_module_version": "1.5.0",
       "_model_name": "HBoxModel",
       "_view_count": null,
       "_view_module": "@jupyter-widgets/controls",
       "_view_module_version": "1.5.0",
       "_view_name": "HBoxView",
       "box_style": "",
       "children": [
        "IPY_MODEL_4333e026d4de4fa48398a398fc9f8826",
        "IPY_MODEL_1be8c2f798f94a6bb090cbfc3d20a790",
        "IPY_MODEL_484ccf7b306a4fbe9374477ed248996f"
       ],
       "layout": "IPY_MODEL_d4f6b746b75544c886216322461b31e7"
      }
     },
     "ebe4e61a5d74485f96883bd8862b4bf1": {
      "model_module": "@jupyter-widgets/base",
      "model_module_version": "1.2.0",
      "model_name": "LayoutModel",
      "state": {
       "_model_module": "@jupyter-widgets/base",
       "_model_module_version": "1.2.0",
       "_model_name": "LayoutModel",
       "_view_count": null,
       "_view_module": "@jupyter-widgets/base",
       "_view_module_version": "1.2.0",
       "_view_name": "LayoutView",
       "align_content": null,
       "align_items": null,
       "align_self": null,
       "border": null,
       "bottom": null,
       "display": null,
       "flex": null,
       "flex_flow": null,
       "grid_area": null,
       "grid_auto_columns": null,
       "grid_auto_flow": null,
       "grid_auto_rows": null,
       "grid_column": null,
       "grid_gap": null,
       "grid_row": null,
       "grid_template_areas": null,
       "grid_template_columns": null,
       "grid_template_rows": null,
       "height": null,
       "justify_content": null,
       "justify_items": null,
       "left": null,
       "margin": null,
       "max_height": null,
       "max_width": null,
       "min_height": null,
       "min_width": null,
       "object_fit": null,
       "object_position": null,
       "order": null,
       "overflow": null,
       "overflow_x": null,
       "overflow_y": null,
       "padding": null,
       "right": null,
       "top": null,
       "visibility": null,
       "width": null
      }
     },
     "f673c01b6a77478c89593fbd0559e1a0": {
      "model_module": "@jupyter-widgets/controls",
      "model_module_version": "1.5.0",
      "model_name": "HTMLModel",
      "state": {
       "_dom_classes": [],
       "_model_module": "@jupyter-widgets/controls",
       "_model_module_version": "1.5.0",
       "_model_name": "HTMLModel",
       "_view_count": null,
       "_view_module": "@jupyter-widgets/controls",
       "_view_module_version": "1.5.0",
       "_view_name": "HTMLView",
       "description": "",
       "description_tooltip": null,
       "layout": "IPY_MODEL_ebe4e61a5d74485f96883bd8862b4bf1",
       "placeholder": "​",
       "style": "IPY_MODEL_9a154e34abc74809be0a7a9df9a66c74",
       "value": "Processing: 100%"
      }
     },
     "fcc25d66435b44cba3ff3df6b8151d3c": {
      "model_module": "@jupyter-widgets/controls",
      "model_module_version": "1.5.0",
      "model_name": "ToggleButtonsStyleModel",
      "state": {
       "_model_module": "@jupyter-widgets/controls",
       "_model_module_version": "1.5.0",
       "_model_name": "ToggleButtonsStyleModel",
       "_view_count": null,
       "_view_module": "@jupyter-widgets/base",
       "_view_module_version": "1.2.0",
       "_view_name": "StyleView",
       "button_width": "",
       "description_width": "",
       "font_weight": ""
      }
     }
    },
    "version_major": 2,
    "version_minor": 0
   }
  }
 },
 "nbformat": 4,
 "nbformat_minor": 5
}
